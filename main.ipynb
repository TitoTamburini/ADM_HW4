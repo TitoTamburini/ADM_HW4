{
 "cells": [
  {
   "cell_type": "markdown",
   "metadata": {
    "id": "PN2n1Uzc4GLw"
   },
   "source": [
    "# Homework 4 - Getting to know your customers\n",
    "\n",
    "**Authors** : Bellaroba Albachiara 1892618, Grieco Nicola 2081607, Tamburini Tito 1837335 \n",
    "\n",
    "Over time, the Banking sector has dabbled into plenty of Data Science applications. The latter includes topics such as Fraud detection, risk modelling for investment, personalized marketing, managing customer data and customer segmentation, among others. The latter is a crucial topic for a bank since they can offer their products more accurately and tailor-made depending on their clients' characteristics and how probable they will consume more services from the bank.\n",
    "\n",
    "Now, you and your team have been hired by a bank to get to know their customers. In other words, you will implement hashing and clustering techniques to extract relevant information and highlights from those clients and their transactions.\n",
    "\n",
    "Then, let's get started!"
   ]
  },
  {
   "cell_type": "code",
   "execution_count": 1,
   "metadata": {},
   "outputs": [],
   "source": [
    "import pandas as pd\n",
    "from datetime import datetime\n",
    "from random import randint\n",
    "from tqdm import tqdm\n",
    "import numpy as np\n",
    "from numpy.linalg import norm\n",
    "from operator import itemgetter\n",
    "import matplotlib.pyplot as plt\n",
    "import pickle as pkl\n",
    "from scipy import stats\n",
    "from sklearn import preprocessing\n",
    "from collections import Counter\n",
    "from itertools import chain\n",
    "import six\n",
    "import math\n",
    "from sklearn.decomposition import PCA\n",
    "from sklearn.cluster import KMeans\n",
    "from yellowbrick.cluster import KElbowVisualizer\n",
    "from yellowbrick.cluster import SilhouetteVisualizer\n",
    "from yellowbrick.cluster import InterclusterDistance\n",
    "import seaborn as sns\n",
    "from sklearn.metrics import silhouette_score\n",
    "from scipy.cluster.hierarchy import dendrogram, linkage"
   ]
  },
  {
   "cell_type": "code",
   "execution_count": null,
   "metadata": {
    "id": "gac12qJP4GL8"
   },
   "outputs": [],
   "source": [
    "data = pd.read_csv(\"bank_transactions.csv\")   # importing the dataset"
   ]
  },
  {
   "cell_type": "code",
   "execution_count": null,
   "metadata": {
    "id": "BSaPHOJ84GL9",
    "outputId": "ae4da84b-c495-48e0-8dd1-8fdc815e0596"
   },
   "outputs": [
    {
     "data": {
      "text/html": [
       "<div>\n",
       "<style scoped>\n",
       "    .dataframe tbody tr th:only-of-type {\n",
       "        vertical-align: middle;\n",
       "    }\n",
       "\n",
       "    .dataframe tbody tr th {\n",
       "        vertical-align: top;\n",
       "    }\n",
       "\n",
       "    .dataframe thead th {\n",
       "        text-align: right;\n",
       "    }\n",
       "</style>\n",
       "<table border=\"1\" class=\"dataframe\">\n",
       "  <thead>\n",
       "    <tr style=\"text-align: right;\">\n",
       "      <th></th>\n",
       "      <th>TransactionID</th>\n",
       "      <th>CustomerID</th>\n",
       "      <th>CustomerDOB</th>\n",
       "      <th>CustGender</th>\n",
       "      <th>CustLocation</th>\n",
       "      <th>CustAccountBalance</th>\n",
       "      <th>TransactionDate</th>\n",
       "      <th>TransactionTime</th>\n",
       "      <th>TransactionAmount (INR)</th>\n",
       "    </tr>\n",
       "  </thead>\n",
       "  <tbody>\n",
       "    <tr>\n",
       "      <th>0</th>\n",
       "      <td>T1</td>\n",
       "      <td>C5841053</td>\n",
       "      <td>10/1/94</td>\n",
       "      <td>F</td>\n",
       "      <td>JAMSHEDPUR</td>\n",
       "      <td>17819.05</td>\n",
       "      <td>2/8/16</td>\n",
       "      <td>143207</td>\n",
       "      <td>25.0</td>\n",
       "    </tr>\n",
       "    <tr>\n",
       "      <th>1</th>\n",
       "      <td>T2</td>\n",
       "      <td>C2142763</td>\n",
       "      <td>4/4/57</td>\n",
       "      <td>M</td>\n",
       "      <td>JHAJJAR</td>\n",
       "      <td>2270.69</td>\n",
       "      <td>2/8/16</td>\n",
       "      <td>141858</td>\n",
       "      <td>27999.0</td>\n",
       "    </tr>\n",
       "    <tr>\n",
       "      <th>2</th>\n",
       "      <td>T3</td>\n",
       "      <td>C4417068</td>\n",
       "      <td>26/11/96</td>\n",
       "      <td>F</td>\n",
       "      <td>MUMBAI</td>\n",
       "      <td>17874.44</td>\n",
       "      <td>2/8/16</td>\n",
       "      <td>142712</td>\n",
       "      <td>459.0</td>\n",
       "    </tr>\n",
       "    <tr>\n",
       "      <th>3</th>\n",
       "      <td>T4</td>\n",
       "      <td>C5342380</td>\n",
       "      <td>14/9/73</td>\n",
       "      <td>F</td>\n",
       "      <td>MUMBAI</td>\n",
       "      <td>866503.21</td>\n",
       "      <td>2/8/16</td>\n",
       "      <td>142714</td>\n",
       "      <td>2060.0</td>\n",
       "    </tr>\n",
       "    <tr>\n",
       "      <th>4</th>\n",
       "      <td>T5</td>\n",
       "      <td>C9031234</td>\n",
       "      <td>24/3/88</td>\n",
       "      <td>F</td>\n",
       "      <td>NAVI MUMBAI</td>\n",
       "      <td>6714.43</td>\n",
       "      <td>2/8/16</td>\n",
       "      <td>181156</td>\n",
       "      <td>1762.5</td>\n",
       "    </tr>\n",
       "    <tr>\n",
       "      <th>...</th>\n",
       "      <td>...</td>\n",
       "      <td>...</td>\n",
       "      <td>...</td>\n",
       "      <td>...</td>\n",
       "      <td>...</td>\n",
       "      <td>...</td>\n",
       "      <td>...</td>\n",
       "      <td>...</td>\n",
       "      <td>...</td>\n",
       "    </tr>\n",
       "    <tr>\n",
       "      <th>1048562</th>\n",
       "      <td>T1048563</td>\n",
       "      <td>C8020229</td>\n",
       "      <td>8/4/90</td>\n",
       "      <td>M</td>\n",
       "      <td>NEW DELHI</td>\n",
       "      <td>7635.19</td>\n",
       "      <td>18/9/16</td>\n",
       "      <td>184824</td>\n",
       "      <td>799.0</td>\n",
       "    </tr>\n",
       "    <tr>\n",
       "      <th>1048563</th>\n",
       "      <td>T1048564</td>\n",
       "      <td>C6459278</td>\n",
       "      <td>20/2/92</td>\n",
       "      <td>M</td>\n",
       "      <td>NASHIK</td>\n",
       "      <td>27311.42</td>\n",
       "      <td>18/9/16</td>\n",
       "      <td>183734</td>\n",
       "      <td>460.0</td>\n",
       "    </tr>\n",
       "    <tr>\n",
       "      <th>1048564</th>\n",
       "      <td>T1048565</td>\n",
       "      <td>C6412354</td>\n",
       "      <td>18/5/89</td>\n",
       "      <td>M</td>\n",
       "      <td>HYDERABAD</td>\n",
       "      <td>221757.06</td>\n",
       "      <td>18/9/16</td>\n",
       "      <td>183313</td>\n",
       "      <td>770.0</td>\n",
       "    </tr>\n",
       "    <tr>\n",
       "      <th>1048565</th>\n",
       "      <td>T1048566</td>\n",
       "      <td>C6420483</td>\n",
       "      <td>30/8/78</td>\n",
       "      <td>M</td>\n",
       "      <td>VISAKHAPATNAM</td>\n",
       "      <td>10117.87</td>\n",
       "      <td>18/9/16</td>\n",
       "      <td>184706</td>\n",
       "      <td>1000.0</td>\n",
       "    </tr>\n",
       "    <tr>\n",
       "      <th>1048566</th>\n",
       "      <td>T1048567</td>\n",
       "      <td>C8337524</td>\n",
       "      <td>5/3/84</td>\n",
       "      <td>M</td>\n",
       "      <td>PUNE</td>\n",
       "      <td>75734.42</td>\n",
       "      <td>18/9/16</td>\n",
       "      <td>181222</td>\n",
       "      <td>1166.0</td>\n",
       "    </tr>\n",
       "  </tbody>\n",
       "</table>\n",
       "<p>1048567 rows × 9 columns</p>\n",
       "</div>"
      ],
      "text/plain": [
       "        TransactionID CustomerID CustomerDOB CustGender   CustLocation  \\\n",
       "0                  T1   C5841053     10/1/94          F     JAMSHEDPUR   \n",
       "1                  T2   C2142763      4/4/57          M        JHAJJAR   \n",
       "2                  T3   C4417068    26/11/96          F         MUMBAI   \n",
       "3                  T4   C5342380     14/9/73          F         MUMBAI   \n",
       "4                  T5   C9031234     24/3/88          F    NAVI MUMBAI   \n",
       "...               ...        ...         ...        ...            ...   \n",
       "1048562      T1048563   C8020229      8/4/90          M      NEW DELHI   \n",
       "1048563      T1048564   C6459278     20/2/92          M         NASHIK   \n",
       "1048564      T1048565   C6412354     18/5/89          M      HYDERABAD   \n",
       "1048565      T1048566   C6420483     30/8/78          M  VISAKHAPATNAM   \n",
       "1048566      T1048567   C8337524      5/3/84          M           PUNE   \n",
       "\n",
       "         CustAccountBalance TransactionDate  TransactionTime  \\\n",
       "0                  17819.05          2/8/16           143207   \n",
       "1                   2270.69          2/8/16           141858   \n",
       "2                  17874.44          2/8/16           142712   \n",
       "3                 866503.21          2/8/16           142714   \n",
       "4                   6714.43          2/8/16           181156   \n",
       "...                     ...             ...              ...   \n",
       "1048562             7635.19         18/9/16           184824   \n",
       "1048563            27311.42         18/9/16           183734   \n",
       "1048564           221757.06         18/9/16           183313   \n",
       "1048565            10117.87         18/9/16           184706   \n",
       "1048566            75734.42         18/9/16           181222   \n",
       "\n",
       "         TransactionAmount (INR)  \n",
       "0                           25.0  \n",
       "1                        27999.0  \n",
       "2                          459.0  \n",
       "3                         2060.0  \n",
       "4                         1762.5  \n",
       "...                          ...  \n",
       "1048562                    799.0  \n",
       "1048563                    460.0  \n",
       "1048564                    770.0  \n",
       "1048565                   1000.0  \n",
       "1048566                   1166.0  \n",
       "\n",
       "[1048567 rows x 9 columns]"
      ]
     },
     "execution_count": 187,
     "metadata": {},
     "output_type": "execute_result"
    }
   ],
   "source": [
    "data                                        # visualize the data"
   ]
  },
  {
   "cell_type": "code",
   "execution_count": null,
   "metadata": {
    "id": "tDcJau1i4GL_",
    "outputId": "06944f90-9e25-4de6-8a0f-f75cbfa2670c"
   },
   "outputs": [
    {
     "name": "stdout",
     "output_type": "stream",
     "text": [
      "<class 'pandas.core.frame.DataFrame'>\n",
      "Int64Index: 1041614 entries, 0 to 1048566\n",
      "Data columns (total 9 columns):\n",
      " #   Column                   Non-Null Count    Dtype  \n",
      "---  ------                   --------------    -----  \n",
      " 0   TransactionID            1041614 non-null  object \n",
      " 1   CustomerID               1041614 non-null  object \n",
      " 2   CustomerDOB              1041614 non-null  object \n",
      " 3   CustGender               1041614 non-null  object \n",
      " 4   CustLocation             1041614 non-null  object \n",
      " 5   CustAccountBalance       1041614 non-null  float64\n",
      " 6   TransactionDate          1041614 non-null  object \n",
      " 7   TransactionTime          1041614 non-null  int64  \n",
      " 8   TransactionAmount (INR)  1041614 non-null  float64\n",
      "dtypes: float64(2), int64(1), object(6)\n",
      "memory usage: 79.5+ MB\n"
     ]
    }
   ],
   "source": [
    "data.info()                                                 # showing some info on the dataset"
   ]
  },
  {
   "cell_type": "code",
   "execution_count": null,
   "metadata": {
    "id": "4l9fCbK-4GMA",
    "outputId": "73aee6dc-1355-41a1-f86c-74fe79d35e9d"
   },
   "outputs": [
    {
     "data": {
      "text/plain": [
       "TransactionID                 0\n",
       "CustomerID                    0\n",
       "CustomerDOB                3397\n",
       "CustGender                 1100\n",
       "CustLocation                151\n",
       "CustAccountBalance         2369\n",
       "TransactionDate               0\n",
       "TransactionTime               0\n",
       "TransactionAmount (INR)       0\n",
       "dtype: int64"
      ]
     },
     "execution_count": 188,
     "metadata": {},
     "output_type": "execute_result"
    }
   ],
   "source": [
    "data.isna().sum()                                     # counts of rows with na"
   ]
  },
  {
   "cell_type": "code",
   "execution_count": null,
   "metadata": {
    "id": "1JjQ_vJ34GMC"
   },
   "outputs": [],
   "source": [
    "data.dropna(inplace=True)                                # removing na"
   ]
  },
  {
   "cell_type": "code",
   "execution_count": null,
   "metadata": {
    "id": "Psg7qaoJ4GMD",
    "outputId": "1d6bfaad-0fc7-44fe-c50c-7a8c07bcfd69"
   },
   "outputs": [
    {
     "data": {
      "text/plain": [
       "TransactionID              0\n",
       "CustomerID                 0\n",
       "CustomerDOB                0\n",
       "CustGender                 0\n",
       "CustLocation               0\n",
       "CustAccountBalance         0\n",
       "TransactionDate            0\n",
       "TransactionTime            0\n",
       "TransactionAmount (INR)    0\n",
       "dtype: int64"
      ]
     },
     "execution_count": 178,
     "metadata": {},
     "output_type": "execute_result"
    }
   ],
   "source": [
    "data.isna().sum()                                        # check"
   ]
  },
  {
   "cell_type": "code",
   "execution_count": null,
   "metadata": {
    "id": "op9MtpQC4GMG"
   },
   "outputs": [],
   "source": [
    "data.CustomerDOB =  pd.to_datetime(data.CustomerDOB)"
   ]
  },
  {
   "cell_type": "code",
   "execution_count": null,
   "metadata": {
    "id": "GoORsgs_4GMH"
   },
   "outputs": [],
   "source": [
    "data.TransactionDate  = pd.to_datetime(data.TransactionDate)"
   ]
  },
  {
   "cell_type": "code",
   "execution_count": null,
   "metadata": {
    "id": "ys6AHEmy4GMJ",
    "outputId": "3142a21b-3384-4846-bf7f-0a3e48bb97f5"
   },
   "outputs": [
    {
     "data": {
      "text/plain": [
       "0         1970-01-01 00:00:00.000143207\n",
       "1         1970-01-01 00:00:00.000141858\n",
       "2         1970-01-01 00:00:00.000142712\n",
       "3         1970-01-01 00:00:00.000142714\n",
       "4         1970-01-01 00:00:00.000181156\n",
       "                       ...             \n",
       "1048562   1970-01-01 00:00:00.000184824\n",
       "1048563   1970-01-01 00:00:00.000183734\n",
       "1048564   1970-01-01 00:00:00.000183313\n",
       "1048565   1970-01-01 00:00:00.000184706\n",
       "1048566   1970-01-01 00:00:00.000181222\n",
       "Name: TransactionTime, Length: 1041614, dtype: datetime64[ns]"
      ]
     },
     "execution_count": 192,
     "metadata": {},
     "output_type": "execute_result"
    }
   ],
   "source": [
    "pd.to_datetime(data.TransactionTime)"
   ]
  },
  {
   "cell_type": "code",
   "execution_count": null,
   "metadata": {
    "id": "xkjTJRZ94GMK",
    "outputId": "7c2dfbf0-0c2c-49d1-c791-3cae18f4f133"
   },
   "outputs": [
    {
     "data": {
      "text/plain": [
       "0          143207\n",
       "1          141858\n",
       "2          142712\n",
       "3          142714\n",
       "4          181156\n",
       "            ...  \n",
       "1048562    184824\n",
       "1048563    183734\n",
       "1048564    183313\n",
       "1048565    184706\n",
       "1048566    181222\n",
       "Name: TransactionTime, Length: 1041614, dtype: int64"
      ]
     },
     "execution_count": 193,
     "metadata": {},
     "output_type": "execute_result"
    }
   ],
   "source": [
    "data.TransactionTime "
   ]
  },
  {
   "cell_type": "code",
   "execution_count": null,
   "metadata": {
    "id": "iaA0gaUq4GML"
   },
   "outputs": [],
   "source": [
    "def convert_time(value):\n",
    "    sec = str(value % 100)\n",
    "    minutes = str((value //100) %100)\n",
    "    hours = str((value // 10000) %100)\n",
    "    return datetime.strptime(str(hours)+\":\"+str(minutes)+\":\"+str(sec), '%H:%M:%S').time()"
   ]
  },
  {
   "cell_type": "code",
   "execution_count": null,
   "metadata": {
    "id": "8D_pphgP4GMM"
   },
   "outputs": [],
   "source": [
    "data.TransactionTime = data.TransactionTime.apply(lambda row: convert_time(row))"
   ]
  },
  {
   "cell_type": "code",
   "execution_count": null,
   "metadata": {
    "id": "Jg82-yHP4GMN",
    "outputId": "290710bd-0ef3-4c38-baf6-605df52f185d"
   },
   "outputs": [
    {
     "data": {
      "text/plain": [
       "<AxesSubplot:>"
      ]
     },
     "execution_count": 70,
     "metadata": {},
     "output_type": "execute_result"
    },
    {
     "data": {
      "image/png": "[encoded data removed]",
      "text/plain": [
       "<Figure size 432x288 with 1 Axes>"
      ]
     },
     "metadata": {
      "needs_background": "light"
     },
     "output_type": "display_data"
    }
   ],
   "source": [
    "data.CustomerDOB.dt.year.hist(bins=50)"
   ]
  },
  {
   "cell_type": "code",
   "execution_count": null,
   "metadata": {
    "id": "GxXfOX1j4GMN"
   },
   "outputs": [],
   "source": [
    "data.loc[data.CustomerDOB.dt.year > 2000,'CustomerDOB'] = data.loc[data.CustomerDOB.dt.year > 2000,'CustomerDOB']  - pd.DateOffset(years=100)"
   ]
  },
  {
   "cell_type": "code",
   "execution_count": null,
   "metadata": {
    "id": "QMEncf0q4GMO"
   },
   "outputs": [],
   "source": [
    "data.drop(data.loc[data.CustomerDOB.dt.year==1800].index,axis=0,inplace=True)"
   ]
  },
  {
   "cell_type": "code",
   "execution_count": null,
   "metadata": {
    "id": "kFEEW7iP4GMP",
    "outputId": "69fe20c4-bfb5-4bf8-894e-50eb0f888c92"
   },
   "outputs": [
    {
     "data": {
      "text/plain": [
       "<AxesSubplot:>"
      ]
     },
     "execution_count": 73,
     "metadata": {},
     "output_type": "execute_result"
    },
    {
     "data": {
      "image/png": "[encoded data removed]",
      "text/plain": [
       "<Figure size 432x288 with 1 Axes>"
      ]
     },
     "metadata": {
      "needs_background": "light"
     },
     "output_type": "display_data"
    }
   ],
   "source": [
    "data.CustomerDOB.dt.year.hist(bins=50)"
   ]
  },
  {
   "cell_type": "code",
   "execution_count": null,
   "metadata": {
    "id": "yRKEY6KG4GMQ"
   },
   "outputs": [],
   "source": [
    "data.CustomerDOB = pd.to_datetime(data.CustomerDOB)"
   ]
  },
  {
   "cell_type": "code",
   "execution_count": null,
   "metadata": {
    "id": "YQ0G4j594GMQ"
   },
   "outputs": [],
   "source": [
    "data.TransactionDate = pd.to_datetime(data.TransactionDate)"
   ]
  },
  {
   "cell_type": "code",
   "execution_count": null,
   "metadata": {
    "id": "vxmJ96t84GMR"
   },
   "outputs": [],
   "source": [
    "data.CustGender = [str(x) for x in data.CustGender]"
   ]
  },
  {
   "cell_type": "code",
   "execution_count": null,
   "metadata": {
    "id": "zCyMt-Nf4GMR"
   },
   "outputs": [],
   "source": [
    "data.CustLocation = [str(x) for x in data.CustLocation]"
   ]
  },
  {
   "cell_type": "code",
   "execution_count": null,
   "metadata": {
    "id": "y1h029L94GMS",
    "outputId": "c72dc029-29e4-4f08-dfcd-b6022465c9de"
   },
   "outputs": [
    {
     "data": {
      "text/html": [
       "<div>\n",
       "<style scoped>\n",
       "    .dataframe tbody tr th:only-of-type {\n",
       "        vertical-align: middle;\n",
       "    }\n",
       "\n",
       "    .dataframe tbody tr th {\n",
       "        vertical-align: top;\n",
       "    }\n",
       "\n",
       "    .dataframe thead th {\n",
       "        text-align: right;\n",
       "    }\n",
       "</style>\n",
       "<table border=\"1\" class=\"dataframe\">\n",
       "  <thead>\n",
       "    <tr style=\"text-align: right;\">\n",
       "      <th></th>\n",
       "      <th>TransactionID</th>\n",
       "      <th>CustomerID</th>\n",
       "      <th>CustomerDOB</th>\n",
       "      <th>CustGender</th>\n",
       "      <th>CustLocation</th>\n",
       "      <th>CustAccountBalance</th>\n",
       "      <th>TransactionDate</th>\n",
       "      <th>TransactionTime</th>\n",
       "      <th>TransactionAmount (INR)</th>\n",
       "    </tr>\n",
       "  </thead>\n",
       "  <tbody>\n",
       "    <tr>\n",
       "      <th>0</th>\n",
       "      <td>T1</td>\n",
       "      <td>C5841053</td>\n",
       "      <td>1994-10-01</td>\n",
       "      <td>F</td>\n",
       "      <td>JAMSHEDPUR</td>\n",
       "      <td>17819.05</td>\n",
       "      <td>2016-02-08</td>\n",
       "      <td>14:32:07</td>\n",
       "      <td>25.0</td>\n",
       "    </tr>\n",
       "    <tr>\n",
       "      <th>1</th>\n",
       "      <td>T2</td>\n",
       "      <td>C2142763</td>\n",
       "      <td>1957-04-04</td>\n",
       "      <td>M</td>\n",
       "      <td>JHAJJAR</td>\n",
       "      <td>2270.69</td>\n",
       "      <td>2016-02-08</td>\n",
       "      <td>14:18:58</td>\n",
       "      <td>27999.0</td>\n",
       "    </tr>\n",
       "    <tr>\n",
       "      <th>2</th>\n",
       "      <td>T3</td>\n",
       "      <td>C4417068</td>\n",
       "      <td>1996-11-26</td>\n",
       "      <td>F</td>\n",
       "      <td>MUMBAI</td>\n",
       "      <td>17874.44</td>\n",
       "      <td>2016-02-08</td>\n",
       "      <td>14:27:12</td>\n",
       "      <td>459.0</td>\n",
       "    </tr>\n",
       "    <tr>\n",
       "      <th>3</th>\n",
       "      <td>T4</td>\n",
       "      <td>C5342380</td>\n",
       "      <td>1973-09-14</td>\n",
       "      <td>F</td>\n",
       "      <td>MUMBAI</td>\n",
       "      <td>866503.21</td>\n",
       "      <td>2016-02-08</td>\n",
       "      <td>14:27:14</td>\n",
       "      <td>2060.0</td>\n",
       "    </tr>\n",
       "    <tr>\n",
       "      <th>4</th>\n",
       "      <td>T5</td>\n",
       "      <td>C9031234</td>\n",
       "      <td>1988-03-24</td>\n",
       "      <td>F</td>\n",
       "      <td>NAVI MUMBAI</td>\n",
       "      <td>6714.43</td>\n",
       "      <td>2016-02-08</td>\n",
       "      <td>18:11:56</td>\n",
       "      <td>1762.5</td>\n",
       "    </tr>\n",
       "    <tr>\n",
       "      <th>...</th>\n",
       "      <td>...</td>\n",
       "      <td>...</td>\n",
       "      <td>...</td>\n",
       "      <td>...</td>\n",
       "      <td>...</td>\n",
       "      <td>...</td>\n",
       "      <td>...</td>\n",
       "      <td>...</td>\n",
       "      <td>...</td>\n",
       "    </tr>\n",
       "    <tr>\n",
       "      <th>1048562</th>\n",
       "      <td>T1048563</td>\n",
       "      <td>C8020229</td>\n",
       "      <td>1990-08-04</td>\n",
       "      <td>M</td>\n",
       "      <td>NEW DELHI</td>\n",
       "      <td>7635.19</td>\n",
       "      <td>2016-09-18</td>\n",
       "      <td>18:48:24</td>\n",
       "      <td>799.0</td>\n",
       "    </tr>\n",
       "    <tr>\n",
       "      <th>1048563</th>\n",
       "      <td>T1048564</td>\n",
       "      <td>C6459278</td>\n",
       "      <td>1992-02-20</td>\n",
       "      <td>M</td>\n",
       "      <td>NASHIK</td>\n",
       "      <td>27311.42</td>\n",
       "      <td>2016-09-18</td>\n",
       "      <td>18:37:34</td>\n",
       "      <td>460.0</td>\n",
       "    </tr>\n",
       "    <tr>\n",
       "      <th>1048564</th>\n",
       "      <td>T1048565</td>\n",
       "      <td>C6412354</td>\n",
       "      <td>1989-05-18</td>\n",
       "      <td>M</td>\n",
       "      <td>HYDERABAD</td>\n",
       "      <td>221757.06</td>\n",
       "      <td>2016-09-18</td>\n",
       "      <td>18:33:13</td>\n",
       "      <td>770.0</td>\n",
       "    </tr>\n",
       "    <tr>\n",
       "      <th>1048565</th>\n",
       "      <td>T1048566</td>\n",
       "      <td>C6420483</td>\n",
       "      <td>1978-08-30</td>\n",
       "      <td>M</td>\n",
       "      <td>VISAKHAPATNAM</td>\n",
       "      <td>10117.87</td>\n",
       "      <td>2016-09-18</td>\n",
       "      <td>18:47:06</td>\n",
       "      <td>1000.0</td>\n",
       "    </tr>\n",
       "    <tr>\n",
       "      <th>1048566</th>\n",
       "      <td>T1048567</td>\n",
       "      <td>C8337524</td>\n",
       "      <td>1984-05-03</td>\n",
       "      <td>M</td>\n",
       "      <td>PUNE</td>\n",
       "      <td>75734.42</td>\n",
       "      <td>2016-09-18</td>\n",
       "      <td>18:12:22</td>\n",
       "      <td>1166.0</td>\n",
       "    </tr>\n",
       "  </tbody>\n",
       "</table>\n",
       "<p>985322 rows × 9 columns</p>\n",
       "</div>"
      ],
      "text/plain": [
       "        TransactionID CustomerID CustomerDOB CustGender   CustLocation  \\\n",
       "0                  T1   C5841053  1994-10-01          F     JAMSHEDPUR   \n",
       "1                  T2   C2142763  1957-04-04          M        JHAJJAR   \n",
       "2                  T3   C4417068  1996-11-26          F         MUMBAI   \n",
       "3                  T4   C5342380  1973-09-14          F         MUMBAI   \n",
       "4                  T5   C9031234  1988-03-24          F    NAVI MUMBAI   \n",
       "...               ...        ...         ...        ...            ...   \n",
       "1048562      T1048563   C8020229  1990-08-04          M      NEW DELHI   \n",
       "1048563      T1048564   C6459278  1992-02-20          M         NASHIK   \n",
       "1048564      T1048565   C6412354  1989-05-18          M      HYDERABAD   \n",
       "1048565      T1048566   C6420483  1978-08-30          M  VISAKHAPATNAM   \n",
       "1048566      T1048567   C8337524  1984-05-03          M           PUNE   \n",
       "\n",
       "         CustAccountBalance TransactionDate TransactionTime  \\\n",
       "0                  17819.05      2016-02-08        14:32:07   \n",
       "1                   2270.69      2016-02-08        14:18:58   \n",
       "2                  17874.44      2016-02-08        14:27:12   \n",
       "3                 866503.21      2016-02-08        14:27:14   \n",
       "4                   6714.43      2016-02-08        18:11:56   \n",
       "...                     ...             ...             ...   \n",
       "1048562             7635.19      2016-09-18        18:48:24   \n",
       "1048563            27311.42      2016-09-18        18:37:34   \n",
       "1048564           221757.06      2016-09-18        18:33:13   \n",
       "1048565            10117.87      2016-09-18        18:47:06   \n",
       "1048566            75734.42      2016-09-18        18:12:22   \n",
       "\n",
       "         TransactionAmount (INR)  \n",
       "0                           25.0  \n",
       "1                        27999.0  \n",
       "2                          459.0  \n",
       "3                         2060.0  \n",
       "4                         1762.5  \n",
       "...                          ...  \n",
       "1048562                    799.0  \n",
       "1048563                    460.0  \n",
       "1048564                    770.0  \n",
       "1048565                   1000.0  \n",
       "1048566                   1166.0  \n",
       "\n",
       "[985322 rows x 9 columns]"
      ]
     },
     "execution_count": 202,
     "metadata": {},
     "output_type": "execute_result"
    }
   ],
   "source": [
    "data"
   ]
  },
  {
   "cell_type": "code",
   "execution_count": null,
   "metadata": {
    "id": "0-Eeaaw94GMT"
   },
   "outputs": [],
   "source": [
    "data.to_pickle(\"processed.pkl\")"
   ]
  },
  {
   "cell_type": "markdown",
   "metadata": {
    "id": "bG0p2T4i4GMU"
   },
   "source": [
    "## 1. Finding Similar Costumers\n",
    "\n",
    "Companies nowadays are implementing product suggestions to provide users with things they are likely to buy. \n",
    "\n",
    "The process often starts by finding similar behaviours among consumers; for this task, we will focus on this part in the specific.\n",
    "\n",
    "Here you will implement an algorithm to find the most similar match to a consumer given his bank account information. \n",
    "\n",
    "In particular, you will implement your version of the LSH algorithm that takes as input information about a consumer and finds people similar to the one in the study."
   ]
  },
  {
   "cell_type": "markdown",
   "metadata": {
    "id": "mT03Ot5w4GMU"
   },
   "source": [
    "### 1.1 Set up the data"
   ]
  },
  {
   "cell_type": "code",
   "execution_count": null,
   "metadata": {
    "id": "Q76eOKKj4GMV"
   },
   "outputs": [],
   "source": [
    "data = pd.read_pickle('processed2.pkl')"
   ]
  },
  {
   "cell_type": "code",
   "execution_count": null,
   "metadata": {
    "id": "BbK6G63q4GMV",
    "outputId": "8f4c494e-c008-4945-859b-99352f694186"
   },
   "outputs": [
    {
     "data": {
      "text/plain": [
       "CustomerDOB                0\n",
       "CustGender                 0\n",
       "CustLocation               0\n",
       "CustAccountBalance         0\n",
       "TransactionDate            0\n",
       "TransactionTime            0\n",
       "TransactionAmount (INR)    0\n",
       "dtype: int64"
      ]
     },
     "execution_count": 68,
     "metadata": {},
     "output_type": "execute_result"
    }
   ],
   "source": [
    "data.isna().sum()"
   ]
  },
  {
   "cell_type": "code",
   "execution_count": null,
   "metadata": {
    "id": "EytMeEvH4GMW",
    "outputId": "f115ac84-5fcd-448e-e0b3-1bafe96239f8"
   },
   "outputs": [
    {
     "data": {
      "text/html": [
       "<div>\n",
       "<style scoped>\n",
       "    .dataframe tbody tr th:only-of-type {\n",
       "        vertical-align: middle;\n",
       "    }\n",
       "\n",
       "    .dataframe tbody tr th {\n",
       "        vertical-align: top;\n",
       "    }\n",
       "\n",
       "    .dataframe thead th {\n",
       "        text-align: right;\n",
       "    }\n",
       "</style>\n",
       "<table border=\"1\" class=\"dataframe\">\n",
       "  <thead>\n",
       "    <tr style=\"text-align: right;\">\n",
       "      <th></th>\n",
       "      <th>TransactionID</th>\n",
       "      <th>CustomerID</th>\n",
       "      <th>CustomerDOB</th>\n",
       "      <th>CustGender</th>\n",
       "      <th>CustLocation</th>\n",
       "      <th>CustAccountBalance</th>\n",
       "      <th>TransactionDate</th>\n",
       "      <th>TransactionTime</th>\n",
       "      <th>TransactionAmount (INR)</th>\n",
       "    </tr>\n",
       "  </thead>\n",
       "  <tbody>\n",
       "    <tr>\n",
       "      <th>0</th>\n",
       "      <td>T1</td>\n",
       "      <td>C5841053</td>\n",
       "      <td>1994-10-01</td>\n",
       "      <td>F</td>\n",
       "      <td>JAMSHEDPUR</td>\n",
       "      <td>17819.05</td>\n",
       "      <td>2016-02-08</td>\n",
       "      <td>14:32:07</td>\n",
       "      <td>25.0</td>\n",
       "    </tr>\n",
       "    <tr>\n",
       "      <th>1</th>\n",
       "      <td>T2</td>\n",
       "      <td>C2142763</td>\n",
       "      <td>1957-04-04</td>\n",
       "      <td>M</td>\n",
       "      <td>JHAJJAR</td>\n",
       "      <td>2270.69</td>\n",
       "      <td>2016-02-08</td>\n",
       "      <td>14:18:58</td>\n",
       "      <td>27999.0</td>\n",
       "    </tr>\n",
       "    <tr>\n",
       "      <th>2</th>\n",
       "      <td>T3</td>\n",
       "      <td>C4417068</td>\n",
       "      <td>1996-11-26</td>\n",
       "      <td>F</td>\n",
       "      <td>MUMBAI</td>\n",
       "      <td>17874.44</td>\n",
       "      <td>2016-02-08</td>\n",
       "      <td>14:27:12</td>\n",
       "      <td>459.0</td>\n",
       "    </tr>\n",
       "    <tr>\n",
       "      <th>3</th>\n",
       "      <td>T4</td>\n",
       "      <td>C5342380</td>\n",
       "      <td>1973-09-14</td>\n",
       "      <td>F</td>\n",
       "      <td>MUMBAI</td>\n",
       "      <td>866503.21</td>\n",
       "      <td>2016-02-08</td>\n",
       "      <td>14:27:14</td>\n",
       "      <td>2060.0</td>\n",
       "    </tr>\n",
       "    <tr>\n",
       "      <th>4</th>\n",
       "      <td>T5</td>\n",
       "      <td>C9031234</td>\n",
       "      <td>1988-03-24</td>\n",
       "      <td>F</td>\n",
       "      <td>NAVI MUMBAI</td>\n",
       "      <td>6714.43</td>\n",
       "      <td>2016-02-08</td>\n",
       "      <td>18:11:56</td>\n",
       "      <td>1762.5</td>\n",
       "    </tr>\n",
       "    <tr>\n",
       "      <th>...</th>\n",
       "      <td>...</td>\n",
       "      <td>...</td>\n",
       "      <td>...</td>\n",
       "      <td>...</td>\n",
       "      <td>...</td>\n",
       "      <td>...</td>\n",
       "      <td>...</td>\n",
       "      <td>...</td>\n",
       "      <td>...</td>\n",
       "    </tr>\n",
       "    <tr>\n",
       "      <th>1048562</th>\n",
       "      <td>T1048563</td>\n",
       "      <td>C8020229</td>\n",
       "      <td>1990-08-04</td>\n",
       "      <td>M</td>\n",
       "      <td>NEW DELHI</td>\n",
       "      <td>7635.19</td>\n",
       "      <td>2016-09-18</td>\n",
       "      <td>18:48:24</td>\n",
       "      <td>799.0</td>\n",
       "    </tr>\n",
       "    <tr>\n",
       "      <th>1048563</th>\n",
       "      <td>T1048564</td>\n",
       "      <td>C6459278</td>\n",
       "      <td>1992-02-20</td>\n",
       "      <td>M</td>\n",
       "      <td>NASHIK</td>\n",
       "      <td>27311.42</td>\n",
       "      <td>2016-09-18</td>\n",
       "      <td>18:37:34</td>\n",
       "      <td>460.0</td>\n",
       "    </tr>\n",
       "    <tr>\n",
       "      <th>1048564</th>\n",
       "      <td>T1048565</td>\n",
       "      <td>C6412354</td>\n",
       "      <td>1989-05-18</td>\n",
       "      <td>M</td>\n",
       "      <td>HYDERABAD</td>\n",
       "      <td>221757.06</td>\n",
       "      <td>2016-09-18</td>\n",
       "      <td>18:33:13</td>\n",
       "      <td>770.0</td>\n",
       "    </tr>\n",
       "    <tr>\n",
       "      <th>1048565</th>\n",
       "      <td>T1048566</td>\n",
       "      <td>C6420483</td>\n",
       "      <td>1978-08-30</td>\n",
       "      <td>M</td>\n",
       "      <td>VISAKHAPATNAM</td>\n",
       "      <td>10117.87</td>\n",
       "      <td>2016-09-18</td>\n",
       "      <td>18:47:06</td>\n",
       "      <td>1000.0</td>\n",
       "    </tr>\n",
       "    <tr>\n",
       "      <th>1048566</th>\n",
       "      <td>T1048567</td>\n",
       "      <td>C8337524</td>\n",
       "      <td>1984-05-03</td>\n",
       "      <td>M</td>\n",
       "      <td>PUNE</td>\n",
       "      <td>75734.42</td>\n",
       "      <td>2016-09-18</td>\n",
       "      <td>18:12:22</td>\n",
       "      <td>1166.0</td>\n",
       "    </tr>\n",
       "  </tbody>\n",
       "</table>\n",
       "<p>985322 rows × 9 columns</p>\n",
       "</div>"
      ],
      "text/plain": [
       "        TransactionID CustomerID CustomerDOB CustGender   CustLocation  \\\n",
       "0                  T1   C5841053  1994-10-01          F     JAMSHEDPUR   \n",
       "1                  T2   C2142763  1957-04-04          M        JHAJJAR   \n",
       "2                  T3   C4417068  1996-11-26          F         MUMBAI   \n",
       "3                  T4   C5342380  1973-09-14          F         MUMBAI   \n",
       "4                  T5   C9031234  1988-03-24          F    NAVI MUMBAI   \n",
       "...               ...        ...         ...        ...            ...   \n",
       "1048562      T1048563   C8020229  1990-08-04          M      NEW DELHI   \n",
       "1048563      T1048564   C6459278  1992-02-20          M         NASHIK   \n",
       "1048564      T1048565   C6412354  1989-05-18          M      HYDERABAD   \n",
       "1048565      T1048566   C6420483  1978-08-30          M  VISAKHAPATNAM   \n",
       "1048566      T1048567   C8337524  1984-05-03          M           PUNE   \n",
       "\n",
       "         CustAccountBalance TransactionDate TransactionTime  \\\n",
       "0                  17819.05      2016-02-08        14:32:07   \n",
       "1                   2270.69      2016-02-08        14:18:58   \n",
       "2                  17874.44      2016-02-08        14:27:12   \n",
       "3                 866503.21      2016-02-08        14:27:14   \n",
       "4                   6714.43      2016-02-08        18:11:56   \n",
       "...                     ...             ...             ...   \n",
       "1048562             7635.19      2016-09-18        18:48:24   \n",
       "1048563            27311.42      2016-09-18        18:37:34   \n",
       "1048564           221757.06      2016-09-18        18:33:13   \n",
       "1048565            10117.87      2016-09-18        18:47:06   \n",
       "1048566            75734.42      2016-09-18        18:12:22   \n",
       "\n",
       "         TransactionAmount (INR)  \n",
       "0                           25.0  \n",
       "1                        27999.0  \n",
       "2                          459.0  \n",
       "3                         2060.0  \n",
       "4                         1762.5  \n",
       "...                          ...  \n",
       "1048562                    799.0  \n",
       "1048563                    460.0  \n",
       "1048564                    770.0  \n",
       "1048565                   1000.0  \n",
       "1048566                   1166.0  \n",
       "\n",
       "[985322 rows x 9 columns]"
      ]
     },
     "execution_count": 53,
     "metadata": {},
     "output_type": "execute_result"
    }
   ],
   "source": [
    "data"
   ]
  },
  {
   "cell_type": "code",
   "execution_count": null,
   "metadata": {
    "id": "3I3pcvv74GMW"
   },
   "outputs": [],
   "source": [
    "data.drop(['CustomerID','TransactionID'], axis = 1,inplace=True)"
   ]
  },
  {
   "cell_type": "code",
   "execution_count": null,
   "metadata": {
    "id": "nwAFlG9i4GMW"
   },
   "outputs": [],
   "source": [
    "data.index = [x for x in range(len(newdata))]"
   ]
  },
  {
   "cell_type": "code",
   "execution_count": null,
   "metadata": {
    "id": "fBYgVdZW4GMW",
    "outputId": "da0d1464-2fac-4d14-ecd7-55e021127eff"
   },
   "outputs": [
    {
     "data": {
      "text/plain": [
       "<bound method DataFrame.info of        CustomerDOB CustGender   CustLocation  CustAccountBalance  \\\n",
       "0       1994-10-01          F     JAMSHEDPUR            17819.05   \n",
       "1       1957-04-04          M        JHAJJAR             2270.69   \n",
       "2       1996-11-26          F         MUMBAI            17874.44   \n",
       "3       1973-09-14          F         MUMBAI           866503.21   \n",
       "4       1988-03-24          F    NAVI MUMBAI             6714.43   \n",
       "...            ...        ...            ...                 ...   \n",
       "985317  1990-08-04          M      NEW DELHI             7635.19   \n",
       "985318  1992-02-20          M         NASHIK            27311.42   \n",
       "985319  1989-05-18          M      HYDERABAD           221757.06   \n",
       "985320  1978-08-30          M  VISAKHAPATNAM            10117.87   \n",
       "985321  1984-05-03          M           PUNE            75734.42   \n",
       "\n",
       "       TransactionDate TransactionTime  TransactionAmount (INR)  \n",
       "0           2016-02-08        14:32:07                     25.0  \n",
       "1           2016-02-08        14:18:58                  27999.0  \n",
       "2           2016-02-08        14:27:12                    459.0  \n",
       "3           2016-02-08        14:27:14                   2060.0  \n",
       "4           2016-02-08        18:11:56                   1762.5  \n",
       "...                ...             ...                      ...  \n",
       "985317      2016-09-18        18:48:24                    799.0  \n",
       "985318      2016-09-18        18:37:34                    460.0  \n",
       "985319      2016-09-18        18:33:13                    770.0  \n",
       "985320      2016-09-18        18:47:06                   1000.0  \n",
       "985321      2016-09-18        18:12:22                   1166.0  \n",
       "\n",
       "[985322 rows x 7 columns]>"
      ]
     },
     "execution_count": 56,
     "metadata": {},
     "output_type": "execute_result"
    }
   ],
   "source": [
    "data.info"
   ]
  },
  {
   "cell_type": "code",
   "execution_count": null,
   "metadata": {
    "id": "azjqAuk14GMX"
   },
   "outputs": [],
   "source": [
    "data.to_pickle('newdata.pkl')"
   ]
  },
  {
   "cell_type": "markdown",
   "metadata": {
    "id": "i1RlV0LW4GMX"
   },
   "source": [
    "## 1.2 Fingerprint Hashing"
   ]
  },
  {
   "cell_type": "code",
   "execution_count": null,
   "metadata": {
    "id": "9_Z0Z9gX4GMX"
   },
   "outputs": [],
   "source": [
    "transactions = pd.read_pickle('new_data.pkl') #bank_transactions.csv dataset already processed, 'TransactionID' and 'CustomerID' columns are dropped"
   ]
  },
  {
   "cell_type": "code",
   "execution_count": null,
   "metadata": {
    "id": "28D9fWMA4GMX",
    "outputId": "89178621-4df1-4b40-e97b-66366f48d4e5"
   },
   "outputs": [
    {
     "data": {
      "text/html": [
       "<div>\n",
       "<style scoped>\n",
       "    .dataframe tbody tr th:only-of-type {\n",
       "        vertical-align: middle;\n",
       "    }\n",
       "\n",
       "    .dataframe tbody tr th {\n",
       "        vertical-align: top;\n",
       "    }\n",
       "\n",
       "    .dataframe thead th {\n",
       "        text-align: right;\n",
       "    }\n",
       "</style>\n",
       "<table border=\"1\" class=\"dataframe\">\n",
       "  <thead>\n",
       "    <tr style=\"text-align: right;\">\n",
       "      <th></th>\n",
       "      <th>CustomerDOB</th>\n",
       "      <th>CustGender</th>\n",
       "      <th>CustLocation</th>\n",
       "      <th>CustAccountBalance</th>\n",
       "      <th>TransactionDate</th>\n",
       "      <th>TransactionTime</th>\n",
       "      <th>TransactionAmount (INR)</th>\n",
       "    </tr>\n",
       "  </thead>\n",
       "  <tbody>\n",
       "    <tr>\n",
       "      <th>0</th>\n",
       "      <td>1994-10-01</td>\n",
       "      <td>F</td>\n",
       "      <td>JAMSHEDPUR</td>\n",
       "      <td>17819.05</td>\n",
       "      <td>2016-02-08</td>\n",
       "      <td>143207</td>\n",
       "      <td>25.0</td>\n",
       "    </tr>\n",
       "    <tr>\n",
       "      <th>1</th>\n",
       "      <td>1957-04-04</td>\n",
       "      <td>M</td>\n",
       "      <td>JHAJJAR</td>\n",
       "      <td>2270.69</td>\n",
       "      <td>2016-02-08</td>\n",
       "      <td>141858</td>\n",
       "      <td>27999.0</td>\n",
       "    </tr>\n",
       "    <tr>\n",
       "      <th>2</th>\n",
       "      <td>1996-11-26</td>\n",
       "      <td>F</td>\n",
       "      <td>MUMBAI</td>\n",
       "      <td>17874.44</td>\n",
       "      <td>2016-02-08</td>\n",
       "      <td>142712</td>\n",
       "      <td>459.0</td>\n",
       "    </tr>\n",
       "    <tr>\n",
       "      <th>3</th>\n",
       "      <td>1973-09-14</td>\n",
       "      <td>F</td>\n",
       "      <td>MUMBAI</td>\n",
       "      <td>866503.21</td>\n",
       "      <td>2016-02-08</td>\n",
       "      <td>142714</td>\n",
       "      <td>2060.0</td>\n",
       "    </tr>\n",
       "    <tr>\n",
       "      <th>4</th>\n",
       "      <td>1988-03-24</td>\n",
       "      <td>F</td>\n",
       "      <td>NAVI MUMBAI</td>\n",
       "      <td>6714.43</td>\n",
       "      <td>2016-02-08</td>\n",
       "      <td>181156</td>\n",
       "      <td>1762.5</td>\n",
       "    </tr>\n",
       "  </tbody>\n",
       "</table>\n",
       "</div>"
      ],
      "text/plain": [
       "  CustomerDOB CustGender CustLocation  CustAccountBalance TransactionDate  \\\n",
       "0  1994-10-01          F   JAMSHEDPUR            17819.05      2016-02-08   \n",
       "1  1957-04-04          M      JHAJJAR             2270.69      2016-02-08   \n",
       "2  1996-11-26          F       MUMBAI            17874.44      2016-02-08   \n",
       "3  1973-09-14          F       MUMBAI           866503.21      2016-02-08   \n",
       "4  1988-03-24          F  NAVI MUMBAI             6714.43      2016-02-08   \n",
       "\n",
       "   TransactionTime  TransactionAmount (INR)  \n",
       "0           143207                     25.0  \n",
       "1           141858                  27999.0  \n",
       "2           142712                    459.0  \n",
       "3           142714                   2060.0  \n",
       "4           181156                   1762.5  "
      ]
     },
     "metadata": {},
     "output_type": "display_data"
    }
   ],
   "source": [
    "transactions.head()"
   ]
  },
  {
   "cell_type": "markdown",
   "metadata": {
    "id": "WFPq6ygV4GMY"
   },
   "source": [
    "#### Hash function implemented for creating an hash value for each value in the dataframe"
   ]
  },
  {
   "cell_type": "code",
   "execution_count": null,
   "metadata": {
    "id": "Sjazd6pD4GMZ"
   },
   "outputs": [],
   "source": [
    "# Hash function for datetime type\n",
    "def hash_date(value):\n",
    "    return int(pd.Timestamp(value).timestamp())"
   ]
  },
  {
   "cell_type": "code",
   "execution_count": null,
   "metadata": {
    "id": "qFQgpD2-4GMZ"
   },
   "outputs": [],
   "source": [
    "#Hash function for string type\n",
    "def hash_string(value,p):\n",
    "    m =2^32 -1\n",
    "    a =101\n",
    "    b=456\n",
    "    first  = sum([ ord(x)*(p^i) for i,x in enumerate(value)])%m\n",
    "    return (a* first + b)%p"
   ]
  },
  {
   "cell_type": "code",
   "execution_count": null,
   "metadata": {
    "id": "Bu5TgvoG4GMa"
   },
   "outputs": [],
   "source": [
    "#Hash function for float type\n",
    "def hash_float(value):\n",
    "    return int(value)"
   ]
  },
  {
   "cell_type": "code",
   "execution_count": null,
   "metadata": {
    "id": "QcYBNX8r4GMa"
   },
   "outputs": [],
   "source": [
    "#Collective Hash function, checks on the type of value parameter and applies the right hash function\n",
    "def my_hash (value,p):\n",
    "    if not isinstance(value,int):\n",
    "            if isinstance(value,datetime): \n",
    "                value  = hash_date(value)\n",
    "            elif isinstance(value,str): \n",
    "                value = hash_string(value,p)\n",
    "            elif isinstance(value,float): \n",
    "                value = hash_float(value)\n",
    "    return value"
   ]
  },
  {
   "cell_type": "markdown",
   "metadata": {
    "id": "orUtxJS74GMa"
   },
   "source": [
    "#### Initialization of the parameter for the MinHash algorithm"
   ]
  },
  {
   "cell_type": "code",
   "execution_count": null,
   "metadata": {
    "id": "jFRIyzLZ4GMa"
   },
   "outputs": [],
   "source": [
    "p  = 125539 #prime number\n",
    "N  = 100  #number of permutations\n",
    "max_val = 2^32-1 #value used for the randomization in the creation of the permutations\n",
    "permutations = [(randint(0,max_val), randint(0,max_val)) for _ in range(N)] #  N permutations of two integers a,b"
   ]
  },
  {
   "cell_type": "markdown",
   "metadata": {
    "id": "kq4MSHv64GMb"
   },
   "source": [
    "#### MinHash function: creates a minHash signature for the transaction given as input.\n",
    "\n",
    "The minHash function to create a minhash signature for each transaction has this parameters:\n",
    "1. N hash functions that have this structure : f(value,a,b,p): return (a*value+b)%p, the N coefficients a and b are obtained by permutating two integers N times\n",
    "2. p which is a prime number\n",
    "\n",
    "The signature is represented as an array of length N, the i-th element is the minimum hash value obtained by applying the i-th hash function to every hash value of the transaction's features."
   ]
  },
  {
   "cell_type": "code",
   "execution_count": null,
   "metadata": {
    "id": "54u6CcdW4GMb"
   },
   "outputs": [],
   "source": [
    "def minHash(transaction,p,permutations):\n",
    "    vec  = [float(np.inf) for _ in range(len(permutations))]\n",
    "\n",
    "    for i,val in transaction.items():#Iterate over the features of the transaction \n",
    "        \n",
    "        val =  my_hash(val,p)# Create Hash value for the features\n",
    "        \n",
    "        for perm_i,perm_vals in enumerate(permutations): #Apply N permutations to every hash value of the transaction\n",
    "            \n",
    "            a,b = perm_vals\n",
    "\n",
    "            output = (a*val + b)%p \n",
    "       \n",
    "            if(vec[perm_i] > output ): \n",
    "                vec[perm_i] = output\n",
    "\n",
    "    return vec # Hash Signature for the given transaction"
   ]
  },
  {
   "cell_type": "markdown",
   "metadata": {
    "id": "jmOVipfm4GMb"
   },
   "source": [
    "#### Create 'minhash' column for the bank_transactions.csv dataset"
   ]
  },
  {
   "cell_type": "code",
   "execution_count": null,
   "metadata": {
    "id": "ok3thfmA4GMb",
    "outputId": "717d7267-35ca-4a7b-ca9d-3d28e2f5170a"
   },
   "outputs": [
    {
     "name": "stderr",
     "output_type": "stream",
     "text": [
      "100%|██████████| 985322/985322 [12:09<00:00, 1350.76it/s]\n"
     ]
    }
   ],
   "source": [
    "transactions['minhash']  = [minHash(transactions.loc[i],p,permutations) for i in tqdm(range(len(new_data)))]"
   ]
  },
  {
   "cell_type": "code",
   "execution_count": null,
   "metadata": {
    "id": "uldLJrS04GMc",
    "outputId": "39b14c3e-79b2-4471-cce2-66e1059b1353"
   },
   "outputs": [
    {
     "data": {
      "text/plain": [
       "0         [720, 598, 214, 100, 357, 316, 248, 134, 229, ...\n",
       "1         [5476, 15157, 5027, 2632, 2735, 7912, 936, 329...\n",
       "2         [5476, 10580, 3686, 1836, 2735, 5524, 4154, 23...\n",
       "3         [5476, 18431, 7702, 3844, 2735, 11548, 8672, 4...\n",
       "4         [5476, 22126, 7702, 3844, 2735, 11548, 8097, 4...\n",
       "                                ...                        \n",
       "985317    [22392, 18400, 6406, 3196, 11193, 9604, 7214, ...\n",
       "985318    [4742, 481, 3694, 1840, 2368, 5536, 4163, 2309...\n",
       "985319    [21580, 17733, 6174, 3080, 10787, 9256, 6953, ...\n",
       "985320    [24689, 23023, 3929, 4000, 14007, 12016, 9023,...\n",
       "985321    [15616, 12834, 4470, 2228, 7805, 1839, 5036, 2...\n",
       "Name: minhash, Length: 985322, dtype: object"
      ]
     },
     "metadata": {},
     "output_type": "display_data"
    }
   ],
   "source": [
    "transactions.minhash"
   ]
  },
  {
   "cell_type": "markdown",
   "metadata": {
    "id": "-7YNktYD4GMc"
   },
   "source": [
    "## 1.3 Locality Sensitive Hashing"
   ]
  },
  {
   "cell_type": "markdown",
   "metadata": {
    "id": "dF337wlo4GMc"
   },
   "source": [
    "### LoadQuery dataset"
   ]
  },
  {
   "cell_type": "code",
   "execution_count": null,
   "metadata": {
    "id": "DTE95qqa4GMc"
   },
   "outputs": [],
   "source": [
    "query =  pd.read_pickle('query.pkl')\n"
   ]
  },
  {
   "cell_type": "code",
   "execution_count": null,
   "metadata": {
    "id": "gViesf1F4GMd"
   },
   "outputs": [],
   "source": [
    "query.index = [ i for i in range(len(query))] #Adjust query dataset index"
   ]
  },
  {
   "cell_type": "markdown",
   "metadata": {
    "id": "wcZ7lbUc4GMd"
   },
   "source": [
    "#### Create 'minhash' column for the query.csv dataframe"
   ]
  },
  {
   "cell_type": "code",
   "execution_count": null,
   "metadata": {
    "id": "Dpv1MSI84GMd",
    "outputId": "122e6ba5-7b83-40a3-b111-cd5f373faec3"
   },
   "outputs": [
    {
     "name": "stderr",
     "output_type": "stream",
     "text": [
      "100%|██████████| 46/46 [00:00<00:00, 836.83it/s]\n"
     ]
    }
   ],
   "source": [
    "query['minhash']  = [minHash(query.loc[i],p,permutations) for i in tqdm(range(len(query)))]"
   ]
  },
  {
   "cell_type": "code",
   "execution_count": null,
   "metadata": {
    "id": "ZasWQCLp4GMd",
    "outputId": "60fff108-f5df-4bf3-b47e-27baac32b856"
   },
   "outputs": [
    {
     "data": {
      "text/plain": [
       "0    [1840, 1518, 534, 260, 917, 796, 608, 334, 549...\n",
       "1    [39435, 3087, 19822, 9904, 20987, 29728, 22307...\n",
       "2    [15168, 12466, 4342, 2164, 7581, 6508, 4892, 2...\n",
       "3    [18636, 23023, 8014, 4000, 9315, 10542, 9023, ...\n",
       "4    [2260, 1863, 654, 320, 1127, 976, 743, 409, 66...\n",
       "Name: minhash, dtype: object"
      ]
     },
     "metadata": {},
     "output_type": "display_data"
    }
   ],
   "source": [
    "query.head().minhash"
   ]
  },
  {
   "cell_type": "markdown",
   "metadata": {
    "id": "2Ruk8NhN4GMe"
   },
   "source": [
    "### LSH "
   ]
  },
  {
   "cell_type": "markdown",
   "metadata": {
    "id": "UmJenfxl4GMe"
   },
   "source": [
    "INPUT\n",
    "1. *dictc* a dictionary (empty or not), every key in the dict is a bin, the values are lists of the indexes of the rows that fell in the bin\n",
    "2. *df* a dataframe that has a column 'minhash' containing the rows' signatures\n",
    "3. *query* boolean parameter deafault if True it will insertthe index of the df row in the bucket in this format 'q<*index*>'. ù\n",
    "4. *band* integer that represents the bandwidth of the algorithm, must be smaller than N. \n",
    "\n",
    "If you use a lower bandwidth each signature can fall in more bins so it will create more matching between the signatures.\n",
    "If you use a higher bandwidth each signature can fall in less bins,so it will create much less matches between the signatures, but if two signatures fall in the same bin it will represent a stronger similarity.\n",
    "\n",
    "OUTPUT\n",
    "1. returns *dictc* after all the rows in the *df* dataframe are assigned to the correct bins"
   ]
  },
  {
   "cell_type": "code",
   "execution_count": null,
   "metadata": {
    "id": "jS8q9osy4GMf"
   },
   "outputs": [],
   "source": [
    "# LSH algorithm implementation\n",
    "def LSH(dictc,df,query,band):\n",
    "    for i,hash_vec in enumerate(df.minhash):\n",
    "        step = len(hash_vec)//band\n",
    "        j = 0\n",
    "        idx = 0\n",
    "        while(j<len(hash_vec)):\n",
    "            sub_vec = hash_vec[j:j+step]\n",
    "            sep = '-'\n",
    "            key  = sep.join([str(x) for x in sub_vec])+','+str(idx)\n",
    "            if key not in dictc.keys():\n",
    "                dictc[key]  = []\n",
    "            if(query):\n",
    "                dictc[key].append('q'+str(df.index))\n",
    "            else:\n",
    "                dictc[key].append(df.index)\n",
    "            j += step\n",
    "            idx +=1\n",
    "    return dictc\n",
    "       \n"
   ]
  },
  {
   "cell_type": "markdown",
   "metadata": {
    "id": "cWmoxeVz4GMg"
   },
   "source": [
    "#### fill_bin()\n",
    "This function fills the bins of the query with the index every row passed in the df dataframe, if the row signatures falls in this bins."
   ]
  },
  {
   "cell_type": "code",
   "execution_count": null,
   "metadata": {
    "id": "JoQDBzXm4GMg"
   },
   "outputs": [],
   "source": [
    "def fill_bins(query_bins,df,band):\n",
    "    for i,hash_vec in enumerate(df.minhash):\n",
    "        step = len(hash_vec)//band\n",
    "        j = 0\n",
    "        idx = 0\n",
    "        while(j<len(hash_vec)):\n",
    "            sub_vec = hash_vec[j:j+step]\n",
    "            sep = '-'\n",
    "            key  = sep.join([str(x) for x in sub_vec])+','+str(idx)\n",
    "            if key in query_bins.keys():\n",
    "                query_bins[key].append(i)\n",
    "            j += step\n",
    "            idx +=1\n",
    "    return query_bins\n",
    "       \n"
   ]
  },
  {
   "cell_type": "markdown",
   "metadata": {
    "id": "gkGu6vNG4GMh"
   },
   "source": [
    "#### Find the most similar Customer in the bank_transaction.csv file for the given Customer query"
   ]
  },
  {
   "cell_type": "code",
   "execution_count": null,
   "metadata": {
    "id": "TJ_q4JmC4GMh"
   },
   "outputs": [],
   "source": [
    "# query is the entire row in the query.csv file with his minHash signature\n",
    "# df is the dataframe where we want to find the most similar to the query, df comes with all the minHash signature for every Transaction in the dataset\n",
    "# band: bandwidth parameter, sets the number of subdivisions in the minHash signature of the rows in df\n",
    "#Changing the value of the bandwidth will create more matches, but the most similar will be unaffected\n",
    "def check_similar(query,band,df):\n",
    "    query_i= 'q'+str(query.index[0])\n",
    "    bins = {} # Initialization of the dictionary that will represents the bins for the given query row\n",
    "    LSH(bins,query,True,band) # LSH  algorithm: fills the dictionary creating the right bins for the given query row\n",
    "    fill_bins(bins,df,band) #fill_bins:  function to insert in the right bins the index of every the df row \n",
    "    \n",
    "    matches = [ x for v,x in bins.items()]\n",
    "   \n",
    "    matches  = [x for x in list(chain.from_iterable(matches)) if x != query_i and 'q' not in str(x)]\n",
    "    c = Counter(matches)\n",
    "    if( not c.most_common()):\n",
    "        return 'NA'\n",
    "    return c.most_common()[0][0] #Return the index in the df dataframe corresponding to the most similar Transaction"
   ]
  },
  {
   "cell_type": "markdown",
   "metadata": {
    "id": "vQl6kFB04GMi"
   },
   "source": [
    "#### Find most similar for every row in query.csv in the bank_transaction.csv dataset"
   ]
  },
  {
   "cell_type": "code",
   "execution_count": null,
   "metadata": {
    "id": "i-nWqSZW4GMj",
    "outputId": "2e795530-f485-4c0d-d052-11e47eb97564"
   },
   "outputs": [
    {
     "name": "stderr",
     "output_type": "stream",
     "text": [
      "100%|██████████| 46/46 [31:46<00:00, 41.46s/it]\n"
     ]
    }
   ],
   "source": [
    "matches =[]\n",
    "for i in tqdm(query.index):\n",
    "        matches.append(check_similar(query[i:i+1],4,transactions))"
   ]
  },
  {
   "cell_type": "code",
   "execution_count": null,
   "metadata": {
    "id": "L1QVnNxj4GMk"
   },
   "outputs": [],
   "source": [
    "query_results  = pd.DataFrame(columns=['query_index','match_df_index'])\n"
   ]
  },
  {
   "cell_type": "code",
   "execution_count": null,
   "metadata": {
    "id": "tvmEpF2-4GMk"
   },
   "outputs": [],
   "source": [
    "query_results['match_df_index'] = matches\n",
    "query_results['query_index']  = query.index"
   ]
  },
  {
   "cell_type": "code",
   "execution_count": null,
   "metadata": {
    "id": "aEaKkKBn4GMl",
    "outputId": "75328180-7d30-4dcf-be01-99077cce3640"
   },
   "outputs": [
    {
     "data": {
      "text/html": [
       "<div>\n",
       "<style scoped>\n",
       "    .dataframe tbody tr th:only-of-type {\n",
       "        vertical-align: middle;\n",
       "    }\n",
       "\n",
       "    .dataframe tbody tr th {\n",
       "        vertical-align: top;\n",
       "    }\n",
       "\n",
       "    .dataframe thead th {\n",
       "        text-align: right;\n",
       "    }\n",
       "</style>\n",
       "<table border=\"1\" class=\"dataframe\">\n",
       "  <thead>\n",
       "    <tr style=\"text-align: right;\">\n",
       "      <th></th>\n",
       "      <th>query_index</th>\n",
       "      <th>match_df_index</th>\n",
       "    </tr>\n",
       "  </thead>\n",
       "  <tbody>\n",
       "    <tr>\n",
       "      <th>0</th>\n",
       "      <td>0</td>\n",
       "      <td>701472</td>\n",
       "    </tr>\n",
       "    <tr>\n",
       "      <th>1</th>\n",
       "      <td>1</td>\n",
       "      <td>684212</td>\n",
       "    </tr>\n",
       "    <tr>\n",
       "      <th>2</th>\n",
       "      <td>2</td>\n",
       "      <td>296431</td>\n",
       "    </tr>\n",
       "    <tr>\n",
       "      <th>3</th>\n",
       "      <td>3</td>\n",
       "      <td>601262</td>\n",
       "    </tr>\n",
       "    <tr>\n",
       "      <th>4</th>\n",
       "      <td>4</td>\n",
       "      <td>8675</td>\n",
       "    </tr>\n",
       "    <tr>\n",
       "      <th>5</th>\n",
       "      <td>5</td>\n",
       "      <td>880492</td>\n",
       "    </tr>\n",
       "    <tr>\n",
       "      <th>6</th>\n",
       "      <td>6</td>\n",
       "      <td>68</td>\n",
       "    </tr>\n",
       "    <tr>\n",
       "      <th>7</th>\n",
       "      <td>7</td>\n",
       "      <td>13</td>\n",
       "    </tr>\n",
       "    <tr>\n",
       "      <th>8</th>\n",
       "      <td>8</td>\n",
       "      <td>563650</td>\n",
       "    </tr>\n",
       "    <tr>\n",
       "      <th>9</th>\n",
       "      <td>9</td>\n",
       "      <td>532514</td>\n",
       "    </tr>\n",
       "    <tr>\n",
       "      <th>10</th>\n",
       "      <td>10</td>\n",
       "      <td>118684</td>\n",
       "    </tr>\n",
       "    <tr>\n",
       "      <th>11</th>\n",
       "      <td>11</td>\n",
       "      <td>277123</td>\n",
       "    </tr>\n",
       "    <tr>\n",
       "      <th>12</th>\n",
       "      <td>12</td>\n",
       "      <td>535158</td>\n",
       "    </tr>\n",
       "    <tr>\n",
       "      <th>13</th>\n",
       "      <td>13</td>\n",
       "      <td>261622</td>\n",
       "    </tr>\n",
       "    <tr>\n",
       "      <th>14</th>\n",
       "      <td>14</td>\n",
       "      <td>873729</td>\n",
       "    </tr>\n",
       "    <tr>\n",
       "      <th>15</th>\n",
       "      <td>15</td>\n",
       "      <td>144069</td>\n",
       "    </tr>\n",
       "    <tr>\n",
       "      <th>16</th>\n",
       "      <td>16</td>\n",
       "      <td>810156</td>\n",
       "    </tr>\n",
       "    <tr>\n",
       "      <th>17</th>\n",
       "      <td>17</td>\n",
       "      <td>55578</td>\n",
       "    </tr>\n",
       "    <tr>\n",
       "      <th>18</th>\n",
       "      <td>18</td>\n",
       "      <td>507033</td>\n",
       "    </tr>\n",
       "    <tr>\n",
       "      <th>19</th>\n",
       "      <td>19</td>\n",
       "      <td>939850</td>\n",
       "    </tr>\n",
       "    <tr>\n",
       "      <th>20</th>\n",
       "      <td>20</td>\n",
       "      <td>280105</td>\n",
       "    </tr>\n",
       "    <tr>\n",
       "      <th>21</th>\n",
       "      <td>21</td>\n",
       "      <td>616154</td>\n",
       "    </tr>\n",
       "    <tr>\n",
       "      <th>22</th>\n",
       "      <td>22</td>\n",
       "      <td>49</td>\n",
       "    </tr>\n",
       "    <tr>\n",
       "      <th>23</th>\n",
       "      <td>23</td>\n",
       "      <td>156125</td>\n",
       "    </tr>\n",
       "    <tr>\n",
       "      <th>24</th>\n",
       "      <td>24</td>\n",
       "      <td>6366</td>\n",
       "    </tr>\n",
       "    <tr>\n",
       "      <th>25</th>\n",
       "      <td>25</td>\n",
       "      <td>799908</td>\n",
       "    </tr>\n",
       "    <tr>\n",
       "      <th>26</th>\n",
       "      <td>26</td>\n",
       "      <td>207512</td>\n",
       "    </tr>\n",
       "    <tr>\n",
       "      <th>27</th>\n",
       "      <td>27</td>\n",
       "      <td>236840</td>\n",
       "    </tr>\n",
       "    <tr>\n",
       "      <th>28</th>\n",
       "      <td>28</td>\n",
       "      <td>158024</td>\n",
       "    </tr>\n",
       "    <tr>\n",
       "      <th>29</th>\n",
       "      <td>29</td>\n",
       "      <td>793405</td>\n",
       "    </tr>\n",
       "    <tr>\n",
       "      <th>30</th>\n",
       "      <td>30</td>\n",
       "      <td>879534</td>\n",
       "    </tr>\n",
       "    <tr>\n",
       "      <th>31</th>\n",
       "      <td>31</td>\n",
       "      <td>NA</td>\n",
       "    </tr>\n",
       "    <tr>\n",
       "      <th>32</th>\n",
       "      <td>32</td>\n",
       "      <td>NA</td>\n",
       "    </tr>\n",
       "    <tr>\n",
       "      <th>33</th>\n",
       "      <td>33</td>\n",
       "      <td>48</td>\n",
       "    </tr>\n",
       "    <tr>\n",
       "      <th>34</th>\n",
       "      <td>34</td>\n",
       "      <td>NA</td>\n",
       "    </tr>\n",
       "    <tr>\n",
       "      <th>35</th>\n",
       "      <td>35</td>\n",
       "      <td>57</td>\n",
       "    </tr>\n",
       "    <tr>\n",
       "      <th>36</th>\n",
       "      <td>36</td>\n",
       "      <td>68</td>\n",
       "    </tr>\n",
       "    <tr>\n",
       "      <th>37</th>\n",
       "      <td>37</td>\n",
       "      <td>36260</td>\n",
       "    </tr>\n",
       "    <tr>\n",
       "      <th>38</th>\n",
       "      <td>38</td>\n",
       "      <td>NA</td>\n",
       "    </tr>\n",
       "    <tr>\n",
       "      <th>39</th>\n",
       "      <td>39</td>\n",
       "      <td>151518</td>\n",
       "    </tr>\n",
       "    <tr>\n",
       "      <th>40</th>\n",
       "      <td>40</td>\n",
       "      <td>NA</td>\n",
       "    </tr>\n",
       "    <tr>\n",
       "      <th>41</th>\n",
       "      <td>41</td>\n",
       "      <td>NA</td>\n",
       "    </tr>\n",
       "    <tr>\n",
       "      <th>42</th>\n",
       "      <td>42</td>\n",
       "      <td>57</td>\n",
       "    </tr>\n",
       "    <tr>\n",
       "      <th>43</th>\n",
       "      <td>43</td>\n",
       "      <td>931229</td>\n",
       "    </tr>\n",
       "    <tr>\n",
       "      <th>44</th>\n",
       "      <td>44</td>\n",
       "      <td>741903</td>\n",
       "    </tr>\n",
       "    <tr>\n",
       "      <th>45</th>\n",
       "      <td>45</td>\n",
       "      <td>756417</td>\n",
       "    </tr>\n",
       "  </tbody>\n",
       "</table>\n",
       "</div>"
      ],
      "text/plain": [
       "    query_index match_df_index\n",
       "0             0         701472\n",
       "1             1         684212\n",
       "2             2         296431\n",
       "3             3         601262\n",
       "4             4           8675\n",
       "5             5         880492\n",
       "6             6             68\n",
       "7             7             13\n",
       "8             8         563650\n",
       "9             9         532514\n",
       "10           10         118684\n",
       "11           11         277123\n",
       "12           12         535158\n",
       "13           13         261622\n",
       "14           14         873729\n",
       "15           15         144069\n",
       "16           16         810156\n",
       "17           17          55578\n",
       "18           18         507033\n",
       "19           19         939850\n",
       "20           20         280105\n",
       "21           21         616154\n",
       "22           22             49\n",
       "23           23         156125\n",
       "24           24           6366\n",
       "25           25         799908\n",
       "26           26         207512\n",
       "27           27         236840\n",
       "28           28         158024\n",
       "29           29         793405\n",
       "30           30         879534\n",
       "31           31             NA\n",
       "32           32             NA\n",
       "33           33             48\n",
       "34           34             NA\n",
       "35           35             57\n",
       "36           36             68\n",
       "37           37          36260\n",
       "38           38             NA\n",
       "39           39         151518\n",
       "40           40             NA\n",
       "41           41             NA\n",
       "42           42             57\n",
       "43           43         931229\n",
       "44           44         741903\n",
       "45           45         756417"
      ]
     },
     "metadata": {},
     "output_type": "display_data"
    }
   ],
   "source": [
    "query_results"
   ]
  },
  {
   "cell_type": "markdown",
   "metadata": {
    "id": "eSQKANLT4GMl"
   },
   "source": [
    "## 2. Grouping customers together!\n",
    "\n",
    "Now we will deal with clustering algorithms that will provide groups of clients which are similar among them."
   ]
  },
  {
   "cell_type": "markdown",
   "metadata": {
    "id": "P-JRDYkK4GMm"
   },
   "source": [
    "### 2.1 Getting your data + feature engineering"
   ]
  },
  {
   "cell_type": "markdown",
   "metadata": {
    "id": "oPTV4ErT4GMm"
   },
   "source": [
    "2.1 Access to the data found in this dataset (it is the same dataset from the previous question 1.1)."
   ]
  },
  {
   "cell_type": "code",
   "execution_count": null,
   "metadata": {
    "id": "5z6LJkxW4GMm"
   },
   "outputs": [],
   "source": [
    "newdata = pd.read_pickle(\"processed.pkl\")"
   ]
  },
  {
   "cell_type": "code",
   "execution_count": null,
   "metadata": {
    "id": "urxZPrh24GMn",
    "outputId": "e2324837-2d16-42ff-f749-8e1c817ae85c"
   },
   "outputs": [
    {
     "data": {
      "text/html": [
       "<div>\n",
       "<style scoped>\n",
       "    .dataframe tbody tr th:only-of-type {\n",
       "        vertical-align: middle;\n",
       "    }\n",
       "\n",
       "    .dataframe tbody tr th {\n",
       "        vertical-align: top;\n",
       "    }\n",
       "\n",
       "    .dataframe thead th {\n",
       "        text-align: right;\n",
       "    }\n",
       "</style>\n",
       "<table border=\"1\" class=\"dataframe\">\n",
       "  <thead>\n",
       "    <tr style=\"text-align: right;\">\n",
       "      <th></th>\n",
       "      <th>TransactionID</th>\n",
       "      <th>CustomerID</th>\n",
       "      <th>CustomerDOB</th>\n",
       "      <th>CustGender</th>\n",
       "      <th>CustLocation</th>\n",
       "      <th>CustAccountBalance</th>\n",
       "      <th>TransactionDate</th>\n",
       "      <th>TransactionTime</th>\n",
       "      <th>TransactionAmount (INR)</th>\n",
       "    </tr>\n",
       "  </thead>\n",
       "  <tbody>\n",
       "    <tr>\n",
       "      <th>0</th>\n",
       "      <td>T1</td>\n",
       "      <td>C5841053</td>\n",
       "      <td>1994-10-01</td>\n",
       "      <td>F</td>\n",
       "      <td>JAMSHEDPUR</td>\n",
       "      <td>17819.05</td>\n",
       "      <td>2016-02-08</td>\n",
       "      <td>14:32:07</td>\n",
       "      <td>25.0</td>\n",
       "    </tr>\n",
       "    <tr>\n",
       "      <th>1</th>\n",
       "      <td>T2</td>\n",
       "      <td>C2142763</td>\n",
       "      <td>1957-04-04</td>\n",
       "      <td>M</td>\n",
       "      <td>JHAJJAR</td>\n",
       "      <td>2270.69</td>\n",
       "      <td>2016-02-08</td>\n",
       "      <td>14:18:58</td>\n",
       "      <td>27999.0</td>\n",
       "    </tr>\n",
       "    <tr>\n",
       "      <th>2</th>\n",
       "      <td>T3</td>\n",
       "      <td>C4417068</td>\n",
       "      <td>1996-11-26</td>\n",
       "      <td>F</td>\n",
       "      <td>MUMBAI</td>\n",
       "      <td>17874.44</td>\n",
       "      <td>2016-02-08</td>\n",
       "      <td>14:27:12</td>\n",
       "      <td>459.0</td>\n",
       "    </tr>\n",
       "    <tr>\n",
       "      <th>3</th>\n",
       "      <td>T4</td>\n",
       "      <td>C5342380</td>\n",
       "      <td>1973-09-14</td>\n",
       "      <td>F</td>\n",
       "      <td>MUMBAI</td>\n",
       "      <td>866503.21</td>\n",
       "      <td>2016-02-08</td>\n",
       "      <td>14:27:14</td>\n",
       "      <td>2060.0</td>\n",
       "    </tr>\n",
       "    <tr>\n",
       "      <th>4</th>\n",
       "      <td>T5</td>\n",
       "      <td>C9031234</td>\n",
       "      <td>1988-03-24</td>\n",
       "      <td>F</td>\n",
       "      <td>NAVI MUMBAI</td>\n",
       "      <td>6714.43</td>\n",
       "      <td>2016-02-08</td>\n",
       "      <td>18:11:56</td>\n",
       "      <td>1762.5</td>\n",
       "    </tr>\n",
       "    <tr>\n",
       "      <th>...</th>\n",
       "      <td>...</td>\n",
       "      <td>...</td>\n",
       "      <td>...</td>\n",
       "      <td>...</td>\n",
       "      <td>...</td>\n",
       "      <td>...</td>\n",
       "      <td>...</td>\n",
       "      <td>...</td>\n",
       "      <td>...</td>\n",
       "    </tr>\n",
       "    <tr>\n",
       "      <th>1048562</th>\n",
       "      <td>T1048563</td>\n",
       "      <td>C8020229</td>\n",
       "      <td>1990-08-04</td>\n",
       "      <td>M</td>\n",
       "      <td>NEW DELHI</td>\n",
       "      <td>7635.19</td>\n",
       "      <td>2016-09-18</td>\n",
       "      <td>18:48:24</td>\n",
       "      <td>799.0</td>\n",
       "    </tr>\n",
       "    <tr>\n",
       "      <th>1048563</th>\n",
       "      <td>T1048564</td>\n",
       "      <td>C6459278</td>\n",
       "      <td>1992-02-20</td>\n",
       "      <td>M</td>\n",
       "      <td>NASHIK</td>\n",
       "      <td>27311.42</td>\n",
       "      <td>2016-09-18</td>\n",
       "      <td>18:37:34</td>\n",
       "      <td>460.0</td>\n",
       "    </tr>\n",
       "    <tr>\n",
       "      <th>1048564</th>\n",
       "      <td>T1048565</td>\n",
       "      <td>C6412354</td>\n",
       "      <td>1989-05-18</td>\n",
       "      <td>M</td>\n",
       "      <td>HYDERABAD</td>\n",
       "      <td>221757.06</td>\n",
       "      <td>2016-09-18</td>\n",
       "      <td>18:33:13</td>\n",
       "      <td>770.0</td>\n",
       "    </tr>\n",
       "    <tr>\n",
       "      <th>1048565</th>\n",
       "      <td>T1048566</td>\n",
       "      <td>C6420483</td>\n",
       "      <td>1978-08-30</td>\n",
       "      <td>M</td>\n",
       "      <td>VISAKHAPATNAM</td>\n",
       "      <td>10117.87</td>\n",
       "      <td>2016-09-18</td>\n",
       "      <td>18:47:06</td>\n",
       "      <td>1000.0</td>\n",
       "    </tr>\n",
       "    <tr>\n",
       "      <th>1048566</th>\n",
       "      <td>T1048567</td>\n",
       "      <td>C8337524</td>\n",
       "      <td>1984-05-03</td>\n",
       "      <td>M</td>\n",
       "      <td>PUNE</td>\n",
       "      <td>75734.42</td>\n",
       "      <td>2016-09-18</td>\n",
       "      <td>18:12:22</td>\n",
       "      <td>1166.0</td>\n",
       "    </tr>\n",
       "  </tbody>\n",
       "</table>\n",
       "<p>985322 rows × 9 columns</p>\n",
       "</div>"
      ],
      "text/plain": [
       "        TransactionID CustomerID CustomerDOB CustGender   CustLocation  \\\n",
       "0                  T1   C5841053  1994-10-01          F     JAMSHEDPUR   \n",
       "1                  T2   C2142763  1957-04-04          M        JHAJJAR   \n",
       "2                  T3   C4417068  1996-11-26          F         MUMBAI   \n",
       "3                  T4   C5342380  1973-09-14          F         MUMBAI   \n",
       "4                  T5   C9031234  1988-03-24          F    NAVI MUMBAI   \n",
       "...               ...        ...         ...        ...            ...   \n",
       "1048562      T1048563   C8020229  1990-08-04          M      NEW DELHI   \n",
       "1048563      T1048564   C6459278  1992-02-20          M         NASHIK   \n",
       "1048564      T1048565   C6412354  1989-05-18          M      HYDERABAD   \n",
       "1048565      T1048566   C6420483  1978-08-30          M  VISAKHAPATNAM   \n",
       "1048566      T1048567   C8337524  1984-05-03          M           PUNE   \n",
       "\n",
       "         CustAccountBalance TransactionDate TransactionTime  \\\n",
       "0                  17819.05      2016-02-08        14:32:07   \n",
       "1                   2270.69      2016-02-08        14:18:58   \n",
       "2                  17874.44      2016-02-08        14:27:12   \n",
       "3                 866503.21      2016-02-08        14:27:14   \n",
       "4                   6714.43      2016-02-08        18:11:56   \n",
       "...                     ...             ...             ...   \n",
       "1048562             7635.19      2016-09-18        18:48:24   \n",
       "1048563            27311.42      2016-09-18        18:37:34   \n",
       "1048564           221757.06      2016-09-18        18:33:13   \n",
       "1048565            10117.87      2016-09-18        18:47:06   \n",
       "1048566            75734.42      2016-09-18        18:12:22   \n",
       "\n",
       "         TransactionAmount (INR)  \n",
       "0                           25.0  \n",
       "1                        27999.0  \n",
       "2                          459.0  \n",
       "3                         2060.0  \n",
       "4                         1762.5  \n",
       "...                          ...  \n",
       "1048562                    799.0  \n",
       "1048563                    460.0  \n",
       "1048564                    770.0  \n",
       "1048565                   1000.0  \n",
       "1048566                   1166.0  \n",
       "\n",
       "[985322 rows x 9 columns]"
      ]
     },
     "execution_count": 33,
     "metadata": {},
     "output_type": "execute_result"
    }
   ],
   "source": [
    "newdata"
   ]
  },
  {
   "cell_type": "code",
   "execution_count": null,
   "metadata": {
    "id": "Z5eHOaEQ4GMn",
    "outputId": "7b2ccb14-531b-4c5b-ffda-a8a50a7c589d"
   },
   "outputs": [
    {
     "data": {
      "text/plain": [
       "TransactionID              0\n",
       "CustomerID                 0\n",
       "CustomerDOB                0\n",
       "CustGender                 0\n",
       "CustLocation               0\n",
       "CustAccountBalance         0\n",
       "TransactionDate            0\n",
       "TransactionTime            0\n",
       "TransactionAmount (INR)    0\n",
       "dtype: int64"
      ]
     },
     "execution_count": 206,
     "metadata": {},
     "output_type": "execute_result"
    }
   ],
   "source": [
    "newdata.isna().sum()"
   ]
  },
  {
   "cell_type": "code",
   "execution_count": null,
   "metadata": {
    "id": "yK9_vBl74GMn"
   },
   "outputs": [],
   "source": [
    "newdata.index = [x for x in range(len(newdata))]"
   ]
  },
  {
   "cell_type": "markdown",
   "metadata": {
    "id": "AyLhvZjo4GMo"
   },
   "source": [
    "2.2 Sometimes, the features (variables, fields) are not given in a dataset but can be created from it. The previous step is known as feature engineering. For example, the original dataset has several transactions done by the same customer. Then, we suggest you to group data by the client (using CustomerId) and, based on it, create the following new features for each CustomerId:"
   ]
  },
  {
   "cell_type": "markdown",
   "metadata": {
    "id": "0n4YRIMU4GMo"
   },
   "source": [
    "####   a) Number of transactions"
   ]
  },
  {
   "cell_type": "code",
   "execution_count": null,
   "metadata": {
    "id": "--wnitPZ4GMo"
   },
   "outputs": [],
   "source": [
    "newdata[\"NumberTransactions\"] = newdata.groupby('CustomerID')[\"TransactionID\"].transform(\"count\")"
   ]
  },
  {
   "cell_type": "code",
   "execution_count": null,
   "metadata": {
    "id": "DuFKybqK4GMp"
   },
   "outputs": [],
   "source": [
    "newdata2[\"NumberTransactions\"] = newdata.groupby('CustomerID')[\"TransactionID\"].count()"
   ]
  },
  {
   "cell_type": "markdown",
   "metadata": {
    "id": "71y79CIf4GMp"
   },
   "source": [
    "#### b) Number of transactions with a balance bigger than 100 UDS   da fare"
   ]
  },
  {
   "cell_type": "code",
   "execution_count": null,
   "metadata": {
    "id": "mxFBr5LO4GMp"
   },
   "outputs": [],
   "source": [
    "newdata[\"CustAccountBalance (USD)\"] = newdata[\"CustAccountBalance\"] * 0.012244201"
   ]
  },
  {
   "cell_type": "code",
   "execution_count": null,
   "metadata": {
    "id": "bpC3JqYa4GMp"
   },
   "outputs": [],
   "source": [
    "newdata[\"N_trans_bal>100\"] = newdata[newdata[\"CustAccountBalance (USD)\"]>100].groupby('CustomerID')[\"TransactionID\"].transform('count')"
   ]
  },
  {
   "cell_type": "code",
   "execution_count": null,
   "metadata": {
    "id": "Lqm-R5t94GMq"
   },
   "outputs": [],
   "source": [
    "newdata[\"N_trans_bal>100\"].fillna(0, inplace = True)"
   ]
  },
  {
   "cell_type": "markdown",
   "metadata": {
    "id": "HQ23HE5u4GMq"
   },
   "source": [
    "#### c) Average amount of transactions"
   ]
  },
  {
   "cell_type": "code",
   "execution_count": null,
   "metadata": {
    "id": "NkyPjW6G4GMq"
   },
   "outputs": [],
   "source": [
    "newdata[\"AverageAmount (INR)\"] = newdata.groupby('CustomerID')[\"TransactionAmount (INR)\"].transform(\"mean\")"
   ]
  },
  {
   "cell_type": "markdown",
   "metadata": {
    "id": "xkYO54Tw4GMr"
   },
   "source": [
    "#### d) Average Balance"
   ]
  },
  {
   "cell_type": "code",
   "execution_count": null,
   "metadata": {
    "id": "TF9XZIeB4GMr"
   },
   "outputs": [],
   "source": [
    "newdata[\"AverageBalance (INR)\"] = newdata.groupby('CustomerID')[\"CustAccountBalance\"].transform(\"mean\")"
   ]
  },
  {
   "cell_type": "markdown",
   "metadata": {
    "id": "Y1JPhGcM4GMr"
   },
   "source": [
    "#### e) Average difference between the balance and the transaction amount for each customer (this is mainly known in the banking world as    utilisation)."
   ]
  },
  {
   "cell_type": "code",
   "execution_count": null,
   "metadata": {
    "id": "qGa9htEI4GMs"
   },
   "outputs": [],
   "source": [
    "newdata[\"Utilization\"] = newdata[\"AverageBalance (INR)\"] - newdata[\"AverageAmount (INR)\"]"
   ]
  },
  {
   "cell_type": "markdown",
   "metadata": {
    "id": "CWW10X6F4GMs"
   },
   "source": [
    "#### f) Most common gender of the customer"
   ]
  },
  {
   "cell_type": "code",
   "execution_count": null,
   "metadata": {
    "id": "7g6CPIEg4GMs"
   },
   "outputs": [],
   "source": [
    "result = newdata.groupby(['CustomerID'])['CustGender'].agg(pd.Series.mode)"
   ]
  },
  {
   "cell_type": "code",
   "execution_count": null,
   "metadata": {
    "id": "TNxAFL4s4GMs"
   },
   "outputs": [],
   "source": [
    "newdata[\"MostCommonGender\"] = \"NA\""
   ]
  },
  {
   "cell_type": "code",
   "execution_count": null,
   "metadata": {
    "id": "-KSHkLnQ4GMt",
    "tags": []
   },
   "outputs": [],
   "source": [
    "newdata['MostCommonGender'] = newdata.CustomerID.apply(lambda x: result[x])"
   ]
  },
  {
   "cell_type": "markdown",
   "metadata": {
    "id": "_rVXDQhu4GMt"
   },
   "source": [
    "#### g) Most frequent location of the customer"
   ]
  },
  {
   "cell_type": "code",
   "execution_count": null,
   "metadata": {
    "id": "I2U1FlS04GMt"
   },
   "outputs": [],
   "source": [
    "result2 = newdata.groupby(['CustomerID'])['CustLocation'].agg(pd.Series.mode)"
   ]
  },
  {
   "cell_type": "code",
   "execution_count": null,
   "metadata": {
    "id": "p5_4xHEF4GMu"
   },
   "outputs": [],
   "source": [
    "newdata[\"MostFreqLocation\"] = \"NA\""
   ]
  },
  {
   "cell_type": "code",
   "execution_count": null,
   "metadata": {
    "id": "HLUcS4i44GMu"
   },
   "outputs": [],
   "source": [
    "newdata[\"MostFreqLocation\"] = newdata.CustomerID.apply(lambda x: result2[x])"
   ]
  },
  {
   "cell_type": "markdown",
   "metadata": {
    "id": "WZO-kfu34GMu"
   },
   "source": [
    "2.1.3 Consider at least 20 additional features that can be generated for each CustomerId. Describe each of them and why you believe they will be helpful. Moreover, add it to the previous dataset (the one with seven features)."
   ]
  },
  {
   "cell_type": "markdown",
   "metadata": {
    "id": "KxdHtXZ74GMu"
   },
   "source": [
    "####  TransactionAmount (USD)"
   ]
  },
  {
   "cell_type": "markdown",
   "metadata": {},
   "source": [
    "One of the previous questions involved constructing a variable based on currency conversion to dollars. Therefore, we thought of transaction amount conversion,to facilitate its interpretation as well."
   ]
  },
  {
   "cell_type": "code",
   "execution_count": null,
   "metadata": {
    "id": "C3Mm-VYy4GMv"
   },
   "outputs": [],
   "source": [
    "newdata[\"TransactionAmount (USD)\"] = newdata[\"TransactionAmount (INR)\"] * 0.012244201 "
   ]
  },
  {
   "cell_type": "markdown",
   "metadata": {
    "id": "5HAwNVDG4GMv"
   },
   "source": [
    "#### AverageAmount (USD)"
   ]
  },
  {
   "cell_type": "markdown",
   "metadata": {},
   "source": [
    "We thought the same as average amount of transaction."
   ]
  },
  {
   "cell_type": "code",
   "execution_count": null,
   "metadata": {
    "id": "VMff5QFj4GMv"
   },
   "outputs": [],
   "source": [
    "newdata[\"AverageAmount (USD)\"] = newdata.groupby('CustomerID')[\"TransactionAmount (USD)\"].transform(\"mean\")  "
   ]
  },
  {
   "cell_type": "markdown",
   "metadata": {
    "id": "52Z8UTrN4GMw"
   },
   "source": [
    "#### CustAccountBalance (USD)"
   ]
  },
  {
   "cell_type": "markdown",
   "metadata": {},
   "source": [
    "The same coversion in dollars applied before."
   ]
  },
  {
   "cell_type": "code",
   "execution_count": null,
   "metadata": {
    "id": "eiSQGEUW4GMw"
   },
   "outputs": [],
   "source": [
    "newdata[\"CustAccountBalance (USD)\"] = newdata[\"CustAccountBalance\"] * 0.012244201"
   ]
  },
  {
   "cell_type": "markdown",
   "metadata": {
    "id": "8AL2js_-4GMw"
   },
   "source": [
    "#### AverageBalance (USD)"
   ]
  },
  {
   "cell_type": "markdown",
   "metadata": {},
   "source": [
    "The same conversion in dollars applied before."
   ]
  },
  {
   "cell_type": "code",
   "execution_count": null,
   "metadata": {
    "id": "5yUZYJIV4GMw"
   },
   "outputs": [],
   "source": [
    "newdata[\"AverageBalance (USD)\"] = newdata[\"AverageBalance (INR)\"] * 0.012244201"
   ]
  },
  {
   "cell_type": "markdown",
   "metadata": {
    "id": "dISI-dt74GMx"
   },
   "source": [
    "#### MaxAmountTrans (USD)"
   ]
  },
  {
   "cell_type": "markdown",
   "metadata": {},
   "source": [
    "It may be useful to identify what is the maximum transaction amount for each customer id, perhaps to come up with some sort of promotion based on transaction size."
   ]
  },
  {
   "cell_type": "code",
   "execution_count": null,
   "metadata": {
    "id": "OcUMm0Yk4GMx"
   },
   "outputs": [],
   "source": [
    "newdata[\"MaxAmountTrans (USD)\"] = newdata.groupby('CustomerID')[\"TransactionAmount (USD)\"].transform(\"max\")  "
   ]
  },
  {
   "cell_type": "markdown",
   "metadata": {
    "id": "7GADN6Sd4GMx"
   },
   "source": [
    "#### MinAmountTrans (USD)"
   ]
  },
  {
   "cell_type": "markdown",
   "metadata": {},
   "source": [
    "It may be useful to identify what the minimum transaction amount is for each customer id, perhaps to understand whether to change the minimum transaction threshold. In addition, if there are a lot of transactions with a very low minimum it might make sense to develop a system to authorize very low transactions without the need to enter a code, again of course at the user's choice."
   ]
  },
  {
   "cell_type": "code",
   "execution_count": null,
   "metadata": {
    "id": "wKP8XjQ74GMx"
   },
   "outputs": [],
   "source": [
    "newdata[\"MinAmountTrans (USD)\"] = newdata.groupby('CustomerID')[\"TransactionAmount (USD)\"].transform(\"min\") "
   ]
  },
  {
   "cell_type": "markdown",
   "metadata": {
    "id": "PiLNOt5f4GMy"
   },
   "source": [
    "#### MaxBalance (USD)"
   ]
  },
  {
   "cell_type": "markdown",
   "metadata": {},
   "source": [
    "We want to see what the maximum budget is for each customer id, so we can understand whether this customer plays an important role for the bank."
   ]
  },
  {
   "cell_type": "code",
   "execution_count": null,
   "metadata": {
    "id": "F2EQdz_g4GM3"
   },
   "outputs": [],
   "source": [
    "newdata[\"MaxBalance (USD)\"] = newdata.groupby('CustomerID')[\"CustAccountBalance (USD)\"].transform(\"max\") "
   ]
  },
  {
   "cell_type": "markdown",
   "metadata": {
    "id": "jq21-_-44GM5"
   },
   "source": [
    "#### MinBalance (USD)"
   ]
  },
  {
   "cell_type": "markdown",
   "metadata": {},
   "source": [
    "We want to see what the minimum balance is for each customer id, so that we can understand if there are customers with a really low amount in the account, maybe it might make sense to offer them how much facilitation to push them to deposit with the bank larger amounts, should they have."
   ]
  },
  {
   "cell_type": "code",
   "execution_count": null,
   "metadata": {
    "id": "s1YPjAiR4GM5"
   },
   "outputs": [],
   "source": [
    "newdata[\"MinBalance (USD)\"] = newdata.groupby('CustomerID')[\"CustAccountBalance (USD)\"].transform(\"min\") "
   ]
  },
  {
   "cell_type": "markdown",
   "metadata": {
    "id": "UQ6UJiyA4GM6"
   },
   "source": [
    "#### CustomerAge"
   ]
  },
  {
   "cell_type": "markdown",
   "metadata": {},
   "source": [
    "We have to use it to build AverageCustomerAge to know the mean of the ages among all customers that have the same CustomerID."
   ]
  },
  {
   "cell_type": "code",
   "execution_count": null,
   "metadata": {
    "id": "Etscp28Y4GM6"
   },
   "outputs": [],
   "source": [
    "newdata['CustomerAge'] = ((pd.to_datetime('today')-newdata.CustomerDOB)/np.timedelta64(1,'Y')).round(0)\n",
    "newdata['CustomerAge'] = newdata['CustomerAge'].astype(int)"
   ]
  },
  {
   "cell_type": "markdown",
   "metadata": {
    "id": "Yj9ICIkU4GM7"
   },
   "source": [
    "#### NumberMorningTransactions"
   ]
  },
  {
   "cell_type": "markdown",
   "metadata": {},
   "source": [
    "This is the number of transactions made by each CustomerID between 06:00:00 and 12:00:00."
   ]
  },
  {
   "cell_type": "code",
   "execution_count": null,
   "metadata": {
    "id": "3R9qysl84GM7"
   },
   "outputs": [],
   "source": [
    "newdata[\"N_morningTransactions\"] = newdata[(newdata[\"TransactionTime\"] >= datetime.strptime(\"06:00:00\", '%H:%M:%S').time()) & (newdata[\"TransactionTime\"] < datetime.strptime(\"12:00:00\", '%H:%M:%S').time())].groupby('CustomerID')[\"TransactionID\"].transform('count')"
   ]
  },
  {
   "cell_type": "code",
   "execution_count": null,
   "metadata": {
    "id": "KklSW2f94GM7"
   },
   "outputs": [],
   "source": [
    "newdata[\"N_morningTransactions\"].fillna(0, inplace = True)"
   ]
  },
  {
   "cell_type": "markdown",
   "metadata": {
    "id": "MGG6uGrB4GM7"
   },
   "source": [
    "#### NumberAfternoonTransaction"
   ]
  },
  {
   "cell_type": "markdown",
   "metadata": {},
   "source": [
    "This is the number of transactions made by each CustomerID between 12:00:00 and 18:00:00."
   ]
  },
  {
   "cell_type": "code",
   "execution_count": null,
   "metadata": {
    "id": "EdK1_i1N4GM7"
   },
   "outputs": [],
   "source": [
    "newdata[\"N_afternoonTransactions\"] = newdata[(newdata[\"TransactionTime\"] >= datetime.strptime(\"12:00:00\", '%H:%M:%S').time()) & (newdata[\"TransactionTime\"] < datetime.strptime(\"18:00:00\", '%H:%M:%S').time())].groupby('CustomerID')[\"TransactionID\"].transform('count')"
   ]
  },
  {
   "cell_type": "code",
   "execution_count": null,
   "metadata": {
    "id": "tHUdE_P94GM8"
   },
   "outputs": [],
   "source": [
    "newdata[\"N_afternoonTransactions\"].fillna(0, inplace = True)"
   ]
  },
  {
   "cell_type": "markdown",
   "metadata": {
    "id": "hYnnMAc64GM8"
   },
   "source": [
    "#### NumberEveningTransaction"
   ]
  },
  {
   "cell_type": "markdown",
   "metadata": {},
   "source": [
    "This is the number of transactions made by each CustomerID between 18:00:00 and 23:59:59."
   ]
  },
  {
   "cell_type": "code",
   "execution_count": null,
   "metadata": {
    "id": "DQG3_uhV4GM8"
   },
   "outputs": [],
   "source": [
    "newdata[\"N_eveningTransactions\"] = newdata[(newdata[\"TransactionTime\"] >= datetime.strptime(\"18:00:00\", '%H:%M:%S').time()) & (newdata[\"TransactionTime\"] <= datetime.strptime(\"23:59:59\", '%H:%M:%S').time())].groupby('CustomerID')[\"TransactionID\"].transform('count')"
   ]
  },
  {
   "cell_type": "code",
   "execution_count": null,
   "metadata": {
    "id": "lJLVXXJX4GM8"
   },
   "outputs": [],
   "source": [
    "newdata[\"N_eveningTransactions\"].fillna(0, inplace = True)"
   ]
  },
  {
   "cell_type": "markdown",
   "metadata": {
    "id": "iGeIrmbW4GM9"
   },
   "source": [
    "#### NumberNigthTransaction"
   ]
  },
  {
   "cell_type": "markdown",
   "metadata": {},
   "source": [
    "This is the number of transactions made by each CustomerID between 00:00:00 and 06:00:00."
   ]
  },
  {
   "cell_type": "code",
   "execution_count": null,
   "metadata": {
    "id": "GgnRkYeJ4GM9"
   },
   "outputs": [],
   "source": [
    "newdata[\"N_nigthTransactions\"] = newdata[(newdata[\"TransactionTime\"] >= datetime.strptime(\"00:00:00\", '%H:%M:%S').time()) & (newdata[\"TransactionTime\"] < datetime.strptime(\"06:00:00\", '%H:%M:%S').time())].groupby('CustomerID')[\"TransactionID\"].transform('count')"
   ]
  },
  {
   "cell_type": "code",
   "execution_count": null,
   "metadata": {
    "id": "trps9ZpE4GM9"
   },
   "outputs": [],
   "source": [
    "newdata[\"N_nigthTransactions\"].fillna(0, inplace = True)"
   ]
  },
  {
   "cell_type": "markdown",
   "metadata": {
    "id": "gP6vUAco4GM9"
   },
   "source": [
    "#### Amount percentage of Balance (USD)"
   ]
  },
  {
   "cell_type": "markdown",
   "metadata": {},
   "source": [
    "This represents the percentage of each transaction amount on the total own balance. This variable will help to understand which transactions are large, not relative to the amount, but relative to the total."
   ]
  },
  {
   "cell_type": "code",
   "execution_count": null,
   "metadata": {
    "id": "BjuIkKZP4GM9"
   },
   "outputs": [],
   "source": [
    "newdata['Amount_percentage_of_Balance (USD)'] = newdata['TransactionAmount (USD)'] / newdata['CustAccountBalance (USD)']*100 "
   ]
  },
  {
   "cell_type": "markdown",
   "metadata": {
    "id": "ArLtdVvh4GM-"
   },
   "source": [
    "#### Number of Negative Transaction"
   ]
  },
  {
   "cell_type": "markdown",
   "metadata": {},
   "source": [
    "We are interested in knowing the number of transactions that lead to a negative balance situation. In this way we can find out which consumers are going into negative balance the most."
   ]
  },
  {
   "cell_type": "code",
   "execution_count": null,
   "metadata": {
    "id": "avRvPqAT4GM-"
   },
   "outputs": [],
   "source": [
    "newdata[\"NumberNegativeTransaction\"] = newdata[newdata[\"TransactionAmount (INR)\"]>newdata[\"CustAccountBalance\"]].groupby('CustomerID')[\"TransactionID\"].transform('count')"
   ]
  },
  {
   "cell_type": "code",
   "execution_count": null,
   "metadata": {
    "id": "n60m8oWV4GM-"
   },
   "outputs": [],
   "source": [
    "newdata[\"NumberNegativeTransaction\"].fillna(0, inplace = True)"
   ]
  },
  {
   "cell_type": "markdown",
   "metadata": {
    "id": "psPFdSXX4GM_"
   },
   "source": [
    "#### Number of Transaction > Half Balance"
   ]
  },
  {
   "cell_type": "markdown",
   "metadata": {},
   "source": [
    "Using this variable we know the number of really very large transactions, even more than half of one's balance."
   ]
  },
  {
   "cell_type": "code",
   "execution_count": null,
   "metadata": {
    "id": "Ylp5lsju4GM_"
   },
   "outputs": [],
   "source": [
    "newdata[\"NTransaction>HalfBalance\"] = newdata[newdata[\"TransactionAmount (INR)\"]>(newdata[\"CustAccountBalance\"]/2)].groupby('CustomerID')[\"TransactionID\"].transform('count')"
   ]
  },
  {
   "cell_type": "code",
   "execution_count": null,
   "metadata": {
    "id": "Fi-1fTRP4GM_"
   },
   "outputs": [],
   "source": [
    "newdata[\"NTransaction>HalfBalance\"].fillna(0, inplace = True)"
   ]
  },
  {
   "cell_type": "markdown",
   "metadata": {
    "id": "kQFgXFvv4GNA"
   },
   "source": [
    "#### Recency\n",
    "\n",
    "The recency factor is based on the notion that the more recently a customer has made a purchase with a company, the more likely they will continue to keep the business and brand in mind for subsequent purchases. This information can be used to remind recent customers to revisit the business soon to continue meeting their purchase needs."
   ]
  },
  {
   "cell_type": "code",
   "execution_count": null,
   "metadata": {
    "id": "uihvNCdh4GNA"
   },
   "outputs": [],
   "source": [
    "newdata['DaysSinceTransaction'] = (pd.to_datetime('today') - newdata['TransactionDate'])/np.timedelta64(1, 'D')\n",
    "newdata['DaysSinceTransaction'] = newdata['DaysSinceTransaction'] - newdata['DaysSinceTransaction'].min()"
   ]
  },
  {
   "cell_type": "code",
   "execution_count": null,
   "metadata": {
    "id": "BMIJ3pms4GNA"
   },
   "outputs": [],
   "source": [
    "newdata = newdata.rename(columns = {'DaysSinceTransaction' : 'Recency'})"
   ]
  },
  {
   "cell_type": "markdown",
   "metadata": {
    "id": "TH315BjP4GNB"
   },
   "source": [
    "#### Number of Transactions bigger than 1/10 of the balance"
   ]
  },
  {
   "cell_type": "markdown",
   "metadata": {},
   "source": [
    "Another treshold to compute the number of transactions."
   ]
  },
  {
   "cell_type": "code",
   "execution_count": null,
   "metadata": {
    "id": "M6blfJZP4GNB"
   },
   "outputs": [],
   "source": [
    "newdata[\"N_trans_>one_tenth_bal\"] = newdata[newdata[\"TransactionAmount (USD)\"]> (newdata[\"CustAccountBalance (USD)\"])/10].groupby('CustomerID')[\"TransactionID\"].transform('count')"
   ]
  },
  {
   "cell_type": "code",
   "execution_count": null,
   "metadata": {
    "id": "9PWoPRfh4GNB"
   },
   "outputs": [],
   "source": [
    "newdata[\"N_trans_>one_tenth_bal\"].fillna(0,inplace = True)"
   ]
  },
  {
   "cell_type": "markdown",
   "metadata": {
    "id": "G2VY8vX34GNC"
   },
   "source": [
    "#### Date of First Transaction\n",
    "\n",
    "We create a new feature that contains for each CustomerID the date of the first transaction. It can be useful to recognize the accounts that have been in operation the longest."
   ]
  },
  {
   "cell_type": "code",
   "execution_count": null,
   "metadata": {
    "id": "h1Bl9mhL4GNC"
   },
   "outputs": [],
   "source": [
    "newdata['DateFirstTransaction'] = newdata.groupby(\"CustomerID\")[\"TransactionDate\"].transform(\"min\")"
   ]
  },
  {
   "cell_type": "markdown",
   "metadata": {
    "id": "cZ84jgaP4GND"
   },
   "source": [
    "#### MedianAmount (USD)"
   ]
  },
  {
   "cell_type": "code",
   "execution_count": null,
   "metadata": {
    "id": "9echqsbD4GND"
   },
   "outputs": [],
   "source": [
    "newdata[\"MedianAmount (USD)\"] = newdata.groupby('CustomerID')[\"TransactionAmount (USD)\"].transform(\"median\") "
   ]
  },
  {
   "cell_type": "markdown",
   "metadata": {
    "id": "VZ0SNFSA4GND"
   },
   "source": [
    "#### VarianceAmount "
   ]
  },
  {
   "cell_type": "code",
   "execution_count": null,
   "metadata": {
    "id": "zq7v38FY4GND"
   },
   "outputs": [],
   "source": [
    "newdata[\"VarianceAmount (USD)\"] = newdata.groupby('CustomerID')[\"TransactionAmount (USD)\"].transform(\"var\") \n",
    "newdata[\"VarianceAmount (USD)\"].fillna(0, inplace = True)"
   ]
  },
  {
   "cell_type": "markdown",
   "metadata": {
    "id": "lkWTOEq04GNE"
   },
   "source": [
    "#### MedianBalance (USD)"
   ]
  },
  {
   "cell_type": "code",
   "execution_count": null,
   "metadata": {
    "id": "iq9vOMq64GNE"
   },
   "outputs": [],
   "source": [
    "newdata[\"MedianBalance (USD)\"] = newdata.groupby('CustomerID')[\"CustAccountBalance (USD)\"].transform(\"median\") "
   ]
  },
  {
   "cell_type": "markdown",
   "metadata": {
    "id": "5h89eUYx4GNE"
   },
   "source": [
    "#### VarianceBalance "
   ]
  },
  {
   "cell_type": "code",
   "execution_count": null,
   "metadata": {
    "id": "F7j0E2Nd4GNE"
   },
   "outputs": [],
   "source": [
    "newdata[\"VarianceBalance\"] = newdata.groupby('CustomerID')[\"CustAccountBalance (USD)\"].transform(\"var\") \n",
    "newdata[\"VarianceBalance\"].fillna(0, inplace = True)"
   ]
  },
  {
   "cell_type": "markdown",
   "metadata": {
    "id": "99kU1hL74GNF"
   },
   "source": [
    "#### AverageRecency"
   ]
  },
  {
   "cell_type": "markdown",
   "metadata": {},
   "source": [
    "We use the variable we constructed earlier inherent to all transactions to construct a new variable that can be descriptive for each CustomerID. We then proceed by averaging for each CustomerID the Recency variable."
   ]
  },
  {
   "cell_type": "code",
   "execution_count": null,
   "metadata": {
    "id": "KcVxpMUi4GNG"
   },
   "outputs": [],
   "source": [
    "newdata[\"AverageRecency\"] = newdata.groupby('CustomerID')[\"Recency\"].transform(\"mean\")  "
   ]
  },
  {
   "cell_type": "markdown",
   "metadata": {
    "id": "IweHV0Zg4GNG"
   },
   "source": [
    "#### AverageCustomerAge"
   ]
  },
  {
   "cell_type": "code",
   "execution_count": null,
   "metadata": {
    "id": "Yvb2xDTN4GNG"
   },
   "outputs": [],
   "source": [
    "newdata[\"AverageCustomerAge\"] = newdata.groupby('CustomerID')[\"CustomerAge\"].transform(\"mean\")  "
   ]
  },
  {
   "cell_type": "markdown",
   "metadata": {
    "id": "Hig8awtm4GNG"
   },
   "source": [
    "#### MedianCustomerAge"
   ]
  },
  {
   "cell_type": "code",
   "execution_count": null,
   "metadata": {
    "id": "yXMrDbT54GNH"
   },
   "outputs": [],
   "source": [
    "newdata[\"MedianCustomerAge\"] = newdata.groupby('CustomerID')[\"CustomerAge\"].transform(\"median\")  "
   ]
  },
  {
   "cell_type": "markdown",
   "metadata": {
    "id": "PYOQwJDy4GNH"
   },
   "source": [
    "#### VarianceCustomerAge"
   ]
  },
  {
   "cell_type": "code",
   "execution_count": null,
   "metadata": {
    "id": "OkT2hVy84GNH"
   },
   "outputs": [],
   "source": [
    "newdata[\"VarianceCustomerAge\"] = newdata.groupby('CustomerID')[\"CustomerAge\"].transform(\"var\")  \n",
    "newdata[\"VarianceCustomerAge\"].fillna(0, inplace = True)"
   ]
  },
  {
   "cell_type": "markdown",
   "metadata": {
    "id": "0wLB9iM_4GNI"
   },
   "source": [
    "We reached a number of  features (27 suggested by us + 7 recommended)."
   ]
  },
  {
   "cell_type": "markdown",
   "metadata": {},
   "source": [
    "For the next exercize we will need only the features created grouping by the CustomerID, so we have to drop the others."
   ]
  },
  {
   "cell_type": "code",
   "execution_count": null,
   "metadata": {
    "id": "hcTVBrjO4GNI"
   },
   "outputs": [],
   "source": [
    "newdata2 = newdata.drop(['CustAccountBalance (USD)', 'TransactionAmount (USD)', 'CustomerAge', 'Amount_percentage_of_Balance (USD)', 'Recency'], axis = 1)"
   ]
  },
  {
   "cell_type": "code",
   "execution_count": 95,
   "metadata": {
    "id": "FYcHAP-i4GNI",
    "outputId": "a93dd7d3-3171-4c7f-f241-2eccccf6cd04"
   },
   "outputs": [
    {
     "data": {
      "text/plain": [
       "Index(['TransactionID', 'CustomerID', 'CustomerDOB', 'CustGender',\n",
       "       'CustLocation', 'CustAccountBalance', 'TransactionDate',\n",
       "       'TransactionTime', 'TransactionAmount (INR)', 'NumberTransactions',\n",
       "       'N_trans_bal>100', 'AverageAmount (INR)', 'AverageBalance (INR)',\n",
       "       'Utilization', 'MostCommonGender', 'MostFreqLocation',\n",
       "       'AverageAmount (USD)', 'AverageBalance (USD)', 'MaxAmountTrans (USD)',\n",
       "       'MinAmountTrans (USD)', 'MaxBalance (USD)', 'MinBalance (USD)',\n",
       "       'N_morningTransactions', 'N_afternoonTransactions',\n",
       "       'N_eveningTransactions', 'N_nigthTransactions',\n",
       "       'NumberNegativeTransaction', 'NTransaction>HalfBalance',\n",
       "       'N_trans_>one_tenth_bal', 'DateFirstTransaction', 'MedianAmount (USD)',\n",
       "       'VarianceAmount (USD)', 'MedianBalance (USD)', 'VarianceBalance',\n",
       "       'AverageRecency', 'AverageCustomerAge', 'MedianCustomerAge',\n",
       "       'VarianceCustomerAge'],\n",
       "      dtype='object')"
      ]
     },
     "execution_count": 95,
     "metadata": {},
     "output_type": "execute_result"
    }
   ],
   "source": [
    "newdata2.columns"
   ]
  },
  {
   "cell_type": "code",
   "execution_count": 96,
   "metadata": {
    "id": "iUkIaSBJ4GNJ",
    "outputId": "7b574745-cbb0-4a6f-f014-78b7e8dbc34d"
   },
   "outputs": [
    {
     "name": "stdout",
     "output_type": "stream",
     "text": [
      "The total number of columns of the dataframe is: 38\n"
     ]
    }
   ],
   "source": [
    "print(\"The total number of columns of the dataframe is:\" , newdata2.shape[1])"
   ]
  },
  {
   "cell_type": "markdown",
   "metadata": {
    "id": "R4Wx3IaW4GNJ"
   },
   "source": [
    "Now we want to create the new dataframe composed only by the features created using the goupby on CustomerID."
   ]
  },
  {
   "cell_type": "code",
   "execution_count": null,
   "metadata": {
    "id": "vSqXv5pL4GNJ"
   },
   "outputs": [],
   "source": [
    "newdata2.to_pickle('newdata_eng2.pkl')"
   ]
  },
  {
   "cell_type": "code",
   "execution_count": 97,
   "metadata": {
    "id": "Hco22SJU4GNJ"
   },
   "outputs": [],
   "source": [
    "newdata2 = pd.read_pickle('newdata_eng2.pkl')"
   ]
  },
  {
   "cell_type": "code",
   "execution_count": 98,
   "metadata": {
    "id": "-WIeQhXz4GNK",
    "outputId": "83357155-d7b9-47ea-c0ec-e332fa9b2ba7"
   },
   "outputs": [
    {
     "data": {
      "text/html": [
       "<div>\n",
       "<style scoped>\n",
       "    .dataframe tbody tr th:only-of-type {\n",
       "        vertical-align: middle;\n",
       "    }\n",
       "\n",
       "    .dataframe tbody tr th {\n",
       "        vertical-align: top;\n",
       "    }\n",
       "\n",
       "    .dataframe thead th {\n",
       "        text-align: right;\n",
       "    }\n",
       "</style>\n",
       "<table border=\"1\" class=\"dataframe\">\n",
       "  <thead>\n",
       "    <tr style=\"text-align: right;\">\n",
       "      <th></th>\n",
       "      <th>TransactionID</th>\n",
       "      <th>CustomerID</th>\n",
       "      <th>CustomerDOB</th>\n",
       "      <th>CustGender</th>\n",
       "      <th>CustLocation</th>\n",
       "      <th>CustAccountBalance</th>\n",
       "      <th>TransactionDate</th>\n",
       "      <th>TransactionTime</th>\n",
       "      <th>TransactionAmount (INR)</th>\n",
       "      <th>NumberTransactions</th>\n",
       "      <th>...</th>\n",
       "      <th>N_trans_&gt;one_tenth_bal</th>\n",
       "      <th>DateFirstTransaction</th>\n",
       "      <th>MedianAmount (USD)</th>\n",
       "      <th>VarianceAmount (USD)</th>\n",
       "      <th>MedianBalance (USD)</th>\n",
       "      <th>VarianceBalance</th>\n",
       "      <th>AverageRecency</th>\n",
       "      <th>AverageCustomerAge</th>\n",
       "      <th>MedianCustomerAge</th>\n",
       "      <th>VarianceCustomerAge</th>\n",
       "    </tr>\n",
       "  </thead>\n",
       "  <tbody>\n",
       "    <tr>\n",
       "      <th>0</th>\n",
       "      <td>T1</td>\n",
       "      <td>C5841053</td>\n",
       "      <td>1994-10-01</td>\n",
       "      <td>F</td>\n",
       "      <td>JAMSHEDPUR</td>\n",
       "      <td>17819.05</td>\n",
       "      <td>2016-02-08</td>\n",
       "      <td>14:32:07</td>\n",
       "      <td>25.0</td>\n",
       "      <td>1</td>\n",
       "      <td>...</td>\n",
       "      <td>0.0</td>\n",
       "      <td>2016-02-08</td>\n",
       "      <td>0.306105</td>\n",
       "      <td>0.000000</td>\n",
       "      <td>218.180030</td>\n",
       "      <td>0.000000e+00</td>\n",
       "      <td>305.0</td>\n",
       "      <td>28.0</td>\n",
       "      <td>28.0</td>\n",
       "      <td>0.0</td>\n",
       "    </tr>\n",
       "    <tr>\n",
       "      <th>1</th>\n",
       "      <td>T2</td>\n",
       "      <td>C2142763</td>\n",
       "      <td>1957-04-04</td>\n",
       "      <td>M</td>\n",
       "      <td>JHAJJAR</td>\n",
       "      <td>2270.69</td>\n",
       "      <td>2016-02-08</td>\n",
       "      <td>14:18:58</td>\n",
       "      <td>27999.0</td>\n",
       "      <td>1</td>\n",
       "      <td>...</td>\n",
       "      <td>1.0</td>\n",
       "      <td>2016-02-08</td>\n",
       "      <td>342.825384</td>\n",
       "      <td>0.000000</td>\n",
       "      <td>27.802785</td>\n",
       "      <td>0.000000e+00</td>\n",
       "      <td>305.0</td>\n",
       "      <td>66.0</td>\n",
       "      <td>66.0</td>\n",
       "      <td>0.0</td>\n",
       "    </tr>\n",
       "    <tr>\n",
       "      <th>2</th>\n",
       "      <td>T3</td>\n",
       "      <td>C4417068</td>\n",
       "      <td>1996-11-26</td>\n",
       "      <td>F</td>\n",
       "      <td>MUMBAI</td>\n",
       "      <td>17874.44</td>\n",
       "      <td>2016-02-08</td>\n",
       "      <td>14:27:12</td>\n",
       "      <td>459.0</td>\n",
       "      <td>1</td>\n",
       "      <td>...</td>\n",
       "      <td>0.0</td>\n",
       "      <td>2016-02-08</td>\n",
       "      <td>5.620088</td>\n",
       "      <td>0.000000</td>\n",
       "      <td>218.858236</td>\n",
       "      <td>0.000000e+00</td>\n",
       "      <td>305.0</td>\n",
       "      <td>26.0</td>\n",
       "      <td>26.0</td>\n",
       "      <td>0.0</td>\n",
       "    </tr>\n",
       "    <tr>\n",
       "      <th>3</th>\n",
       "      <td>T4</td>\n",
       "      <td>C5342380</td>\n",
       "      <td>1973-09-14</td>\n",
       "      <td>F</td>\n",
       "      <td>MUMBAI</td>\n",
       "      <td>866503.21</td>\n",
       "      <td>2016-02-08</td>\n",
       "      <td>14:27:14</td>\n",
       "      <td>2060.0</td>\n",
       "      <td>2</td>\n",
       "      <td>...</td>\n",
       "      <td>0.0</td>\n",
       "      <td>2016-02-08</td>\n",
       "      <td>17.989180</td>\n",
       "      <td>104.657865</td>\n",
       "      <td>5324.384622</td>\n",
       "      <td>5.586784e+07</td>\n",
       "      <td>211.5</td>\n",
       "      <td>46.5</td>\n",
       "      <td>46.5</td>\n",
       "      <td>12.5</td>\n",
       "    </tr>\n",
       "    <tr>\n",
       "      <th>4</th>\n",
       "      <td>T5</td>\n",
       "      <td>C9031234</td>\n",
       "      <td>1988-03-24</td>\n",
       "      <td>F</td>\n",
       "      <td>NAVI MUMBAI</td>\n",
       "      <td>6714.43</td>\n",
       "      <td>2016-02-08</td>\n",
       "      <td>18:11:56</td>\n",
       "      <td>1762.5</td>\n",
       "      <td>1</td>\n",
       "      <td>...</td>\n",
       "      <td>1.0</td>\n",
       "      <td>2016-02-08</td>\n",
       "      <td>21.580404</td>\n",
       "      <td>0.000000</td>\n",
       "      <td>82.212831</td>\n",
       "      <td>0.000000e+00</td>\n",
       "      <td>305.0</td>\n",
       "      <td>35.0</td>\n",
       "      <td>35.0</td>\n",
       "      <td>0.0</td>\n",
       "    </tr>\n",
       "    <tr>\n",
       "      <th>...</th>\n",
       "      <td>...</td>\n",
       "      <td>...</td>\n",
       "      <td>...</td>\n",
       "      <td>...</td>\n",
       "      <td>...</td>\n",
       "      <td>...</td>\n",
       "      <td>...</td>\n",
       "      <td>...</td>\n",
       "      <td>...</td>\n",
       "      <td>...</td>\n",
       "      <td>...</td>\n",
       "      <td>...</td>\n",
       "      <td>...</td>\n",
       "      <td>...</td>\n",
       "      <td>...</td>\n",
       "      <td>...</td>\n",
       "      <td>...</td>\n",
       "      <td>...</td>\n",
       "      <td>...</td>\n",
       "      <td>...</td>\n",
       "      <td>...</td>\n",
       "    </tr>\n",
       "    <tr>\n",
       "      <th>985317</th>\n",
       "      <td>T1048563</td>\n",
       "      <td>C8020229</td>\n",
       "      <td>1990-08-04</td>\n",
       "      <td>M</td>\n",
       "      <td>NEW DELHI</td>\n",
       "      <td>7635.19</td>\n",
       "      <td>2016-09-18</td>\n",
       "      <td>18:48:24</td>\n",
       "      <td>799.0</td>\n",
       "      <td>1</td>\n",
       "      <td>...</td>\n",
       "      <td>1.0</td>\n",
       "      <td>2016-09-18</td>\n",
       "      <td>9.783117</td>\n",
       "      <td>0.000000</td>\n",
       "      <td>93.486801</td>\n",
       "      <td>0.000000e+00</td>\n",
       "      <td>82.0</td>\n",
       "      <td>32.0</td>\n",
       "      <td>32.0</td>\n",
       "      <td>0.0</td>\n",
       "    </tr>\n",
       "    <tr>\n",
       "      <th>985318</th>\n",
       "      <td>T1048564</td>\n",
       "      <td>C6459278</td>\n",
       "      <td>1992-02-20</td>\n",
       "      <td>M</td>\n",
       "      <td>NASHIK</td>\n",
       "      <td>27311.42</td>\n",
       "      <td>2016-09-18</td>\n",
       "      <td>18:37:34</td>\n",
       "      <td>460.0</td>\n",
       "      <td>1</td>\n",
       "      <td>...</td>\n",
       "      <td>0.0</td>\n",
       "      <td>2016-09-18</td>\n",
       "      <td>5.632332</td>\n",
       "      <td>0.000000</td>\n",
       "      <td>334.406516</td>\n",
       "      <td>0.000000e+00</td>\n",
       "      <td>82.0</td>\n",
       "      <td>31.0</td>\n",
       "      <td>31.0</td>\n",
       "      <td>0.0</td>\n",
       "    </tr>\n",
       "    <tr>\n",
       "      <th>985319</th>\n",
       "      <td>T1048565</td>\n",
       "      <td>C6412354</td>\n",
       "      <td>1989-05-18</td>\n",
       "      <td>M</td>\n",
       "      <td>HYDERABAD</td>\n",
       "      <td>221757.06</td>\n",
       "      <td>2016-09-18</td>\n",
       "      <td>18:33:13</td>\n",
       "      <td>770.0</td>\n",
       "      <td>2</td>\n",
       "      <td>...</td>\n",
       "      <td>0.0</td>\n",
       "      <td>2016-09-15</td>\n",
       "      <td>5.987414</td>\n",
       "      <td>23.675739</td>\n",
       "      <td>1380.158133</td>\n",
       "      <td>3.564877e+06</td>\n",
       "      <td>83.5</td>\n",
       "      <td>43.5</td>\n",
       "      <td>43.5</td>\n",
       "      <td>180.5</td>\n",
       "    </tr>\n",
       "    <tr>\n",
       "      <th>985320</th>\n",
       "      <td>T1048566</td>\n",
       "      <td>C6420483</td>\n",
       "      <td>1978-08-30</td>\n",
       "      <td>M</td>\n",
       "      <td>VISAKHAPATNAM</td>\n",
       "      <td>10117.87</td>\n",
       "      <td>2016-09-18</td>\n",
       "      <td>18:47:06</td>\n",
       "      <td>1000.0</td>\n",
       "      <td>1</td>\n",
       "      <td>...</td>\n",
       "      <td>0.0</td>\n",
       "      <td>2016-09-18</td>\n",
       "      <td>12.244201</td>\n",
       "      <td>0.000000</td>\n",
       "      <td>123.885234</td>\n",
       "      <td>0.000000e+00</td>\n",
       "      <td>82.0</td>\n",
       "      <td>44.0</td>\n",
       "      <td>44.0</td>\n",
       "      <td>0.0</td>\n",
       "    </tr>\n",
       "    <tr>\n",
       "      <th>985321</th>\n",
       "      <td>T1048567</td>\n",
       "      <td>C8337524</td>\n",
       "      <td>1984-05-03</td>\n",
       "      <td>M</td>\n",
       "      <td>PUNE</td>\n",
       "      <td>75734.42</td>\n",
       "      <td>2016-09-18</td>\n",
       "      <td>18:12:22</td>\n",
       "      <td>1166.0</td>\n",
       "      <td>2</td>\n",
       "      <td>...</td>\n",
       "      <td>0.0</td>\n",
       "      <td>2016-07-09</td>\n",
       "      <td>9.036220</td>\n",
       "      <td>54.926058</td>\n",
       "      <td>583.689939</td>\n",
       "      <td>2.361460e+05</td>\n",
       "      <td>117.5</td>\n",
       "      <td>35.0</td>\n",
       "      <td>35.0</td>\n",
       "      <td>32.0</td>\n",
       "    </tr>\n",
       "  </tbody>\n",
       "</table>\n",
       "<p>985322 rows × 38 columns</p>\n",
       "</div>"
      ],
      "text/plain": [
       "       TransactionID CustomerID CustomerDOB CustGender   CustLocation  \\\n",
       "0                 T1   C5841053  1994-10-01          F     JAMSHEDPUR   \n",
       "1                 T2   C2142763  1957-04-04          M        JHAJJAR   \n",
       "2                 T3   C4417068  1996-11-26          F         MUMBAI   \n",
       "3                 T4   C5342380  1973-09-14          F         MUMBAI   \n",
       "4                 T5   C9031234  1988-03-24          F    NAVI MUMBAI   \n",
       "...              ...        ...         ...        ...            ...   \n",
       "985317      T1048563   C8020229  1990-08-04          M      NEW DELHI   \n",
       "985318      T1048564   C6459278  1992-02-20          M         NASHIK   \n",
       "985319      T1048565   C6412354  1989-05-18          M      HYDERABAD   \n",
       "985320      T1048566   C6420483  1978-08-30          M  VISAKHAPATNAM   \n",
       "985321      T1048567   C8337524  1984-05-03          M           PUNE   \n",
       "\n",
       "        CustAccountBalance TransactionDate TransactionTime  \\\n",
       "0                 17819.05      2016-02-08        14:32:07   \n",
       "1                  2270.69      2016-02-08        14:18:58   \n",
       "2                 17874.44      2016-02-08        14:27:12   \n",
       "3                866503.21      2016-02-08        14:27:14   \n",
       "4                  6714.43      2016-02-08        18:11:56   \n",
       "...                    ...             ...             ...   \n",
       "985317             7635.19      2016-09-18        18:48:24   \n",
       "985318            27311.42      2016-09-18        18:37:34   \n",
       "985319           221757.06      2016-09-18        18:33:13   \n",
       "985320            10117.87      2016-09-18        18:47:06   \n",
       "985321            75734.42      2016-09-18        18:12:22   \n",
       "\n",
       "        TransactionAmount (INR)  NumberTransactions  ...  \\\n",
       "0                          25.0                   1  ...   \n",
       "1                       27999.0                   1  ...   \n",
       "2                         459.0                   1  ...   \n",
       "3                        2060.0                   2  ...   \n",
       "4                        1762.5                   1  ...   \n",
       "...                         ...                 ...  ...   \n",
       "985317                    799.0                   1  ...   \n",
       "985318                    460.0                   1  ...   \n",
       "985319                    770.0                   2  ...   \n",
       "985320                   1000.0                   1  ...   \n",
       "985321                   1166.0                   2  ...   \n",
       "\n",
       "        N_trans_>one_tenth_bal  DateFirstTransaction  MedianAmount (USD)  \\\n",
       "0                          0.0            2016-02-08            0.306105   \n",
       "1                          1.0            2016-02-08          342.825384   \n",
       "2                          0.0            2016-02-08            5.620088   \n",
       "3                          0.0            2016-02-08           17.989180   \n",
       "4                          1.0            2016-02-08           21.580404   \n",
       "...                        ...                   ...                 ...   \n",
       "985317                     1.0            2016-09-18            9.783117   \n",
       "985318                     0.0            2016-09-18            5.632332   \n",
       "985319                     0.0            2016-09-15            5.987414   \n",
       "985320                     0.0            2016-09-18           12.244201   \n",
       "985321                     0.0            2016-07-09            9.036220   \n",
       "\n",
       "        VarianceAmount (USD) MedianBalance (USD) VarianceBalance  \\\n",
       "0                   0.000000          218.180030    0.000000e+00   \n",
       "1                   0.000000           27.802785    0.000000e+00   \n",
       "2                   0.000000          218.858236    0.000000e+00   \n",
       "3                 104.657865         5324.384622    5.586784e+07   \n",
       "4                   0.000000           82.212831    0.000000e+00   \n",
       "...                      ...                 ...             ...   \n",
       "985317              0.000000           93.486801    0.000000e+00   \n",
       "985318              0.000000          334.406516    0.000000e+00   \n",
       "985319             23.675739         1380.158133    3.564877e+06   \n",
       "985320              0.000000          123.885234    0.000000e+00   \n",
       "985321             54.926058          583.689939    2.361460e+05   \n",
       "\n",
       "        AverageRecency  AverageCustomerAge  MedianCustomerAge  \\\n",
       "0                305.0                28.0               28.0   \n",
       "1                305.0                66.0               66.0   \n",
       "2                305.0                26.0               26.0   \n",
       "3                211.5                46.5               46.5   \n",
       "4                305.0                35.0               35.0   \n",
       "...                ...                 ...                ...   \n",
       "985317            82.0                32.0               32.0   \n",
       "985318            82.0                31.0               31.0   \n",
       "985319            83.5                43.5               43.5   \n",
       "985320            82.0                44.0               44.0   \n",
       "985321           117.5                35.0               35.0   \n",
       "\n",
       "        VarianceCustomerAge  \n",
       "0                       0.0  \n",
       "1                       0.0  \n",
       "2                       0.0  \n",
       "3                      12.5  \n",
       "4                       0.0  \n",
       "...                     ...  \n",
       "985317                  0.0  \n",
       "985318                  0.0  \n",
       "985319                180.5  \n",
       "985320                  0.0  \n",
       "985321                 32.0  \n",
       "\n",
       "[985322 rows x 38 columns]"
      ]
     },
     "execution_count": 98,
     "metadata": {},
     "output_type": "execute_result"
    }
   ],
   "source": [
    "newdata2"
   ]
  },
  {
   "cell_type": "code",
   "execution_count": 99,
   "metadata": {
    "id": "_QVIL_tj4GNK"
   },
   "outputs": [],
   "source": [
    "CID_data = newdata2[['CustomerID','NumberTransactions',\n",
    "       'N_trans_bal>100', 'AverageAmount (INR)', 'AverageBalance (INR)',\n",
    "       'Utilization', 'MostCommonGender', 'MostFreqLocation',\n",
    "       'AverageAmount (USD)', 'AverageBalance (USD)', 'MaxAmountTrans (USD)',\n",
    "       'MinAmountTrans (USD)', 'MaxBalance (USD)', 'MinBalance (USD)',\n",
    "       'N_morningTransactions', 'N_afternoonTransactions',\n",
    "       'N_eveningTransactions', 'N_nigthTransactions',\n",
    "       'NumberNegativeTransaction', 'NTransaction>HalfBalance',\n",
    "       'N_trans_>one_tenth_bal', 'DateFirstTransaction', 'MedianAmount (USD)',\n",
    "       'VarianceAmount (USD)', 'MedianBalance (USD)', 'VarianceBalance',\n",
    "       'AverageRecency', 'AverageCustomerAge', 'MedianCustomerAge',\n",
    "       'VarianceCustomerAge']]"
   ]
  },
  {
   "cell_type": "markdown",
   "metadata": {
    "id": "m35O6DE24GNK"
   },
   "source": [
    "We selected only the featured created by us grouping on the CustomerID, 7 recommended + 23 suggested by us."
   ]
  },
  {
   "cell_type": "code",
   "execution_count": 100,
   "metadata": {
    "id": "l3iXVAm74GNK",
    "outputId": "9ead7254-a99f-4f62-f5bd-a044655559ed"
   },
   "outputs": [
    {
     "data": {
      "text/plain": [
       "(985322, 30)"
      ]
     },
     "execution_count": 100,
     "metadata": {},
     "output_type": "execute_result"
    }
   ],
   "source": [
    "CID_data.shape"
   ]
  },
  {
   "cell_type": "markdown",
   "metadata": {
    "id": "XxpSrh7A4GNL"
   },
   "source": [
    "Since we have grouped by CustomerID we have only to drop the duplicate rows to obtain the new dataset."
   ]
  },
  {
   "cell_type": "code",
   "execution_count": 101,
   "metadata": {
    "id": "jOb2Wwke4GNL"
   },
   "outputs": [],
   "source": [
    "CID_data = CID_data.drop_duplicates(subset = [\"CustomerID\"])"
   ]
  },
  {
   "cell_type": "code",
   "execution_count": 102,
   "metadata": {
    "id": "XBvzk8534GNL"
   },
   "outputs": [],
   "source": [
    "CID_data.index = [x for x in range(len(CID_data))]"
   ]
  },
  {
   "cell_type": "code",
   "execution_count": 103,
   "metadata": {
    "id": "Zz0umHXu4GNL",
    "outputId": "d8c0fb2e-cb69-45ae-9ffa-c6d0d4e4ca29"
   },
   "outputs": [
    {
     "data": {
      "text/html": [
       "<div>\n",
       "<style scoped>\n",
       "    .dataframe tbody tr th:only-of-type {\n",
       "        vertical-align: middle;\n",
       "    }\n",
       "\n",
       "    .dataframe tbody tr th {\n",
       "        vertical-align: top;\n",
       "    }\n",
       "\n",
       "    .dataframe thead th {\n",
       "        text-align: right;\n",
       "    }\n",
       "</style>\n",
       "<table border=\"1\" class=\"dataframe\">\n",
       "  <thead>\n",
       "    <tr style=\"text-align: right;\">\n",
       "      <th></th>\n",
       "      <th>CustomerID</th>\n",
       "      <th>NumberTransactions</th>\n",
       "      <th>N_trans_bal&gt;100</th>\n",
       "      <th>AverageAmount (INR)</th>\n",
       "      <th>AverageBalance (INR)</th>\n",
       "      <th>Utilization</th>\n",
       "      <th>MostCommonGender</th>\n",
       "      <th>MostFreqLocation</th>\n",
       "      <th>AverageAmount (USD)</th>\n",
       "      <th>AverageBalance (USD)</th>\n",
       "      <th>...</th>\n",
       "      <th>N_trans_&gt;one_tenth_bal</th>\n",
       "      <th>DateFirstTransaction</th>\n",
       "      <th>MedianAmount (USD)</th>\n",
       "      <th>VarianceAmount (USD)</th>\n",
       "      <th>MedianBalance (USD)</th>\n",
       "      <th>VarianceBalance</th>\n",
       "      <th>AverageRecency</th>\n",
       "      <th>AverageCustomerAge</th>\n",
       "      <th>MedianCustomerAge</th>\n",
       "      <th>VarianceCustomerAge</th>\n",
       "    </tr>\n",
       "  </thead>\n",
       "  <tbody>\n",
       "    <tr>\n",
       "      <th>0</th>\n",
       "      <td>C5841053</td>\n",
       "      <td>1</td>\n",
       "      <td>1.0</td>\n",
       "      <td>25.0</td>\n",
       "      <td>17819.050</td>\n",
       "      <td>17794.050</td>\n",
       "      <td>F</td>\n",
       "      <td>JAMSHEDPUR</td>\n",
       "      <td>0.306105</td>\n",
       "      <td>218.180030</td>\n",
       "      <td>...</td>\n",
       "      <td>0.0</td>\n",
       "      <td>2016-02-08</td>\n",
       "      <td>0.306105</td>\n",
       "      <td>0.000000</td>\n",
       "      <td>218.180030</td>\n",
       "      <td>0.000000e+00</td>\n",
       "      <td>305.0</td>\n",
       "      <td>28.0</td>\n",
       "      <td>28.0</td>\n",
       "      <td>0.0</td>\n",
       "    </tr>\n",
       "    <tr>\n",
       "      <th>1</th>\n",
       "      <td>C2142763</td>\n",
       "      <td>1</td>\n",
       "      <td>0.0</td>\n",
       "      <td>27999.0</td>\n",
       "      <td>2270.690</td>\n",
       "      <td>-25728.310</td>\n",
       "      <td>M</td>\n",
       "      <td>JHAJJAR</td>\n",
       "      <td>342.825384</td>\n",
       "      <td>27.802785</td>\n",
       "      <td>...</td>\n",
       "      <td>1.0</td>\n",
       "      <td>2016-02-08</td>\n",
       "      <td>342.825384</td>\n",
       "      <td>0.000000</td>\n",
       "      <td>27.802785</td>\n",
       "      <td>0.000000e+00</td>\n",
       "      <td>305.0</td>\n",
       "      <td>66.0</td>\n",
       "      <td>66.0</td>\n",
       "      <td>0.0</td>\n",
       "    </tr>\n",
       "    <tr>\n",
       "      <th>2</th>\n",
       "      <td>C4417068</td>\n",
       "      <td>1</td>\n",
       "      <td>1.0</td>\n",
       "      <td>459.0</td>\n",
       "      <td>17874.440</td>\n",
       "      <td>17415.440</td>\n",
       "      <td>F</td>\n",
       "      <td>MUMBAI</td>\n",
       "      <td>5.620088</td>\n",
       "      <td>218.858236</td>\n",
       "      <td>...</td>\n",
       "      <td>0.0</td>\n",
       "      <td>2016-02-08</td>\n",
       "      <td>5.620088</td>\n",
       "      <td>0.000000</td>\n",
       "      <td>218.858236</td>\n",
       "      <td>0.000000e+00</td>\n",
       "      <td>305.0</td>\n",
       "      <td>26.0</td>\n",
       "      <td>26.0</td>\n",
       "      <td>0.0</td>\n",
       "    </tr>\n",
       "    <tr>\n",
       "      <th>3</th>\n",
       "      <td>C5342380</td>\n",
       "      <td>2</td>\n",
       "      <td>1.0</td>\n",
       "      <td>1469.2</td>\n",
       "      <td>434849.495</td>\n",
       "      <td>433380.295</td>\n",
       "      <td>[F, M]</td>\n",
       "      <td>MUMBAI</td>\n",
       "      <td>17.989180</td>\n",
       "      <td>5324.384622</td>\n",
       "      <td>...</td>\n",
       "      <td>0.0</td>\n",
       "      <td>2016-02-08</td>\n",
       "      <td>17.989180</td>\n",
       "      <td>104.657865</td>\n",
       "      <td>5324.384622</td>\n",
       "      <td>5.586784e+07</td>\n",
       "      <td>211.5</td>\n",
       "      <td>46.5</td>\n",
       "      <td>46.5</td>\n",
       "      <td>12.5</td>\n",
       "    </tr>\n",
       "    <tr>\n",
       "      <th>4</th>\n",
       "      <td>C9031234</td>\n",
       "      <td>1</td>\n",
       "      <td>0.0</td>\n",
       "      <td>1762.5</td>\n",
       "      <td>6714.430</td>\n",
       "      <td>4951.930</td>\n",
       "      <td>F</td>\n",
       "      <td>NAVI MUMBAI</td>\n",
       "      <td>21.580404</td>\n",
       "      <td>82.212831</td>\n",
       "      <td>...</td>\n",
       "      <td>1.0</td>\n",
       "      <td>2016-02-08</td>\n",
       "      <td>21.580404</td>\n",
       "      <td>0.000000</td>\n",
       "      <td>82.212831</td>\n",
       "      <td>0.000000e+00</td>\n",
       "      <td>305.0</td>\n",
       "      <td>35.0</td>\n",
       "      <td>35.0</td>\n",
       "      <td>0.0</td>\n",
       "    </tr>\n",
       "    <tr>\n",
       "      <th>...</th>\n",
       "      <td>...</td>\n",
       "      <td>...</td>\n",
       "      <td>...</td>\n",
       "      <td>...</td>\n",
       "      <td>...</td>\n",
       "      <td>...</td>\n",
       "      <td>...</td>\n",
       "      <td>...</td>\n",
       "      <td>...</td>\n",
       "      <td>...</td>\n",
       "      <td>...</td>\n",
       "      <td>...</td>\n",
       "      <td>...</td>\n",
       "      <td>...</td>\n",
       "      <td>...</td>\n",
       "      <td>...</td>\n",
       "      <td>...</td>\n",
       "      <td>...</td>\n",
       "      <td>...</td>\n",
       "      <td>...</td>\n",
       "      <td>...</td>\n",
       "    </tr>\n",
       "    <tr>\n",
       "      <th>839076</th>\n",
       "      <td>C5028150</td>\n",
       "      <td>1</td>\n",
       "      <td>0.0</td>\n",
       "      <td>3000.0</td>\n",
       "      <td>464.870</td>\n",
       "      <td>-2535.130</td>\n",
       "      <td>M</td>\n",
       "      <td>PUNE</td>\n",
       "      <td>36.732603</td>\n",
       "      <td>5.691962</td>\n",
       "      <td>...</td>\n",
       "      <td>1.0</td>\n",
       "      <td>2016-09-18</td>\n",
       "      <td>36.732603</td>\n",
       "      <td>0.000000</td>\n",
       "      <td>5.691962</td>\n",
       "      <td>0.000000e+00</td>\n",
       "      <td>82.0</td>\n",
       "      <td>43.0</td>\n",
       "      <td>43.0</td>\n",
       "      <td>0.0</td>\n",
       "    </tr>\n",
       "    <tr>\n",
       "      <th>839077</th>\n",
       "      <td>C1034220</td>\n",
       "      <td>1</td>\n",
       "      <td>0.0</td>\n",
       "      <td>1500.0</td>\n",
       "      <td>1212.700</td>\n",
       "      <td>-287.300</td>\n",
       "      <td>M</td>\n",
       "      <td>BANGALORE</td>\n",
       "      <td>18.366301</td>\n",
       "      <td>14.848543</td>\n",
       "      <td>...</td>\n",
       "      <td>1.0</td>\n",
       "      <td>2016-09-18</td>\n",
       "      <td>18.366301</td>\n",
       "      <td>0.000000</td>\n",
       "      <td>14.848543</td>\n",
       "      <td>0.000000e+00</td>\n",
       "      <td>82.0</td>\n",
       "      <td>30.0</td>\n",
       "      <td>30.0</td>\n",
       "      <td>0.0</td>\n",
       "    </tr>\n",
       "    <tr>\n",
       "      <th>839078</th>\n",
       "      <td>C8020229</td>\n",
       "      <td>1</td>\n",
       "      <td>0.0</td>\n",
       "      <td>799.0</td>\n",
       "      <td>7635.190</td>\n",
       "      <td>6836.190</td>\n",
       "      <td>M</td>\n",
       "      <td>NEW DELHI</td>\n",
       "      <td>9.783117</td>\n",
       "      <td>93.486801</td>\n",
       "      <td>...</td>\n",
       "      <td>1.0</td>\n",
       "      <td>2016-09-18</td>\n",
       "      <td>9.783117</td>\n",
       "      <td>0.000000</td>\n",
       "      <td>93.486801</td>\n",
       "      <td>0.000000e+00</td>\n",
       "      <td>82.0</td>\n",
       "      <td>32.0</td>\n",
       "      <td>32.0</td>\n",
       "      <td>0.0</td>\n",
       "    </tr>\n",
       "    <tr>\n",
       "      <th>839079</th>\n",
       "      <td>C6459278</td>\n",
       "      <td>1</td>\n",
       "      <td>1.0</td>\n",
       "      <td>460.0</td>\n",
       "      <td>27311.420</td>\n",
       "      <td>26851.420</td>\n",
       "      <td>M</td>\n",
       "      <td>NASHIK</td>\n",
       "      <td>5.632332</td>\n",
       "      <td>334.406516</td>\n",
       "      <td>...</td>\n",
       "      <td>0.0</td>\n",
       "      <td>2016-09-18</td>\n",
       "      <td>5.632332</td>\n",
       "      <td>0.000000</td>\n",
       "      <td>334.406516</td>\n",
       "      <td>0.000000e+00</td>\n",
       "      <td>82.0</td>\n",
       "      <td>31.0</td>\n",
       "      <td>31.0</td>\n",
       "      <td>0.0</td>\n",
       "    </tr>\n",
       "    <tr>\n",
       "      <th>839080</th>\n",
       "      <td>C6420483</td>\n",
       "      <td>1</td>\n",
       "      <td>1.0</td>\n",
       "      <td>1000.0</td>\n",
       "      <td>10117.870</td>\n",
       "      <td>9117.870</td>\n",
       "      <td>M</td>\n",
       "      <td>VISAKHAPATNAM</td>\n",
       "      <td>12.244201</td>\n",
       "      <td>123.885234</td>\n",
       "      <td>...</td>\n",
       "      <td>0.0</td>\n",
       "      <td>2016-09-18</td>\n",
       "      <td>12.244201</td>\n",
       "      <td>0.000000</td>\n",
       "      <td>123.885234</td>\n",
       "      <td>0.000000e+00</td>\n",
       "      <td>82.0</td>\n",
       "      <td>44.0</td>\n",
       "      <td>44.0</td>\n",
       "      <td>0.0</td>\n",
       "    </tr>\n",
       "  </tbody>\n",
       "</table>\n",
       "<p>839081 rows × 30 columns</p>\n",
       "</div>"
      ],
      "text/plain": [
       "       CustomerID  NumberTransactions  N_trans_bal>100  AverageAmount (INR)  \\\n",
       "0        C5841053                   1              1.0                 25.0   \n",
       "1        C2142763                   1              0.0              27999.0   \n",
       "2        C4417068                   1              1.0                459.0   \n",
       "3        C5342380                   2              1.0               1469.2   \n",
       "4        C9031234                   1              0.0               1762.5   \n",
       "...           ...                 ...              ...                  ...   \n",
       "839076   C5028150                   1              0.0               3000.0   \n",
       "839077   C1034220                   1              0.0               1500.0   \n",
       "839078   C8020229                   1              0.0                799.0   \n",
       "839079   C6459278                   1              1.0                460.0   \n",
       "839080   C6420483                   1              1.0               1000.0   \n",
       "\n",
       "        AverageBalance (INR)  Utilization MostCommonGender MostFreqLocation  \\\n",
       "0                  17819.050    17794.050                F       JAMSHEDPUR   \n",
       "1                   2270.690   -25728.310                M          JHAJJAR   \n",
       "2                  17874.440    17415.440                F           MUMBAI   \n",
       "3                 434849.495   433380.295           [F, M]           MUMBAI   \n",
       "4                   6714.430     4951.930                F      NAVI MUMBAI   \n",
       "...                      ...          ...              ...              ...   \n",
       "839076               464.870    -2535.130                M             PUNE   \n",
       "839077              1212.700     -287.300                M        BANGALORE   \n",
       "839078              7635.190     6836.190                M        NEW DELHI   \n",
       "839079             27311.420    26851.420                M           NASHIK   \n",
       "839080             10117.870     9117.870                M    VISAKHAPATNAM   \n",
       "\n",
       "        AverageAmount (USD)  AverageBalance (USD)  ...  \\\n",
       "0                  0.306105            218.180030  ...   \n",
       "1                342.825384             27.802785  ...   \n",
       "2                  5.620088            218.858236  ...   \n",
       "3                 17.989180           5324.384622  ...   \n",
       "4                 21.580404             82.212831  ...   \n",
       "...                     ...                   ...  ...   \n",
       "839076            36.732603              5.691962  ...   \n",
       "839077            18.366301             14.848543  ...   \n",
       "839078             9.783117             93.486801  ...   \n",
       "839079             5.632332            334.406516  ...   \n",
       "839080            12.244201            123.885234  ...   \n",
       "\n",
       "        N_trans_>one_tenth_bal  DateFirstTransaction  MedianAmount (USD)  \\\n",
       "0                          0.0            2016-02-08            0.306105   \n",
       "1                          1.0            2016-02-08          342.825384   \n",
       "2                          0.0            2016-02-08            5.620088   \n",
       "3                          0.0            2016-02-08           17.989180   \n",
       "4                          1.0            2016-02-08           21.580404   \n",
       "...                        ...                   ...                 ...   \n",
       "839076                     1.0            2016-09-18           36.732603   \n",
       "839077                     1.0            2016-09-18           18.366301   \n",
       "839078                     1.0            2016-09-18            9.783117   \n",
       "839079                     0.0            2016-09-18            5.632332   \n",
       "839080                     0.0            2016-09-18           12.244201   \n",
       "\n",
       "        VarianceAmount (USD)  MedianBalance (USD)  VarianceBalance  \\\n",
       "0                   0.000000           218.180030     0.000000e+00   \n",
       "1                   0.000000            27.802785     0.000000e+00   \n",
       "2                   0.000000           218.858236     0.000000e+00   \n",
       "3                 104.657865          5324.384622     5.586784e+07   \n",
       "4                   0.000000            82.212831     0.000000e+00   \n",
       "...                      ...                  ...              ...   \n",
       "839076              0.000000             5.691962     0.000000e+00   \n",
       "839077              0.000000            14.848543     0.000000e+00   \n",
       "839078              0.000000            93.486801     0.000000e+00   \n",
       "839079              0.000000           334.406516     0.000000e+00   \n",
       "839080              0.000000           123.885234     0.000000e+00   \n",
       "\n",
       "        AverageRecency  AverageCustomerAge  MedianCustomerAge  \\\n",
       "0                305.0                28.0               28.0   \n",
       "1                305.0                66.0               66.0   \n",
       "2                305.0                26.0               26.0   \n",
       "3                211.5                46.5               46.5   \n",
       "4                305.0                35.0               35.0   \n",
       "...                ...                 ...                ...   \n",
       "839076            82.0                43.0               43.0   \n",
       "839077            82.0                30.0               30.0   \n",
       "839078            82.0                32.0               32.0   \n",
       "839079            82.0                31.0               31.0   \n",
       "839080            82.0                44.0               44.0   \n",
       "\n",
       "        VarianceCustomerAge  \n",
       "0                       0.0  \n",
       "1                       0.0  \n",
       "2                       0.0  \n",
       "3                      12.5  \n",
       "4                       0.0  \n",
       "...                     ...  \n",
       "839076                  0.0  \n",
       "839077                  0.0  \n",
       "839078                  0.0  \n",
       "839079                  0.0  \n",
       "839080                  0.0  \n",
       "\n",
       "[839081 rows x 30 columns]"
      ]
     },
     "execution_count": 103,
     "metadata": {},
     "output_type": "execute_result"
    }
   ],
   "source": [
    "CID_data"
   ]
  },
  {
   "cell_type": "code",
   "execution_count": 104,
   "metadata": {
    "id": "wd2UjQ5x4GNM"
   },
   "outputs": [],
   "source": [
    "CID_data.to_pickle('CID_data.pkl')"
   ]
  },
  {
   "cell_type": "markdown",
   "metadata": {
    "id": "yg2CKZPw4GNM"
   },
   "source": [
    "### 2.2 Choose your features (variables)!"
   ]
  },
  {
   "cell_type": "code",
   "execution_count": 105,
   "metadata": {
    "id": "mqK5GWfV4GNM",
    "outputId": "d25c1dee-2b17-4166-bd07-501fd4be11a0"
   },
   "outputs": [
    {
     "data": {
      "text/plain": [
       "Index(['TransactionID', 'CustomerID', 'CustomerDOB', 'CustGender',\n",
       "       'CustLocation', 'CustAccountBalance', 'TransactionDate',\n",
       "       'TransactionTime', 'TransactionAmount (INR)', 'NumberTransactions',\n",
       "       'N_trans_bal>100', 'AverageAmount (INR)', 'AverageBalance (INR)',\n",
       "       'Utilization', 'MostCommonGender', 'MostFreqLocation',\n",
       "       'AverageAmount (USD)', 'AverageBalance (USD)', 'MaxAmountTrans (USD)',\n",
       "       'MinAmountTrans (USD)', 'MaxBalance (USD)', 'MinBalance (USD)',\n",
       "       'N_morningTransactions', 'N_afternoonTransactions',\n",
       "       'N_eveningTransactions', 'N_nigthTransactions',\n",
       "       'NumberNegativeTransaction', 'NTransaction>HalfBalance',\n",
       "       'N_trans_>one_tenth_bal', 'DateFirstTransaction', 'MedianAmount (USD)',\n",
       "       'VarianceAmount (USD)', 'MedianBalance (USD)', 'VarianceBalance',\n",
       "       'AverageRecency', 'AverageCustomerAge', 'MedianCustomerAge',\n",
       "       'VarianceCustomerAge'],\n",
       "      dtype='object')"
      ]
     },
     "execution_count": 105,
     "metadata": {},
     "output_type": "execute_result"
    }
   ],
   "source": [
    "newdata2.columns"
   ]
  },
  {
   "cell_type": "code",
   "execution_count": 32,
   "metadata": {
    "id": "oOm4haOK4GNM"
   },
   "outputs": [],
   "source": [
    "CID_data = pd.read_pickle(\"CID_data.pkl\")"
   ]
  },
  {
   "cell_type": "code",
   "execution_count": 33,
   "metadata": {
    "id": "2ibrY46n4GNN",
    "outputId": "292227f5-db0f-432e-dca8-3a53239f324d"
   },
   "outputs": [
    {
     "data": {
      "text/plain": [
       "Index(['CustomerID', 'NumberTransactions', 'N_trans_bal>100',\n",
       "       'AverageAmount (INR)', 'AverageBalance (INR)', 'Utilization',\n",
       "       'AverageAmount (USD)', 'AverageBalance (USD)', 'MaxAmountTrans (USD)',\n",
       "       'MinAmountTrans (USD)', 'MaxBalance (USD)', 'MinBalance (USD)',\n",
       "       'N_morningTransactions', 'N_afternoonTransactions',\n",
       "       'N_eveningTransactions', 'N_nigthTransactions',\n",
       "       'NumberNegativeTransaction', 'NTransaction>HalfBalance',\n",
       "       'N_trans_>one_tenth_bal', 'MedianAmount (USD)', 'VarianceAmount (USD)',\n",
       "       'MedianBalance (USD)', 'VarianceBalance', 'AverageRecency',\n",
       "       'AverageCustomerAge', 'MedianCustomerAge', 'VarianceCustomerAge',\n",
       "       'MostCommonGender_F', 'MostCommonGender_M', 'MostCommonGender_MF'],\n",
       "      dtype='object')"
      ]
     },
     "execution_count": 33,
     "metadata": {},
     "output_type": "execute_result"
    }
   ],
   "source": [
    "CID_data.columns"
   ]
  },
  {
   "cell_type": "markdown",
   "metadata": {
    "id": "uMT7T2ft4GNN"
   },
   "source": [
    "### Our dimensionality reduction:"
   ]
  },
  {
   "cell_type": "markdown",
   "metadata": {
    "id": "TgHCGfMJ4GNN"
   },
   "source": [
    "- #### 1. & 2.\n",
    "    Since we have plenty of features to work with, possibly with high correlation we decide to apply a principal component analysis to reduct dimensionality. In order to do that we have to discuss about the different ways to pre-processing the data. \n",
    "    The two main methods to do features scaling are normalization and standardization. They are different : standardization removes the mean and scale the data with standard deviation while normalisation often refers to scaling the data to [0,1] \n",
    "    PCA seeks the direction that maximises the variance and scaling the data differently changes the PCA vectors. One of the problems using normalisation is that it could skew the distribution and obscure the physical meaning of the variables under certain circumstances. If there is an anomaly in one of the random variables,  the scaling during normalisation would skew anomaly feature massively - resulting in different PCA vectors after normalisation. On the other hand, standardization is slightly affected by outliers and is not bounded by range. Another benefit of standardisation is to avoid numerical precision error when the order of magnitude of the variables are different,  and in our case there are variables like AverageBalance, AverageAge, AverageAmount, NumberTransactions etc. that varies from high to very small numbers.\n",
    "\n",
    "    The first mandatory step to perform PCA is to to center the data subtracting the mean of each feature while whether to use standardization or not depends on the data. Our features has different scales (INR, USD, Age, percentages etc.), so after the centering we are going to divide each feature by its standard deviation.\n",
    "    There are categorial variables in our dataset for which we need to reserve a different treatment. Fo this reason, we choose to apply One Hot Encoding to these features generating dummy variables which are duplicates variables which represent one level of a categorical variable. In practise that means it will replace a 1 instead of the category of interest and 0 for the others.\n",
    "    \n",
    "    One limitation of this method is that the independent features become less interpretable because these principal components are also not readable or interpretable. \n",
    "    \n",
    "    Let's start !!!\n",
    "    "
   ]
  },
  {
   "cell_type": "code",
   "execution_count": 108,
   "metadata": {
    "id": "5OPvFGu84GNN"
   },
   "outputs": [],
   "source": [
    "CID_data.MostCommonGender = [str(x)for x in CID_data[\"MostCommonGender\"].values]"
   ]
  },
  {
   "cell_type": "code",
   "execution_count": 109,
   "metadata": {
    "id": "JRjoImcd4GNN"
   },
   "outputs": [],
   "source": [
    "CID_data.MostCommonGender = CID_data.MostCommonGender.replace(\"['F' 'M']\", \"MF\")"
   ]
  },
  {
   "cell_type": "code",
   "execution_count": 116,
   "metadata": {},
   "outputs": [],
   "source": [
    "CID_data.to_pickle('CID_data.pkl')"
   ]
  },
  {
   "cell_type": "markdown",
   "metadata": {
    "id": "5ZexcJWW4GNO"
   },
   "source": [
    "Drop the discrete and non-numeric variables because we will use only the continuous one."
   ]
  },
  {
   "cell_type": "code",
   "execution_count": null,
   "metadata": {},
   "outputs": [],
   "source": [
    "CID_data = CID_data.drop([\"DateFirstTransaction\", \"MostFreqLocation\"], axis = 1)"
   ]
  },
  {
   "cell_type": "markdown",
   "metadata": {
    "id": "uGouMJL14GNO"
   },
   "source": [
    "We keep only the Most Common Gender discrete variable and we convert it into numeric with get_dummies method."
   ]
  },
  {
   "cell_type": "code",
   "execution_count": null,
   "metadata": {},
   "outputs": [],
   "source": [
    "CID_data = pd.get_dummies(CID_data, columns = [\"MostCommonGender\"])"
   ]
  },
  {
   "cell_type": "code",
   "execution_count": 112,
   "metadata": {
    "id": "qneMfHWZ4GNP",
    "outputId": "29cfbaf0-4725-439f-f37a-761494e9042b"
   },
   "outputs": [
    {
     "data": {
      "text/plain": [
       "Index(['CustomerID', 'NumberTransactions', 'N_trans_bal>100',\n",
       "       'AverageAmount (INR)', 'AverageBalance (INR)', 'Utilization',\n",
       "       'AverageAmount (USD)', 'AverageBalance (USD)', 'MaxAmountTrans (USD)',\n",
       "       'MinAmountTrans (USD)', 'MaxBalance (USD)', 'MinBalance (USD)',\n",
       "       'N_morningTransactions', 'N_afternoonTransactions',\n",
       "       'N_eveningTransactions', 'N_nigthTransactions',\n",
       "       'NumberNegativeTransaction', 'NTransaction>HalfBalance',\n",
       "       'N_trans_>one_tenth_bal', 'MedianAmount (USD)', 'VarianceAmount (USD)',\n",
       "       'MedianBalance (USD)', 'VarianceBalance', 'AverageRecency',\n",
       "       'AverageCustomerAge', 'MedianCustomerAge', 'VarianceCustomerAge',\n",
       "       'MostCommonGender_F', 'MostCommonGender_M', 'MostCommonGender_MF'],\n",
       "      dtype='object')"
      ]
     },
     "execution_count": 112,
     "metadata": {},
     "output_type": "execute_result"
    }
   ],
   "source": [
    "CID_data.columns"
   ]
  },
  {
   "cell_type": "code",
   "execution_count": 113,
   "metadata": {
    "id": "9dS7Zj0X4GNP",
    "outputId": "46ccd9b6-2f48-4d8f-d40e-e7200c727fa5"
   },
   "outputs": [
    {
     "data": {
      "text/plain": [
       "array([[-0.4005415 ,  0.45222652, -0.23632378, ..., -1.10605755,\n",
       "        -1.10304872, -0.15211908],\n",
       "       [-0.4005415 , -1.21145007,  4.39115227, ...,  3.30548845,\n",
       "         3.30748459, -0.15211908],\n",
       "       [-0.4005415 ,  0.45222652, -0.16453123, ..., -1.33824419,\n",
       "        -1.33518205, -0.15211908],\n",
       "       ...,\n",
       "       [-0.4005415 , -1.21145007, -0.10828823, ..., -0.64168429,\n",
       "        -0.63878206, -0.15211908],\n",
       "       [-0.4005415 ,  0.45222652, -0.16436581, ..., -0.75777761,\n",
       "        -0.75484872, -0.15211908],\n",
       "       [-0.4005415 ,  0.45222652, -0.07503869, ...,  0.7514355 ,\n",
       "         0.75401794, -0.15211908]])"
      ]
     },
     "execution_count": 113,
     "metadata": {},
     "output_type": "execute_result"
    }
   ],
   "source": [
    "X_train = CID_data[['NumberTransactions', 'N_trans_bal>100',\n",
    "       'AverageAmount (INR)', 'AverageBalance (INR)', 'Utilization',\n",
    "       'AverageAmount (USD)', 'AverageBalance (USD)', 'MaxAmountTrans (USD)',\n",
    "       'MinAmountTrans (USD)', 'MaxBalance (USD)', 'MinBalance (USD)',\n",
    "       'N_morningTransactions', 'N_afternoonTransactions',\n",
    "       'N_eveningTransactions', 'N_nigthTransactions',\n",
    "       'NumberNegativeTransaction', 'NTransaction>HalfBalance',\n",
    "       'N_trans_>one_tenth_bal', 'MedianAmount (USD)', 'VarianceAmount (USD)',\n",
    "       'MedianBalance (USD)', 'VarianceBalance', 'AverageRecency',\n",
    "       'AverageCustomerAge', 'MedianCustomerAge', 'VarianceCustomerAge']]\n",
    "\n",
    "scaler = preprocessing.StandardScaler().fit(X_train)\n",
    "scaler.mean_\n",
    "scaler.scale_\n",
    "\n",
    "X_scaled = scaler.transform(X_train)\n",
    "X_scaled"
   ]
  },
  {
   "cell_type": "code",
   "execution_count": 114,
   "metadata": {
    "id": "V20HeWKn4GNP"
   },
   "outputs": [],
   "source": [
    "CID_data[['NumberTransactions', 'N_trans_bal>100',\n",
    "       'AverageAmount (INR)', 'AverageBalance (INR)', 'Utilization',\n",
    "       'AverageAmount (USD)', 'AverageBalance (USD)', 'MaxAmountTrans (USD)',\n",
    "       'MinAmountTrans (USD)', 'MaxBalance (USD)', 'MinBalance (USD)',\n",
    "       'N_morningTransactions', 'N_afternoonTransactions',\n",
    "       'N_eveningTransactions', 'N_nigthTransactions',\n",
    "       'NumberNegativeTransaction', 'NTransaction>HalfBalance',\n",
    "       'N_trans_>one_tenth_bal', 'MedianAmount (USD)', 'VarianceAmount (USD)',\n",
    "       'MedianBalance (USD)', 'VarianceBalance', 'AverageRecency',\n",
    "       'AverageCustomerAge', 'MedianCustomerAge', 'VarianceCustomerAge']] = X_scaled.tolist()"
   ]
  },
  {
   "cell_type": "code",
   "execution_count": 115,
   "metadata": {
    "id": "dupPy3HG4GNP",
    "outputId": "ad656bca-c5c8-46ca-8d90-e218b74436d3"
   },
   "outputs": [
    {
     "data": {
      "text/html": [
       "<div>\n",
       "<style scoped>\n",
       "    .dataframe tbody tr th:only-of-type {\n",
       "        vertical-align: middle;\n",
       "    }\n",
       "\n",
       "    .dataframe tbody tr th {\n",
       "        vertical-align: top;\n",
       "    }\n",
       "\n",
       "    .dataframe thead th {\n",
       "        text-align: right;\n",
       "    }\n",
       "</style>\n",
       "<table border=\"1\" class=\"dataframe\">\n",
       "  <thead>\n",
       "    <tr style=\"text-align: right;\">\n",
       "      <th></th>\n",
       "      <th>CustomerID</th>\n",
       "      <th>NumberTransactions</th>\n",
       "      <th>N_trans_bal&gt;100</th>\n",
       "      <th>AverageAmount (INR)</th>\n",
       "      <th>AverageBalance (INR)</th>\n",
       "      <th>Utilization</th>\n",
       "      <th>AverageAmount (USD)</th>\n",
       "      <th>AverageBalance (USD)</th>\n",
       "      <th>MaxAmountTrans (USD)</th>\n",
       "      <th>MinAmountTrans (USD)</th>\n",
       "      <th>...</th>\n",
       "      <th>VarianceAmount (USD)</th>\n",
       "      <th>MedianBalance (USD)</th>\n",
       "      <th>VarianceBalance</th>\n",
       "      <th>AverageRecency</th>\n",
       "      <th>AverageCustomerAge</th>\n",
       "      <th>MedianCustomerAge</th>\n",
       "      <th>VarianceCustomerAge</th>\n",
       "      <th>MostCommonGender_F</th>\n",
       "      <th>MostCommonGender_M</th>\n",
       "      <th>MostCommonGender_MF</th>\n",
       "    </tr>\n",
       "  </thead>\n",
       "  <tbody>\n",
       "    <tr>\n",
       "      <th>0</th>\n",
       "      <td>C5841053</td>\n",
       "      <td>-0.400541</td>\n",
       "      <td>0.452227</td>\n",
       "      <td>-0.236324</td>\n",
       "      <td>-0.111969</td>\n",
       "      <td>-0.110195</td>\n",
       "      <td>-0.236324</td>\n",
       "      <td>-0.111969</td>\n",
       "      <td>-0.243211</td>\n",
       "      <td>-0.214280</td>\n",
       "      <td>...</td>\n",
       "      <td>-0.012625</td>\n",
       "      <td>-0.110568</td>\n",
       "      <td>-0.007343</td>\n",
       "      <td>2.130369</td>\n",
       "      <td>-1.106058</td>\n",
       "      <td>-1.103049</td>\n",
       "      <td>-0.152119</td>\n",
       "      <td>1</td>\n",
       "      <td>0</td>\n",
       "      <td>0</td>\n",
       "    </tr>\n",
       "    <tr>\n",
       "      <th>1</th>\n",
       "      <td>C2142763</td>\n",
       "      <td>-0.400541</td>\n",
       "      <td>-1.211450</td>\n",
       "      <td>4.391152</td>\n",
       "      <td>-0.131744</td>\n",
       "      <td>-0.165571</td>\n",
       "      <td>4.391152</td>\n",
       "      <td>-0.131744</td>\n",
       "      <td>3.977555</td>\n",
       "      <td>4.539661</td>\n",
       "      <td>...</td>\n",
       "      <td>-0.012625</td>\n",
       "      <td>-0.130388</td>\n",
       "      <td>-0.007343</td>\n",
       "      <td>2.130369</td>\n",
       "      <td>3.305488</td>\n",
       "      <td>3.307485</td>\n",
       "      <td>-0.152119</td>\n",
       "      <td>0</td>\n",
       "      <td>1</td>\n",
       "      <td>0</td>\n",
       "    </tr>\n",
       "    <tr>\n",
       "      <th>2</th>\n",
       "      <td>C4417068</td>\n",
       "      <td>-0.400541</td>\n",
       "      <td>0.452227</td>\n",
       "      <td>-0.164531</td>\n",
       "      <td>-0.111898</td>\n",
       "      <td>-0.110676</td>\n",
       "      <td>-0.164531</td>\n",
       "      <td>-0.111898</td>\n",
       "      <td>-0.177728</td>\n",
       "      <td>-0.140526</td>\n",
       "      <td>...</td>\n",
       "      <td>-0.012625</td>\n",
       "      <td>-0.110498</td>\n",
       "      <td>-0.007343</td>\n",
       "      <td>2.130369</td>\n",
       "      <td>-1.338244</td>\n",
       "      <td>-1.335182</td>\n",
       "      <td>-0.152119</td>\n",
       "      <td>1</td>\n",
       "      <td>0</td>\n",
       "      <td>0</td>\n",
       "    </tr>\n",
       "    <tr>\n",
       "      <th>3</th>\n",
       "      <td>C5342380</td>\n",
       "      <td>1.897629</td>\n",
       "      <td>0.452227</td>\n",
       "      <td>0.002577</td>\n",
       "      <td>0.418435</td>\n",
       "      <td>0.418579</td>\n",
       "      <td>0.002577</td>\n",
       "      <td>0.418435</td>\n",
       "      <td>0.063833</td>\n",
       "      <td>-0.069252</td>\n",
       "      <td>...</td>\n",
       "      <td>-0.010675</td>\n",
       "      <td>0.421015</td>\n",
       "      <td>0.020332</td>\n",
       "      <td>0.949362</td>\n",
       "      <td>1.041669</td>\n",
       "      <td>1.044185</td>\n",
       "      <td>0.001124</td>\n",
       "      <td>0</td>\n",
       "      <td>0</td>\n",
       "      <td>1</td>\n",
       "    </tr>\n",
       "    <tr>\n",
       "      <th>4</th>\n",
       "      <td>C9031234</td>\n",
       "      <td>-0.400541</td>\n",
       "      <td>-1.211450</td>\n",
       "      <td>0.051095</td>\n",
       "      <td>-0.126092</td>\n",
       "      <td>-0.126534</td>\n",
       "      <td>0.051095</td>\n",
       "      <td>-0.126092</td>\n",
       "      <td>0.018946</td>\n",
       "      <td>0.080993</td>\n",
       "      <td>...</td>\n",
       "      <td>-0.012625</td>\n",
       "      <td>-0.124723</td>\n",
       "      <td>-0.007343</td>\n",
       "      <td>2.130369</td>\n",
       "      <td>-0.293404</td>\n",
       "      <td>-0.290582</td>\n",
       "      <td>-0.152119</td>\n",
       "      <td>1</td>\n",
       "      <td>0</td>\n",
       "      <td>0</td>\n",
       "    </tr>\n",
       "    <tr>\n",
       "      <th>...</th>\n",
       "      <td>...</td>\n",
       "      <td>...</td>\n",
       "      <td>...</td>\n",
       "      <td>...</td>\n",
       "      <td>...</td>\n",
       "      <td>...</td>\n",
       "      <td>...</td>\n",
       "      <td>...</td>\n",
       "      <td>...</td>\n",
       "      <td>...</td>\n",
       "      <td>...</td>\n",
       "      <td>...</td>\n",
       "      <td>...</td>\n",
       "      <td>...</td>\n",
       "      <td>...</td>\n",
       "      <td>...</td>\n",
       "      <td>...</td>\n",
       "      <td>...</td>\n",
       "      <td>...</td>\n",
       "      <td>...</td>\n",
       "      <td>...</td>\n",
       "    </tr>\n",
       "    <tr>\n",
       "      <th>839076</th>\n",
       "      <td>C5028150</td>\n",
       "      <td>-0.400541</td>\n",
       "      <td>-1.211450</td>\n",
       "      <td>0.255803</td>\n",
       "      <td>-0.134041</td>\n",
       "      <td>-0.136061</td>\n",
       "      <td>0.255803</td>\n",
       "      <td>-0.134041</td>\n",
       "      <td>0.205662</td>\n",
       "      <td>0.291296</td>\n",
       "      <td>...</td>\n",
       "      <td>-0.012625</td>\n",
       "      <td>-0.132689</td>\n",
       "      <td>-0.007343</td>\n",
       "      <td>-0.686365</td>\n",
       "      <td>0.635342</td>\n",
       "      <td>0.637951</td>\n",
       "      <td>-0.152119</td>\n",
       "      <td>0</td>\n",
       "      <td>1</td>\n",
       "      <td>0</td>\n",
       "    </tr>\n",
       "    <tr>\n",
       "      <th>839077</th>\n",
       "      <td>C1034220</td>\n",
       "      <td>-0.400541</td>\n",
       "      <td>-1.211450</td>\n",
       "      <td>0.007672</td>\n",
       "      <td>-0.133089</td>\n",
       "      <td>-0.133201</td>\n",
       "      <td>0.007672</td>\n",
       "      <td>-0.133089</td>\n",
       "      <td>-0.020661</td>\n",
       "      <td>0.036384</td>\n",
       "      <td>...</td>\n",
       "      <td>-0.012625</td>\n",
       "      <td>-0.131736</td>\n",
       "      <td>-0.007343</td>\n",
       "      <td>-0.686365</td>\n",
       "      <td>-0.873871</td>\n",
       "      <td>-0.870915</td>\n",
       "      <td>-0.152119</td>\n",
       "      <td>0</td>\n",
       "      <td>1</td>\n",
       "      <td>0</td>\n",
       "    </tr>\n",
       "    <tr>\n",
       "      <th>839078</th>\n",
       "      <td>C8020229</td>\n",
       "      <td>-0.400541</td>\n",
       "      <td>-1.211450</td>\n",
       "      <td>-0.108288</td>\n",
       "      <td>-0.124921</td>\n",
       "      <td>-0.124137</td>\n",
       "      <td>-0.108288</td>\n",
       "      <td>-0.124921</td>\n",
       "      <td>-0.126429</td>\n",
       "      <td>-0.082745</td>\n",
       "      <td>...</td>\n",
       "      <td>-0.012625</td>\n",
       "      <td>-0.123550</td>\n",
       "      <td>-0.007343</td>\n",
       "      <td>-0.686365</td>\n",
       "      <td>-0.641684</td>\n",
       "      <td>-0.638782</td>\n",
       "      <td>-0.152119</td>\n",
       "      <td>0</td>\n",
       "      <td>1</td>\n",
       "      <td>0</td>\n",
       "    </tr>\n",
       "    <tr>\n",
       "      <th>839079</th>\n",
       "      <td>C6459278</td>\n",
       "      <td>-0.400541</td>\n",
       "      <td>0.452227</td>\n",
       "      <td>-0.164366</td>\n",
       "      <td>-0.099896</td>\n",
       "      <td>-0.098670</td>\n",
       "      <td>-0.164366</td>\n",
       "      <td>-0.099896</td>\n",
       "      <td>-0.177578</td>\n",
       "      <td>-0.140356</td>\n",
       "      <td>...</td>\n",
       "      <td>-0.012625</td>\n",
       "      <td>-0.098468</td>\n",
       "      <td>-0.007343</td>\n",
       "      <td>-0.686365</td>\n",
       "      <td>-0.757778</td>\n",
       "      <td>-0.754849</td>\n",
       "      <td>-0.152119</td>\n",
       "      <td>0</td>\n",
       "      <td>1</td>\n",
       "      <td>0</td>\n",
       "    </tr>\n",
       "    <tr>\n",
       "      <th>839080</th>\n",
       "      <td>C6420483</td>\n",
       "      <td>-0.400541</td>\n",
       "      <td>0.452227</td>\n",
       "      <td>-0.075039</td>\n",
       "      <td>-0.121763</td>\n",
       "      <td>-0.121234</td>\n",
       "      <td>-0.075039</td>\n",
       "      <td>-0.121763</td>\n",
       "      <td>-0.096101</td>\n",
       "      <td>-0.048587</td>\n",
       "      <td>...</td>\n",
       "      <td>-0.012625</td>\n",
       "      <td>-0.120385</td>\n",
       "      <td>-0.007343</td>\n",
       "      <td>-0.686365</td>\n",
       "      <td>0.751436</td>\n",
       "      <td>0.754018</td>\n",
       "      <td>-0.152119</td>\n",
       "      <td>0</td>\n",
       "      <td>1</td>\n",
       "      <td>0</td>\n",
       "    </tr>\n",
       "  </tbody>\n",
       "</table>\n",
       "<p>839081 rows × 30 columns</p>\n",
       "</div>"
      ],
      "text/plain": [
       "       CustomerID  NumberTransactions  N_trans_bal>100  AverageAmount (INR)  \\\n",
       "0        C5841053           -0.400541         0.452227            -0.236324   \n",
       "1        C2142763           -0.400541        -1.211450             4.391152   \n",
       "2        C4417068           -0.400541         0.452227            -0.164531   \n",
       "3        C5342380            1.897629         0.452227             0.002577   \n",
       "4        C9031234           -0.400541        -1.211450             0.051095   \n",
       "...           ...                 ...              ...                  ...   \n",
       "839076   C5028150           -0.400541        -1.211450             0.255803   \n",
       "839077   C1034220           -0.400541        -1.211450             0.007672   \n",
       "839078   C8020229           -0.400541        -1.211450            -0.108288   \n",
       "839079   C6459278           -0.400541         0.452227            -0.164366   \n",
       "839080   C6420483           -0.400541         0.452227            -0.075039   \n",
       "\n",
       "        AverageBalance (INR)  Utilization  AverageAmount (USD)  \\\n",
       "0                  -0.111969    -0.110195            -0.236324   \n",
       "1                  -0.131744    -0.165571             4.391152   \n",
       "2                  -0.111898    -0.110676            -0.164531   \n",
       "3                   0.418435     0.418579             0.002577   \n",
       "4                  -0.126092    -0.126534             0.051095   \n",
       "...                      ...          ...                  ...   \n",
       "839076             -0.134041    -0.136061             0.255803   \n",
       "839077             -0.133089    -0.133201             0.007672   \n",
       "839078             -0.124921    -0.124137            -0.108288   \n",
       "839079             -0.099896    -0.098670            -0.164366   \n",
       "839080             -0.121763    -0.121234            -0.075039   \n",
       "\n",
       "        AverageBalance (USD)  MaxAmountTrans (USD)  MinAmountTrans (USD)  ...  \\\n",
       "0                  -0.111969             -0.243211             -0.214280  ...   \n",
       "1                  -0.131744              3.977555              4.539661  ...   \n",
       "2                  -0.111898             -0.177728             -0.140526  ...   \n",
       "3                   0.418435              0.063833             -0.069252  ...   \n",
       "4                  -0.126092              0.018946              0.080993  ...   \n",
       "...                      ...                   ...                   ...  ...   \n",
       "839076             -0.134041              0.205662              0.291296  ...   \n",
       "839077             -0.133089             -0.020661              0.036384  ...   \n",
       "839078             -0.124921             -0.126429             -0.082745  ...   \n",
       "839079             -0.099896             -0.177578             -0.140356  ...   \n",
       "839080             -0.121763             -0.096101             -0.048587  ...   \n",
       "\n",
       "        VarianceAmount (USD)  MedianBalance (USD)  VarianceBalance  \\\n",
       "0                  -0.012625            -0.110568        -0.007343   \n",
       "1                  -0.012625            -0.130388        -0.007343   \n",
       "2                  -0.012625            -0.110498        -0.007343   \n",
       "3                  -0.010675             0.421015         0.020332   \n",
       "4                  -0.012625            -0.124723        -0.007343   \n",
       "...                      ...                  ...              ...   \n",
       "839076             -0.012625            -0.132689        -0.007343   \n",
       "839077             -0.012625            -0.131736        -0.007343   \n",
       "839078             -0.012625            -0.123550        -0.007343   \n",
       "839079             -0.012625            -0.098468        -0.007343   \n",
       "839080             -0.012625            -0.120385        -0.007343   \n",
       "\n",
       "        AverageRecency  AverageCustomerAge  MedianCustomerAge  \\\n",
       "0             2.130369           -1.106058          -1.103049   \n",
       "1             2.130369            3.305488           3.307485   \n",
       "2             2.130369           -1.338244          -1.335182   \n",
       "3             0.949362            1.041669           1.044185   \n",
       "4             2.130369           -0.293404          -0.290582   \n",
       "...                ...                 ...                ...   \n",
       "839076       -0.686365            0.635342           0.637951   \n",
       "839077       -0.686365           -0.873871          -0.870915   \n",
       "839078       -0.686365           -0.641684          -0.638782   \n",
       "839079       -0.686365           -0.757778          -0.754849   \n",
       "839080       -0.686365            0.751436           0.754018   \n",
       "\n",
       "        VarianceCustomerAge  MostCommonGender_F  MostCommonGender_M  \\\n",
       "0                 -0.152119                   1                   0   \n",
       "1                 -0.152119                   0                   1   \n",
       "2                 -0.152119                   1                   0   \n",
       "3                  0.001124                   0                   0   \n",
       "4                 -0.152119                   1                   0   \n",
       "...                     ...                 ...                 ...   \n",
       "839076            -0.152119                   0                   1   \n",
       "839077            -0.152119                   0                   1   \n",
       "839078            -0.152119                   0                   1   \n",
       "839079            -0.152119                   0                   1   \n",
       "839080            -0.152119                   0                   1   \n",
       "\n",
       "        MostCommonGender_MF  \n",
       "0                         0  \n",
       "1                         0  \n",
       "2                         0  \n",
       "3                         1  \n",
       "4                         0  \n",
       "...                     ...  \n",
       "839076                    0  \n",
       "839077                    0  \n",
       "839078                    0  \n",
       "839079                    0  \n",
       "839080                    0  \n",
       "\n",
       "[839081 rows x 30 columns]"
      ]
     },
     "execution_count": 115,
     "metadata": {},
     "output_type": "execute_result"
    }
   ],
   "source": [
    "CID_data"
   ]
  },
  {
   "cell_type": "markdown",
   "metadata": {},
   "source": [
    "We can see that now all the numeric variebles are standardized and the categorial are stored as dummy variables."
   ]
  },
  {
   "cell_type": "code",
   "execution_count": 117,
   "metadata": {
    "id": "ODyIare54GNQ"
   },
   "outputs": [],
   "source": [
    "CID_data.to_pickle('stand_CID_data.pkl')"
   ]
  },
  {
   "cell_type": "code",
   "execution_count": 25,
   "metadata": {
    "id": "3Q9v1Nuf4GNQ"
   },
   "outputs": [],
   "source": [
    "CID_data = pd.read_pickle('stand_CID_data.pkl')"
   ]
  },
  {
   "cell_type": "markdown",
   "metadata": {
    "id": "aqjGkWUL4GNR"
   },
   "source": [
    "We create a copy of our dataset so we can easily remove the CustomerID columns that we won't need in this phase, and we pass it throug the PCA function."
   ]
  },
  {
   "cell_type": "code",
   "execution_count": 36,
   "metadata": {
    "id": "fTwmOdfI4GNR"
   },
   "outputs": [],
   "source": [
    "CID_data_copy = CID_data.copy()"
   ]
  },
  {
   "cell_type": "code",
   "execution_count": 37,
   "metadata": {
    "id": "Ez3krA6Z4GNR"
   },
   "outputs": [],
   "source": [
    "CID_data_copy = CID_data_copy.drop('CustomerID', axis=1)"
   ]
  },
  {
   "cell_type": "markdown",
   "metadata": {},
   "source": [
    "We are ready to apply the PCA function, and we compute the first 10 principal components. Our goal is to select the minimum number of components to reach the 70% of explained variance. "
   ]
  },
  {
   "cell_type": "code",
   "execution_count": 38,
   "metadata": {
    "id": "OiEUFga14GNS",
    "outputId": "43656b41-792b-4cea-ac1d-ec1b91029594"
   },
   "outputs": [
    {
     "name": "stdout",
     "output_type": "stream",
     "text": [
      "[0.2290482  0.18594825 0.10028056 0.07398973 0.06044252 0.05674721\n",
      " 0.05207603 0.04271795 0.03779718 0.03422893]\n",
      "0.8732765553165416\n",
      "[2254.59306575 2031.42493321 1491.80857268 1281.41691883 1158.17987768\n",
      " 1122.21736723 1075.03757369  973.66588514  915.87124753  871.5682609 ]\n"
     ]
    }
   ],
   "source": [
    "#try the PCA with an high number of components and then check how many do we need\n",
    "\n",
    "pca = PCA(n_components=10)\n",
    "pca.fit(CID_data_copy)\n",
    "\n",
    "v = pca.explained_variance_ratio_\n",
    "print(v)\n",
    "print(sum(v))\n",
    "print(pca.singular_values_)"
   ]
  },
  {
   "cell_type": "code",
   "execution_count": 39,
   "metadata": {
    "id": "QPgBl8xH4GNS",
    "outputId": "92cb8651-b512-40e8-b1a0-a8d3181ace30"
   },
   "outputs": [
    {
     "name": "stdout",
     "output_type": "stream",
     "text": [
      "The number of components we need to ensure the 0.7 of variance is: 6\n"
     ]
    }
   ],
   "source": [
    "explained_var = 0.7\n",
    "n_component = 0\n",
    "for i in range(len(v)):\n",
    "    if sum(v[0:i]) <= explained_var:\n",
    "        n_component+=1\n",
    "\n",
    "print('The number of components we need to ensure the 0.7 of variance is:', n_component)"
   ]
  },
  {
   "cell_type": "code",
   "execution_count": 40,
   "metadata": {
    "id": "-AI2jv4-4GNS",
    "outputId": "63003245-9014-424a-b6be-c56484dab5a3"
   },
   "outputs": [
    {
     "data": {
      "image/png": "[encoded data removed]",
      "text/plain": [
       "<Figure size 576x396 with 1 Axes>"
      ]
     },
     "metadata": {},
     "output_type": "display_data"
    }
   ],
   "source": [
    "PC_values = np.arange(pca.n_components_) + 1\n",
    "plt.plot(PC_values, pca.explained_variance_ratio_, 'o-', linewidth=2, color='orange')\n",
    "plt.title('Scree Plot')\n",
    "plt.xlabel('Principal Component')\n",
    "plt.ylabel('Variance Explained')\n",
    "plt.show()"
   ]
  },
  {
   "cell_type": "code",
   "execution_count": 41,
   "metadata": {
    "id": "eyMeVNCl4GNS",
    "outputId": "53586681-1c7c-41a5-9e97-d60ade3943f8"
   },
   "outputs": [
    {
     "data": {
      "image/png": "[encoded data removed]",
      "text/plain": [
       "<Figure size 576x396 with 1 Axes>"
      ]
     },
     "metadata": {},
     "output_type": "display_data"
    }
   ],
   "source": [
    "PC_values = np.arange(pca.n_components_) + 1\n",
    "plt.plot(PC_values, np.cumsum(pca.explained_variance_ratio_), 'o-', linewidth=2, color='orange')\n",
    "plt.title('Cumulative Variance Explained Plot')\n",
    "plt.axhline(y=0.70, color='pink', linestyle='-',linewidth=1)\n",
    "plt.xlabel('Principal Component')\n",
    "plt.ylabel('Variance Explained')\n",
    "plt.show()"
   ]
  },
  {
   "cell_type": "markdown",
   "metadata": {},
   "source": [
    "Now that we have the right number of components to use, we compute again the principal components and store them into a dataframe, in order to use it for the clustering."
   ]
  },
  {
   "cell_type": "code",
   "execution_count": 42,
   "metadata": {
    "id": "eaL7vdKP4GNT",
    "outputId": "af71c6fe-b83c-4825-b848-f3dce770ff93"
   },
   "outputs": [
    {
     "data": {
      "text/plain": [
       "PCA(n_components=6)"
      ]
     },
     "execution_count": 42,
     "metadata": {},
     "output_type": "execute_result"
    }
   ],
   "source": [
    "#right PCA with 6 components\n",
    "\n",
    "pca = PCA(n_components=6)\n",
    "pca.fit(CID_data_copy)"
   ]
  },
  {
   "cell_type": "code",
   "execution_count": 43,
   "metadata": {
    "id": "x27F6qsf4GNT"
   },
   "outputs": [],
   "source": [
    "scores_pca=pca.transform(CID_data_copy)"
   ]
  },
  {
   "cell_type": "code",
   "execution_count": 44,
   "metadata": {
    "id": "pT7zFxLQ4GNT",
    "outputId": "aeb9fe8d-cf06-4e27-b254-12385bd42ff1"
   },
   "outputs": [
    {
     "data": {
      "text/plain": [
       "array([[-0.5188914 , -0.61837208,  0.34631932,  1.46487449, -1.28187192,\n",
       "         0.92369607],\n",
       "       [ 2.59342931, 10.23876058, -1.59266084, -4.22878619, -1.0368638 ,\n",
       "        -1.04459085],\n",
       "       [-0.51635171, -0.48734065,  0.27554024,  1.77817631, -1.28951518,\n",
       "         1.01169578],\n",
       "       ...,\n",
       "       [-0.55723346, -0.09409132, -1.06725187,  0.84070636,  1.07233087,\n",
       "        -0.42443095],\n",
       "       [-0.41045055, -0.49272147,  0.49405215,  1.29862049,  1.0986015 ,\n",
       "        -0.12148441],\n",
       "       [-0.15410862, -0.17098465,  1.0954026 , -0.57939096,  1.13512503,\n",
       "        -0.72707393]])"
      ]
     },
     "execution_count": 44,
     "metadata": {},
     "output_type": "execute_result"
    }
   ],
   "source": [
    "scores_pca"
   ]
  },
  {
   "cell_type": "code",
   "execution_count": 45,
   "metadata": {
    "id": "PGejrB1v4GNU"
   },
   "outputs": [],
   "source": [
    "PCA_components = pd.DataFrame(data = scores_pca, columns = ['pc1', 'pc2', 'pc3', 'pc4', 'pc5', 'pc6'])"
   ]
  },
  {
   "cell_type": "code",
   "execution_count": 46,
   "metadata": {
    "id": "TdHU7dlC4GNU",
    "outputId": "0d0c16e1-c3a2-4296-db97-6d538b5f21ac"
   },
   "outputs": [
    {
     "data": {
      "text/html": [
       "<div>\n",
       "<style scoped>\n",
       "    .dataframe tbody tr th:only-of-type {\n",
       "        vertical-align: middle;\n",
       "    }\n",
       "\n",
       "    .dataframe tbody tr th {\n",
       "        vertical-align: top;\n",
       "    }\n",
       "\n",
       "    .dataframe thead th {\n",
       "        text-align: right;\n",
       "    }\n",
       "</style>\n",
       "<table border=\"1\" class=\"dataframe\">\n",
       "  <thead>\n",
       "    <tr style=\"text-align: right;\">\n",
       "      <th></th>\n",
       "      <th>pc1</th>\n",
       "      <th>pc2</th>\n",
       "      <th>pc3</th>\n",
       "      <th>pc4</th>\n",
       "      <th>pc5</th>\n",
       "      <th>pc6</th>\n",
       "    </tr>\n",
       "  </thead>\n",
       "  <tbody>\n",
       "    <tr>\n",
       "      <th>0</th>\n",
       "      <td>-0.518891</td>\n",
       "      <td>-0.618372</td>\n",
       "      <td>0.346319</td>\n",
       "      <td>1.464874</td>\n",
       "      <td>-1.281872</td>\n",
       "      <td>0.923696</td>\n",
       "    </tr>\n",
       "    <tr>\n",
       "      <th>1</th>\n",
       "      <td>2.593429</td>\n",
       "      <td>10.238761</td>\n",
       "      <td>-1.592661</td>\n",
       "      <td>-4.228786</td>\n",
       "      <td>-1.036864</td>\n",
       "      <td>-1.044591</td>\n",
       "    </tr>\n",
       "    <tr>\n",
       "      <th>2</th>\n",
       "      <td>-0.516352</td>\n",
       "      <td>-0.487341</td>\n",
       "      <td>0.275540</td>\n",
       "      <td>1.778176</td>\n",
       "      <td>-1.289515</td>\n",
       "      <td>1.011696</td>\n",
       "    </tr>\n",
       "    <tr>\n",
       "      <th>3</th>\n",
       "      <td>1.191499</td>\n",
       "      <td>-0.276929</td>\n",
       "      <td>1.227689</td>\n",
       "      <td>-1.421101</td>\n",
       "      <td>-0.704120</td>\n",
       "      <td>1.541486</td>\n",
       "    </tr>\n",
       "    <tr>\n",
       "      <th>4</th>\n",
       "      <td>-0.412399</td>\n",
       "      <td>0.277057</td>\n",
       "      <td>-0.890566</td>\n",
       "      <td>0.504830</td>\n",
       "      <td>1.101962</td>\n",
       "      <td>-0.557547</td>\n",
       "    </tr>\n",
       "    <tr>\n",
       "      <th>...</th>\n",
       "      <td>...</td>\n",
       "      <td>...</td>\n",
       "      <td>...</td>\n",
       "      <td>...</td>\n",
       "      <td>...</td>\n",
       "      <td>...</td>\n",
       "    </tr>\n",
       "    <tr>\n",
       "      <th>839076</th>\n",
       "      <td>-0.277962</td>\n",
       "      <td>1.357223</td>\n",
       "      <td>-3.587174</td>\n",
       "      <td>-1.790675</td>\n",
       "      <td>1.360309</td>\n",
       "      <td>-0.599223</td>\n",
       "    </tr>\n",
       "    <tr>\n",
       "      <th>839077</th>\n",
       "      <td>-0.674376</td>\n",
       "      <td>0.717460</td>\n",
       "      <td>-4.220924</td>\n",
       "      <td>0.037691</td>\n",
       "      <td>1.327663</td>\n",
       "      <td>0.016071</td>\n",
       "    </tr>\n",
       "    <tr>\n",
       "      <th>839078</th>\n",
       "      <td>-0.557233</td>\n",
       "      <td>-0.094091</td>\n",
       "      <td>-1.067252</td>\n",
       "      <td>0.840706</td>\n",
       "      <td>1.072331</td>\n",
       "      <td>-0.424431</td>\n",
       "    </tr>\n",
       "    <tr>\n",
       "      <th>839079</th>\n",
       "      <td>-0.410451</td>\n",
       "      <td>-0.492721</td>\n",
       "      <td>0.494052</td>\n",
       "      <td>1.298620</td>\n",
       "      <td>1.098601</td>\n",
       "      <td>-0.121484</td>\n",
       "    </tr>\n",
       "    <tr>\n",
       "      <th>839080</th>\n",
       "      <td>-0.154109</td>\n",
       "      <td>-0.170985</td>\n",
       "      <td>1.095403</td>\n",
       "      <td>-0.579391</td>\n",
       "      <td>1.135125</td>\n",
       "      <td>-0.727074</td>\n",
       "    </tr>\n",
       "  </tbody>\n",
       "</table>\n",
       "<p>839081 rows × 6 columns</p>\n",
       "</div>"
      ],
      "text/plain": [
       "             pc1        pc2       pc3       pc4       pc5       pc6\n",
       "0      -0.518891  -0.618372  0.346319  1.464874 -1.281872  0.923696\n",
       "1       2.593429  10.238761 -1.592661 -4.228786 -1.036864 -1.044591\n",
       "2      -0.516352  -0.487341  0.275540  1.778176 -1.289515  1.011696\n",
       "3       1.191499  -0.276929  1.227689 -1.421101 -0.704120  1.541486\n",
       "4      -0.412399   0.277057 -0.890566  0.504830  1.101962 -0.557547\n",
       "...          ...        ...       ...       ...       ...       ...\n",
       "839076 -0.277962   1.357223 -3.587174 -1.790675  1.360309 -0.599223\n",
       "839077 -0.674376   0.717460 -4.220924  0.037691  1.327663  0.016071\n",
       "839078 -0.557233  -0.094091 -1.067252  0.840706  1.072331 -0.424431\n",
       "839079 -0.410451  -0.492721  0.494052  1.298620  1.098601 -0.121484\n",
       "839080 -0.154109  -0.170985  1.095403 -0.579391  1.135125 -0.727074\n",
       "\n",
       "[839081 rows x 6 columns]"
      ]
     },
     "execution_count": 46,
     "metadata": {},
     "output_type": "execute_result"
    }
   ],
   "source": [
    "PCA_components"
   ]
  },
  {
   "cell_type": "code",
   "execution_count": 47,
   "metadata": {
    "id": "szPbelXI4GNU"
   },
   "outputs": [],
   "source": [
    "PCA_components.to_csv('PCA_components.csv')"
   ]
  },
  {
   "cell_type": "markdown",
   "metadata": {
    "id": "fEDQuIqE4GNV"
   },
   "source": [
    "### 2.3 Clustering!"
   ]
  },
  {
   "cell_type": "code",
   "execution_count": 4,
   "metadata": {
    "colab": {
     "base_uri": "https://localhost:8080/"
    },
    "executionInfo": {
     "elapsed": 8115,
     "status": "ok",
     "timestamp": 1670681560055,
     "user": {
      "displayName": "albachiara bellaroba",
      "userId": "12619736469280503823"
     },
     "user_tz": -60
    },
    "id": "MTbcmzbC4Neb",
    "outputId": "08ac55b4-6ebc-4725-e8e6-dafb7e2b3a6b"
   },
   "outputs": [
    {
     "name": "stdout",
     "output_type": "stream",
     "text": [
      "Get:1 https://cloud.r-project.org/bin/linux/ubuntu bionic-cran40/ InRelease [3,626 B]\n",
      "Ign:2 https://developer.download.nvidia.com/compute/machine-learning/repos/ubuntu1804/x86_64  InRelease\n",
      "Get:3 https://developer.download.nvidia.com/compute/cuda/repos/ubuntu1804/x86_64  InRelease [1,581 B]\n",
      "Hit:4 https://developer.download.nvidia.com/compute/machine-learning/repos/ubuntu1804/x86_64  Release\n",
      "Get:5 http://security.ubuntu.com/ubuntu bionic-security InRelease [88.7 kB]\n",
      "Hit:6 http://archive.ubuntu.com/ubuntu bionic InRelease\n",
      "Hit:7 http://ppa.launchpad.net/c2d4u.team/c2d4u4.0+/ubuntu bionic InRelease\n",
      "Get:8 http://archive.ubuntu.com/ubuntu bionic-updates InRelease [88.7 kB]\n",
      "Get:9 https://developer.download.nvidia.com/compute/cuda/repos/ubuntu1804/x86_64  Packages [1,073 kB]\n",
      "Hit:10 http://ppa.launchpad.net/cran/libgit2/ubuntu bionic InRelease\n",
      "Hit:11 http://ppa.launchpad.net/deadsnakes/ppa/ubuntu bionic InRelease\n",
      "Get:12 http://archive.ubuntu.com/ubuntu bionic-backports InRelease [83.3 kB]\n",
      "Hit:14 http://ppa.launchpad.net/graphics-drivers/ppa/ubuntu bionic InRelease\n",
      "Get:15 http://security.ubuntu.com/ubuntu bionic-security/restricted amd64 Packages [1,311 kB]\n",
      "Get:16 http://security.ubuntu.com/ubuntu bionic-security/universe amd64 Packages [1,567 kB]\n",
      "Get:17 http://security.ubuntu.com/ubuntu bionic-security/main amd64 Packages [3,099 kB]\n",
      "Get:18 http://archive.ubuntu.com/ubuntu bionic-updates/universe amd64 Packages [2,342 kB]\n",
      "Get:19 http://archive.ubuntu.com/ubuntu bionic-updates/main amd64 Packages [3,524 kB]\n",
      "Get:20 http://archive.ubuntu.com/ubuntu bionic-updates/restricted amd64 Packages [1,352 kB]\n",
      "Fetched 14.5 MB in 5s (2,850 kB/s)\n",
      "Reading package lists... Done\n"
     ]
    }
   ],
   "source": [
    "! sudo apt-get update"
   ]
  },
  {
   "cell_type": "code",
   "execution_count": 6,
   "metadata": {
    "executionInfo": {
     "elapsed": 263,
     "status": "ok",
     "timestamp": 1670681564062,
     "user": {
      "displayName": "albachiara bellaroba",
      "userId": "12619736469280503823"
     },
     "user_tz": -60
    },
    "id": "SizPRXsN4Nms"
   },
   "outputs": [],
   "source": [
    "! sudo mkdir -p /usr/share/man/man1"
   ]
  },
  {
   "cell_type": "code",
   "execution_count": 7,
   "metadata": {
    "colab": {
     "base_uri": "https://localhost:8080/"
    },
    "executionInfo": {
     "elapsed": 4293,
     "status": "ok",
     "timestamp": 1670681569718,
     "user": {
      "displayName": "albachiara bellaroba",
      "userId": "12619736469280503823"
     },
     "user_tz": -60
    },
    "id": "djg0RsnU4NuN",
    "outputId": "de0f8429-a65b-4416-f495-459c6731433e"
   },
   "outputs": [
    {
     "name": "stdout",
     "output_type": "stream",
     "text": [
      "Reading package lists... Done\n",
      "Building dependency tree       \n",
      "Reading state information... Done\n",
      "The following package was automatically installed and is no longer required:\n",
      "  libnvidia-common-460\n",
      "Use 'sudo apt autoremove' to remove it.\n",
      "Suggested packages:\n",
      "  openjdk-11-demo openjdk-11-source visualvm\n",
      "The following NEW packages will be installed:\n",
      "  openjdk-11-jdk\n",
      "0 upgraded, 1 newly installed, 0 to remove and 34 not upgraded.\n",
      "Need to get 13.6 kB of archives.\n",
      "After this operation, 56.3 kB of additional disk space will be used.\n",
      "Get:1 http://archive.ubuntu.com/ubuntu bionic-updates/main amd64 openjdk-11-jdk amd64 11.0.17+8-1ubuntu2~18.04 [13.6 kB]\n",
      "Fetched 13.6 kB in 0s (32.9 kB/s)\n",
      "debconf: unable to initialize frontend: Dialog\n",
      "debconf: (No usable dialog-like program is installed, so the dialog based frontend cannot be used. at /usr/share/perl5/Debconf/FrontEnd/Dialog.pm line 76, <> line 1.)\n",
      "debconf: falling back to frontend: Readline\n",
      "debconf: unable to initialize frontend: Readline\n",
      "debconf: (This frontend requires a controlling tty.)\n",
      "debconf: falling back to frontend: Teletype\n",
      "dpkg-preconfigure: unable to re-open stdin: \n",
      "Selecting previously unselected package openjdk-11-jdk:amd64.\n",
      "(Reading database ... 124013 files and directories currently installed.)\n",
      "Preparing to unpack .../openjdk-11-jdk_11.0.17+8-1ubuntu2~18.04_amd64.deb ...\n",
      "Unpacking openjdk-11-jdk:amd64 (11.0.17+8-1ubuntu2~18.04) ...\n",
      "Setting up openjdk-11-jdk:amd64 (11.0.17+8-1ubuntu2~18.04) ...\n",
      "update-alternatives: using /usr/lib/jvm/java-11-openjdk-amd64/bin/jconsole to provide /usr/bin/jconsole (jconsole) in auto mode\n"
     ]
    }
   ],
   "source": [
    "! sudo apt-get install -y openjdk-11-jdk"
   ]
  },
  {
   "cell_type": "code",
   "execution_count": 8,
   "metadata": {
    "colab": {
     "base_uri": "https://localhost:8080/"
    },
    "executionInfo": {
     "elapsed": 53397,
     "status": "ok",
     "timestamp": 1670681623111,
     "user": {
      "displayName": "albachiara bellaroba",
      "userId": "12619736469280503823"
     },
     "user_tz": -60
    },
    "id": "0yj5mToT4MZW",
    "outputId": "b7d40a87-b32b-4d62-98d2-87df2bbe5a51"
   },
   "outputs": [
    {
     "name": "stdout",
     "output_type": "stream",
     "text": [
      "Looking in indexes: https://pypi.org/simple, https://us-python.pkg.dev/colab-wheels/public/simple/\n",
      "Collecting pyspark\n",
      "  Downloading pyspark-3.3.1.tar.gz (281.4 MB)\n",
      "\u001b[K     |████████████████████████████████| 281.4 MB 41 kB/s \n",
      "\u001b[?25hCollecting py4j==0.10.9.5\n",
      "  Downloading py4j-0.10.9.5-py2.py3-none-any.whl (199 kB)\n",
      "\u001b[K     |████████████████████████████████| 199 kB 54.1 MB/s \n",
      "\u001b[?25hBuilding wheels for collected packages: pyspark\n",
      "  Building wheel for pyspark (setup.py) ... \u001b[?25l\u001b[?25hdone\n",
      "  Created wheel for pyspark: filename=pyspark-3.3.1-py2.py3-none-any.whl size=281845512 sha256=77be5222954f7ade5bb46f183e84cab7dc2393a8c055d41e50ddeb0b123d57ae\n",
      "  Stored in directory: /root/.cache/pip/wheels/43/dc/11/ec201cd671da62fa9c5cc77078235e40722170ceba231d7598\n",
      "Successfully built pyspark\n",
      "Installing collected packages: py4j, pyspark\n",
      "Successfully installed py4j-0.10.9.5 pyspark-3.3.1\n"
     ]
    }
   ],
   "source": [
    "! pip install pyspark"
   ]
  },
  {
   "cell_type": "code",
   "execution_count": 3,
   "metadata": {
    "executionInfo": {
     "elapsed": 349,
     "status": "ok",
     "timestamp": 1670681623449,
     "user": {
      "displayName": "albachiara bellaroba",
      "userId": "12619736469280503823"
     },
     "user_tz": -60
    },
    "id": "aY4dbiUv4GNV"
   },
   "outputs": [],
   "source": [
    "import sys\n",
    "import os\n",
    "import json\n",
    "from pyspark import SparkContext\n",
    "from pyspark.sql import SparkSession\n",
    "import time"
   ]
  },
  {
   "cell_type": "code",
   "execution_count": 10,
   "metadata": {
    "colab": {
     "base_uri": "https://localhost:8080/",
     "height": 222
    },
    "executionInfo": {
     "elapsed": 14476,
     "status": "ok",
     "timestamp": 1670681637922,
     "user": {
      "displayName": "albachiara bellaroba",
      "userId": "12619736469280503823"
     },
     "user_tz": -60
    },
    "id": "XVUni5KQ4GNW",
    "outputId": "48e9c7e7-88dd-4c44-dd0f-40716157e6df"
   },
   "outputs": [
    {
     "data": {
      "text/html": [
       "\n",
       "            <div>\n",
       "                <p><b>SparkSession - in-memory</b></p>\n",
       "                \n",
       "        <div>\n",
       "            <p><b>SparkContext</b></p>\n",
       "\n",
       "            <p><a href=\"http://4a51a9d952e5:4040\">Spark UI</a></p>\n",
       "\n",
       "            <dl>\n",
       "              <dt>Version</dt>\n",
       "                <dd><code>v3.3.1</code></dd>\n",
       "              <dt>Master</dt>\n",
       "                <dd><code>local[*]</code></dd>\n",
       "              <dt>AppName</dt>\n",
       "                <dd><code>clustering</code></dd>\n",
       "            </dl>\n",
       "        </div>\n",
       "        \n",
       "            </div>\n",
       "        "
      ],
      "text/plain": [
       "<pyspark.sql.session.SparkSession at 0x7eff8152b040>"
      ]
     },
     "execution_count": 10,
     "metadata": {},
     "output_type": "execute_result"
    }
   ],
   "source": [
    "spark = SparkSession.builder.appName('clustering').getOrCreate()\n",
    "spark"
   ]
  },
  {
   "cell_type": "code",
   "execution_count": 11,
   "metadata": {
    "colab": {
     "base_uri": "https://localhost:8080/"
    },
    "executionInfo": {
     "elapsed": 33188,
     "status": "ok",
     "timestamp": 1670681671101,
     "user": {
      "displayName": "albachiara bellaroba",
      "userId": "12619736469280503823"
     },
     "user_tz": -60
    },
    "id": "7wAq-sDA5Fvk",
    "outputId": "641f2da0-4d43-4dfa-f5a7-7cbe41a6bf3a"
   },
   "outputs": [
    {
     "name": "stdout",
     "output_type": "stream",
     "text": [
      "Mounted at /content/drive\n"
     ]
    }
   ],
   "source": [
    "from google.colab import drive\n",
    "drive.mount('/content/drive')"
   ]
  },
  {
   "cell_type": "code",
   "execution_count": 12,
   "metadata": {
    "executionInfo": {
     "elapsed": 14020,
     "status": "ok",
     "timestamp": 1670681685116,
     "user": {
      "displayName": "albachiara bellaroba",
      "userId": "12619736469280503823"
     },
     "user_tz": -60
    },
    "id": "uuc3Lchw5LwM"
   },
   "outputs": [],
   "source": [
    "data = spark.read.csv(\"/content/drive/MyDrive/ADM_HW4/PCA_components.csv\", header=True, inferSchema=True)"
   ]
  },
  {
   "cell_type": "code",
   "execution_count": 13,
   "metadata": {
    "colab": {
     "base_uri": "https://localhost:8080/"
    },
    "executionInfo": {
     "elapsed": 29,
     "status": "ok",
     "timestamp": 1670681685117,
     "user": {
      "displayName": "albachiara bellaroba",
      "userId": "12619736469280503823"
     },
     "user_tz": -60
    },
    "id": "HlRdMLan4GNV",
    "outputId": "ea2143d4-5364-42e3-c675-82ca58de4751"
   },
   "outputs": [
    {
     "data": {
      "text/plain": [
       "DataFrame[_c0: int, pc1: double, pc2: double, pc3: double, pc4: double, pc5: double, pc6: double]"
      ]
     },
     "execution_count": 13,
     "metadata": {},
     "output_type": "execute_result"
    }
   ],
   "source": [
    "data"
   ]
  },
  {
   "cell_type": "code",
   "execution_count": 14,
   "metadata": {
    "executionInfo": {
     "elapsed": 26,
     "status": "ok",
     "timestamp": 1670681685118,
     "user": {
      "displayName": "albachiara bellaroba",
      "userId": "12619736469280503823"
     },
     "user_tz": -60
    },
    "id": "LwPBhBFb4GNV"
   },
   "outputs": [],
   "source": [
    "data = data.drop('_c0')"
   ]
  },
  {
   "cell_type": "code",
   "execution_count": 15,
   "metadata": {
    "colab": {
     "base_uri": "https://localhost:8080/"
    },
    "executionInfo": {
     "elapsed": 643,
     "status": "ok",
     "timestamp": 1670681685736,
     "user": {
      "displayName": "albachiara bellaroba",
      "userId": "12619736469280503823"
     },
     "user_tz": -60
    },
    "id": "Q4jTFhlb4GNW",
    "outputId": "fc0b69ae-8beb-4b25-8aa0-056d318803f5"
   },
   "outputs": [
    {
     "name": "stdout",
     "output_type": "stream",
     "text": [
      "+--------------------+--------------------+-------------------+--------------------+-------------------+--------------------+\n",
      "|                 pc1|                 pc2|                pc3|                 pc4|                pc5|                 pc6|\n",
      "+--------------------+--------------------+-------------------+--------------------+-------------------+--------------------+\n",
      "| -0.5201049272967656|  -0.616241567747282|0.33723040303585794|  1.4651807071780805|-1.2954077844998024|  0.9077596994851468|\n",
      "|   2.612077232101859|  10.232305852432924|-1.5832948071052153|  -4.256394843107796|-1.0022263515668417| -1.0077804069446663|\n",
      "| -0.5173560111230056|-0.48516092529031507| 0.2649776674304945|  1.7787744164871162|-1.3052093215527456|  0.9934443912427067|\n",
      "|  1.1908799740364018| -0.2787586138289239| 1.2378009303461825| -1.4090336481703383|-0.7173806778423387|  1.5393003382560229|\n",
      "| -0.4121600578035001| 0.27801426704461485|-0.8967262634584299|  0.4969232451203754| 1.1104590152478793| -0.5356625268104107|\n",
      "|  0.0794060043891643|-0.21628179208780463| 1.3334570782130277| -1.7153012266208618| -1.209715980403222|-0.09147700926012252|\n",
      "| -0.5555714462811927| 0.11797591320395491| -2.052400179050638|  -1.323838734565288|-1.9366394530148903|    6.16639496194735|\n",
      "|-0.02724391320393198| -0.5196433778778475| 0.8730486348464968|-0.44665615990680396|-1.2370534911411306| 0.28457431715392967|\n",
      "|-0.33654378178754274|-0.30506369361473945| 0.6897757681727312|  0.7890683760395472| 1.1354013126538656| -0.2811280364454784|\n",
      "|-0.44935655475665065| -0.4401733940504105|0.08541363692801246|  0.2831469291302013| 1.0318638963177897| -0.8441935499434936|\n",
      "+--------------------+--------------------+-------------------+--------------------+-------------------+--------------------+\n",
      "only showing top 10 rows\n",
      "\n"
     ]
    }
   ],
   "source": [
    "data.show(10)"
   ]
  },
  {
   "cell_type": "markdown",
   "metadata": {
    "id": "yUp7OVDGv0V4"
   },
   "source": [
    "#### 1 - Implementation of the K-means clustering algorithm using MapReduce."
   ]
  },
  {
   "cell_type": "code",
   "execution_count": 16,
   "metadata": {
    "executionInfo": {
     "elapsed": 10,
     "status": "ok",
     "timestamp": 1670681685737,
     "user": {
      "displayName": "albachiara bellaroba",
      "userId": "12619736469280503823"
     },
     "user_tz": -60
    },
    "id": "BN-8kg-n4GNX"
   },
   "outputs": [],
   "source": [
    "def assign_cluster(x, centroids):\n",
    "    d = []  #list of the distances\n",
    "    for i in centroids:\n",
    "        dist = np.linalg.norm(np.array(x) - np.array(i))\n",
    "        d.append(dist)\n",
    "    return (np.argmin(d), np.array(x))"
   ]
  },
  {
   "cell_type": "code",
   "execution_count": 17,
   "metadata": {
    "executionInfo": {
     "elapsed": 10,
     "status": "ok",
     "timestamp": 1670681685738,
     "user": {
      "displayName": "albachiara bellaroba",
      "userId": "12619736469280503823"
     },
     "user_tz": -60
    },
    "id": "i5kO8Omn4GNX"
   },
   "outputs": [],
   "source": [
    "def new_centroid(old_centroids):\n",
    "    out = sum(old_centroids) / len(old_centroids)\n",
    "    return out"
   ]
  },
  {
   "cell_type": "code",
   "execution_count": 18,
   "metadata": {
    "executionInfo": {
     "elapsed": 9,
     "status": "ok",
     "timestamp": 1670681685738,
     "user": {
      "displayName": "albachiara bellaroba",
      "userId": "12619736469280503823"
     },
     "user_tz": -60
    },
    "id": "0KCFSyj74GNX"
   },
   "outputs": [],
   "source": [
    "def square_loss(y, centroid):\n",
    "    loss = np.linalg.norm(np.array(y[1])-np.array(centroid[y[0]]))\n",
    "    sqloss = np.square(loss)\n",
    "    return sqloss"
   ]
  },
  {
   "cell_type": "code",
   "execution_count": 19,
   "metadata": {
    "executionInfo": {
     "elapsed": 9,
     "status": "ok",
     "timestamp": 1670681685739,
     "user": {
      "displayName": "albachiara bellaroba",
      "userId": "12619736469280503823"
     },
     "user_tz": -60
    },
    "id": "f-oHS9IW4GNX"
   },
   "outputs": [],
   "source": [
    "def clustering(X, k):\n",
    "\n",
    "    #INITIALIZATION\n",
    "    threshold = 0.1\n",
    "    diff = [100000000, 10000000]\n",
    "    i=0\n",
    "\n",
    "    #START: random centroids\n",
    "    centroids = X.rdd.takeSample(False, k)\n",
    "\n",
    "    #ITERATION (if stopping condition satisfied)\n",
    "    while diff[i]-diff[i+1] > threshold and i<100: # 100 = maximum iterations number\n",
    "\n",
    "      cl = X.rdd.map(lambda x: assign_cluster(x, centroids)).collect()\n",
    "\n",
    "      cl_rdd = spark.sparkContext.parallelize(cl)\n",
    "\n",
    "      centroids = cl_rdd.groupByKey().mapValues(lambda x: new_centroid(x)).map(lambda a: a[1]).collect()\n",
    "\n",
    "      loss = cl_rdd.map(lambda x: (x[0], square_loss(x, centroids))).groupByKey().mapValues(sum).values().collect()\n",
    "\n",
    "      diff.append(np.sum(loss))\n",
    "\n",
    "      i+=1\n",
    "\n",
    "    return cl_rdd.keys().collect()"
   ]
  },
  {
   "cell_type": "markdown",
   "metadata": {
    "id": "8dbLnyE8IL3-"
   },
   "source": [
    "#### 2 - Find an optimal number of clusters using at least 2 different methods. "
   ]
  },
  {
   "cell_type": "code",
   "execution_count": 20,
   "metadata": {
    "executionInfo": {
     "elapsed": 366,
     "status": "ok",
     "timestamp": 1670681686097,
     "user": {
      "displayName": "albachiara bellaroba",
      "userId": "12619736469280503823"
     },
     "user_tz": -60
    },
    "id": "f6_X55lcIWFS"
   },
   "outputs": [],
   "source": [
    "from sklearn.metrics import silhouette_score\n",
    "from sklearn.cluster import KMeans\n",
    "from yellowbrick.cluster import KElbowVisualizer\n",
    "from matplotlib import pyplot"
   ]
  },
  {
   "cell_type": "code",
   "execution_count": 48,
   "metadata": {},
   "outputs": [],
   "source": [
    "data2 = pd.read_csv(\"PCA_components.csv\", index_col=False)"
   ]
  },
  {
   "cell_type": "code",
   "execution_count": 49,
   "metadata": {},
   "outputs": [
    {
     "data": {
      "text/html": [
       "<div>\n",
       "<style scoped>\n",
       "    .dataframe tbody tr th:only-of-type {\n",
       "        vertical-align: middle;\n",
       "    }\n",
       "\n",
       "    .dataframe tbody tr th {\n",
       "        vertical-align: top;\n",
       "    }\n",
       "\n",
       "    .dataframe thead th {\n",
       "        text-align: right;\n",
       "    }\n",
       "</style>\n",
       "<table border=\"1\" class=\"dataframe\">\n",
       "  <thead>\n",
       "    <tr style=\"text-align: right;\">\n",
       "      <th></th>\n",
       "      <th>Unnamed: 0</th>\n",
       "      <th>pc1</th>\n",
       "      <th>pc2</th>\n",
       "      <th>pc3</th>\n",
       "      <th>pc4</th>\n",
       "      <th>pc5</th>\n",
       "      <th>pc6</th>\n",
       "    </tr>\n",
       "  </thead>\n",
       "  <tbody>\n",
       "    <tr>\n",
       "      <th>0</th>\n",
       "      <td>0</td>\n",
       "      <td>-0.518891</td>\n",
       "      <td>-0.618372</td>\n",
       "      <td>0.346319</td>\n",
       "      <td>1.464874</td>\n",
       "      <td>-1.281872</td>\n",
       "      <td>0.923696</td>\n",
       "    </tr>\n",
       "    <tr>\n",
       "      <th>1</th>\n",
       "      <td>1</td>\n",
       "      <td>2.593429</td>\n",
       "      <td>10.238761</td>\n",
       "      <td>-1.592661</td>\n",
       "      <td>-4.228786</td>\n",
       "      <td>-1.036864</td>\n",
       "      <td>-1.044591</td>\n",
       "    </tr>\n",
       "    <tr>\n",
       "      <th>2</th>\n",
       "      <td>2</td>\n",
       "      <td>-0.516352</td>\n",
       "      <td>-0.487341</td>\n",
       "      <td>0.275540</td>\n",
       "      <td>1.778176</td>\n",
       "      <td>-1.289515</td>\n",
       "      <td>1.011696</td>\n",
       "    </tr>\n",
       "    <tr>\n",
       "      <th>3</th>\n",
       "      <td>3</td>\n",
       "      <td>1.191499</td>\n",
       "      <td>-0.276929</td>\n",
       "      <td>1.227689</td>\n",
       "      <td>-1.421101</td>\n",
       "      <td>-0.704120</td>\n",
       "      <td>1.541486</td>\n",
       "    </tr>\n",
       "    <tr>\n",
       "      <th>4</th>\n",
       "      <td>4</td>\n",
       "      <td>-0.412399</td>\n",
       "      <td>0.277057</td>\n",
       "      <td>-0.890566</td>\n",
       "      <td>0.504830</td>\n",
       "      <td>1.101962</td>\n",
       "      <td>-0.557547</td>\n",
       "    </tr>\n",
       "    <tr>\n",
       "      <th>...</th>\n",
       "      <td>...</td>\n",
       "      <td>...</td>\n",
       "      <td>...</td>\n",
       "      <td>...</td>\n",
       "      <td>...</td>\n",
       "      <td>...</td>\n",
       "      <td>...</td>\n",
       "    </tr>\n",
       "    <tr>\n",
       "      <th>839076</th>\n",
       "      <td>839076</td>\n",
       "      <td>-0.277962</td>\n",
       "      <td>1.357223</td>\n",
       "      <td>-3.587174</td>\n",
       "      <td>-1.790675</td>\n",
       "      <td>1.360309</td>\n",
       "      <td>-0.599223</td>\n",
       "    </tr>\n",
       "    <tr>\n",
       "      <th>839077</th>\n",
       "      <td>839077</td>\n",
       "      <td>-0.674376</td>\n",
       "      <td>0.717460</td>\n",
       "      <td>-4.220924</td>\n",
       "      <td>0.037691</td>\n",
       "      <td>1.327663</td>\n",
       "      <td>0.016071</td>\n",
       "    </tr>\n",
       "    <tr>\n",
       "      <th>839078</th>\n",
       "      <td>839078</td>\n",
       "      <td>-0.557233</td>\n",
       "      <td>-0.094091</td>\n",
       "      <td>-1.067252</td>\n",
       "      <td>0.840706</td>\n",
       "      <td>1.072331</td>\n",
       "      <td>-0.424431</td>\n",
       "    </tr>\n",
       "    <tr>\n",
       "      <th>839079</th>\n",
       "      <td>839079</td>\n",
       "      <td>-0.410451</td>\n",
       "      <td>-0.492721</td>\n",
       "      <td>0.494052</td>\n",
       "      <td>1.298620</td>\n",
       "      <td>1.098601</td>\n",
       "      <td>-0.121484</td>\n",
       "    </tr>\n",
       "    <tr>\n",
       "      <th>839080</th>\n",
       "      <td>839080</td>\n",
       "      <td>-0.154109</td>\n",
       "      <td>-0.170985</td>\n",
       "      <td>1.095403</td>\n",
       "      <td>-0.579391</td>\n",
       "      <td>1.135125</td>\n",
       "      <td>-0.727074</td>\n",
       "    </tr>\n",
       "  </tbody>\n",
       "</table>\n",
       "<p>839081 rows × 7 columns</p>\n",
       "</div>"
      ],
      "text/plain": [
       "        Unnamed: 0       pc1        pc2       pc3       pc4       pc5  \\\n",
       "0                0 -0.518891  -0.618372  0.346319  1.464874 -1.281872   \n",
       "1                1  2.593429  10.238761 -1.592661 -4.228786 -1.036864   \n",
       "2                2 -0.516352  -0.487341  0.275540  1.778176 -1.289515   \n",
       "3                3  1.191499  -0.276929  1.227689 -1.421101 -0.704120   \n",
       "4                4 -0.412399   0.277057 -0.890566  0.504830  1.101962   \n",
       "...            ...       ...        ...       ...       ...       ...   \n",
       "839076      839076 -0.277962   1.357223 -3.587174 -1.790675  1.360309   \n",
       "839077      839077 -0.674376   0.717460 -4.220924  0.037691  1.327663   \n",
       "839078      839078 -0.557233  -0.094091 -1.067252  0.840706  1.072331   \n",
       "839079      839079 -0.410451  -0.492721  0.494052  1.298620  1.098601   \n",
       "839080      839080 -0.154109  -0.170985  1.095403 -0.579391  1.135125   \n",
       "\n",
       "             pc6  \n",
       "0       0.923696  \n",
       "1      -1.044591  \n",
       "2       1.011696  \n",
       "3       1.541486  \n",
       "4      -0.557547  \n",
       "...          ...  \n",
       "839076 -0.599223  \n",
       "839077  0.016071  \n",
       "839078 -0.424431  \n",
       "839079 -0.121484  \n",
       "839080 -0.727074  \n",
       "\n",
       "[839081 rows x 7 columns]"
      ]
     },
     "execution_count": 49,
     "metadata": {},
     "output_type": "execute_result"
    }
   ],
   "source": [
    "data2"
   ]
  },
  {
   "cell_type": "code",
   "execution_count": 50,
   "metadata": {},
   "outputs": [],
   "source": [
    "data2 = data2.drop('Unnamed: 0', axis=1)"
   ]
  },
  {
   "cell_type": "markdown",
   "metadata": {},
   "source": [
    "We decide to work with a sample of size 30000, this size is large enough to extend all the considerations and the analysis to the entire dataset."
   ]
  },
  {
   "cell_type": "code",
   "execution_count": 4,
   "metadata": {},
   "outputs": [],
   "source": [
    "sample_data = data2.sample(30000)"
   ]
  },
  {
   "cell_type": "code",
   "execution_count": 48,
   "metadata": {
    "colab": {
     "base_uri": "https://localhost:8080/",
     "height": 363
    },
    "executionInfo": {
     "elapsed": 13,
     "status": "ok",
     "timestamp": 1670681687709,
     "user": {
      "displayName": "albachiara bellaroba",
      "userId": "12619736469280503823"
     },
     "user_tz": -60
    },
    "id": "i6a4w0ddJrnB",
    "outputId": "ca9af1dc-6134-40cb-a00d-3795ab9333b6"
   },
   "outputs": [
    {
     "data": {
      "text/html": [
       "<div>\n",
       "<style scoped>\n",
       "    .dataframe tbody tr th:only-of-type {\n",
       "        vertical-align: middle;\n",
       "    }\n",
       "\n",
       "    .dataframe tbody tr th {\n",
       "        vertical-align: top;\n",
       "    }\n",
       "\n",
       "    .dataframe thead th {\n",
       "        text-align: right;\n",
       "    }\n",
       "</style>\n",
       "<table border=\"1\" class=\"dataframe\">\n",
       "  <thead>\n",
       "    <tr style=\"text-align: right;\">\n",
       "      <th></th>\n",
       "      <th>pc1</th>\n",
       "      <th>pc2</th>\n",
       "      <th>pc3</th>\n",
       "      <th>pc4</th>\n",
       "      <th>pc5</th>\n",
       "      <th>pc6</th>\n",
       "    </tr>\n",
       "  </thead>\n",
       "  <tbody>\n",
       "    <tr>\n",
       "      <th>563025</th>\n",
       "      <td>-0.557253</td>\n",
       "      <td>-0.637644</td>\n",
       "      <td>-0.181696</td>\n",
       "      <td>0.953622</td>\n",
       "      <td>-1.199252</td>\n",
       "      <td>-2.353956</td>\n",
       "    </tr>\n",
       "    <tr>\n",
       "      <th>35453</th>\n",
       "      <td>-0.505223</td>\n",
       "      <td>-0.237469</td>\n",
       "      <td>-0.837165</td>\n",
       "      <td>-0.390432</td>\n",
       "      <td>-1.301402</td>\n",
       "      <td>0.196828</td>\n",
       "    </tr>\n",
       "    <tr>\n",
       "      <th>367523</th>\n",
       "      <td>-0.449698</td>\n",
       "      <td>0.398937</td>\n",
       "      <td>-3.499793</td>\n",
       "      <td>-2.756326</td>\n",
       "      <td>-0.318286</td>\n",
       "      <td>-1.569664</td>\n",
       "    </tr>\n",
       "    <tr>\n",
       "      <th>59937</th>\n",
       "      <td>-0.351098</td>\n",
       "      <td>0.125653</td>\n",
       "      <td>-0.304263</td>\n",
       "      <td>0.528198</td>\n",
       "      <td>-0.495938</td>\n",
       "      <td>-0.942048</td>\n",
       "    </tr>\n",
       "    <tr>\n",
       "      <th>178</th>\n",
       "      <td>-0.269925</td>\n",
       "      <td>-0.295376</td>\n",
       "      <td>0.768995</td>\n",
       "      <td>0.446891</td>\n",
       "      <td>1.124835</td>\n",
       "      <td>-0.389996</td>\n",
       "    </tr>\n",
       "    <tr>\n",
       "      <th>365906</th>\n",
       "      <td>-0.373384</td>\n",
       "      <td>-0.441595</td>\n",
       "      <td>0.623041</td>\n",
       "      <td>0.867055</td>\n",
       "      <td>1.112802</td>\n",
       "      <td>-0.250079</td>\n",
       "    </tr>\n",
       "    <tr>\n",
       "      <th>183006</th>\n",
       "      <td>-0.270870</td>\n",
       "      <td>-0.531288</td>\n",
       "      <td>0.578596</td>\n",
       "      <td>1.045314</td>\n",
       "      <td>1.099130</td>\n",
       "      <td>-0.166501</td>\n",
       "    </tr>\n",
       "    <tr>\n",
       "      <th>316989</th>\n",
       "      <td>-0.233595</td>\n",
       "      <td>-0.504925</td>\n",
       "      <td>1.616291</td>\n",
       "      <td>-0.327120</td>\n",
       "      <td>-1.569544</td>\n",
       "      <td>3.660620</td>\n",
       "    </tr>\n",
       "    <tr>\n",
       "      <th>729122</th>\n",
       "      <td>-0.431399</td>\n",
       "      <td>-0.542642</td>\n",
       "      <td>0.577454</td>\n",
       "      <td>0.718571</td>\n",
       "      <td>-1.296834</td>\n",
       "      <td>0.695528</td>\n",
       "    </tr>\n",
       "    <tr>\n",
       "      <th>239212</th>\n",
       "      <td>-0.621960</td>\n",
       "      <td>0.397326</td>\n",
       "      <td>-3.933266</td>\n",
       "      <td>-1.501593</td>\n",
       "      <td>-1.006948</td>\n",
       "      <td>0.547524</td>\n",
       "    </tr>\n",
       "  </tbody>\n",
       "</table>\n",
       "</div>"
      ],
      "text/plain": [
       "             pc1       pc2       pc3       pc4       pc5       pc6\n",
       "563025 -0.557253 -0.637644 -0.181696  0.953622 -1.199252 -2.353956\n",
       "35453  -0.505223 -0.237469 -0.837165 -0.390432 -1.301402  0.196828\n",
       "367523 -0.449698  0.398937 -3.499793 -2.756326 -0.318286 -1.569664\n",
       "59937  -0.351098  0.125653 -0.304263  0.528198 -0.495938 -0.942048\n",
       "178    -0.269925 -0.295376  0.768995  0.446891  1.124835 -0.389996\n",
       "365906 -0.373384 -0.441595  0.623041  0.867055  1.112802 -0.250079\n",
       "183006 -0.270870 -0.531288  0.578596  1.045314  1.099130 -0.166501\n",
       "316989 -0.233595 -0.504925  1.616291 -0.327120 -1.569544  3.660620\n",
       "729122 -0.431399 -0.542642  0.577454  0.718571 -1.296834  0.695528\n",
       "239212 -0.621960  0.397326 -3.933266 -1.501593 -1.006948  0.547524"
      ]
     },
     "execution_count": 48,
     "metadata": {},
     "output_type": "execute_result"
    }
   ],
   "source": [
    "sample_data.head(10)"
   ]
  },
  {
   "cell_type": "code",
   "execution_count": 99,
   "metadata": {},
   "outputs": [
    {
     "name": "stderr",
     "output_type": "stream",
     "text": [
      "100%|██████████████████████████████████████████████████████████████████████████████████| 97/97 [07:27<00:00,  4.61s/it]\n"
     ]
    }
   ],
   "source": [
    "from tqdm import tqdm\n",
    "sd = {}\n",
    "for k in tqdm(range(3, 100)):\n",
    "    model = KMeans(n_clusters=k, random_state = 33)\n",
    "    model.fit(sample_data)\n",
    "    sd[k] = model.inertia_"
   ]
  },
  {
   "cell_type": "code",
   "execution_count": 100,
   "metadata": {},
   "outputs": [
    {
     "data": {
      "image/png": "[encoded data removed]",
      "text/plain": [
       "<Figure size 800x550 with 1 Axes>"
      ]
     },
     "metadata": {},
     "output_type": "display_data"
    }
   ],
   "source": [
    "plt.figure()\n",
    "plt.plot(list(sd.keys()), list(sd.values()))\n",
    "plt.xlabel('Number of clusters')\n",
    "plt.ylabel('Cost function')\n",
    "plt.show()"
   ]
  },
  {
   "cell_type": "markdown",
   "metadata": {},
   "source": [
    "Using the elbow method as a cutoff point is a common heuristic in mathematical optimization to choose a point where diminishing returns are no longer worth the additional cost. In clustering, this means one should choose a number of clusters so that adding another cluster doesn't give much better modeling of the data. As measure of cost we use the sum of squared distances of samples to their closest cluster center, weighted by the sample weights if provided. Usually, the part of the graph before the elbow would be steeply declining, while the part after it – much smoother. In this instance, the kink comes at between 10 and 25 ... clusters mark. So, we’ll be keeping a k-cluster solution in this interval. To be more accurate we can use the following plot"
   ]
  },
  {
   "cell_type": "code",
   "execution_count": 101,
   "metadata": {},
   "outputs": [
    {
     "data": {
      "image/png": "[encoded data removed]",
      "text/plain": [
       "<Figure size 800x550 with 2 Axes>"
      ]
     },
     "metadata": {},
     "output_type": "display_data"
    },
    {
     "data": {
      "text/plain": [
       "<AxesSubplot: title={'center': 'Distortion Score Elbow for KMeans Clustering'}, xlabel='k', ylabel='distortion score'>"
      ]
     },
     "execution_count": 101,
     "metadata": {},
     "output_type": "execute_result"
    }
   ],
   "source": [
    "from yellowbrick.cluster import KElbowVisualizer\n",
    "\n",
    "model = KMeans(random_state = 33)\n",
    "visualizer = KElbowVisualizer(model, k=(2,50))\n",
    "\n",
    "visualizer.fit(sample_data)     # Fit the data to the visualizer\n",
    "visualizer.show()               # Finalize and render the figure"
   ]
  },
  {
   "cell_type": "code",
   "execution_count": 102,
   "metadata": {},
   "outputs": [
    {
     "data": {
      "image/png": "[encoded data removed]",
      "text/plain": [
       "<Figure size 800x550 with 2 Axes>"
      ]
     },
     "metadata": {},
     "output_type": "display_data"
    },
    {
     "data": {
      "text/plain": [
       "<AxesSubplot: title={'center': 'Silhouette Score Elbow for KMeans Clustering'}, xlabel='k', ylabel='silhouette score'>"
      ]
     },
     "execution_count": 102,
     "metadata": {},
     "output_type": "execute_result"
    }
   ],
   "source": [
    "from yellowbrick.cluster import KElbowVisualizer\n",
    "\n",
    "model = KMeans(random_state = 33)\n",
    "visualizer = KElbowVisualizer(model, k=(2,50), metric = 'silhouette', timings = True)\n",
    "\n",
    "visualizer.fit(sample_data)     # Fit the data to the visualizer\n",
    "visualizer.show()               # Finalize and render the figure"
   ]
  },
  {
   "cell_type": "markdown",
   "metadata": {},
   "source": [
    "The silhouette value is a measure of how similar an object is to its own cluster (cohesion) compared to other clusters (separation). The silhouette ranges from −1 to +1, where a high value indicates that the object is well matched to its own cluster and poorly matched to neighboring clusters. If most objects have a high value, then the clustering configuration is appropriate. If many points have a low or negative value, then the clustering configuration may have too many or too few clusters."
   ]
  },
  {
   "cell_type": "markdown",
   "metadata": {},
   "source": [
    "We decide to follow the method based on the distorsion score, so the number of cluster that we are going to choose is 12"
   ]
  },
  {
   "cell_type": "markdown",
   "metadata": {},
   "source": [
    "#### 3 - Run the algorithm on the data."
   ]
  },
  {
   "cell_type": "code",
   "execution_count": 26,
   "metadata": {
    "executionInfo": {
     "elapsed": 233755,
     "status": "ok",
     "timestamp": 1670682133749,
     "user": {
      "displayName": "albachiara bellaroba",
      "userId": "12619736469280503823"
     },
     "user_tz": -60
    },
    "id": "2-JSa-_qL7ac"
   },
   "outputs": [],
   "source": [
    "clust = clustering(data, 12)"
   ]
  },
  {
   "cell_type": "code",
   "execution_count": 27,
   "metadata": {
    "executionInfo": {
     "elapsed": 2556,
     "status": "ok",
     "timestamp": 1670682181039,
     "user": {
      "displayName": "albachiara bellaroba",
      "userId": "12619736469280503823"
     },
     "user_tz": -60
    },
    "id": "UT9YLkZk4GNa"
   },
   "outputs": [],
   "source": [
    "with open(\"/content/drive/MyDrive/ADM_HW4/clust_output.pkl\", \"wb\") as file:\n",
    "    pkl.dump(clust, file)"
   ]
  },
  {
   "cell_type": "code",
   "execution_count": 55,
   "metadata": {},
   "outputs": [],
   "source": [
    "output_kmeans_ps = pd.read_pickle('clust_output.pkl')"
   ]
  },
  {
   "cell_type": "markdown",
   "metadata": {
    "id": "dcRM87CZ4GNc"
   },
   "source": [
    "#### 4 - K Means++"
   ]
  },
  {
   "cell_type": "markdown",
   "metadata": {
    "id": "pMmLgQwk4GNc"
   },
   "source": [
    "Both K-means and K-means++ are clustering methods which comes under unsupervised learning. The main difference between the two algorithms lies in:\n",
    " - the selection of the centroids around which the clustering takes place\n",
    " - k means++ removes the drawback of K means which is it is dependent on initialization of centroid"
   ]
  },
  {
   "cell_type": "markdown",
   "metadata": {
    "id": "3Frl0N0i4GNc"
   },
   "source": [
    "We are going to use the already implemented version of K-means++ (from the scikit-learn library)"
   ]
  },
  {
   "cell_type": "code",
   "execution_count": 56,
   "metadata": {},
   "outputs": [
    {
     "data": {
      "text/plain": [
       "KMeans(n_clusters=12, random_state=33)"
      ]
     },
     "execution_count": 56,
     "metadata": {},
     "output_type": "execute_result"
    }
   ],
   "source": [
    "# We have chosen four clusters, so we run K-means with number of clusters equals 12.\n",
    "# Same initializer and random state as before.\n",
    "kmeans_pca = KMeans(n_clusters = 12, init = 'k-means++' , random_state = 33)\n",
    "# We fit our data with the k-means pca model\n",
    "kmeans_pca.fit(data2)"
   ]
  },
  {
   "cell_type": "markdown",
   "metadata": {},
   "source": [
    "Before all else, we’ll create a new data frame. It allows us to add in the values of the separate components to our segmentation data set. The components’ scores are stored in the ‘data’ variable. Let’s label them Component 1,2,3,4,5,6. In addition, we also append the ‘K means P C A’ labels to the new data frame."
   ]
  },
  {
   "cell_type": "code",
   "execution_count": 57,
   "metadata": {},
   "outputs": [
    {
     "name": "stderr",
     "output_type": "stream",
     "text": [
      "C:\\Users\\abell\\AppData\\Local\\Temp\\ipykernel_3320\\304840670.py:9: SettingWithCopyWarning: \n",
      "A value is trying to be set on a copy of a slice from a DataFrame.\n",
      "Try using .loc[row_indexer,col_indexer] = value instead\n",
      "\n",
      "See the caveats in the documentation: https://pandas.pydata.org/pandas-docs/stable/user_guide/indexing.html#returning-a-view-versus-a-copy\n",
      "  df_segm_pca_kmeans2[\"Segment K-means PCA\"] =  kmeans_pca.labels_\n"
     ]
    }
   ],
   "source": [
    "## K-means clustering with PCA Results\n",
    "# we create a new data frame with the original features and add the PCA scores and assigned clusters.\n",
    "\n",
    "df_segm_pca_kmeans = pd.concat([CID_data.reset_index(drop = True), pd.DataFrame(data2)], axis = 1)\n",
    "df_segm_pca_kmeans2 = df_segm_pca_kmeans[[\"CustomerID\",\"AverageAmount (USD)\",\"AverageBalance (USD)\",\"pc1\",\"pc2\",\"pc3\",\"pc4\",\"pc5\",\"pc6\"]]\n",
    "\n",
    "# The Last column we add contains the pea R-means clustering labels. \n",
    "df_segm_pca_kmeans[\"Segment K-means PCA\"] =  kmeans_pca.labels_\n",
    "df_segm_pca_kmeans2[\"Segment K-means PCA\"] =  kmeans_pca.labels_"
   ]
  },
  {
   "cell_type": "markdown",
   "metadata": {},
   "source": [
    "We do the same using the output of the previous KMeans with PySpark, so later we can compare the two results of the different algorithms."
   ]
  },
  {
   "cell_type": "code",
   "execution_count": 58,
   "metadata": {},
   "outputs": [
    {
     "name": "stderr",
     "output_type": "stream",
     "text": [
      "C:\\Users\\abell\\AppData\\Local\\Temp\\ipykernel_3320\\2921604670.py:6: SettingWithCopyWarning: \n",
      "A value is trying to be set on a copy of a slice from a DataFrame.\n",
      "Try using .loc[row_indexer,col_indexer] = value instead\n",
      "\n",
      "See the caveats in the documentation: https://pandas.pydata.org/pandas-docs/stable/user_guide/indexing.html#returning-a-view-versus-a-copy\n",
      "  df_segm_pca_kmeans2[\"Segment K-means PySp PCA\"] =  output_kmeans_ps\n"
     ]
    }
   ],
   "source": [
    "## K-means clustering with PCA Results\n",
    "# we create a new data frame with the original features and add the PCA scores and assigned clusters.\n",
    "\n",
    "# The Last column we add contains the pea R-means clustering labels. \n",
    "df_segm_pca_kmeans[\"Segment K-means PySp PCA\"] =  output_kmeans_ps\n",
    "df_segm_pca_kmeans2[\"Segment K-means PySp PCA\"] =  output_kmeans_ps"
   ]
  },
  {
   "cell_type": "code",
   "execution_count": 59,
   "metadata": {},
   "outputs": [
    {
     "data": {
      "text/html": [
       "<div>\n",
       "<style scoped>\n",
       "    .dataframe tbody tr th:only-of-type {\n",
       "        vertical-align: middle;\n",
       "    }\n",
       "\n",
       "    .dataframe tbody tr th {\n",
       "        vertical-align: top;\n",
       "    }\n",
       "\n",
       "    .dataframe thead th {\n",
       "        text-align: right;\n",
       "    }\n",
       "</style>\n",
       "<table border=\"1\" class=\"dataframe\">\n",
       "  <thead>\n",
       "    <tr style=\"text-align: right;\">\n",
       "      <th></th>\n",
       "      <th>CustomerID</th>\n",
       "      <th>AverageAmount (USD)</th>\n",
       "      <th>AverageBalance (USD)</th>\n",
       "      <th>pc1</th>\n",
       "      <th>pc2</th>\n",
       "      <th>pc3</th>\n",
       "      <th>pc4</th>\n",
       "      <th>pc5</th>\n",
       "      <th>pc6</th>\n",
       "      <th>Segment K-means PCA</th>\n",
       "      <th>Segment K-means PySp PCA</th>\n",
       "    </tr>\n",
       "  </thead>\n",
       "  <tbody>\n",
       "    <tr>\n",
       "      <th>0</th>\n",
       "      <td>C5841053</td>\n",
       "      <td>-0.236324</td>\n",
       "      <td>-0.111969</td>\n",
       "      <td>-0.518891</td>\n",
       "      <td>-0.618372</td>\n",
       "      <td>0.346319</td>\n",
       "      <td>1.464874</td>\n",
       "      <td>-1.281872</td>\n",
       "      <td>0.923696</td>\n",
       "      <td>6</td>\n",
       "      <td>11</td>\n",
       "    </tr>\n",
       "    <tr>\n",
       "      <th>1</th>\n",
       "      <td>C2142763</td>\n",
       "      <td>4.391152</td>\n",
       "      <td>-0.131744</td>\n",
       "      <td>2.593429</td>\n",
       "      <td>10.238761</td>\n",
       "      <td>-1.592661</td>\n",
       "      <td>-4.228786</td>\n",
       "      <td>-1.036864</td>\n",
       "      <td>-1.044591</td>\n",
       "      <td>8</td>\n",
       "      <td>9</td>\n",
       "    </tr>\n",
       "    <tr>\n",
       "      <th>2</th>\n",
       "      <td>C4417068</td>\n",
       "      <td>-0.164531</td>\n",
       "      <td>-0.111898</td>\n",
       "      <td>-0.516352</td>\n",
       "      <td>-0.487341</td>\n",
       "      <td>0.275540</td>\n",
       "      <td>1.778176</td>\n",
       "      <td>-1.289515</td>\n",
       "      <td>1.011696</td>\n",
       "      <td>6</td>\n",
       "      <td>11</td>\n",
       "    </tr>\n",
       "    <tr>\n",
       "      <th>3</th>\n",
       "      <td>C5342380</td>\n",
       "      <td>0.002577</td>\n",
       "      <td>0.418435</td>\n",
       "      <td>1.191499</td>\n",
       "      <td>-0.276929</td>\n",
       "      <td>1.227689</td>\n",
       "      <td>-1.421101</td>\n",
       "      <td>-0.704120</td>\n",
       "      <td>1.541486</td>\n",
       "      <td>6</td>\n",
       "      <td>5</td>\n",
       "    </tr>\n",
       "    <tr>\n",
       "      <th>4</th>\n",
       "      <td>C9031234</td>\n",
       "      <td>0.051095</td>\n",
       "      <td>-0.126092</td>\n",
       "      <td>-0.412399</td>\n",
       "      <td>0.277057</td>\n",
       "      <td>-0.890566</td>\n",
       "      <td>0.504830</td>\n",
       "      <td>1.101962</td>\n",
       "      <td>-0.557547</td>\n",
       "      <td>0</td>\n",
       "      <td>0</td>\n",
       "    </tr>\n",
       "    <tr>\n",
       "      <th>...</th>\n",
       "      <td>...</td>\n",
       "      <td>...</td>\n",
       "      <td>...</td>\n",
       "      <td>...</td>\n",
       "      <td>...</td>\n",
       "      <td>...</td>\n",
       "      <td>...</td>\n",
       "      <td>...</td>\n",
       "      <td>...</td>\n",
       "      <td>...</td>\n",
       "      <td>...</td>\n",
       "    </tr>\n",
       "    <tr>\n",
       "      <th>839076</th>\n",
       "      <td>C5028150</td>\n",
       "      <td>0.255803</td>\n",
       "      <td>-0.134041</td>\n",
       "      <td>-0.277962</td>\n",
       "      <td>1.357223</td>\n",
       "      <td>-3.587174</td>\n",
       "      <td>-1.790675</td>\n",
       "      <td>1.360309</td>\n",
       "      <td>-0.599223</td>\n",
       "      <td>1</td>\n",
       "      <td>9</td>\n",
       "    </tr>\n",
       "    <tr>\n",
       "      <th>839077</th>\n",
       "      <td>C1034220</td>\n",
       "      <td>0.007672</td>\n",
       "      <td>-0.133089</td>\n",
       "      <td>-0.674376</td>\n",
       "      <td>0.717460</td>\n",
       "      <td>-4.220924</td>\n",
       "      <td>0.037691</td>\n",
       "      <td>1.327663</td>\n",
       "      <td>0.016071</td>\n",
       "      <td>1</td>\n",
       "      <td>1</td>\n",
       "    </tr>\n",
       "    <tr>\n",
       "      <th>839078</th>\n",
       "      <td>C8020229</td>\n",
       "      <td>-0.108288</td>\n",
       "      <td>-0.124921</td>\n",
       "      <td>-0.557233</td>\n",
       "      <td>-0.094091</td>\n",
       "      <td>-1.067252</td>\n",
       "      <td>0.840706</td>\n",
       "      <td>1.072331</td>\n",
       "      <td>-0.424431</td>\n",
       "      <td>0</td>\n",
       "      <td>0</td>\n",
       "    </tr>\n",
       "    <tr>\n",
       "      <th>839079</th>\n",
       "      <td>C6459278</td>\n",
       "      <td>-0.164366</td>\n",
       "      <td>-0.099896</td>\n",
       "      <td>-0.410451</td>\n",
       "      <td>-0.492721</td>\n",
       "      <td>0.494052</td>\n",
       "      <td>1.298620</td>\n",
       "      <td>1.098601</td>\n",
       "      <td>-0.121484</td>\n",
       "      <td>0</td>\n",
       "      <td>10</td>\n",
       "    </tr>\n",
       "    <tr>\n",
       "      <th>839080</th>\n",
       "      <td>C6420483</td>\n",
       "      <td>-0.075039</td>\n",
       "      <td>-0.121763</td>\n",
       "      <td>-0.154109</td>\n",
       "      <td>-0.170985</td>\n",
       "      <td>1.095403</td>\n",
       "      <td>-0.579391</td>\n",
       "      <td>1.135125</td>\n",
       "      <td>-0.727074</td>\n",
       "      <td>0</td>\n",
       "      <td>2</td>\n",
       "    </tr>\n",
       "  </tbody>\n",
       "</table>\n",
       "<p>839081 rows × 11 columns</p>\n",
       "</div>"
      ],
      "text/plain": [
       "       CustomerID  AverageAmount (USD)  AverageBalance (USD)       pc1  \\\n",
       "0        C5841053            -0.236324             -0.111969 -0.518891   \n",
       "1        C2142763             4.391152             -0.131744  2.593429   \n",
       "2        C4417068            -0.164531             -0.111898 -0.516352   \n",
       "3        C5342380             0.002577              0.418435  1.191499   \n",
       "4        C9031234             0.051095             -0.126092 -0.412399   \n",
       "...           ...                  ...                   ...       ...   \n",
       "839076   C5028150             0.255803             -0.134041 -0.277962   \n",
       "839077   C1034220             0.007672             -0.133089 -0.674376   \n",
       "839078   C8020229            -0.108288             -0.124921 -0.557233   \n",
       "839079   C6459278            -0.164366             -0.099896 -0.410451   \n",
       "839080   C6420483            -0.075039             -0.121763 -0.154109   \n",
       "\n",
       "              pc2       pc3       pc4       pc5       pc6  \\\n",
       "0       -0.618372  0.346319  1.464874 -1.281872  0.923696   \n",
       "1       10.238761 -1.592661 -4.228786 -1.036864 -1.044591   \n",
       "2       -0.487341  0.275540  1.778176 -1.289515  1.011696   \n",
       "3       -0.276929  1.227689 -1.421101 -0.704120  1.541486   \n",
       "4        0.277057 -0.890566  0.504830  1.101962 -0.557547   \n",
       "...           ...       ...       ...       ...       ...   \n",
       "839076   1.357223 -3.587174 -1.790675  1.360309 -0.599223   \n",
       "839077   0.717460 -4.220924  0.037691  1.327663  0.016071   \n",
       "839078  -0.094091 -1.067252  0.840706  1.072331 -0.424431   \n",
       "839079  -0.492721  0.494052  1.298620  1.098601 -0.121484   \n",
       "839080  -0.170985  1.095403 -0.579391  1.135125 -0.727074   \n",
       "\n",
       "        Segment K-means PCA  Segment K-means PySp PCA  \n",
       "0                         6                        11  \n",
       "1                         8                         9  \n",
       "2                         6                        11  \n",
       "3                         6                         5  \n",
       "4                         0                         0  \n",
       "...                     ...                       ...  \n",
       "839076                    1                         9  \n",
       "839077                    1                         1  \n",
       "839078                    0                         0  \n",
       "839079                    0                        10  \n",
       "839080                    0                         2  \n",
       "\n",
       "[839081 rows x 11 columns]"
      ]
     },
     "execution_count": 59,
     "metadata": {},
     "output_type": "execute_result"
    }
   ],
   "source": [
    "df_segm_pca_kmeans2"
   ]
  },
  {
   "cell_type": "code",
   "execution_count": 60,
   "metadata": {},
   "outputs": [
    {
     "name": "stderr",
     "output_type": "stream",
     "text": [
      "C:\\Users\\abell\\AppData\\Local\\Temp\\ipykernel_3320\\1362144929.py:9: SettingWithCopyWarning: \n",
      "A value is trying to be set on a copy of a slice from a DataFrame.\n",
      "Try using .loc[row_indexer,col_indexer] = value instead\n",
      "\n",
      "See the caveats in the documentation: https://pandas.pydata.org/pandas-docs/stable/user_guide/indexing.html#returning-a-view-versus-a-copy\n",
      "  df_segm_pca_kmeans2[\"Segment1\"] = df_segm_pca_kmeans2[\"Segment K-means PCA\"].map({0:'first', 1:'second', 2: 'third', 3: 'fourth',\n",
      "C:\\Users\\abell\\AppData\\Local\\Temp\\ipykernel_3320\\1362144929.py:13: SettingWithCopyWarning: \n",
      "A value is trying to be set on a copy of a slice from a DataFrame.\n",
      "Try using .loc[row_indexer,col_indexer] = value instead\n",
      "\n",
      "See the caveats in the documentation: https://pandas.pydata.org/pandas-docs/stable/user_guide/indexing.html#returning-a-view-versus-a-copy\n",
      "  df_segm_pca_kmeans2[\"Segment2\"] = df_segm_pca_kmeans2[\"Segment K-means PySp PCA\"].map({0:'first', 1:'second', 2: 'third', 3: 'fourth',\n"
     ]
    }
   ],
   "source": [
    "df_segm_pca_kmeans[\"Segment1\"] = df_segm_pca_kmeans[\"Segment K-means PCA\"].map({0:'first', 1:'second', 2: 'third', 3: 'fourth',\n",
    "                                                                               4:'fifth', 5:'sixth', 6: 'seventh', 7: 'eighth',\n",
    "                                                                               8:'nineth', 9:'tenth', 10: 'eleventh', 11: 'twelth',\n",
    "                                                                               })\n",
    "df_segm_pca_kmeans[\"Segment2\"] = df_segm_pca_kmeans[\"Segment K-means PySp PCA\"].map({0:'first', 1:'second', 2: 'third', 3: 'fourth',\n",
    "                                                                               4:'fifth', 5:'sixth', 6: 'seventh', 7: 'eighth',\n",
    "                                                                               8:'nineth', 9:'tenth', 10: 'eleventh', 11: 'twelth',\n",
    "                                                                               })\n",
    "df_segm_pca_kmeans2[\"Segment1\"] = df_segm_pca_kmeans2[\"Segment K-means PCA\"].map({0:'first', 1:'second', 2: 'third', 3: 'fourth',\n",
    "                                                                               4:'fifth', 5:'sixth', 6: 'seventh', 7: 'eighth',\n",
    "                                                                               8:'nineth', 9:'tenth', 10: 'eleventh', 11: 'twelth',\n",
    "                                                                               })\n",
    "df_segm_pca_kmeans2[\"Segment2\"] = df_segm_pca_kmeans2[\"Segment K-means PySp PCA\"].map({0:'first', 1:'second', 2: 'third', 3: 'fourth',\n",
    "                                                                               4:'fifth', 5:'sixth', 6: 'seventh', 7: 'eighth',\n",
    "                                                                               8:'nineth', 9:'tenth', 10: 'eleventh', 11: 'twelth',\n",
    "                                                                               })"
   ]
  },
  {
   "cell_type": "code",
   "execution_count": 61,
   "metadata": {},
   "outputs": [
    {
     "data": {
      "text/html": [
       "<div>\n",
       "<style scoped>\n",
       "    .dataframe tbody tr th:only-of-type {\n",
       "        vertical-align: middle;\n",
       "    }\n",
       "\n",
       "    .dataframe tbody tr th {\n",
       "        vertical-align: top;\n",
       "    }\n",
       "\n",
       "    .dataframe thead th {\n",
       "        text-align: right;\n",
       "    }\n",
       "</style>\n",
       "<table border=\"1\" class=\"dataframe\">\n",
       "  <thead>\n",
       "    <tr style=\"text-align: right;\">\n",
       "      <th></th>\n",
       "      <th>CustomerID</th>\n",
       "      <th>AverageAmount (USD)</th>\n",
       "      <th>AverageBalance (USD)</th>\n",
       "      <th>pc1</th>\n",
       "      <th>pc2</th>\n",
       "      <th>pc3</th>\n",
       "      <th>pc4</th>\n",
       "      <th>pc5</th>\n",
       "      <th>pc6</th>\n",
       "      <th>Segment K-means PCA</th>\n",
       "      <th>Segment K-means PySp PCA</th>\n",
       "      <th>Segment1</th>\n",
       "      <th>Segment2</th>\n",
       "    </tr>\n",
       "  </thead>\n",
       "  <tbody>\n",
       "    <tr>\n",
       "      <th>0</th>\n",
       "      <td>C5841053</td>\n",
       "      <td>-0.236324</td>\n",
       "      <td>-0.111969</td>\n",
       "      <td>-0.518891</td>\n",
       "      <td>-0.618372</td>\n",
       "      <td>0.346319</td>\n",
       "      <td>1.464874</td>\n",
       "      <td>-1.281872</td>\n",
       "      <td>0.923696</td>\n",
       "      <td>6</td>\n",
       "      <td>11</td>\n",
       "      <td>seventh</td>\n",
       "      <td>twelth</td>\n",
       "    </tr>\n",
       "    <tr>\n",
       "      <th>1</th>\n",
       "      <td>C2142763</td>\n",
       "      <td>4.391152</td>\n",
       "      <td>-0.131744</td>\n",
       "      <td>2.593429</td>\n",
       "      <td>10.238761</td>\n",
       "      <td>-1.592661</td>\n",
       "      <td>-4.228786</td>\n",
       "      <td>-1.036864</td>\n",
       "      <td>-1.044591</td>\n",
       "      <td>8</td>\n",
       "      <td>9</td>\n",
       "      <td>nineth</td>\n",
       "      <td>tenth</td>\n",
       "    </tr>\n",
       "    <tr>\n",
       "      <th>2</th>\n",
       "      <td>C4417068</td>\n",
       "      <td>-0.164531</td>\n",
       "      <td>-0.111898</td>\n",
       "      <td>-0.516352</td>\n",
       "      <td>-0.487341</td>\n",
       "      <td>0.275540</td>\n",
       "      <td>1.778176</td>\n",
       "      <td>-1.289515</td>\n",
       "      <td>1.011696</td>\n",
       "      <td>6</td>\n",
       "      <td>11</td>\n",
       "      <td>seventh</td>\n",
       "      <td>twelth</td>\n",
       "    </tr>\n",
       "    <tr>\n",
       "      <th>3</th>\n",
       "      <td>C5342380</td>\n",
       "      <td>0.002577</td>\n",
       "      <td>0.418435</td>\n",
       "      <td>1.191499</td>\n",
       "      <td>-0.276929</td>\n",
       "      <td>1.227689</td>\n",
       "      <td>-1.421101</td>\n",
       "      <td>-0.704120</td>\n",
       "      <td>1.541486</td>\n",
       "      <td>6</td>\n",
       "      <td>5</td>\n",
       "      <td>seventh</td>\n",
       "      <td>sixth</td>\n",
       "    </tr>\n",
       "    <tr>\n",
       "      <th>4</th>\n",
       "      <td>C9031234</td>\n",
       "      <td>0.051095</td>\n",
       "      <td>-0.126092</td>\n",
       "      <td>-0.412399</td>\n",
       "      <td>0.277057</td>\n",
       "      <td>-0.890566</td>\n",
       "      <td>0.504830</td>\n",
       "      <td>1.101962</td>\n",
       "      <td>-0.557547</td>\n",
       "      <td>0</td>\n",
       "      <td>0</td>\n",
       "      <td>first</td>\n",
       "      <td>first</td>\n",
       "    </tr>\n",
       "    <tr>\n",
       "      <th>...</th>\n",
       "      <td>...</td>\n",
       "      <td>...</td>\n",
       "      <td>...</td>\n",
       "      <td>...</td>\n",
       "      <td>...</td>\n",
       "      <td>...</td>\n",
       "      <td>...</td>\n",
       "      <td>...</td>\n",
       "      <td>...</td>\n",
       "      <td>...</td>\n",
       "      <td>...</td>\n",
       "      <td>...</td>\n",
       "      <td>...</td>\n",
       "    </tr>\n",
       "    <tr>\n",
       "      <th>839076</th>\n",
       "      <td>C5028150</td>\n",
       "      <td>0.255803</td>\n",
       "      <td>-0.134041</td>\n",
       "      <td>-0.277962</td>\n",
       "      <td>1.357223</td>\n",
       "      <td>-3.587174</td>\n",
       "      <td>-1.790675</td>\n",
       "      <td>1.360309</td>\n",
       "      <td>-0.599223</td>\n",
       "      <td>1</td>\n",
       "      <td>9</td>\n",
       "      <td>second</td>\n",
       "      <td>tenth</td>\n",
       "    </tr>\n",
       "    <tr>\n",
       "      <th>839077</th>\n",
       "      <td>C1034220</td>\n",
       "      <td>0.007672</td>\n",
       "      <td>-0.133089</td>\n",
       "      <td>-0.674376</td>\n",
       "      <td>0.717460</td>\n",
       "      <td>-4.220924</td>\n",
       "      <td>0.037691</td>\n",
       "      <td>1.327663</td>\n",
       "      <td>0.016071</td>\n",
       "      <td>1</td>\n",
       "      <td>1</td>\n",
       "      <td>second</td>\n",
       "      <td>second</td>\n",
       "    </tr>\n",
       "    <tr>\n",
       "      <th>839078</th>\n",
       "      <td>C8020229</td>\n",
       "      <td>-0.108288</td>\n",
       "      <td>-0.124921</td>\n",
       "      <td>-0.557233</td>\n",
       "      <td>-0.094091</td>\n",
       "      <td>-1.067252</td>\n",
       "      <td>0.840706</td>\n",
       "      <td>1.072331</td>\n",
       "      <td>-0.424431</td>\n",
       "      <td>0</td>\n",
       "      <td>0</td>\n",
       "      <td>first</td>\n",
       "      <td>first</td>\n",
       "    </tr>\n",
       "    <tr>\n",
       "      <th>839079</th>\n",
       "      <td>C6459278</td>\n",
       "      <td>-0.164366</td>\n",
       "      <td>-0.099896</td>\n",
       "      <td>-0.410451</td>\n",
       "      <td>-0.492721</td>\n",
       "      <td>0.494052</td>\n",
       "      <td>1.298620</td>\n",
       "      <td>1.098601</td>\n",
       "      <td>-0.121484</td>\n",
       "      <td>0</td>\n",
       "      <td>10</td>\n",
       "      <td>first</td>\n",
       "      <td>eleventh</td>\n",
       "    </tr>\n",
       "    <tr>\n",
       "      <th>839080</th>\n",
       "      <td>C6420483</td>\n",
       "      <td>-0.075039</td>\n",
       "      <td>-0.121763</td>\n",
       "      <td>-0.154109</td>\n",
       "      <td>-0.170985</td>\n",
       "      <td>1.095403</td>\n",
       "      <td>-0.579391</td>\n",
       "      <td>1.135125</td>\n",
       "      <td>-0.727074</td>\n",
       "      <td>0</td>\n",
       "      <td>2</td>\n",
       "      <td>first</td>\n",
       "      <td>third</td>\n",
       "    </tr>\n",
       "  </tbody>\n",
       "</table>\n",
       "<p>839081 rows × 13 columns</p>\n",
       "</div>"
      ],
      "text/plain": [
       "       CustomerID  AverageAmount (USD)  AverageBalance (USD)       pc1  \\\n",
       "0        C5841053            -0.236324             -0.111969 -0.518891   \n",
       "1        C2142763             4.391152             -0.131744  2.593429   \n",
       "2        C4417068            -0.164531             -0.111898 -0.516352   \n",
       "3        C5342380             0.002577              0.418435  1.191499   \n",
       "4        C9031234             0.051095             -0.126092 -0.412399   \n",
       "...           ...                  ...                   ...       ...   \n",
       "839076   C5028150             0.255803             -0.134041 -0.277962   \n",
       "839077   C1034220             0.007672             -0.133089 -0.674376   \n",
       "839078   C8020229            -0.108288             -0.124921 -0.557233   \n",
       "839079   C6459278            -0.164366             -0.099896 -0.410451   \n",
       "839080   C6420483            -0.075039             -0.121763 -0.154109   \n",
       "\n",
       "              pc2       pc3       pc4       pc5       pc6  \\\n",
       "0       -0.618372  0.346319  1.464874 -1.281872  0.923696   \n",
       "1       10.238761 -1.592661 -4.228786 -1.036864 -1.044591   \n",
       "2       -0.487341  0.275540  1.778176 -1.289515  1.011696   \n",
       "3       -0.276929  1.227689 -1.421101 -0.704120  1.541486   \n",
       "4        0.277057 -0.890566  0.504830  1.101962 -0.557547   \n",
       "...           ...       ...       ...       ...       ...   \n",
       "839076   1.357223 -3.587174 -1.790675  1.360309 -0.599223   \n",
       "839077   0.717460 -4.220924  0.037691  1.327663  0.016071   \n",
       "839078  -0.094091 -1.067252  0.840706  1.072331 -0.424431   \n",
       "839079  -0.492721  0.494052  1.298620  1.098601 -0.121484   \n",
       "839080  -0.170985  1.095403 -0.579391  1.135125 -0.727074   \n",
       "\n",
       "        Segment K-means PCA  Segment K-means PySp PCA Segment1  Segment2  \n",
       "0                         6                        11  seventh    twelth  \n",
       "1                         8                         9   nineth     tenth  \n",
       "2                         6                        11  seventh    twelth  \n",
       "3                         6                         5  seventh     sixth  \n",
       "4                         0                         0    first     first  \n",
       "...                     ...                       ...      ...       ...  \n",
       "839076                    1                         9   second     tenth  \n",
       "839077                    1                         1   second    second  \n",
       "839078                    0                         0    first     first  \n",
       "839079                    0                        10    first  eleventh  \n",
       "839080                    0                         2    first     third  \n",
       "\n",
       "[839081 rows x 13 columns]"
      ]
     },
     "execution_count": 61,
     "metadata": {},
     "output_type": "execute_result"
    }
   ],
   "source": [
    "df_segm_pca_kmeans2"
   ]
  },
  {
   "cell_type": "markdown",
   "metadata": {},
   "source": [
    "We can plot the two principal components grouped by the cluster labels, we can notice that their are ortogonal."
   ]
  },
  {
   "cell_type": "code",
   "execution_count": 62,
   "metadata": {},
   "outputs": [
    {
     "data": {
      "text/plain": [
       "<AxesSubplot:xlabel='pc1', ylabel='pc2'>"
      ]
     },
     "execution_count": 62,
     "metadata": {},
     "output_type": "execute_result"
    },
    {
     "data": {
      "image/png": "[encoded data removed]",
      "text/plain": [
       "<Figure size 576x396 with 1 Axes>"
      ]
     },
     "metadata": {},
     "output_type": "display_data"
    }
   ],
   "source": [
    "sns.scatterplot(x = df_segm_pca_kmeans [\"pc1\"] ,\n",
    "                y= df_segm_pca_kmeans [\"pc2\"],\n",
    "                palette = sns.color_palette('hls',len(df_segm_pca_kmeans.Segment1.unique())),\n",
    "               hue = df_segm_pca_kmeans.Segment1)"
   ]
  },
  {
   "cell_type": "code",
   "execution_count": 63,
   "metadata": {},
   "outputs": [
    {
     "data": {
      "text/plain": [
       "<AxesSubplot:xlabel='pc1', ylabel='pc2'>"
      ]
     },
     "execution_count": 63,
     "metadata": {},
     "output_type": "execute_result"
    },
    {
     "data": {
      "image/png": "[encoded data removed]",
      "text/plain": [
       "<Figure size 576x396 with 1 Axes>"
      ]
     },
     "metadata": {},
     "output_type": "display_data"
    }
   ],
   "source": [
    "sns.scatterplot(x = df_segm_pca_kmeans [\"pc1\"] ,\n",
    "                y= df_segm_pca_kmeans [\"pc2\"],\n",
    "                palette = sns.color_palette('hls',len(df_segm_pca_kmeans.Segment2.unique())),\n",
    "               hue = df_segm_pca_kmeans.Segment2)"
   ]
  },
  {
   "cell_type": "markdown",
   "metadata": {},
   "source": [
    "In the following plot is represented the relationship between average amount (usd) and average balance (usd) grouped by cluster labels. (standardized data)"
   ]
  },
  {
   "cell_type": "code",
   "execution_count": 64,
   "metadata": {},
   "outputs": [
    {
     "data": {
      "image/png": "[encoded data removed]",
      "text/plain": [
       "<Figure size 576x396 with 1 Axes>"
      ]
     },
     "metadata": {},
     "output_type": "display_data"
    }
   ],
   "source": [
    "g = sns.scatterplot(x = df_segm_pca_kmeans2 [\"AverageAmount (USD)\"] ,\n",
    "                y= df_segm_pca_kmeans2 [\"AverageBalance (USD)\"],\n",
    "                palette = sns.color_palette('hls',len(df_segm_pca_kmeans.Segment1.unique())),\n",
    "               hue = df_segm_pca_kmeans.Segment1)\n",
    "g.set(ylim=(-10, 100))\n",
    "g.set(xlim=(-1, 10))\n",
    "plt.show()"
   ]
  },
  {
   "cell_type": "code",
   "execution_count": 65,
   "metadata": {},
   "outputs": [
    {
     "data": {
      "image/png": "[encoded data removed]",
      "text/plain": [
       "<Figure size 576x396 with 1 Axes>"
      ]
     },
     "metadata": {},
     "output_type": "display_data"
    }
   ],
   "source": [
    "g = sns.scatterplot(x = df_segm_pca_kmeans2 [\"AverageAmount (USD)\"] ,\n",
    "                y= df_segm_pca_kmeans2 [\"AverageBalance (USD)\"],\n",
    "                palette = sns.color_palette('hls',len(df_segm_pca_kmeans.Segment2.unique())),\n",
    "               hue = df_segm_pca_kmeans.Segment2)\n",
    "g.set(ylim=(-10, 100))\n",
    "g.set(xlim=(-1, 10))\n",
    "plt.show()"
   ]
  },
  {
   "cell_type": "markdown",
   "metadata": {},
   "source": [
    "Now we want to measure how many Customers are in a different cluster using the KMeans with PySpark rather than the KMeans++."
   ]
  },
  {
   "cell_type": "code",
   "execution_count": 66,
   "metadata": {},
   "outputs": [],
   "source": [
    "different = {}\n",
    "for i in range(len(df_segm_pca_kmeans2[\"Segment K-means PCA\"])):\n",
    "    if df_segm_pca_kmeans2[\"Segment K-means PCA\"].iloc[i] != df_segm_pca_kmeans2[\"Segment K-means PySp PCA\"].iloc[i]:\n",
    "        cluster = df_segm_pca_kmeans2[\"Segment K-means PCA\"].iloc[i]\n",
    "        if cluster in different.keys():\n",
    "            different[cluster] += 1\n",
    "        else:\n",
    "            different[cluster] = 1"
   ]
  },
  {
   "cell_type": "code",
   "execution_count": 88,
   "metadata": {},
   "outputs": [
    {
     "data": {
      "text/plain": [
       "{6: 236358,\n",
       " 8: 8688,\n",
       " 10: 78677,\n",
       " 0: 194773,\n",
       " 11: 43141,\n",
       " 5: 115234,\n",
       " 1: 30492,\n",
       " 4: 872,\n",
       " 2: 1812,\n",
       " 9: 146,\n",
       " 7: 26,\n",
       " 3: 28}"
      ]
     },
     "execution_count": 67,
     "metadata": {},
     "output_type": "execute_result"
    }
   ],
   "source": [
    "different"
   ]
  },
  {
   "cell_type": "code",
   "execution_count": 84,
   "metadata": {},
   "outputs": [
    {
     "name": "stdout",
     "output_type": "stream",
     "text": [
      "The total number of differences between the clusters is: 710247 over 839081 values.\n",
      "The percentage of similarity between the two results is: 0.1535417915552849\n"
     ]
    }
   ],
   "source": [
    "print('The total number of differences between the clusters is: ' + str(sum(different.values())) + ' over ' + str(len(df_segm_pca_kmeans2[\"Segment K-means PCA\"])) + ' values.')\n",
    "print('The percentage of similarity between the two results is: ' + str(1 - (sum(different.values())/len(df_segm_pca_kmeans2[\"Segment K-means PCA\"]))))"
   ]
  },
  {
   "cell_type": "markdown",
   "metadata": {},
   "source": [
    "From these results we can conclude that using the two algorithms the differences are substantial. \n",
    "This is exactly what we were expecting, since the KMeans++ starts with the allocation of one cluster center at random and then searches for other centers given the first one, while the KMeans that we implemented starts from a random state initialized manually and then it keeps being dependent from the first random state (rather than only from the right previous one). To make it works better you should run it a lot of time and then compute a summary solution coming out from all of the others."
   ]
  },
  {
   "cell_type": "markdown",
   "metadata": {
    "id": "VSlvlGbk4GNd"
   },
   "source": [
    "### 2.4 Analysing your results!"
   ]
  },
  {
   "cell_type": "markdown",
   "metadata": {},
   "source": [
    "#### - 2.4.1"
   ]
  },
  {
   "cell_type": "markdown",
   "metadata": {},
   "source": [
    "We thought that the most relevant variables in our dataset to identify the cluster of the customer are `AverageAmount (USD)` that is the average amount of transactions done by each CustomerID, `AverageBalance (USD)` that is the average balance of each CustomerID and `AverageCustomerAge` that is the average age of each CustomerID (remember that every CustomerAccount may have more than one person)."
   ]
  },
  {
   "cell_type": "code",
   "execution_count": null,
   "metadata": {},
   "outputs": [],
   "source": [
    "df_pivot = pd.read_pickle(\"CID_data.pkl\")"
   ]
  },
  {
   "cell_type": "code",
   "execution_count": 76,
   "metadata": {},
   "outputs": [
    {
     "data": {
      "text/plain": [
       "Index(['CustomerID', 'NumberTransactions', 'N_trans_bal>100',\n",
       "       'AverageAmount (INR)', 'AverageBalance (INR)', 'Utilization',\n",
       "       'AverageAmount (USD)', 'AverageBalance (USD)', 'MaxAmountTrans (USD)',\n",
       "       'MinAmountTrans (USD)', 'MaxBalance (USD)', 'MinBalance (USD)',\n",
       "       'N_morningTransactions', 'N_afternoonTransactions',\n",
       "       'N_eveningTransactions', 'N_nigthTransactions',\n",
       "       'NumberNegativeTransaction', 'NTransaction>HalfBalance',\n",
       "       'N_trans_>one_tenth_bal', 'MedianAmount (USD)', 'VarianceAmount (USD)',\n",
       "       'MedianBalance (USD)', 'VarianceBalance', 'AverageRecency',\n",
       "       'AverageCustomerAge', 'MedianCustomerAge', 'VarianceCustomerAge',\n",
       "       'MostCommonGender_F', 'MostCommonGender_M', 'MostCommonGender_MF',\n",
       "       'Segment K-means PCA', 'Segment1'],\n",
       "      dtype='object')"
      ]
     },
     "execution_count": 76,
     "metadata": {},
     "output_type": "execute_result"
    }
   ],
   "source": [
    "df_pivot.columns"
   ]
  },
  {
   "cell_type": "code",
   "execution_count": 72,
   "metadata": {},
   "outputs": [],
   "source": [
    "df_pivot =  pd.concat([df_pivot.reset_index(drop = True), pd.DataFrame(df_segm_pca_kmeans[[\"Segment K-means PCA\",\"Segment1\"]])], axis = 1)"
   ]
  },
  {
   "cell_type": "code",
   "execution_count": null,
   "metadata": {},
   "outputs": [],
   "source": [
    "df_pivot = df_pivot[['CustomerID','MostCommonGender', \"AverageBalance (USD)\",'AverageCustomerAge', \"Segment K-means PCA\",\"Segment1\"]]"
   ]
  },
  {
   "cell_type": "markdown",
   "metadata": {},
   "source": [
    "#### - 2.4.2"
   ]
  },
  {
   "cell_type": "markdown",
   "metadata": {},
   "source": [
    "- Categorial AverageBalance (USD)"
   ]
  },
  {
   "cell_type": "code",
   "execution_count": 377,
   "metadata": {},
   "outputs": [],
   "source": [
    "bins_average_balance = np.arange(df_pivot[[\"AverageBalance (USD)\"]].min().values[0] -1 ,df_pivot[[\"AverageBalance (USD)\"]].max().values[0]+1, ((df_pivot[[\"AverageBalance (USD)\"]].max()+1)/4).values[0])"
   ]
  },
  {
   "cell_type": "code",
   "execution_count": 378,
   "metadata": {},
   "outputs": [
    {
     "data": {
      "text/plain": [
       "array([-1.00000000e+00,  3.52128681e+05,  7.04258362e+05,  1.05638804e+06,\n",
       "        1.40851772e+06])"
      ]
     },
     "execution_count": 378,
     "metadata": {},
     "output_type": "execute_result"
    }
   ],
   "source": [
    "bins_average_balance"
   ]
  },
  {
   "cell_type": "code",
   "execution_count": 380,
   "metadata": {},
   "outputs": [],
   "source": [
    "df_pivot['AverageBalance (USD)2'] = pd.cut(x=df_pivot['AverageBalance (USD)'], bins= bins_average_balance,\n",
    "                     labels=['Very Low', 'Low', 'High',\n",
    "                             'Very High'])"
   ]
  },
  {
   "cell_type": "code",
   "execution_count": 381,
   "metadata": {},
   "outputs": [
    {
     "data": {
      "text/plain": [
       "0         Very Low\n",
       "1         Very Low\n",
       "2         Very Low\n",
       "3         Very Low\n",
       "4         Very Low\n",
       "            ...   \n",
       "838763    Very Low\n",
       "838764    Very Low\n",
       "838765    Very Low\n",
       "838766    Very Low\n",
       "838767    Very Low\n",
       "Name: AverageBalance (USD)2, Length: 838768, dtype: category\n",
       "Categories (4, object): ['Very Low' < 'Low' < 'High' < 'Very High']"
      ]
     },
     "execution_count": 381,
     "metadata": {},
     "output_type": "execute_result"
    }
   ],
   "source": [
    "df_pivot['AverageBalance (USD)2']"
   ]
  },
  {
   "cell_type": "markdown",
   "metadata": {},
   "source": [
    "- Categorial AverageCustomerAge"
   ]
  },
  {
   "cell_type": "code",
   "execution_count": 382,
   "metadata": {},
   "outputs": [],
   "source": [
    "bins_average_age = np.arange(df_pivot[[\"AverageCustomerAge\"]].min().values[0] ,df_pivot[[\"AverageCustomerAge\"]].max().values[0]+3, ((df_pivot[[\"AverageCustomerAge\"]].max()+4)/5).values[0])"
   ]
  },
  {
   "cell_type": "code",
   "execution_count": 383,
   "metadata": {},
   "outputs": [
    {
     "data": {
      "text/plain": [
       "array([ 22. ,  47.2,  72.4,  97.6, 122.8])"
      ]
     },
     "execution_count": 383,
     "metadata": {},
     "output_type": "execute_result"
    }
   ],
   "source": [
    "bins_average_age"
   ]
  },
  {
   "cell_type": "code",
   "execution_count": 384,
   "metadata": {},
   "outputs": [],
   "source": [
    "df_pivot['AverageCustomerAge2'] = pd.cut(x=df_pivot['AverageCustomerAge'], bins= bins_average_age,\n",
    "                     labels=['Very Young', 'Young', 'Old',\n",
    "                             'Very Old'])"
   ]
  },
  {
   "cell_type": "code",
   "execution_count": 385,
   "metadata": {},
   "outputs": [
    {
     "data": {
      "text/plain": [
       "0         Very Young\n",
       "1              Young\n",
       "2         Very Young\n",
       "3         Very Young\n",
       "4         Very Young\n",
       "             ...    \n",
       "838763    Very Young\n",
       "838764    Very Young\n",
       "838765    Very Young\n",
       "838766    Very Young\n",
       "838767    Very Young\n",
       "Name: AverageCustomerAge2, Length: 838768, dtype: category\n",
       "Categories (4, object): ['Very Young' < 'Young' < 'Old' < 'Very Old']"
      ]
     },
     "execution_count": 385,
     "metadata": {},
     "output_type": "execute_result"
    }
   ],
   "source": [
    "df_pivot['AverageCustomerAge2']"
   ]
  },
  {
   "cell_type": "markdown",
   "metadata": {},
   "source": [
    "- MostCommonGender"
   ]
  },
  {
   "cell_type": "markdown",
   "metadata": {},
   "source": [
    "This variable is already categorial with 3 categories ( M, F, FM), comung from the previous points."
   ]
  },
  {
   "cell_type": "markdown",
   "metadata": {},
   "source": [
    "#### - 2.4.3, 2.4.4, 2.4.5 "
   ]
  },
  {
   "cell_type": "markdown",
   "metadata": {},
   "source": [
    "- Pivot AverageBalance (USD)"
   ]
  },
  {
   "cell_type": "code",
   "execution_count": 387,
   "metadata": {},
   "outputs": [
    {
     "data": {
      "text/html": [
       "<div>\n",
       "<style scoped>\n",
       "    .dataframe tbody tr th:only-of-type {\n",
       "        vertical-align: middle;\n",
       "    }\n",
       "\n",
       "    .dataframe tbody tr th {\n",
       "        vertical-align: top;\n",
       "    }\n",
       "\n",
       "    .dataframe thead th {\n",
       "        text-align: right;\n",
       "    }\n",
       "</style>\n",
       "<table border=\"1\" class=\"dataframe\">\n",
       "  <thead>\n",
       "    <tr style=\"text-align: right;\">\n",
       "      <th>AverageBalance (USD)2</th>\n",
       "      <th>Very Low</th>\n",
       "      <th>Low</th>\n",
       "      <th>High</th>\n",
       "      <th>Very High</th>\n",
       "    </tr>\n",
       "    <tr>\n",
       "      <th>Segment</th>\n",
       "      <th></th>\n",
       "      <th></th>\n",
       "      <th></th>\n",
       "      <th></th>\n",
       "    </tr>\n",
       "  </thead>\n",
       "  <tbody>\n",
       "    <tr>\n",
       "      <th>eighth</th>\n",
       "      <td>96.15</td>\n",
       "      <td>3.85</td>\n",
       "      <td>0.00</td>\n",
       "      <td>0.00</td>\n",
       "    </tr>\n",
       "    <tr>\n",
       "      <th>eleventh</th>\n",
       "      <td>100.00</td>\n",
       "      <td>0.00</td>\n",
       "      <td>0.00</td>\n",
       "      <td>0.00</td>\n",
       "    </tr>\n",
       "    <tr>\n",
       "      <th>fifth</th>\n",
       "      <td>100.00</td>\n",
       "      <td>0.00</td>\n",
       "      <td>0.00</td>\n",
       "      <td>0.00</td>\n",
       "    </tr>\n",
       "    <tr>\n",
       "      <th>first</th>\n",
       "      <td>100.00</td>\n",
       "      <td>0.00</td>\n",
       "      <td>0.00</td>\n",
       "      <td>0.00</td>\n",
       "    </tr>\n",
       "    <tr>\n",
       "      <th>fourth</th>\n",
       "      <td>100.00</td>\n",
       "      <td>0.00</td>\n",
       "      <td>0.00</td>\n",
       "      <td>0.00</td>\n",
       "    </tr>\n",
       "    <tr>\n",
       "      <th>nineth</th>\n",
       "      <td>100.00</td>\n",
       "      <td>0.00</td>\n",
       "      <td>0.00</td>\n",
       "      <td>0.00</td>\n",
       "    </tr>\n",
       "    <tr>\n",
       "      <th>second</th>\n",
       "      <td>100.00</td>\n",
       "      <td>0.00</td>\n",
       "      <td>0.00</td>\n",
       "      <td>0.00</td>\n",
       "    </tr>\n",
       "    <tr>\n",
       "      <th>seventh</th>\n",
       "      <td>100.00</td>\n",
       "      <td>0.00</td>\n",
       "      <td>0.00</td>\n",
       "      <td>0.00</td>\n",
       "    </tr>\n",
       "    <tr>\n",
       "      <th>sixth</th>\n",
       "      <td>100.00</td>\n",
       "      <td>0.00</td>\n",
       "      <td>0.00</td>\n",
       "      <td>0.00</td>\n",
       "    </tr>\n",
       "    <tr>\n",
       "      <th>tenth</th>\n",
       "      <td>55.10</td>\n",
       "      <td>44.90</td>\n",
       "      <td>0.00</td>\n",
       "      <td>0.00</td>\n",
       "    </tr>\n",
       "    <tr>\n",
       "      <th>third</th>\n",
       "      <td>0.00</td>\n",
       "      <td>0.00</td>\n",
       "      <td>71.43</td>\n",
       "      <td>28.57</td>\n",
       "    </tr>\n",
       "    <tr>\n",
       "      <th>twelth</th>\n",
       "      <td>100.00</td>\n",
       "      <td>0.00</td>\n",
       "      <td>0.00</td>\n",
       "      <td>0.00</td>\n",
       "    </tr>\n",
       "  </tbody>\n",
       "</table>\n",
       "</div>"
      ],
      "text/plain": [
       "AverageBalance (USD)2  Very Low    Low   High  Very High\n",
       "Segment                                                 \n",
       "eighth                    96.15   3.85   0.00       0.00\n",
       "eleventh                 100.00   0.00   0.00       0.00\n",
       "fifth                    100.00   0.00   0.00       0.00\n",
       "first                    100.00   0.00   0.00       0.00\n",
       "fourth                   100.00   0.00   0.00       0.00\n",
       "nineth                   100.00   0.00   0.00       0.00\n",
       "second                   100.00   0.00   0.00       0.00\n",
       "seventh                  100.00   0.00   0.00       0.00\n",
       "sixth                    100.00   0.00   0.00       0.00\n",
       "tenth                     55.10  44.90   0.00       0.00\n",
       "third                      0.00   0.00  71.43      28.57\n",
       "twelth                   100.00   0.00   0.00       0.00"
      ]
     },
     "execution_count": 387,
     "metadata": {},
     "output_type": "execute_result"
    }
   ],
   "source": [
    "round(pd.crosstab(index=df_pivot[\"Segment\"], columns=df_pivot['AverageBalance (USD)2'],normalize='index')*100,2)"
   ]
  },
  {
   "cell_type": "markdown",
   "metadata": {},
   "source": [
    "Most consumers, as we had already noted possess a very low average balance, so dividing the numerical variable into 4 categories as required it is normal that almost all of the information belongs to the very low balance category. The correct thing to do would be to stagger the low balance even more so that we can better see how the information is distributed in the clusters. \n",
    "\n",
    "Let us dwell on these results, however, and we can see that there is one cluster, namely the third one that captures those who have a high or very high balance. In fact, we can say that segment 3 consists of 71.43% CustomerIDs with high average balance and 28.57% CustomerIDs with very high average balance. Instead people with low average balance are captured are from the tenth cluster, which consists of 55.10% CustomerIDs with very low average balance and 45.90% CustomerIDs with low average balance."
   ]
  },
  {
   "cell_type": "markdown",
   "metadata": {},
   "source": [
    "- Pivot AverageCustomerAge2"
   ]
  },
  {
   "cell_type": "code",
   "execution_count": 388,
   "metadata": {},
   "outputs": [
    {
     "data": {
      "text/html": [
       "<div>\n",
       "<style scoped>\n",
       "    .dataframe tbody tr th:only-of-type {\n",
       "        vertical-align: middle;\n",
       "    }\n",
       "\n",
       "    .dataframe tbody tr th {\n",
       "        vertical-align: top;\n",
       "    }\n",
       "\n",
       "    .dataframe thead th {\n",
       "        text-align: right;\n",
       "    }\n",
       "</style>\n",
       "<table border=\"1\" class=\"dataframe\">\n",
       "  <thead>\n",
       "    <tr style=\"text-align: right;\">\n",
       "      <th>AverageCustomerAge2</th>\n",
       "      <th>Very Young</th>\n",
       "      <th>Young</th>\n",
       "      <th>Old</th>\n",
       "      <th>Very Old</th>\n",
       "    </tr>\n",
       "    <tr>\n",
       "      <th>Segment</th>\n",
       "      <th></th>\n",
       "      <th></th>\n",
       "      <th></th>\n",
       "      <th></th>\n",
       "    </tr>\n",
       "  </thead>\n",
       "  <tbody>\n",
       "    <tr>\n",
       "      <th>eighth</th>\n",
       "      <td>65.38</td>\n",
       "      <td>34.62</td>\n",
       "      <td>0.00</td>\n",
       "      <td>0.00</td>\n",
       "    </tr>\n",
       "    <tr>\n",
       "      <th>eleventh</th>\n",
       "      <td>85.17</td>\n",
       "      <td>14.54</td>\n",
       "      <td>0.29</td>\n",
       "      <td>0.00</td>\n",
       "    </tr>\n",
       "    <tr>\n",
       "      <th>fifth</th>\n",
       "      <td>94.14</td>\n",
       "      <td>5.86</td>\n",
       "      <td>0.00</td>\n",
       "      <td>0.00</td>\n",
       "    </tr>\n",
       "    <tr>\n",
       "      <th>first</th>\n",
       "      <td>8.46</td>\n",
       "      <td>85.40</td>\n",
       "      <td>5.54</td>\n",
       "      <td>0.60</td>\n",
       "    </tr>\n",
       "    <tr>\n",
       "      <th>fourth</th>\n",
       "      <td>99.77</td>\n",
       "      <td>0.23</td>\n",
       "      <td>0.00</td>\n",
       "      <td>0.00</td>\n",
       "    </tr>\n",
       "    <tr>\n",
       "      <th>nineth</th>\n",
       "      <td>99.84</td>\n",
       "      <td>0.16</td>\n",
       "      <td>0.00</td>\n",
       "      <td>0.00</td>\n",
       "    </tr>\n",
       "    <tr>\n",
       "      <th>second</th>\n",
       "      <td>99.83</td>\n",
       "      <td>0.17</td>\n",
       "      <td>0.00</td>\n",
       "      <td>0.00</td>\n",
       "    </tr>\n",
       "    <tr>\n",
       "      <th>seventh</th>\n",
       "      <td>61.12</td>\n",
       "      <td>34.75</td>\n",
       "      <td>4.13</td>\n",
       "      <td>0.00</td>\n",
       "    </tr>\n",
       "    <tr>\n",
       "      <th>sixth</th>\n",
       "      <td>51.09</td>\n",
       "      <td>45.98</td>\n",
       "      <td>2.86</td>\n",
       "      <td>0.07</td>\n",
       "    </tr>\n",
       "    <tr>\n",
       "      <th>tenth</th>\n",
       "      <td>13.61</td>\n",
       "      <td>82.99</td>\n",
       "      <td>3.40</td>\n",
       "      <td>0.00</td>\n",
       "    </tr>\n",
       "    <tr>\n",
       "      <th>third</th>\n",
       "      <td>3.57</td>\n",
       "      <td>42.86</td>\n",
       "      <td>53.57</td>\n",
       "      <td>0.00</td>\n",
       "    </tr>\n",
       "    <tr>\n",
       "      <th>twelth</th>\n",
       "      <td>74.25</td>\n",
       "      <td>24.04</td>\n",
       "      <td>1.61</td>\n",
       "      <td>0.10</td>\n",
       "    </tr>\n",
       "  </tbody>\n",
       "</table>\n",
       "</div>"
      ],
      "text/plain": [
       "AverageCustomerAge2  Very Young  Young    Old  Very Old\n",
       "Segment                                                \n",
       "eighth                    65.38  34.62   0.00      0.00\n",
       "eleventh                  85.17  14.54   0.29      0.00\n",
       "fifth                     94.14   5.86   0.00      0.00\n",
       "first                      8.46  85.40   5.54      0.60\n",
       "fourth                    99.77   0.23   0.00      0.00\n",
       "nineth                    99.84   0.16   0.00      0.00\n",
       "second                    99.83   0.17   0.00      0.00\n",
       "seventh                   61.12  34.75   4.13      0.00\n",
       "sixth                     51.09  45.98   2.86      0.07\n",
       "tenth                     13.61  82.99   3.40      0.00\n",
       "third                      3.57  42.86  53.57      0.00\n",
       "twelth                    74.25  24.04   1.61      0.10"
      ]
     },
     "execution_count": 388,
     "metadata": {},
     "output_type": "execute_result"
    }
   ],
   "source": [
    "round(pd.crosstab(index=df_pivot[\"Segment\"], columns=df_pivot['AverageCustomerAge2'],normalize='index')*100,2)"
   ]
  },
  {
   "cell_type": "markdown",
   "metadata": {},
   "source": [
    "Regarding the average customer age we are faced with a more varied breakdown. First, we note that many segments are mostly composed of CustomerIDs with a very low average customer age. it is possible to say that the first and tenth contain mostly young people while the CustomerIDs with an average classified as old were mostly captured by the third cluster. The latter is also 42.86% composed of young people and minimally of very young people"
   ]
  },
  {
   "cell_type": "markdown",
   "metadata": {},
   "source": [
    "- Pivot MostCommonGender"
   ]
  },
  {
   "cell_type": "code",
   "execution_count": 391,
   "metadata": {},
   "outputs": [
    {
     "data": {
      "text/html": [
       "<div>\n",
       "<style scoped>\n",
       "    .dataframe tbody tr th:only-of-type {\n",
       "        vertical-align: middle;\n",
       "    }\n",
       "\n",
       "    .dataframe tbody tr th {\n",
       "        vertical-align: top;\n",
       "    }\n",
       "\n",
       "    .dataframe thead th {\n",
       "        text-align: right;\n",
       "    }\n",
       "</style>\n",
       "<table border=\"1\" class=\"dataframe\">\n",
       "  <thead>\n",
       "    <tr style=\"text-align: right;\">\n",
       "      <th>MostCommonGender</th>\n",
       "      <th>F</th>\n",
       "      <th>M</th>\n",
       "      <th>MF</th>\n",
       "    </tr>\n",
       "    <tr>\n",
       "      <th>Segment</th>\n",
       "      <th></th>\n",
       "      <th></th>\n",
       "      <th></th>\n",
       "    </tr>\n",
       "  </thead>\n",
       "  <tbody>\n",
       "    <tr>\n",
       "      <th>eighth</th>\n",
       "      <td>34.62</td>\n",
       "      <td>65.38</td>\n",
       "      <td>0.00</td>\n",
       "    </tr>\n",
       "    <tr>\n",
       "      <th>eleventh</th>\n",
       "      <td>10.84</td>\n",
       "      <td>56.08</td>\n",
       "      <td>33.08</td>\n",
       "    </tr>\n",
       "    <tr>\n",
       "      <th>fifth</th>\n",
       "      <td>20.80</td>\n",
       "      <td>73.72</td>\n",
       "      <td>5.47</td>\n",
       "    </tr>\n",
       "    <tr>\n",
       "      <th>first</th>\n",
       "      <td>26.30</td>\n",
       "      <td>72.49</td>\n",
       "      <td>1.21</td>\n",
       "    </tr>\n",
       "    <tr>\n",
       "      <th>fourth</th>\n",
       "      <td>27.46</td>\n",
       "      <td>70.32</td>\n",
       "      <td>2.22</td>\n",
       "    </tr>\n",
       "    <tr>\n",
       "      <th>nineth</th>\n",
       "      <td>23.47</td>\n",
       "      <td>75.44</td>\n",
       "      <td>1.09</td>\n",
       "    </tr>\n",
       "    <tr>\n",
       "      <th>second</th>\n",
       "      <td>26.72</td>\n",
       "      <td>66.40</td>\n",
       "      <td>6.89</td>\n",
       "    </tr>\n",
       "    <tr>\n",
       "      <th>seventh</th>\n",
       "      <td>26.49</td>\n",
       "      <td>72.02</td>\n",
       "      <td>1.49</td>\n",
       "    </tr>\n",
       "    <tr>\n",
       "      <th>sixth</th>\n",
       "      <td>16.41</td>\n",
       "      <td>79.87</td>\n",
       "      <td>3.72</td>\n",
       "    </tr>\n",
       "    <tr>\n",
       "      <th>tenth</th>\n",
       "      <td>11.56</td>\n",
       "      <td>82.99</td>\n",
       "      <td>5.44</td>\n",
       "    </tr>\n",
       "    <tr>\n",
       "      <th>third</th>\n",
       "      <td>53.57</td>\n",
       "      <td>46.43</td>\n",
       "      <td>0.00</td>\n",
       "    </tr>\n",
       "    <tr>\n",
       "      <th>twelth</th>\n",
       "      <td>27.55</td>\n",
       "      <td>67.82</td>\n",
       "      <td>4.63</td>\n",
       "    </tr>\n",
       "  </tbody>\n",
       "</table>\n",
       "</div>"
      ],
      "text/plain": [
       "MostCommonGender      F      M     MF\n",
       "Segment                              \n",
       "eighth            34.62  65.38   0.00\n",
       "eleventh          10.84  56.08  33.08\n",
       "fifth             20.80  73.72   5.47\n",
       "first             26.30  72.49   1.21\n",
       "fourth            27.46  70.32   2.22\n",
       "nineth            23.47  75.44   1.09\n",
       "second            26.72  66.40   6.89\n",
       "seventh           26.49  72.02   1.49\n",
       "sixth             16.41  79.87   3.72\n",
       "tenth             11.56  82.99   5.44\n",
       "third             53.57  46.43   0.00\n",
       "twelth            27.55  67.82   4.63"
      ]
     },
     "execution_count": 391,
     "metadata": {},
     "output_type": "execute_result"
    }
   ],
   "source": [
    "round(pd.crosstab(index=df_pivot[\"Segment\"], columns=df_pivot['MostCommonGender'],normalize='index')*100,2)"
   ]
  },
  {
   "cell_type": "markdown",
   "metadata": {},
   "source": [
    "The most common gender in all clusters is male except in the case of the third segment, which consists of 53.57% CustomerIDs with a female MostCommonGender and 46.43% CustomerIDs with a male MostCommonGender. Instead, we see that the cluster that captures the information of a MostCommonGender at par is the eleventh, it is the only one with such a high percentage."
   ]
  },
  {
   "cell_type": "markdown",
   "metadata": {},
   "source": [
    "#### - 2.4.6"
   ]
  },
  {
   "cell_type": "markdown",
   "metadata": {},
   "source": [
    "- Cluster algorithm performance (using silhouette score)"
   ]
  },
  {
   "cell_type": "markdown",
   "metadata": {},
   "source": [
    " The Silhouette score is calculated for each sample of different clusters. To calculate the Silhouette score for each observation/data point, the following distances need to be found out for each observations belonging to all the clusters:\n",
    "\n",
    "- Mean distance between the observation and **all other data points in the same cluster**. This distance can also be called a **mean intra-cluster** distance. The mean distance is denoted by **a**.\n",
    "\n",
    "\n",
    "- Mean distance between the observation and **all other data points of the next nearest cluster**. This distance can also be called a **mean nearest-cluster** distance. The mean distance is denoted by **b**\n",
    "\n",
    "Silhouette score, S, for each sample is calculated using the following formula:\n",
    "\n",
    "<div align=\"center\">\n",
    "$ S = \\frac{(b - a)}{max(a, b)}$\n",
    "    \n",
    "\n",
    "The value of the Silhouette score varies from -1 to 1. If the score is 1, the cluster is dense and well-separated than other clusters. A value near 0 represents overlapping clusters with samples very close to the decision boundary of the neighboring clusters. A negative score [-1, 0] indicates that the samples might have got assigned to the wrong clusters.\n",
    "The following function returns the mean Silhouette Coefficient over all samples. "
   ]
  },
  {
   "cell_type": "code",
   "execution_count": 395,
   "metadata": {},
   "outputs": [
    {
     "name": "stdout",
     "output_type": "stream",
     "text": [
      "For n_clusters= 12, the silhouette score is 0.3230392323047044\n"
     ]
    }
   ],
   "source": [
    "kmeans_pca_sample = KMeans(n_clusters = 12, init = 'k-means++' , random_state = 33)\n",
    "# We fit our data with the k-means pca model\n",
    "kmeans_pca_sample.fit(sample_data)\n",
    "\n",
    "cluster_labels = kmeans_pca_sample.labels_\n",
    "# silhouette score\n",
    "silhouette_avg = silhouette_score(sample_data, cluster_labels)\n",
    "print(\"For n_clusters= 12, the silhouette score is {0}\".format(silhouette_avg))"
   ]
  },
  {
   "cell_type": "markdown",
   "metadata": {},
   "source": [
    "We compute the silhouette score on the sample data, but we can genereralize the result to all dataset.\n",
    "We can conclude that the average silhouette score is about 0.32."
   ]
  },
  {
   "cell_type": "markdown",
   "metadata": {
    "id": "H8Yg5p-t4GNe",
    "tags": []
   },
   "source": [
    "## Bonus\n",
    "\n",
    "Think about any two other clustering algorithms that you would like to use for the dataset (of course, you can use implemented version of them, e.g. from the scikit-learn library). Compare the results of chosen two algorithms with K-means implemented by you and K-means++ (from the scikit-learn library). Explain the differences (if there are any) in the results. Which one is the best, in your opinion, and why?"
   ]
  },
  {
   "cell_type": "markdown",
   "metadata": {},
   "source": [
    "**Agglomerative (bottom-up)**\n",
    "- you start with a partition in which each i belongs to a cluster\n",
    "- in each step you bottom the \"2 most similar clusters\" into a single cluster\n",
    "- the previous step is repeated until a single cluster is obtained"
   ]
  },
  {
   "cell_type": "markdown",
   "metadata": {},
   "source": [
    "**Linkage**\n",
    "- is the measure of dissimilarity between two groups\n",
    "- there are different measures of linkage\n",
    "- by changing the linkage we get different hierarchical clustering"
   ]
  },
  {
   "cell_type": "markdown",
   "metadata": {},
   "source": [
    "It produces sequences of monotone heights: the level of dissimilarity between the 2 fused clusters in each step increases in each step. This property, called non-inversion, allows the graph to be represented correctly."
   ]
  },
  {
   "cell_type": "code",
   "execution_count": 2,
   "metadata": {
    "id": "tBvYcDQA4GNf"
   },
   "outputs": [],
   "source": [
    "from scipy.cluster.hierarchy import dendrogram, linkage"
   ]
  },
  {
   "cell_type": "code",
   "execution_count": 5,
   "metadata": {},
   "outputs": [],
   "source": [
    "sample_data = data2.sample(1000)"
   ]
  },
  {
   "cell_type": "markdown",
   "metadata": {},
   "source": [
    "#### Single Linkage"
   ]
  },
  {
   "cell_type": "code",
   "execution_count": 6,
   "metadata": {},
   "outputs": [
    {
     "data": {
      "image/png": "[encoded data removed]",
      "text/plain": [
       "<Figure size 576x396 with 1 Axes>"
      ]
     },
     "metadata": {},
     "output_type": "display_data"
    }
   ],
   "source": [
    "single = dendrogram(linkage(sample_data,method='single'))"
   ]
  },
  {
   "cell_type": "markdown",
   "metadata": {},
   "source": [
    "**Problem** : **Chaining**, concerns single linkage where two groups are merged according to based on the least dissimilar pair of objects while ignoring all others. Single linkage tends to produce clusters for this that are not very compact (large dispersion) and very unbalanced."
   ]
  },
  {
   "cell_type": "markdown",
   "metadata": {},
   "source": [
    "#### Complete Linkage"
   ]
  },
  {
   "cell_type": "code",
   "execution_count": 7,
   "metadata": {},
   "outputs": [
    {
     "data": {
      "image/png": "[encoded data removed]",
      "text/plain": [
       "<Figure size 576x396 with 1 Axes>"
      ]
     },
     "metadata": {},
     "output_type": "display_data"
    }
   ],
   "source": [
    "complete = dendrogram(linkage(sample_data,method='complete'))"
   ]
  },
  {
   "cell_type": "markdown",
   "metadata": {},
   "source": [
    "**Problem** : **Crowding**, concerns complete linkage where two groups are merged based on the most dissimilar pair of objects while ignoring all others. Complete linkage tends to produce for compact but loosely separated clusters."
   ]
  },
  {
   "cell_type": "markdown",
   "metadata": {},
   "source": [
    "#### Average Linkage"
   ]
  },
  {
   "cell_type": "markdown",
   "metadata": {},
   "source": [
    "Average linkage stands as an intermediate to single and complete linkage, so it is usually the default choice."
   ]
  },
  {
   "cell_type": "code",
   "execution_count": 8,
   "metadata": {},
   "outputs": [
    {
     "data": {
      "image/png": "[encoded data removed]",
      "text/plain": [
       "<Figure size 576x396 with 1 Axes>"
      ]
     },
     "metadata": {},
     "output_type": "display_data"
    }
   ],
   "source": [
    "average = dendrogram(linkage(sample_data,method='average'))"
   ]
  },
  {
   "cell_type": "markdown",
   "metadata": {},
   "source": [
    "Surprisingly, in this specific case it seems to give back the same result as the complete linkage."
   ]
  },
  {
   "cell_type": "markdown",
   "metadata": {},
   "source": [
    "So we decide to proceed clustering with this third method."
   ]
  },
  {
   "cell_type": "code",
   "execution_count": 9,
   "metadata": {},
   "outputs": [],
   "source": [
    "from sklearn.cluster import AgglomerativeClustering"
   ]
  },
  {
   "cell_type": "code",
   "execution_count": 98,
   "metadata": {},
   "outputs": [],
   "source": [
    "sample_data2 = df_segm_pca_kmeans2.sample(30000)"
   ]
  },
  {
   "cell_type": "code",
   "execution_count": 99,
   "metadata": {},
   "outputs": [],
   "source": [
    "model = AgglomerativeClustering(n_clusters=12, affinity='euclidean',linkage='average')"
   ]
  },
  {
   "cell_type": "code",
   "execution_count": 100,
   "metadata": {},
   "outputs": [
    {
     "data": {
      "text/plain": [
       "AgglomerativeClustering(linkage='average', n_clusters=12)"
      ]
     },
     "execution_count": 100,
     "metadata": {},
     "output_type": "execute_result"
    }
   ],
   "source": [
    "model.fit(sample_data2[[\"pc1\",\"pc2\",\"pc3\",\"pc4\",\"pc5\",\"pc6\"]])"
   ]
  },
  {
   "cell_type": "code",
   "execution_count": 101,
   "metadata": {},
   "outputs": [],
   "source": [
    "sample_data2['cluster'] = model.fit_predict(sample_data2[[\"pc1\",\"pc2\",\"pc3\",\"pc4\",\"pc5\",\"pc6\"]])"
   ]
  },
  {
   "cell_type": "code",
   "execution_count": 102,
   "metadata": {},
   "outputs": [],
   "source": [
    "unique_values = len(sample_data2.cluster.unique())"
   ]
  },
  {
   "cell_type": "code",
   "execution_count": 104,
   "metadata": {},
   "outputs": [
    {
     "data": {
      "text/plain": [
       "<AxesSubplot:xlabel='AverageAmount (USD)', ylabel='AverageBalance (USD)'>"
      ]
     },
     "execution_count": 104,
     "metadata": {},
     "output_type": "execute_result"
    },
    {
     "data": {
      "image/png": "[encoded data removed]",
      "text/plain": [
       "<Figure size 576x396 with 1 Axes>"
      ]
     },
     "metadata": {},
     "output_type": "display_data"
    }
   ],
   "source": [
    "sns.scatterplot(x = sample_data2['AverageAmount (USD)'],\n",
    "                y = sample_data2['AverageBalance (USD)'],\n",
    "                palette = sns.color_palette('hls',unique_values),\n",
    "               hue = sample_data2.cluster)"
   ]
  },
  {
   "cell_type": "markdown",
   "metadata": {
    "id": "2uvlGMU04GNf"
   },
   "source": [
    "## Algorithmic Question"
   ]
  },
  {
   "cell_type": "markdown",
   "metadata": {},
   "source": [
    "#### 1st trial:"
   ]
  },
  {
   "cell_type": "code",
   "execution_count": 124,
   "metadata": {
    "id": "d4SZStW04GNf"
   },
   "outputs": [
    {
     "name": "stdin",
     "output_type": "stream",
     "text": [
      " 4 5 1\n",
      " 1 1 3 3 3\n"
     ]
    },
    {
     "name": "stdout",
     "output_type": "stream",
     "text": [
      "Yes\n"
     ]
    }
   ],
   "source": [
    "entry,n_studs,n_guards= list(map(int,input().split()))\n",
    "\n",
    "students  = list(map(int,input().split()))\n",
    "\n",
    "guards = 1\n",
    "for i in range(1,n_studs) :\n",
    "    if(students[i] != students[i-1] and students[i] not in students[:i]):\n",
    "        if(students[i-1] in students[i:]):\n",
    "            guards += 1\n",
    "\n",
    "print( 'Yes' if guards <= n_guards else 'No')"
   ]
  },
  {
   "cell_type": "markdown",
   "metadata": {},
   "source": [
    "#### 2nd trial:"
   ]
  },
  {
   "cell_type": "code",
   "execution_count": 125,
   "metadata": {},
   "outputs": [
    {
     "name": "stdin",
     "output_type": "stream",
     "text": [
      " 2 5 1\n",
      " 1 2 1 2 2\n"
     ]
    },
    {
     "name": "stdout",
     "output_type": "stream",
     "text": [
      "No\n"
     ]
    }
   ],
   "source": [
    "entry,n_studs,n_guards= list(map(int,input().split()))\n",
    "\n",
    "students  = list(map(int,input().split()))\n",
    "\n",
    "guards = 1\n",
    "for i in range(1,n_studs) :\n",
    "    if(students[i] != students[i-1] and students[i] not in students[:i]):\n",
    "        if(students[i-1] in students[i:]):\n",
    "            guards += 1\n",
    "\n",
    "print( 'Yes' if guards <= n_guards else 'No')"
   ]
  }
 ],
 "metadata": {
  "colab": {
   "collapsed_sections": [
    "mT03Ot5w4GMU",
    "WFPq6ygV4GMY",
    "orUtxJS74GMa",
    "kq4MSHv64GMb",
    "jmOVipfm4GMb",
    "dF337wlo4GMc",
    "wcZ7lbUc4GMd",
    "2Ruk8NhN4GMe",
    "cWmoxeVz4GMg",
    "gkGu6vNG4GMh",
    "vQl6kFB04GMi",
    "P-JRDYkK4GMm",
    "0n4YRIMU4GMo",
    "71y79CIf4GMp",
    "HQ23HE5u4GMq",
    "xkYO54Tw4GMr",
    "Y1JPhGcM4GMr",
    "CWW10X6F4GMs",
    "_rVXDQhu4GMt",
    "KxdHtXZ74GMu",
    "5HAwNVDG4GMv",
    "52Z8UTrN4GMw",
    "8AL2js_-4GMw",
    "dISI-dt74GMx",
    "7GADN6Sd4GMx",
    "PiLNOt5f4GMy",
    "jq21-_-44GM5",
    "UQ6UJiyA4GM6",
    "Yj9ICIkU4GM7",
    "MGG6uGrB4GM7",
    "hYnnMAc64GM8",
    "iGeIrmbW4GM9",
    "gP6vUAco4GM9",
    "ArLtdVvh4GM-",
    "psPFdSXX4GM_",
    "kQFgXFvv4GNA",
    "TH315BjP4GNB",
    "G2VY8vX34GNC",
    "cZ84jgaP4GND",
    "VZ0SNFSA4GND",
    "lkWTOEq04GNE",
    "5h89eUYx4GNE",
    "99kU1hL74GNF",
    "IweHV0Zg4GNG",
    "Hig8awtm4GNG",
    "PYOQwJDy4GNH",
    "yg2CKZPw4GNM"
   ],
   "provenance": []
  },
  "kernelspec": {
   "display_name": "Python 3 (ipykernel)",
   "language": "python",
   "name": "python3"
  },
  "language_info": {
   "codemirror_mode": {
    "name": "ipython",
    "version": 3
   },
   "file_extension": ".py",
   "mimetype": "text/x-python",
   "name": "python",
   "nbconvert_exporter": "python",
   "pygments_lexer": "ipython3",
   "version": "3.9.12"
  },
  "vscode": {
   "interpreter": {
    "hash": "31f2aee4e71d21fbe5cf8b01ff0e069b9275f58929596ceb00d14d90e3e16cd6"
   }
  }
 },
 "nbformat": 4,
 "nbformat_minor": 4
}
