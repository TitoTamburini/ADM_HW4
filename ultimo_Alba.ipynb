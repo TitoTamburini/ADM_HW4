{
 "cells": [
  {
   "cell_type": "markdown",
   "metadata": {},
   "source": [
    "# Homework 4 - Getting to know your customers\n",
    "\n",
    "Over time, the Banking sector has dabbled into plenty of Data Science applications. The latter includes topics such as Fraud detection, risk modelling for investment, personalized marketing, managing customer data and customer segmentation, among others. The latter is a crucial topic for a bank since they can offer their products more accurately and tailor-made depending on their clients' characteristics and how probable they will consume more services from the bank.\n",
    "\n",
    "Now, you and your team have been hired by a bank to get to know their customers. In other words, you will implement hashing and clustering techniques to extract relevant information and highlights from those clients and their transactions.\n",
    "\n",
    "Then, let's get started!"
   ]
  },
  {
   "cell_type": "code",
   "execution_count": 57,
   "metadata": {},
   "outputs": [],
   "source": [
    "import pandas as pd\n",
    "from datetime import datetime\n",
    "from random import randint\n",
    "from tqdm import tqdm\n",
    "import numpy as np\n",
    "from numpy.linalg import norm\n",
    "from operator import itemgetter\n",
    "import pickle as pkl\n",
    "from scipy import stats"
   ]
  },
  {
   "cell_type": "code",
   "execution_count": 58,
   "metadata": {},
   "outputs": [],
   "source": [
    "data = pd.read_csv(\"bank_transactions.csv\")   # importing the dataset"
   ]
  },
  {
   "cell_type": "code",
   "execution_count": 59,
   "metadata": {},
   "outputs": [
    {
     "data": {
      "text/html": [
       "<div>\n",
       "<style scoped>\n",
       "    .dataframe tbody tr th:only-of-type {\n",
       "        vertical-align: middle;\n",
       "    }\n",
       "\n",
       "    .dataframe tbody tr th {\n",
       "        vertical-align: top;\n",
       "    }\n",
       "\n",
       "    .dataframe thead th {\n",
       "        text-align: right;\n",
       "    }\n",
       "</style>\n",
       "<table border=\"1\" class=\"dataframe\">\n",
       "  <thead>\n",
       "    <tr style=\"text-align: right;\">\n",
       "      <th></th>\n",
       "      <th>TransactionID</th>\n",
       "      <th>CustomerID</th>\n",
       "      <th>CustomerDOB</th>\n",
       "      <th>CustGender</th>\n",
       "      <th>CustLocation</th>\n",
       "      <th>CustAccountBalance</th>\n",
       "      <th>TransactionDate</th>\n",
       "      <th>TransactionTime</th>\n",
       "      <th>TransactionAmount (INR)</th>\n",
       "    </tr>\n",
       "  </thead>\n",
       "  <tbody>\n",
       "    <tr>\n",
       "      <th>0</th>\n",
       "      <td>T1</td>\n",
       "      <td>C5841053</td>\n",
       "      <td>10/1/94</td>\n",
       "      <td>F</td>\n",
       "      <td>JAMSHEDPUR</td>\n",
       "      <td>17819.05</td>\n",
       "      <td>2/8/16</td>\n",
       "      <td>143207</td>\n",
       "      <td>25.0</td>\n",
       "    </tr>\n",
       "    <tr>\n",
       "      <th>1</th>\n",
       "      <td>T2</td>\n",
       "      <td>C2142763</td>\n",
       "      <td>4/4/57</td>\n",
       "      <td>M</td>\n",
       "      <td>JHAJJAR</td>\n",
       "      <td>2270.69</td>\n",
       "      <td>2/8/16</td>\n",
       "      <td>141858</td>\n",
       "      <td>27999.0</td>\n",
       "    </tr>\n",
       "    <tr>\n",
       "      <th>2</th>\n",
       "      <td>T3</td>\n",
       "      <td>C4417068</td>\n",
       "      <td>26/11/96</td>\n",
       "      <td>F</td>\n",
       "      <td>MUMBAI</td>\n",
       "      <td>17874.44</td>\n",
       "      <td>2/8/16</td>\n",
       "      <td>142712</td>\n",
       "      <td>459.0</td>\n",
       "    </tr>\n",
       "    <tr>\n",
       "      <th>3</th>\n",
       "      <td>T4</td>\n",
       "      <td>C5342380</td>\n",
       "      <td>14/9/73</td>\n",
       "      <td>F</td>\n",
       "      <td>MUMBAI</td>\n",
       "      <td>866503.21</td>\n",
       "      <td>2/8/16</td>\n",
       "      <td>142714</td>\n",
       "      <td>2060.0</td>\n",
       "    </tr>\n",
       "    <tr>\n",
       "      <th>4</th>\n",
       "      <td>T5</td>\n",
       "      <td>C9031234</td>\n",
       "      <td>24/3/88</td>\n",
       "      <td>F</td>\n",
       "      <td>NAVI MUMBAI</td>\n",
       "      <td>6714.43</td>\n",
       "      <td>2/8/16</td>\n",
       "      <td>181156</td>\n",
       "      <td>1762.5</td>\n",
       "    </tr>\n",
       "    <tr>\n",
       "      <th>...</th>\n",
       "      <td>...</td>\n",
       "      <td>...</td>\n",
       "      <td>...</td>\n",
       "      <td>...</td>\n",
       "      <td>...</td>\n",
       "      <td>...</td>\n",
       "      <td>...</td>\n",
       "      <td>...</td>\n",
       "      <td>...</td>\n",
       "    </tr>\n",
       "    <tr>\n",
       "      <th>1048562</th>\n",
       "      <td>T1048563</td>\n",
       "      <td>C8020229</td>\n",
       "      <td>8/4/90</td>\n",
       "      <td>M</td>\n",
       "      <td>NEW DELHI</td>\n",
       "      <td>7635.19</td>\n",
       "      <td>18/9/16</td>\n",
       "      <td>184824</td>\n",
       "      <td>799.0</td>\n",
       "    </tr>\n",
       "    <tr>\n",
       "      <th>1048563</th>\n",
       "      <td>T1048564</td>\n",
       "      <td>C6459278</td>\n",
       "      <td>20/2/92</td>\n",
       "      <td>M</td>\n",
       "      <td>NASHIK</td>\n",
       "      <td>27311.42</td>\n",
       "      <td>18/9/16</td>\n",
       "      <td>183734</td>\n",
       "      <td>460.0</td>\n",
       "    </tr>\n",
       "    <tr>\n",
       "      <th>1048564</th>\n",
       "      <td>T1048565</td>\n",
       "      <td>C6412354</td>\n",
       "      <td>18/5/89</td>\n",
       "      <td>M</td>\n",
       "      <td>HYDERABAD</td>\n",
       "      <td>221757.06</td>\n",
       "      <td>18/9/16</td>\n",
       "      <td>183313</td>\n",
       "      <td>770.0</td>\n",
       "    </tr>\n",
       "    <tr>\n",
       "      <th>1048565</th>\n",
       "      <td>T1048566</td>\n",
       "      <td>C6420483</td>\n",
       "      <td>30/8/78</td>\n",
       "      <td>M</td>\n",
       "      <td>VISAKHAPATNAM</td>\n",
       "      <td>10117.87</td>\n",
       "      <td>18/9/16</td>\n",
       "      <td>184706</td>\n",
       "      <td>1000.0</td>\n",
       "    </tr>\n",
       "    <tr>\n",
       "      <th>1048566</th>\n",
       "      <td>T1048567</td>\n",
       "      <td>C8337524</td>\n",
       "      <td>5/3/84</td>\n",
       "      <td>M</td>\n",
       "      <td>PUNE</td>\n",
       "      <td>75734.42</td>\n",
       "      <td>18/9/16</td>\n",
       "      <td>181222</td>\n",
       "      <td>1166.0</td>\n",
       "    </tr>\n",
       "  </tbody>\n",
       "</table>\n",
       "<p>1048567 rows × 9 columns</p>\n",
       "</div>"
      ],
      "text/plain": [
       "        TransactionID CustomerID CustomerDOB CustGender   CustLocation  \\\n",
       "0                  T1   C5841053     10/1/94          F     JAMSHEDPUR   \n",
       "1                  T2   C2142763      4/4/57          M        JHAJJAR   \n",
       "2                  T3   C4417068    26/11/96          F         MUMBAI   \n",
       "3                  T4   C5342380     14/9/73          F         MUMBAI   \n",
       "4                  T5   C9031234     24/3/88          F    NAVI MUMBAI   \n",
       "...               ...        ...         ...        ...            ...   \n",
       "1048562      T1048563   C8020229      8/4/90          M      NEW DELHI   \n",
       "1048563      T1048564   C6459278     20/2/92          M         NASHIK   \n",
       "1048564      T1048565   C6412354     18/5/89          M      HYDERABAD   \n",
       "1048565      T1048566   C6420483     30/8/78          M  VISAKHAPATNAM   \n",
       "1048566      T1048567   C8337524      5/3/84          M           PUNE   \n",
       "\n",
       "         CustAccountBalance TransactionDate  TransactionTime  \\\n",
       "0                  17819.05          2/8/16           143207   \n",
       "1                   2270.69          2/8/16           141858   \n",
       "2                  17874.44          2/8/16           142712   \n",
       "3                 866503.21          2/8/16           142714   \n",
       "4                   6714.43          2/8/16           181156   \n",
       "...                     ...             ...              ...   \n",
       "1048562             7635.19         18/9/16           184824   \n",
       "1048563            27311.42         18/9/16           183734   \n",
       "1048564           221757.06         18/9/16           183313   \n",
       "1048565            10117.87         18/9/16           184706   \n",
       "1048566            75734.42         18/9/16           181222   \n",
       "\n",
       "         TransactionAmount (INR)  \n",
       "0                           25.0  \n",
       "1                        27999.0  \n",
       "2                          459.0  \n",
       "3                         2060.0  \n",
       "4                         1762.5  \n",
       "...                          ...  \n",
       "1048562                    799.0  \n",
       "1048563                    460.0  \n",
       "1048564                    770.0  \n",
       "1048565                   1000.0  \n",
       "1048566                   1166.0  \n",
       "\n",
       "[1048567 rows x 9 columns]"
      ]
     },
     "execution_count": 59,
     "metadata": {},
     "output_type": "execute_result"
    }
   ],
   "source": [
    "data                                          # visualize the data"
   ]
  },
  {
   "cell_type": "code",
   "execution_count": 60,
   "metadata": {},
   "outputs": [
    {
     "name": "stdout",
     "output_type": "stream",
     "text": [
      "<class 'pandas.core.frame.DataFrame'>\n",
      "RangeIndex: 1048567 entries, 0 to 1048566\n",
      "Data columns (total 9 columns):\n",
      " #   Column                   Non-Null Count    Dtype  \n",
      "---  ------                   --------------    -----  \n",
      " 0   TransactionID            1048567 non-null  object \n",
      " 1   CustomerID               1048567 non-null  object \n",
      " 2   CustomerDOB              1045170 non-null  object \n",
      " 3   CustGender               1047467 non-null  object \n",
      " 4   CustLocation             1048416 non-null  object \n",
      " 5   CustAccountBalance       1046198 non-null  float64\n",
      " 6   TransactionDate          1048567 non-null  object \n",
      " 7   TransactionTime          1048567 non-null  int64  \n",
      " 8   TransactionAmount (INR)  1048567 non-null  float64\n",
      "dtypes: float64(2), int64(1), object(6)\n",
      "memory usage: 72.0+ MB\n"
     ]
    }
   ],
   "source": [
    "data.info()                                                 # showing some info on the dataset"
   ]
  },
  {
   "cell_type": "code",
   "execution_count": 61,
   "metadata": {},
   "outputs": [
    {
     "data": {
      "text/plain": [
       "TransactionID                 0\n",
       "CustomerID                    0\n",
       "CustomerDOB                3397\n",
       "CustGender                 1100\n",
       "CustLocation                151\n",
       "CustAccountBalance         2369\n",
       "TransactionDate               0\n",
       "TransactionTime               0\n",
       "TransactionAmount (INR)       0\n",
       "dtype: int64"
      ]
     },
     "execution_count": 61,
     "metadata": {},
     "output_type": "execute_result"
    }
   ],
   "source": [
    "data.isna().sum()                                     # counts of rows with na"
   ]
  },
  {
   "cell_type": "code",
   "execution_count": 62,
   "metadata": {},
   "outputs": [],
   "source": [
    "data.dropna(inplace=True)                                # removing na"
   ]
  },
  {
   "cell_type": "code",
   "execution_count": 63,
   "metadata": {},
   "outputs": [
    {
     "data": {
      "text/plain": [
       "TransactionID              0\n",
       "CustomerID                 0\n",
       "CustomerDOB                0\n",
       "CustGender                 0\n",
       "CustLocation               0\n",
       "CustAccountBalance         0\n",
       "TransactionDate            0\n",
       "TransactionTime            0\n",
       "TransactionAmount (INR)    0\n",
       "dtype: int64"
      ]
     },
     "execution_count": 63,
     "metadata": {},
     "output_type": "execute_result"
    }
   ],
   "source": [
    "data.isna().sum()                                        # check"
   ]
  },
  {
   "cell_type": "code",
   "execution_count": 64,
   "metadata": {},
   "outputs": [],
   "source": [
    "data.CustomerDOB =  pd.to_datetime(data.CustomerDOB)"
   ]
  },
  {
   "cell_type": "code",
   "execution_count": 65,
   "metadata": {},
   "outputs": [],
   "source": [
    "data.TransactionDate  = pd.to_datetime(data.TransactionDate)"
   ]
  },
  {
   "cell_type": "code",
   "execution_count": 66,
   "metadata": {},
   "outputs": [
    {
     "data": {
      "text/plain": [
       "0         1970-01-01 00:00:00.000143207\n",
       "1         1970-01-01 00:00:00.000141858\n",
       "2         1970-01-01 00:00:00.000142712\n",
       "3         1970-01-01 00:00:00.000142714\n",
       "4         1970-01-01 00:00:00.000181156\n",
       "                       ...             \n",
       "1048562   1970-01-01 00:00:00.000184824\n",
       "1048563   1970-01-01 00:00:00.000183734\n",
       "1048564   1970-01-01 00:00:00.000183313\n",
       "1048565   1970-01-01 00:00:00.000184706\n",
       "1048566   1970-01-01 00:00:00.000181222\n",
       "Name: TransactionTime, Length: 1041614, dtype: datetime64[ns]"
      ]
     },
     "execution_count": 66,
     "metadata": {},
     "output_type": "execute_result"
    }
   ],
   "source": [
    "pd.to_datetime(data.TransactionTime)"
   ]
  },
  {
   "cell_type": "code",
   "execution_count": 67,
   "metadata": {},
   "outputs": [
    {
     "data": {
      "text/plain": [
       "0          143207\n",
       "1          141858\n",
       "2          142712\n",
       "3          142714\n",
       "4          181156\n",
       "            ...  \n",
       "1048562    184824\n",
       "1048563    183734\n",
       "1048564    183313\n",
       "1048565    184706\n",
       "1048566    181222\n",
       "Name: TransactionTime, Length: 1041614, dtype: int64"
      ]
     },
     "execution_count": 67,
     "metadata": {},
     "output_type": "execute_result"
    }
   ],
   "source": [
    "data.TransactionTime "
   ]
  },
  {
   "cell_type": "code",
   "execution_count": 68,
   "metadata": {},
   "outputs": [],
   "source": [
    "def convert_time(value):\n",
    "    sec = str(value % 100)\n",
    "    minutes = str((value //100) %100)\n",
    "    hours = str((value // 10000) %100)\n",
    "    return datetime.strptime(str(hours)+\":\"+str(minutes)+\":\"+str(sec), '%H:%M:%S').time()"
   ]
  },
  {
   "cell_type": "code",
   "execution_count": 69,
   "metadata": {},
   "outputs": [],
   "source": [
    "data.TransactionTime = data.TransactionTime.apply(lambda row: convert_time(row))"
   ]
  },
  {
   "cell_type": "code",
   "execution_count": 70,
   "metadata": {},
   "outputs": [
    {
     "data": {
      "text/plain": [
       "<AxesSubplot:>"
      ]
     },
     "execution_count": 70,
     "metadata": {},
     "output_type": "execute_result"
    },
    {
     "data": {
      "image/png": "[encoded data removed]",
      "text/plain": [
       "<Figure size 432x288 with 1 Axes>"
      ]
     },
     "metadata": {
      "needs_background": "light"
     },
     "output_type": "display_data"
    }
   ],
   "source": [
    "data.CustomerDOB.dt.year.hist(bins=50)"
   ]
  },
  {
   "cell_type": "code",
   "execution_count": 71,
   "metadata": {},
   "outputs": [],
   "source": [
    "data.loc[data.CustomerDOB.dt.year > 2000,'CustomerDOB'] = data.loc[data.CustomerDOB.dt.year > 2000,'CustomerDOB']  - pd.DateOffset(years=100)"
   ]
  },
  {
   "cell_type": "code",
   "execution_count": 72,
   "metadata": {},
   "outputs": [],
   "source": [
    "data.drop(data.loc[data.CustomerDOB.dt.year==1800].index,axis=0,inplace=True)"
   ]
  },
  {
   "cell_type": "code",
   "execution_count": 73,
   "metadata": {},
   "outputs": [
    {
     "data": {
      "text/plain": [
       "<AxesSubplot:>"
      ]
     },
     "execution_count": 73,
     "metadata": {},
     "output_type": "execute_result"
    },
    {
     "data": {
      "image/png": "[encoded data removed]",
      "text/plain": [
       "<Figure size 432x288 with 1 Axes>"
      ]
     },
     "metadata": {
      "needs_background": "light"
     },
     "output_type": "display_data"
    }
   ],
   "source": [
    "data.CustomerDOB.dt.year.hist(bins=50)"
   ]
  },
  {
   "cell_type": "code",
   "execution_count": 74,
   "metadata": {},
   "outputs": [],
   "source": [
    "data.CustomerDOB = pd.to_datetime(data.CustomerDOB)"
   ]
  },
  {
   "cell_type": "code",
   "execution_count": 75,
   "metadata": {},
   "outputs": [],
   "source": [
    "data.TransactionDate = pd.to_datetime(data.TransactionDate)"
   ]
  },
  {
   "cell_type": "code",
   "execution_count": 76,
   "metadata": {},
   "outputs": [],
   "source": [
    "data.CustGender = [str(x) for x in data.CustGender]"
   ]
  },
  {
   "cell_type": "code",
   "execution_count": 77,
   "metadata": {},
   "outputs": [],
   "source": [
    "data.CustLocation = [str(x) for x in data.CustLocation]"
   ]
  },
  {
   "cell_type": "code",
   "execution_count": 78,
   "metadata": {},
   "outputs": [],
   "source": [
    "data.to_pickle(\"processed.pkl\")"
   ]
  },
  {
   "cell_type": "markdown",
   "metadata": {},
   "source": [
    "## 1. Finding Similar Costumers\n",
    "\n",
    "Companies nowadays are implementing product suggestions to provide users with things they are likely to buy. \n",
    "\n",
    "The process often starts by finding similar behaviours among consumers; for this task, we will focus on this part in the specific.\n",
    "\n",
    "Here you will implement an algorithm to find the most similar match to a consumer given his bank account information. \n",
    "\n",
    "In particular, you will implement your version of the LSH algorithm that takes as input information about a consumer and finds people similar to the one in the study."
   ]
  },
  {
   "cell_type": "markdown",
   "metadata": {},
   "source": [
    "### 1.1 Set up the data"
   ]
  },
  {
   "cell_type": "code",
   "execution_count": 82,
   "metadata": {},
   "outputs": [],
   "source": [
    "data = pd.read_pickle('processed.pkl')"
   ]
  },
  {
   "cell_type": "code",
   "execution_count": 83,
   "metadata": {},
   "outputs": [
    {
     "data": {
      "text/plain": [
       "TransactionID              0\n",
       "CustomerID                 0\n",
       "CustomerDOB                0\n",
       "CustGender                 0\n",
       "CustLocation               0\n",
       "CustAccountBalance         0\n",
       "TransactionDate            0\n",
       "TransactionTime            0\n",
       "TransactionAmount (INR)    0\n",
       "dtype: int64"
      ]
     },
     "execution_count": 83,
     "metadata": {},
     "output_type": "execute_result"
    }
   ],
   "source": [
    "data.isna().sum()"
   ]
  },
  {
   "cell_type": "code",
   "execution_count": 50,
   "metadata": {},
   "outputs": [],
   "source": [
    "newdata = data.drop(['CustomerID','TransactionID'], axis = 1)"
   ]
  },
  {
   "cell_type": "code",
   "execution_count": 51,
   "metadata": {},
   "outputs": [],
   "source": [
    "newdata.index = [x for x in range(len(newdata))]"
   ]
  },
  {
   "cell_type": "code",
   "execution_count": 52,
   "metadata": {},
   "outputs": [
    {
     "data": {
      "text/plain": [
       "<bound method DataFrame.info of        CustomerDOB CustGender   CustLocation  CustAccountBalance  \\\n",
       "0       1994-10-01          F     JAMSHEDPUR            17819.05   \n",
       "1       1957-04-04          M        JHAJJAR             2270.69   \n",
       "2       1996-11-26          F         MUMBAI            17874.44   \n",
       "3       1973-09-14          F         MUMBAI           866503.21   \n",
       "4       1988-03-24          F    NAVI MUMBAI             6714.43   \n",
       "...            ...        ...            ...                 ...   \n",
       "985317  1990-08-04          M      NEW DELHI             7635.19   \n",
       "985318  1992-02-20          M         NASHIK            27311.42   \n",
       "985319  1989-05-18          M      HYDERABAD           221757.06   \n",
       "985320  1978-08-30          M  VISAKHAPATNAM            10117.87   \n",
       "985321  1984-05-03          M           PUNE            75734.42   \n",
       "\n",
       "       TransactionDate     TransactionTime  TransactionAmount (INR)  \n",
       "0           2016-02-08 1900-01-01 14:32:07                     25.0  \n",
       "1           2016-02-08 1900-01-01 14:18:58                  27999.0  \n",
       "2           2016-02-08 1900-01-01 14:27:12                    459.0  \n",
       "3           2016-02-08 1900-01-01 14:27:14                   2060.0  \n",
       "4           2016-02-08 1900-01-01 18:11:56                   1762.5  \n",
       "...                ...                 ...                      ...  \n",
       "985317      2016-09-18 1900-01-01 18:48:24                    799.0  \n",
       "985318      2016-09-18 1900-01-01 18:37:34                    460.0  \n",
       "985319      2016-09-18 1900-01-01 18:33:13                    770.0  \n",
       "985320      2016-09-18 1900-01-01 18:47:06                   1000.0  \n",
       "985321      2016-09-18 1900-01-01 18:12:22                   1166.0  \n",
       "\n",
       "[985322 rows x 7 columns]>"
      ]
     },
     "execution_count": 52,
     "metadata": {},
     "output_type": "execute_result"
    }
   ],
   "source": [
    "newdata.info"
   ]
  },
  {
   "cell_type": "code",
   "execution_count": 53,
   "metadata": {},
   "outputs": [],
   "source": [
    "newdata.to_pickle('newdata.pkl')"
   ]
  },
  {
   "cell_type": "markdown",
   "metadata": {},
   "source": [
    "### 1.2 Fingerprint hashing"
   ]
  },
  {
   "cell_type": "markdown",
   "metadata": {},
   "source": [
    "### HASH FUNCTIONS"
   ]
  },
  {
   "cell_type": "code",
   "execution_count": 54,
   "metadata": {},
   "outputs": [],
   "source": [
    "def hash_date(value):\n",
    "    return int(pd.Timestamp(value).timestamp())"
   ]
  },
  {
   "cell_type": "code",
   "execution_count": 55,
   "metadata": {},
   "outputs": [],
   "source": [
    "def hash_string(value,p):\n",
    "    m =2^32 -1\n",
    "    return sum([ ord(x)*(p^i) for i,x in enumerate(value)])%m"
   ]
  },
  {
   "cell_type": "code",
   "execution_count": 56,
   "metadata": {},
   "outputs": [],
   "source": [
    "def hash_float(value):\n",
    "    integer,decimal  = str(value).split('.')\n",
    "    return int(integer+decimal)"
   ]
  },
  {
   "cell_type": "markdown",
   "metadata": {},
   "source": [
    "### MINHASH"
   ]
  },
  {
   "cell_type": "code",
   "execution_count": 57,
   "metadata": {},
   "outputs": [],
   "source": [
    "def minHash(customer,p,permutations):\n",
    "    vec  = [0 for i in range(len(customer)) ]\n",
    "    for i,val in enumerate(customer):\n",
    "        if not isinstance(val,int):\n",
    "            if isinstance(val,datetime): \n",
    "                val  = hash_date(val)\n",
    "            elif isinstance(val,str): \n",
    "                val = hash_string(val,p)\n",
    "            elif isinstance(val,float): \n",
    "                val = hash_float(val)\n",
    "\n",
    "        mini = float('inf')\n",
    "        for perm_vals in permutations:\n",
    "            a,b = perm_vals\n",
    "            output = (a*val +b)%p\n",
    "\n",
    "            if(mini > output):\n",
    "                mini  = output\n",
    "\n",
    "        vec[i] = output\n",
    "    return vec\n",
    "    "
   ]
  },
  {
   "cell_type": "markdown",
   "metadata": {},
   "source": [
    "### MinHash applied to kaggle dataset"
   ]
  },
  {
   "cell_type": "code",
   "execution_count": 58,
   "metadata": {},
   "outputs": [
    {
     "name": "stderr",
     "output_type": "stream",
     "text": [
      "985322it [01:20, 12179.89it/s]\n"
     ]
    }
   ],
   "source": [
    "p  = 4993\n",
    "max_val = 2^32-1\n",
    "N  = 10\n",
    "permutations = [ (randint(0,max_val),randint(0,max_val)) for i in range(N)]\n",
    "newdata['minhash']  = [minHash([*x[1]],p,permutations) for x in tqdm(newdata.iterrows())]"
   ]
  },
  {
   "cell_type": "markdown",
   "metadata": {},
   "source": [
    "### 1.3 Locality Sensitive Hashing"
   ]
  },
  {
   "cell_type": "code",
   "execution_count": 59,
   "metadata": {},
   "outputs": [],
   "source": [
    "query_csv = pd.read_csv('query_users.csv')"
   ]
  },
  {
   "cell_type": "code",
   "execution_count": 60,
   "metadata": {},
   "outputs": [],
   "source": [
    "query_csv.to_pickle('query.pkl')"
   ]
  },
  {
   "cell_type": "markdown",
   "metadata": {},
   "source": [
    "### Read Query.csv"
   ]
  },
  {
   "cell_type": "code",
   "execution_count": 61,
   "metadata": {},
   "outputs": [],
   "source": [
    "query  = pd.read_pickle('query.pkl')"
   ]
  },
  {
   "cell_type": "markdown",
   "metadata": {},
   "source": [
    "### MinHash applied to query dataset"
   ]
  },
  {
   "cell_type": "code",
   "execution_count": 62,
   "metadata": {},
   "outputs": [
    {
     "name": "stderr",
     "output_type": "stream",
     "text": [
      "50it [00:00, 10003.59it/s]\n"
     ]
    }
   ],
   "source": [
    "query['minhash']  = [minHash([*x[1]],p,permutations) for x in tqdm(query.iterrows())]"
   ]
  },
  {
   "cell_type": "markdown",
   "metadata": {},
   "source": [
    "### Check similarity"
   ]
  },
  {
   "cell_type": "code",
   "execution_count": 63,
   "metadata": {},
   "outputs": [],
   "source": [
    "def cosine_sim(A,B):\n",
    "    cosine = np.dot(A,B)/(norm(A)*norm(B))\n",
    "    return cosine"
   ]
  },
  {
   "cell_type": "code",
   "execution_count": 64,
   "metadata": {},
   "outputs": [],
   "source": [
    "def find_best_neighbour(query):\n",
    "    norm_q_hash  = np.array(query.minhash)/max(query.minhash)\n",
    "    best_score = max([(cosine_sim(norm_q_hash,(np.array(x)/max(x))),i) for i,x in enumerate(newdata.minhash)],key=itemgetter(0))\n",
    "    return best_score\n"
   ]
  },
  {
   "cell_type": "code",
   "execution_count": 16,
   "metadata": {},
   "outputs": [],
   "source": [
    "neighbours = []\n",
    "for i in range(len(query)):\n",
    "    if i in query.index:\n",
    "        res = find_best_neighbour(query.loc[i])\n",
    "        neighbours.append(res[1])"
   ]
  },
  {
   "cell_type": "markdown",
   "metadata": {},
   "source": [
    "#### Query dataset"
   ]
  },
  {
   "cell_type": "code",
   "execution_count": 18,
   "metadata": {
    "collapsed": true,
    "jupyter": {
     "outputs_hidden": true
    },
    "tags": []
   },
   "outputs": [
    {
     "data": {
      "text/html": [
       "<div>\n",
       "<style scoped>\n",
       "    .dataframe tbody tr th:only-of-type {\n",
       "        vertical-align: middle;\n",
       "    }\n",
       "\n",
       "    .dataframe tbody tr th {\n",
       "        vertical-align: top;\n",
       "    }\n",
       "\n",
       "    .dataframe thead th {\n",
       "        text-align: right;\n",
       "    }\n",
       "</style>\n",
       "<table border=\"1\" class=\"dataframe\">\n",
       "  <thead>\n",
       "    <tr style=\"text-align: right;\">\n",
       "      <th></th>\n",
       "      <th>CustomerDOB</th>\n",
       "      <th>CustGender</th>\n",
       "      <th>CustLocation</th>\n",
       "      <th>CustAccountBalance</th>\n",
       "      <th>TransactionDate</th>\n",
       "      <th>TransactionTime</th>\n",
       "      <th>TransactionAmount (INR)</th>\n",
       "      <th>minhash</th>\n",
       "    </tr>\n",
       "  </thead>\n",
       "  <tbody>\n",
       "    <tr>\n",
       "      <th>0</th>\n",
       "      <td>27/7/78</td>\n",
       "      <td>M</td>\n",
       "      <td>DELHI</td>\n",
       "      <td>94695.61</td>\n",
       "      <td>2/9/16</td>\n",
       "      <td>140310</td>\n",
       "      <td>65.00</td>\n",
       "      <td>[225, 73, 41, 2701, 169, 4057, 216]</td>\n",
       "    </tr>\n",
       "    <tr>\n",
       "      <th>1</th>\n",
       "      <td>6/11/92</td>\n",
       "      <td>M</td>\n",
       "      <td>PANCHKULA</td>\n",
       "      <td>7584.09</td>\n",
       "      <td>2/9/16</td>\n",
       "      <td>120214</td>\n",
       "      <td>6025.00</td>\n",
       "      <td>[17, 73, 25, 786, 169, 3065, 2681]</td>\n",
       "    </tr>\n",
       "    <tr>\n",
       "      <th>2</th>\n",
       "      <td>14/8/91</td>\n",
       "      <td>M</td>\n",
       "      <td>PATNA</td>\n",
       "      <td>7180.60</td>\n",
       "      <td>10/8/16</td>\n",
       "      <td>221732</td>\n",
       "      <td>541.50</td>\n",
       "      <td>[113, 73, 89, 262, 145, 1350, 3385]</td>\n",
       "    </tr>\n",
       "    <tr>\n",
       "      <th>3</th>\n",
       "      <td>3/1/87</td>\n",
       "      <td>M</td>\n",
       "      <td>CHENNAI</td>\n",
       "      <td>56847.75</td>\n",
       "      <td>29/8/16</td>\n",
       "      <td>144138</td>\n",
       "      <td>1000.00</td>\n",
       "      <td>[97, 73, 33, 1965, 9, 4723, 121]</td>\n",
       "    </tr>\n",
       "    <tr>\n",
       "      <th>4</th>\n",
       "      <td>4/1/95</td>\n",
       "      <td>M</td>\n",
       "      <td>GURGAON</td>\n",
       "      <td>84950.13</td>\n",
       "      <td>25/9/16</td>\n",
       "      <td>233309</td>\n",
       "      <td>80.00</td>\n",
       "      <td>[81, 73, 9, 390, 161, 4092, 1416]</td>\n",
       "    </tr>\n",
       "    <tr>\n",
       "      <th>5</th>\n",
       "      <td>10/1/81</td>\n",
       "      <td>M</td>\n",
       "      <td>WORLD TRADE CENTRE BANGALORE</td>\n",
       "      <td>23143.95</td>\n",
       "      <td>11/9/16</td>\n",
       "      <td>192906</td>\n",
       "      <td>303.00</td>\n",
       "      <td>[49, 73, 49, 1125, 225, 420, 4277]</td>\n",
       "    </tr>\n",
       "    <tr>\n",
       "      <th>6</th>\n",
       "      <td>20/9/76</td>\n",
       "      <td>F</td>\n",
       "      <td>CHITTOOR</td>\n",
       "      <td>15397.80</td>\n",
       "      <td>28/8/16</td>\n",
       "      <td>92633</td>\n",
       "      <td>20.00</td>\n",
       "      <td>[153, 25, 145, 3555, 209, 2109, 1609]</td>\n",
       "    </tr>\n",
       "    <tr>\n",
       "      <th>7</th>\n",
       "      <td>10/4/91</td>\n",
       "      <td>M</td>\n",
       "      <td>MOHALI</td>\n",
       "      <td>426.30</td>\n",
       "      <td>2/8/16</td>\n",
       "      <td>203754</td>\n",
       "      <td>50.00</td>\n",
       "      <td>[25, 73, 177, 4155, 113, 2323, 4009]</td>\n",
       "    </tr>\n",
       "    <tr>\n",
       "      <th>8</th>\n",
       "      <td>19/3/90</td>\n",
       "      <td>M</td>\n",
       "      <td>MOHALI</td>\n",
       "      <td>4609.34</td>\n",
       "      <td>26/8/16</td>\n",
       "      <td>184015</td>\n",
       "      <td>300.00</td>\n",
       "      <td>[177, 73, 177, 2647, 145, 4187, 4037]</td>\n",
       "    </tr>\n",
       "    <tr>\n",
       "      <th>9</th>\n",
       "      <td>19/12/70</td>\n",
       "      <td>M</td>\n",
       "      <td>SERAMPORE</td>\n",
       "      <td>6695988.46</td>\n",
       "      <td>27/8/16</td>\n",
       "      <td>144030</td>\n",
       "      <td>299.00</td>\n",
       "      <td>[169, 73, 57, 797, 177, 3859, 3957]</td>\n",
       "    </tr>\n",
       "    <tr>\n",
       "      <th>10</th>\n",
       "      <td>26/2/89</td>\n",
       "      <td>M</td>\n",
       "      <td>BANGALORE</td>\n",
       "      <td>5974.56</td>\n",
       "      <td>6/8/16</td>\n",
       "      <td>220151</td>\n",
       "      <td>300.00</td>\n",
       "      <td>[105, 73, 49, 1356, 41, 3681, 4037]</td>\n",
       "    </tr>\n",
       "    <tr>\n",
       "      <th>11</th>\n",
       "      <td>22/8/84</td>\n",
       "      <td>M</td>\n",
       "      <td>BANGALORE</td>\n",
       "      <td>268.09</td>\n",
       "      <td>11/8/16</td>\n",
       "      <td>203131</td>\n",
       "      <td>2244.00</td>\n",
       "      <td>[57, 73, 49, 4775, 177, 2332, 4774]</td>\n",
       "    </tr>\n",
       "    <tr>\n",
       "      <th>12</th>\n",
       "      <td>21/9/79</td>\n",
       "      <td>M</td>\n",
       "      <td>LUDHIANA</td>\n",
       "      <td>38785.44</td>\n",
       "      <td>22/8/16</td>\n",
       "      <td>185953</td>\n",
       "      <td>690.00</td>\n",
       "      <td>[217, 73, 177, 1859, 17, 4712, 286]</td>\n",
       "    </tr>\n",
       "    <tr>\n",
       "      <th>13</th>\n",
       "      <td>17/6/92</td>\n",
       "      <td>F</td>\n",
       "      <td>BANGALORE</td>\n",
       "      <td>19767.76</td>\n",
       "      <td>12/8/16</td>\n",
       "      <td>232822</td>\n",
       "      <td>4912.00</td>\n",
       "      <td>[201, 25, 49, 1386, 209, 196, 3515]</td>\n",
       "    </tr>\n",
       "    <tr>\n",
       "      <th>14</th>\n",
       "      <td>1/8/86</td>\n",
       "      <td>M</td>\n",
       "      <td>HYDERABAD</td>\n",
       "      <td>21713.09</td>\n",
       "      <td>11/9/16</td>\n",
       "      <td>150136</td>\n",
       "      <td>284.00</td>\n",
       "      <td>[113, 73, 169, 4827, 225, 2777, 2757]</td>\n",
       "    </tr>\n",
       "    <tr>\n",
       "      <th>15</th>\n",
       "      <td>1/1/1800</td>\n",
       "      <td>M</td>\n",
       "      <td>GURGAON</td>\n",
       "      <td>28333.11</td>\n",
       "      <td>31/8/16</td>\n",
       "      <td>160307</td>\n",
       "      <td>1000.00</td>\n",
       "      <td>[217, 73, 9, 3270, 25, 4257, 121]</td>\n",
       "    </tr>\n",
       "    <tr>\n",
       "      <th>16</th>\n",
       "      <td>17/12/91</td>\n",
       "      <td>F</td>\n",
       "      <td>MUMBAI</td>\n",
       "      <td>1981.59</td>\n",
       "      <td>5/8/16</td>\n",
       "      <td>214323</td>\n",
       "      <td>401.00</td>\n",
       "      <td>[129, 25, 137, 2500, 233, 1994, 2131]</td>\n",
       "    </tr>\n",
       "    <tr>\n",
       "      <th>17</th>\n",
       "      <td>1/1/1800</td>\n",
       "      <td>M</td>\n",
       "      <td>NEW DELHI</td>\n",
       "      <td>176303.02</td>\n",
       "      <td>9/8/16</td>\n",
       "      <td>133414</td>\n",
       "      <td>1347.00</td>\n",
       "      <td>[217, 73, 33, 161, 161, 3812, 2916]</td>\n",
       "    </tr>\n",
       "    <tr>\n",
       "      <th>18</th>\n",
       "      <td>7/7/93</td>\n",
       "      <td>M</td>\n",
       "      <td>GURGAON</td>\n",
       "      <td>27930.23</td>\n",
       "      <td>8/9/16</td>\n",
       "      <td>25212</td>\n",
       "      <td>60.00</td>\n",
       "      <td>[177, 73, 9, 518, 177, 1985, 4809]</td>\n",
       "    </tr>\n",
       "    <tr>\n",
       "      <th>19</th>\n",
       "      <td>21/6/89</td>\n",
       "      <td>M</td>\n",
       "      <td>CHENNAI</td>\n",
       "      <td>6399.24</td>\n",
       "      <td>3/8/16</td>\n",
       "      <td>201328</td>\n",
       "      <td>404.00</td>\n",
       "      <td>[137, 73, 33, 1576, 153, 2887, 2371]</td>\n",
       "    </tr>\n",
       "    <tr>\n",
       "      <th>20</th>\n",
       "      <td>18/9/82</td>\n",
       "      <td>F</td>\n",
       "      <td>NOIDA</td>\n",
       "      <td>498859.06</td>\n",
       "      <td>22/8/16</td>\n",
       "      <td>94901</td>\n",
       "      <td>40000.00</td>\n",
       "      <td>[81, 25, 57, 1760, 17, 281, 4489]</td>\n",
       "    </tr>\n",
       "    <tr>\n",
       "      <th>21</th>\n",
       "      <td>21/8/62</td>\n",
       "      <td>F</td>\n",
       "      <td>BANGALORE</td>\n",
       "      <td>108941.24</td>\n",
       "      <td>14/9/16</td>\n",
       "      <td>154153</td>\n",
       "      <td>1280.00</td>\n",
       "      <td>[185, 25, 49, 186, 89, 4955, 2549]</td>\n",
       "    </tr>\n",
       "    <tr>\n",
       "      <th>22</th>\n",
       "      <td>17/8/88</td>\n",
       "      <td>M</td>\n",
       "      <td>NEW DELHI</td>\n",
       "      <td>125934.77</td>\n",
       "      <td>10/8/16</td>\n",
       "      <td>104836</td>\n",
       "      <td>197.00</td>\n",
       "      <td>[65, 73, 33, 4064, 145, 4866, 790]</td>\n",
       "    </tr>\n",
       "    <tr>\n",
       "      <th>23</th>\n",
       "      <td>5/12/65</td>\n",
       "      <td>M</td>\n",
       "      <td>AHMEDABAD</td>\n",
       "      <td>47403.83</td>\n",
       "      <td>28/8/16</td>\n",
       "      <td>195559</td>\n",
       "      <td>3460.00</td>\n",
       "      <td>[97, 73, 233, 1238, 209, 1672, 2194]</td>\n",
       "    </tr>\n",
       "    <tr>\n",
       "      <th>24</th>\n",
       "      <td>10/7/94</td>\n",
       "      <td>M</td>\n",
       "      <td>PRAKASAM DIST (AP)</td>\n",
       "      <td>26655.05</td>\n",
       "      <td>2/8/16</td>\n",
       "      <td>220553</td>\n",
       "      <td>150.00</td>\n",
       "      <td>[201, 73, 137, 3939, 113, 1904, 2023]</td>\n",
       "    </tr>\n",
       "    <tr>\n",
       "      <th>25</th>\n",
       "      <td>25/10/75</td>\n",
       "      <td>M</td>\n",
       "      <td>BANGALORE</td>\n",
       "      <td>10072.85</td>\n",
       "      <td>4/8/16</td>\n",
       "      <td>144551</td>\n",
       "      <td>862.44</td>\n",
       "      <td>[105, 73, 49, 4580, 193, 3034, 927]</td>\n",
       "    </tr>\n",
       "    <tr>\n",
       "      <th>26</th>\n",
       "      <td>1/11/89</td>\n",
       "      <td>M</td>\n",
       "      <td>VADODARA</td>\n",
       "      <td>101424.95</td>\n",
       "      <td>25/9/16</td>\n",
       "      <td>183541</td>\n",
       "      <td>990.00</td>\n",
       "      <td>[137, 73, 33, 3719, 161, 395, 4314]</td>\n",
       "    </tr>\n",
       "    <tr>\n",
       "      <th>27</th>\n",
       "      <td>16/10/83</td>\n",
       "      <td>M</td>\n",
       "      <td>MUMBAI</td>\n",
       "      <td>64389.91</td>\n",
       "      <td>9/9/16</td>\n",
       "      <td>193308</td>\n",
       "      <td>220.00</td>\n",
       "      <td>[25, 73, 137, 4149, 217, 3636, 2630]</td>\n",
       "    </tr>\n",
       "    <tr>\n",
       "      <th>28</th>\n",
       "      <td>16/2/87</td>\n",
       "      <td>M</td>\n",
       "      <td>HYDERABAD</td>\n",
       "      <td>12793.16</td>\n",
       "      <td>8/8/16</td>\n",
       "      <td>212021</td>\n",
       "      <td>199.00</td>\n",
       "      <td>[121, 73, 169, 3880, 121, 3550, 950]</td>\n",
       "    </tr>\n",
       "    <tr>\n",
       "      <th>29</th>\n",
       "      <td>1/1/1800</td>\n",
       "      <td>M</td>\n",
       "      <td>MUMBAI</td>\n",
       "      <td>205.70</td>\n",
       "      <td>30/8/16</td>\n",
       "      <td>160056</td>\n",
       "      <td>1933.52</td>\n",
       "      <td>[217, 73, 137, 1486, 225, 2249, 3988]</td>\n",
       "    </tr>\n",
       "    <tr>\n",
       "      <th>30</th>\n",
       "      <td>10/12/86</td>\n",
       "      <td>M</td>\n",
       "      <td>AURANGABAD</td>\n",
       "      <td>170981.48</td>\n",
       "      <td>7/8/16</td>\n",
       "      <td>205242</td>\n",
       "      <td>1137.00</td>\n",
       "      <td>[217, 73, 161, 1958, 81, 4241, 1095]</td>\n",
       "    </tr>\n",
       "    <tr>\n",
       "      <th>31</th>\n",
       "      <td>6/6/69</td>\n",
       "      <td>M</td>\n",
       "      <td>HODEL</td>\n",
       "      <td>995009.07</td>\n",
       "      <td>4/8/16</td>\n",
       "      <td>181055</td>\n",
       "      <td>3000.00</td>\n",
       "      <td>[17, 73, 145, 3233, 193, 479, 345]</td>\n",
       "    </tr>\n",
       "    <tr>\n",
       "      <th>32</th>\n",
       "      <td>1/1/1800</td>\n",
       "      <td>M</td>\n",
       "      <td>CHENNAI</td>\n",
       "      <td>6771.64</td>\n",
       "      <td>17/8/16</td>\n",
       "      <td>211438</td>\n",
       "      <td>282.90</td>\n",
       "      <td>[217, 73, 33, 4909, 137, 3879, 2669]</td>\n",
       "    </tr>\n",
       "    <tr>\n",
       "      <th>33</th>\n",
       "      <td>7/4/84</td>\n",
       "      <td>F</td>\n",
       "      <td>NEW DELHI</td>\n",
       "      <td>103832.66</td>\n",
       "      <td>9/9/16</td>\n",
       "      <td>141846</td>\n",
       "      <td>1290.23</td>\n",
       "      <td>[233, 25, 33, 2589, 217, 1366, 3635]</td>\n",
       "    </tr>\n",
       "    <tr>\n",
       "      <th>34</th>\n",
       "      <td>15/9/91</td>\n",
       "      <td>M</td>\n",
       "      <td>SECUNDERABAD</td>\n",
       "      <td>602296.81</td>\n",
       "      <td>11/9/16</td>\n",
       "      <td>184655</td>\n",
       "      <td>2937.48</td>\n",
       "      <td>[193, 73, 217, 2971, 225, 4314, 3283]</td>\n",
       "    </tr>\n",
       "    <tr>\n",
       "      <th>35</th>\n",
       "      <td>28/1/91</td>\n",
       "      <td>F</td>\n",
       "      <td>N T PUNE</td>\n",
       "      <td>23299.53</td>\n",
       "      <td>10/9/16</td>\n",
       "      <td>220846</td>\n",
       "      <td>212.00</td>\n",
       "      <td>[177, 25, 105, 764, 193, 4248, 1990]</td>\n",
       "    </tr>\n",
       "    <tr>\n",
       "      <th>36</th>\n",
       "      <td>6/2/86</td>\n",
       "      <td>M</td>\n",
       "      <td>NEW DELHI</td>\n",
       "      <td>398248.26</td>\n",
       "      <td>1/8/16</td>\n",
       "      <td>220403</td>\n",
       "      <td>3180.00</td>\n",
       "      <td>[209, 73, 33, 280, 73, 704, 4759]</td>\n",
       "    </tr>\n",
       "    <tr>\n",
       "      <th>37</th>\n",
       "      <td>31/7/87</td>\n",
       "      <td>M</td>\n",
       "      <td>BANGALORE</td>\n",
       "      <td>1660.45</td>\n",
       "      <td>14/8/16</td>\n",
       "      <td>203911</td>\n",
       "      <td>100.86</td>\n",
       "      <td>[49, 73, 49, 231, 41, 3579, 809]</td>\n",
       "    </tr>\n",
       "    <tr>\n",
       "      <th>38</th>\n",
       "      <td>29/5/84</td>\n",
       "      <td>M</td>\n",
       "      <td>NEW DELHI</td>\n",
       "      <td>11349.64</td>\n",
       "      <td>2/9/16</td>\n",
       "      <td>144724</td>\n",
       "      <td>5598.00</td>\n",
       "      <td>[137, 73, 33, 2447, 169, 4418, 3472]</td>\n",
       "    </tr>\n",
       "    <tr>\n",
       "      <th>39</th>\n",
       "      <td>22/1/88</td>\n",
       "      <td>M</td>\n",
       "      <td>HYDERABAD</td>\n",
       "      <td>10994.33</td>\n",
       "      <td>2/8/16</td>\n",
       "      <td>153712</td>\n",
       "      <td>60.00</td>\n",
       "      <td>[73, 73, 169, 2800, 113, 1427, 4809]</td>\n",
       "    </tr>\n",
       "    <tr>\n",
       "      <th>40</th>\n",
       "      <td>18/2/87</td>\n",
       "      <td>M</td>\n",
       "      <td>CHENNAI</td>\n",
       "      <td>2887.39</td>\n",
       "      <td>24/8/16</td>\n",
       "      <td>181703</td>\n",
       "      <td>20.00</td>\n",
       "      <td>[185, 73, 33, 3155, 81, 670, 1609]</td>\n",
       "    </tr>\n",
       "    <tr>\n",
       "      <th>41</th>\n",
       "      <td>1/3/86</td>\n",
       "      <td>M</td>\n",
       "      <td>IMPHAL</td>\n",
       "      <td>31987.86</td>\n",
       "      <td>19/8/16</td>\n",
       "      <td>145712</td>\n",
       "      <td>203.00</td>\n",
       "      <td>[65, 73, 137, 1172, 201, 2336, 1270]</td>\n",
       "    </tr>\n",
       "    <tr>\n",
       "      <th>42</th>\n",
       "      <td>2/11/81</td>\n",
       "      <td>F</td>\n",
       "      <td>NEW DELHI</td>\n",
       "      <td>85626.45</td>\n",
       "      <td>12/9/16</td>\n",
       "      <td>105636</td>\n",
       "      <td>1500.00</td>\n",
       "      <td>[169, 25, 33, 2202, 25, 1280, 177]</td>\n",
       "    </tr>\n",
       "    <tr>\n",
       "      <th>43</th>\n",
       "      <td>2/12/90</td>\n",
       "      <td>F</td>\n",
       "      <td>NEW DELHI</td>\n",
       "      <td>3156.39</td>\n",
       "      <td>4/8/16</td>\n",
       "      <td>204616</td>\n",
       "      <td>199.00</td>\n",
       "      <td>[193, 25, 33, 3656, 193, 4226, 950]</td>\n",
       "    </tr>\n",
       "    <tr>\n",
       "      <th>44</th>\n",
       "      <td>6/9/72</td>\n",
       "      <td>M</td>\n",
       "      <td>GHAZIABAD</td>\n",
       "      <td>225234.23</td>\n",
       "      <td>24/8/16</td>\n",
       "      <td>171054</td>\n",
       "      <td>347.30</td>\n",
       "      <td>[41, 73, 9, 9, 81, 359, 2828]</td>\n",
       "    </tr>\n",
       "    <tr>\n",
       "      <th>45</th>\n",
       "      <td>30/5/90</td>\n",
       "      <td>F</td>\n",
       "      <td>DELHI</td>\n",
       "      <td>1089764.73</td>\n",
       "      <td>5/9/16</td>\n",
       "      <td>130529</td>\n",
       "      <td>250.00</td>\n",
       "      <td>[65, 25, 41, 4035, 57, 704, 37]</td>\n",
       "    </tr>\n",
       "    <tr>\n",
       "      <th>46</th>\n",
       "      <td>26/9/74</td>\n",
       "      <td>M</td>\n",
       "      <td>CHENNAI</td>\n",
       "      <td>24678.92</td>\n",
       "      <td>17/8/16</td>\n",
       "      <td>215806</td>\n",
       "      <td>60.00</td>\n",
       "      <td>[169, 73, 33, 823, 137, 3872, 4809]</td>\n",
       "    </tr>\n",
       "    <tr>\n",
       "      <th>47</th>\n",
       "      <td>2/7/91</td>\n",
       "      <td>M</td>\n",
       "      <td>DIST NORTH GOA BARDEZ</td>\n",
       "      <td>518766.40</td>\n",
       "      <td>14/9/16</td>\n",
       "      <td>182251</td>\n",
       "      <td>90.00</td>\n",
       "      <td>[81, 73, 185, 4498, 89, 61, 2216]</td>\n",
       "    </tr>\n",
       "    <tr>\n",
       "      <th>48</th>\n",
       "      <td>7/4/94</td>\n",
       "      <td>F</td>\n",
       "      <td>PUNE</td>\n",
       "      <td>8085.25</td>\n",
       "      <td>5/9/16</td>\n",
       "      <td>191233</td>\n",
       "      <td>1014.00</td>\n",
       "      <td>[73, 25, 153, 2274, 57, 2015, 1241]</td>\n",
       "    </tr>\n",
       "    <tr>\n",
       "      <th>49</th>\n",
       "      <td>5/1/87</td>\n",
       "      <td>M</td>\n",
       "      <td>DELHI</td>\n",
       "      <td>10989.03</td>\n",
       "      <td>4/9/16</td>\n",
       "      <td>113240</td>\n",
       "      <td>240.00</td>\n",
       "      <td>[177, 73, 41, 3553, 17, 2196, 4230]</td>\n",
       "    </tr>\n",
       "  </tbody>\n",
       "</table>\n",
       "</div>"
      ],
      "text/plain": [
       "   CustomerDOB CustGender                  CustLocation  CustAccountBalance  \\\n",
       "0      27/7/78          M                         DELHI            94695.61   \n",
       "1      6/11/92          M                     PANCHKULA             7584.09   \n",
       "2      14/8/91          M                         PATNA             7180.60   \n",
       "3       3/1/87          M                       CHENNAI            56847.75   \n",
       "4       4/1/95          M                       GURGAON            84950.13   \n",
       "5      10/1/81          M  WORLD TRADE CENTRE BANGALORE            23143.95   \n",
       "6      20/9/76          F                      CHITTOOR            15397.80   \n",
       "7      10/4/91          M                        MOHALI              426.30   \n",
       "8      19/3/90          M                        MOHALI             4609.34   \n",
       "9     19/12/70          M                     SERAMPORE          6695988.46   \n",
       "10     26/2/89          M                     BANGALORE             5974.56   \n",
       "11     22/8/84          M                     BANGALORE              268.09   \n",
       "12     21/9/79          M                      LUDHIANA            38785.44   \n",
       "13     17/6/92          F                     BANGALORE            19767.76   \n",
       "14      1/8/86          M                     HYDERABAD            21713.09   \n",
       "15    1/1/1800          M                       GURGAON            28333.11   \n",
       "16    17/12/91          F                        MUMBAI             1981.59   \n",
       "17    1/1/1800          M                     NEW DELHI           176303.02   \n",
       "18      7/7/93          M                       GURGAON            27930.23   \n",
       "19     21/6/89          M                       CHENNAI             6399.24   \n",
       "20     18/9/82          F                         NOIDA           498859.06   \n",
       "21     21/8/62          F                     BANGALORE           108941.24   \n",
       "22     17/8/88          M                     NEW DELHI           125934.77   \n",
       "23     5/12/65          M                     AHMEDABAD            47403.83   \n",
       "24     10/7/94          M            PRAKASAM DIST (AP)            26655.05   \n",
       "25    25/10/75          M                     BANGALORE            10072.85   \n",
       "26     1/11/89          M                      VADODARA           101424.95   \n",
       "27    16/10/83          M                        MUMBAI            64389.91   \n",
       "28     16/2/87          M                     HYDERABAD            12793.16   \n",
       "29    1/1/1800          M                        MUMBAI              205.70   \n",
       "30    10/12/86          M                    AURANGABAD           170981.48   \n",
       "31      6/6/69          M                         HODEL           995009.07   \n",
       "32    1/1/1800          M                       CHENNAI             6771.64   \n",
       "33      7/4/84          F                     NEW DELHI           103832.66   \n",
       "34     15/9/91          M                  SECUNDERABAD           602296.81   \n",
       "35     28/1/91          F                      N T PUNE            23299.53   \n",
       "36      6/2/86          M                     NEW DELHI           398248.26   \n",
       "37     31/7/87          M                     BANGALORE             1660.45   \n",
       "38     29/5/84          M                     NEW DELHI            11349.64   \n",
       "39     22/1/88          M                     HYDERABAD            10994.33   \n",
       "40     18/2/87          M                       CHENNAI             2887.39   \n",
       "41      1/3/86          M                        IMPHAL            31987.86   \n",
       "42     2/11/81          F                     NEW DELHI            85626.45   \n",
       "43     2/12/90          F                     NEW DELHI             3156.39   \n",
       "44      6/9/72          M                     GHAZIABAD           225234.23   \n",
       "45     30/5/90          F                         DELHI          1089764.73   \n",
       "46     26/9/74          M                       CHENNAI            24678.92   \n",
       "47      2/7/91          M         DIST NORTH GOA BARDEZ           518766.40   \n",
       "48      7/4/94          F                          PUNE             8085.25   \n",
       "49      5/1/87          M                         DELHI            10989.03   \n",
       "\n",
       "   TransactionDate  TransactionTime  TransactionAmount (INR)  \\\n",
       "0           2/9/16           140310                    65.00   \n",
       "1           2/9/16           120214                  6025.00   \n",
       "2          10/8/16           221732                   541.50   \n",
       "3          29/8/16           144138                  1000.00   \n",
       "4          25/9/16           233309                    80.00   \n",
       "5          11/9/16           192906                   303.00   \n",
       "6          28/8/16            92633                    20.00   \n",
       "7           2/8/16           203754                    50.00   \n",
       "8          26/8/16           184015                   300.00   \n",
       "9          27/8/16           144030                   299.00   \n",
       "10          6/8/16           220151                   300.00   \n",
       "11         11/8/16           203131                  2244.00   \n",
       "12         22/8/16           185953                   690.00   \n",
       "13         12/8/16           232822                  4912.00   \n",
       "14         11/9/16           150136                   284.00   \n",
       "15         31/8/16           160307                  1000.00   \n",
       "16          5/8/16           214323                   401.00   \n",
       "17          9/8/16           133414                  1347.00   \n",
       "18          8/9/16            25212                    60.00   \n",
       "19          3/8/16           201328                   404.00   \n",
       "20         22/8/16            94901                 40000.00   \n",
       "21         14/9/16           154153                  1280.00   \n",
       "22         10/8/16           104836                   197.00   \n",
       "23         28/8/16           195559                  3460.00   \n",
       "24          2/8/16           220553                   150.00   \n",
       "25          4/8/16           144551                   862.44   \n",
       "26         25/9/16           183541                   990.00   \n",
       "27          9/9/16           193308                   220.00   \n",
       "28          8/8/16           212021                   199.00   \n",
       "29         30/8/16           160056                  1933.52   \n",
       "30          7/8/16           205242                  1137.00   \n",
       "31          4/8/16           181055                  3000.00   \n",
       "32         17/8/16           211438                   282.90   \n",
       "33          9/9/16           141846                  1290.23   \n",
       "34         11/9/16           184655                  2937.48   \n",
       "35         10/9/16           220846                   212.00   \n",
       "36          1/8/16           220403                  3180.00   \n",
       "37         14/8/16           203911                   100.86   \n",
       "38          2/9/16           144724                  5598.00   \n",
       "39          2/8/16           153712                    60.00   \n",
       "40         24/8/16           181703                    20.00   \n",
       "41         19/8/16           145712                   203.00   \n",
       "42         12/9/16           105636                  1500.00   \n",
       "43          4/8/16           204616                   199.00   \n",
       "44         24/8/16           171054                   347.30   \n",
       "45          5/9/16           130529                   250.00   \n",
       "46         17/8/16           215806                    60.00   \n",
       "47         14/9/16           182251                    90.00   \n",
       "48          5/9/16           191233                  1014.00   \n",
       "49          4/9/16           113240                   240.00   \n",
       "\n",
       "                                  minhash  \n",
       "0     [225, 73, 41, 2701, 169, 4057, 216]  \n",
       "1      [17, 73, 25, 786, 169, 3065, 2681]  \n",
       "2     [113, 73, 89, 262, 145, 1350, 3385]  \n",
       "3        [97, 73, 33, 1965, 9, 4723, 121]  \n",
       "4       [81, 73, 9, 390, 161, 4092, 1416]  \n",
       "5      [49, 73, 49, 1125, 225, 420, 4277]  \n",
       "6   [153, 25, 145, 3555, 209, 2109, 1609]  \n",
       "7    [25, 73, 177, 4155, 113, 2323, 4009]  \n",
       "8   [177, 73, 177, 2647, 145, 4187, 4037]  \n",
       "9     [169, 73, 57, 797, 177, 3859, 3957]  \n",
       "10    [105, 73, 49, 1356, 41, 3681, 4037]  \n",
       "11    [57, 73, 49, 4775, 177, 2332, 4774]  \n",
       "12    [217, 73, 177, 1859, 17, 4712, 286]  \n",
       "13    [201, 25, 49, 1386, 209, 196, 3515]  \n",
       "14  [113, 73, 169, 4827, 225, 2777, 2757]  \n",
       "15      [217, 73, 9, 3270, 25, 4257, 121]  \n",
       "16  [129, 25, 137, 2500, 233, 1994, 2131]  \n",
       "17    [217, 73, 33, 161, 161, 3812, 2916]  \n",
       "18     [177, 73, 9, 518, 177, 1985, 4809]  \n",
       "19   [137, 73, 33, 1576, 153, 2887, 2371]  \n",
       "20      [81, 25, 57, 1760, 17, 281, 4489]  \n",
       "21     [185, 25, 49, 186, 89, 4955, 2549]  \n",
       "22     [65, 73, 33, 4064, 145, 4866, 790]  \n",
       "23   [97, 73, 233, 1238, 209, 1672, 2194]  \n",
       "24  [201, 73, 137, 3939, 113, 1904, 2023]  \n",
       "25    [105, 73, 49, 4580, 193, 3034, 927]  \n",
       "26    [137, 73, 33, 3719, 161, 395, 4314]  \n",
       "27   [25, 73, 137, 4149, 217, 3636, 2630]  \n",
       "28   [121, 73, 169, 3880, 121, 3550, 950]  \n",
       "29  [217, 73, 137, 1486, 225, 2249, 3988]  \n",
       "30   [217, 73, 161, 1958, 81, 4241, 1095]  \n",
       "31     [17, 73, 145, 3233, 193, 479, 345]  \n",
       "32   [217, 73, 33, 4909, 137, 3879, 2669]  \n",
       "33   [233, 25, 33, 2589, 217, 1366, 3635]  \n",
       "34  [193, 73, 217, 2971, 225, 4314, 3283]  \n",
       "35   [177, 25, 105, 764, 193, 4248, 1990]  \n",
       "36      [209, 73, 33, 280, 73, 704, 4759]  \n",
       "37       [49, 73, 49, 231, 41, 3579, 809]  \n",
       "38   [137, 73, 33, 2447, 169, 4418, 3472]  \n",
       "39   [73, 73, 169, 2800, 113, 1427, 4809]  \n",
       "40     [185, 73, 33, 3155, 81, 670, 1609]  \n",
       "41   [65, 73, 137, 1172, 201, 2336, 1270]  \n",
       "42     [169, 25, 33, 2202, 25, 1280, 177]  \n",
       "43    [193, 25, 33, 3656, 193, 4226, 950]  \n",
       "44          [41, 73, 9, 9, 81, 359, 2828]  \n",
       "45        [65, 25, 41, 4035, 57, 704, 37]  \n",
       "46    [169, 73, 33, 823, 137, 3872, 4809]  \n",
       "47      [81, 73, 185, 4498, 89, 61, 2216]  \n",
       "48    [73, 25, 153, 2274, 57, 2015, 1241]  \n",
       "49    [177, 73, 41, 3553, 17, 2196, 4230]  "
      ]
     },
     "metadata": {},
     "output_type": "display_data"
    }
   ],
   "source": [
    "display(query)\n"
   ]
  },
  {
   "cell_type": "markdown",
   "metadata": {},
   "source": [
    "#### Best neighbours in the kaggle datset based on the cosine similarity of  minhash  vector"
   ]
  },
  {
   "cell_type": "code",
   "execution_count": 3,
   "metadata": {},
   "outputs": [],
   "source": [
    "newdata = pd.read_pickle(\"newdata.pkl\")"
   ]
  },
  {
   "cell_type": "code",
   "execution_count": 19,
   "metadata": {
    "collapsed": true,
    "jupyter": {
     "outputs_hidden": true
    },
    "tags": []
   },
   "outputs": [
    {
     "data": {
      "text/html": [
       "<div>\n",
       "<style scoped>\n",
       "    .dataframe tbody tr th:only-of-type {\n",
       "        vertical-align: middle;\n",
       "    }\n",
       "\n",
       "    .dataframe tbody tr th {\n",
       "        vertical-align: top;\n",
       "    }\n",
       "\n",
       "    .dataframe thead th {\n",
       "        text-align: right;\n",
       "    }\n",
       "</style>\n",
       "<table border=\"1\" class=\"dataframe\">\n",
       "  <thead>\n",
       "    <tr style=\"text-align: right;\">\n",
       "      <th></th>\n",
       "      <th>CustomerDOB</th>\n",
       "      <th>CustGender</th>\n",
       "      <th>CustLocation</th>\n",
       "      <th>CustAccountBalance</th>\n",
       "      <th>TransactionDate</th>\n",
       "      <th>TransactionTime</th>\n",
       "      <th>TransactionAmount (INR)</th>\n",
       "      <th>minhash</th>\n",
       "    </tr>\n",
       "  </thead>\n",
       "  <tbody>\n",
       "    <tr>\n",
       "      <th>467195</th>\n",
       "      <td>1990-09-21</td>\n",
       "      <td>M</td>\n",
       "      <td>NOIDA</td>\n",
       "      <td>10201.66</td>\n",
       "      <td>2016-08-20</td>\n",
       "      <td>160920</td>\n",
       "      <td>1066.00</td>\n",
       "      <td>[278, 73, 57, 2775, 210, 4168, 408]</td>\n",
       "    </tr>\n",
       "    <tr>\n",
       "      <th>351868</th>\n",
       "      <td>1987-07-24</td>\n",
       "      <td>M</td>\n",
       "      <td>GHAZIABAD</td>\n",
       "      <td>24104.64</td>\n",
       "      <td>2016-08-13</td>\n",
       "      <td>144537</td>\n",
       "      <td>966.00</td>\n",
       "      <td>[41, 73, 9, 755, 27, 2922, 2394]</td>\n",
       "    </tr>\n",
       "    <tr>\n",
       "      <th>470885</th>\n",
       "      <td>1990-07-23</td>\n",
       "      <td>M</td>\n",
       "      <td>CHANDIGARH</td>\n",
       "      <td>4805.97</td>\n",
       "      <td>2016-08-20</td>\n",
       "      <td>190505</td>\n",
       "      <td>100.00</td>\n",
       "      <td>[136, 73, 113, 175, 210, 1184, 3016]</td>\n",
       "    </tr>\n",
       "    <tr>\n",
       "      <th>357751</th>\n",
       "      <td>1985-02-05</td>\n",
       "      <td>M</td>\n",
       "      <td>MANGALORE</td>\n",
       "      <td>11186.45</td>\n",
       "      <td>2016-08-13</td>\n",
       "      <td>164041</td>\n",
       "      <td>500.00</td>\n",
       "      <td>[77, 73, 25, 1713, 27, 4171, 65]</td>\n",
       "    </tr>\n",
       "    <tr>\n",
       "      <th>467471</th>\n",
       "      <td>1989-01-25</td>\n",
       "      <td>M</td>\n",
       "      <td>BENGALURU</td>\n",
       "      <td>46023.34</td>\n",
       "      <td>2016-08-20</td>\n",
       "      <td>192010</td>\n",
       "      <td>1200.00</td>\n",
       "      <td>[180, 73, 49, 299, 210, 3238, 1142]</td>\n",
       "    </tr>\n",
       "    <tr>\n",
       "      <th>473439</th>\n",
       "      <td>1994-09-26</td>\n",
       "      <td>F</td>\n",
       "      <td>SOLAPUR</td>\n",
       "      <td>141503.14</td>\n",
       "      <td>2016-08-20</td>\n",
       "      <td>234715</td>\n",
       "      <td>620.00</td>\n",
       "      <td>[86, 25, 97, 1225, 210, 361, 4672]</td>\n",
       "    </tr>\n",
       "    <tr>\n",
       "      <th>555226</th>\n",
       "      <td>1988-08-19</td>\n",
       "      <td>F</td>\n",
       "      <td>HALL WHITEFIELD BANGALORE</td>\n",
       "      <td>1285360.13</td>\n",
       "      <td>2016-08-27</td>\n",
       "      <td>215041</td>\n",
       "      <td>1774.50</td>\n",
       "      <td>[303, 25, 161, 4728, 393, 2745, 2165]</td>\n",
       "    </tr>\n",
       "    <tr>\n",
       "      <th>356073</th>\n",
       "      <td>1972-09-09</td>\n",
       "      <td>F</td>\n",
       "      <td>MUMBAI</td>\n",
       "      <td>1497.17</td>\n",
       "      <td>2016-08-13</td>\n",
       "      <td>163812</td>\n",
       "      <td>990.00</td>\n",
       "      <td>[3, 25, 137, 4418, 27, 2339, 4314]</td>\n",
       "    </tr>\n",
       "    <tr>\n",
       "      <th>464958</th>\n",
       "      <td>1987-05-09</td>\n",
       "      <td>F</td>\n",
       "      <td>INDORE</td>\n",
       "      <td>53403.14</td>\n",
       "      <td>2016-08-20</td>\n",
       "      <td>195228</td>\n",
       "      <td>366.83</td>\n",
       "      <td>[194, 25, 145, 2413, 210, 4017, 3879]</td>\n",
       "    </tr>\n",
       "    <tr>\n",
       "      <th>475782</th>\n",
       "      <td>1987-12-07</td>\n",
       "      <td>M</td>\n",
       "      <td>BAGALKOT</td>\n",
       "      <td>88.45</td>\n",
       "      <td>2016-08-20</td>\n",
       "      <td>215259</td>\n",
       "      <td>747.00</td>\n",
       "      <td>[30, 73, 41, 867, 210, 4489, 4846]</td>\n",
       "    </tr>\n",
       "    <tr>\n",
       "      <th>370539</th>\n",
       "      <td>1992-06-09</td>\n",
       "      <td>M</td>\n",
       "      <td>NORTH 24 PARGANAS</td>\n",
       "      <td>2847.68</td>\n",
       "      <td>2016-08-13</td>\n",
       "      <td>224530</td>\n",
       "      <td>50.00</td>\n",
       "      <td>[264, 73, 73, 1345, 27, 3762, 4009]</td>\n",
       "    </tr>\n",
       "    <tr>\n",
       "      <th>455646</th>\n",
       "      <td>1981-08-01</td>\n",
       "      <td>M</td>\n",
       "      <td>NEW DELHI</td>\n",
       "      <td>3798.36</td>\n",
       "      <td>2016-08-20</td>\n",
       "      <td>153104</td>\n",
       "      <td>100.00</td>\n",
       "      <td>[34, 73, 33, 2953, 210, 1556, 3016]</td>\n",
       "    </tr>\n",
       "    <tr>\n",
       "      <th>348257</th>\n",
       "      <td>1988-08-12</td>\n",
       "      <td>M</td>\n",
       "      <td>COIMBATORE</td>\n",
       "      <td>79746.84</td>\n",
       "      <td>2016-08-13</td>\n",
       "      <td>82344</td>\n",
       "      <td>3685.40</td>\n",
       "      <td>[120, 73, 201, 1920, 27, 4678, 254]</td>\n",
       "    </tr>\n",
       "    <tr>\n",
       "      <th>464432</th>\n",
       "      <td>1966-10-25</td>\n",
       "      <td>M</td>\n",
       "      <td>THANE (WEST)</td>\n",
       "      <td>251974.11</td>\n",
       "      <td>2016-08-20</td>\n",
       "      <td>54320</td>\n",
       "      <td>411.88</td>\n",
       "      <td>[250, 73, 49, 1901, 210, 178, 4968]</td>\n",
       "    </tr>\n",
       "    <tr>\n",
       "      <th>457368</th>\n",
       "      <td>1986-04-19</td>\n",
       "      <td>M</td>\n",
       "      <td>AMBALA CITY</td>\n",
       "      <td>10310.25</td>\n",
       "      <td>2016-08-20</td>\n",
       "      <td>160723</td>\n",
       "      <td>658.00</td>\n",
       "      <td>[115, 73, 121, 4766, 210, 2592, 2719]</td>\n",
       "    </tr>\n",
       "    <tr>\n",
       "      <th>365473</th>\n",
       "      <td>1974-05-06</td>\n",
       "      <td>M</td>\n",
       "      <td>GURGAON</td>\n",
       "      <td>58764.43</td>\n",
       "      <td>2016-08-13</td>\n",
       "      <td>200758</td>\n",
       "      <td>500.00</td>\n",
       "      <td>[101, 73, 9, 2458, 27, 3320, 65]</td>\n",
       "    </tr>\n",
       "    <tr>\n",
       "      <th>555408</th>\n",
       "      <td>1980-02-11</td>\n",
       "      <td>M</td>\n",
       "      <td>CHITTO0R</td>\n",
       "      <td>407110.36</td>\n",
       "      <td>2016-08-27</td>\n",
       "      <td>203930</td>\n",
       "      <td>2050.00</td>\n",
       "      <td>[261, 73, 201, 4893, 393, 3731, 4233]</td>\n",
       "    </tr>\n",
       "    <tr>\n",
       "      <th>464545</th>\n",
       "      <td>1983-07-19</td>\n",
       "      <td>M</td>\n",
       "      <td>BANGALORE</td>\n",
       "      <td>173844.07</td>\n",
       "      <td>2016-08-20</td>\n",
       "      <td>155952</td>\n",
       "      <td>290.00</td>\n",
       "      <td>[233, 73, 49, 243, 210, 4368, 3237]</td>\n",
       "    </tr>\n",
       "    <tr>\n",
       "      <th>460594</th>\n",
       "      <td>1980-04-04</td>\n",
       "      <td>F</td>\n",
       "      <td>NOIDA</td>\n",
       "      <td>74103.02</td>\n",
       "      <td>2016-08-20</td>\n",
       "      <td>131906</td>\n",
       "      <td>2363.00</td>\n",
       "      <td>[220, 25, 57, 536, 210, 1734, 4308]</td>\n",
       "    </tr>\n",
       "    <tr>\n",
       "      <th>474833</th>\n",
       "      <td>1988-01-13</td>\n",
       "      <td>M</td>\n",
       "      <td>GURGAON</td>\n",
       "      <td>1120.15</td>\n",
       "      <td>2016-08-20</td>\n",
       "      <td>212733</td>\n",
       "      <td>420.00</td>\n",
       "      <td>[284, 73, 9, 2382, 210, 4253, 3651]</td>\n",
       "    </tr>\n",
       "    <tr>\n",
       "      <th>355118</th>\n",
       "      <td>1972-08-17</td>\n",
       "      <td>M</td>\n",
       "      <td>DELHI</td>\n",
       "      <td>5326.50</td>\n",
       "      <td>2016-08-13</td>\n",
       "      <td>103638</td>\n",
       "      <td>300.00</td>\n",
       "      <td>[115, 73, 41, 1724, 27, 275, 4037]</td>\n",
       "    </tr>\n",
       "    <tr>\n",
       "      <th>349743</th>\n",
       "      <td>1979-08-29</td>\n",
       "      <td>F</td>\n",
       "      <td>BANGALORE</td>\n",
       "      <td>89587.05</td>\n",
       "      <td>2016-08-13</td>\n",
       "      <td>3025</td>\n",
       "      <td>71.25</td>\n",
       "      <td>[201, 25, 49, 127, 27, 4237, 2086]</td>\n",
       "    </tr>\n",
       "    <tr>\n",
       "      <th>462330</th>\n",
       "      <td>1992-12-15</td>\n",
       "      <td>F</td>\n",
       "      <td>PABIACHERRA SCHOOL NORTH TRIPURA</td>\n",
       "      <td>11413.29</td>\n",
       "      <td>2016-08-20</td>\n",
       "      <td>191523</td>\n",
       "      <td>570.00</td>\n",
       "      <td>[212, 25, 81, 3437, 210, 4335, 672]</td>\n",
       "    </tr>\n",
       "    <tr>\n",
       "      <th>30546</th>\n",
       "      <td>1991-10-11</td>\n",
       "      <td>M</td>\n",
       "      <td>DIST WEST SINGHBHUM</td>\n",
       "      <td>12485.16</td>\n",
       "      <td>2016-09-26</td>\n",
       "      <td>115213</td>\n",
       "      <td>359.00</td>\n",
       "      <td>[357, 73, 209, 2137, 464, 3001, 3764]</td>\n",
       "    </tr>\n",
       "    <tr>\n",
       "      <th>374701</th>\n",
       "      <td>1984-09-29</td>\n",
       "      <td>M</td>\n",
       "      <td>MANGALURU</td>\n",
       "      <td>30576.20</td>\n",
       "      <td>2016-08-13</td>\n",
       "      <td>211855</td>\n",
       "      <td>2899.00</td>\n",
       "      <td>[271, 73, 129, 4528, 27, 2222, 2251]</td>\n",
       "    </tr>\n",
       "    <tr>\n",
       "      <th>364528</th>\n",
       "      <td>1979-01-22</td>\n",
       "      <td>F</td>\n",
       "      <td>NOIDA</td>\n",
       "      <td>469154.08</td>\n",
       "      <td>2016-08-13</td>\n",
       "      <td>201341</td>\n",
       "      <td>1633.00</td>\n",
       "      <td>[182, 25, 57, 4456, 27, 2991, 831]</td>\n",
       "    </tr>\n",
       "    <tr>\n",
       "      <th>465295</th>\n",
       "      <td>1986-05-19</td>\n",
       "      <td>M</td>\n",
       "      <td>BANGALORE</td>\n",
       "      <td>25581.94</td>\n",
       "      <td>2016-08-20</td>\n",
       "      <td>203503</td>\n",
       "      <td>248.00</td>\n",
       "      <td>[186, 73, 49, 4247, 210, 315, 4870]</td>\n",
       "    </tr>\n",
       "    <tr>\n",
       "      <th>460236</th>\n",
       "      <td>1993-10-06</td>\n",
       "      <td>M</td>\n",
       "      <td>DELHI</td>\n",
       "      <td>29725.11</td>\n",
       "      <td>2016-08-20</td>\n",
       "      <td>183234</td>\n",
       "      <td>3797.36</td>\n",
       "      <td>[78, 73, 41, 3431, 210, 2932, 2153]</td>\n",
       "    </tr>\n",
       "    <tr>\n",
       "      <th>469191</th>\n",
       "      <td>1988-01-06</td>\n",
       "      <td>M</td>\n",
       "      <td>GUWAHATI</td>\n",
       "      <td>111.52</td>\n",
       "      <td>2016-08-20</td>\n",
       "      <td>192745</td>\n",
       "      <td>1137.00</td>\n",
       "      <td>[101, 73, 177, 4344, 210, 4125, 1095]</td>\n",
       "    </tr>\n",
       "    <tr>\n",
       "      <th>461505</th>\n",
       "      <td>1978-06-24</td>\n",
       "      <td>M</td>\n",
       "      <td>THANE</td>\n",
       "      <td>75764.23</td>\n",
       "      <td>2016-08-20</td>\n",
       "      <td>171258</td>\n",
       "      <td>669.00</td>\n",
       "      <td>[346, 73, 161, 1366, 210, 1991, 3599]</td>\n",
       "    </tr>\n",
       "    <tr>\n",
       "      <th>370586</th>\n",
       "      <td>1973-10-06</td>\n",
       "      <td>F</td>\n",
       "      <td>INDORE</td>\n",
       "      <td>21684.47</td>\n",
       "      <td>2016-08-13</td>\n",
       "      <td>232052</td>\n",
       "      <td>451.00</td>\n",
       "      <td>[265, 25, 145, 1903, 27, 4022, 1138]</td>\n",
       "    </tr>\n",
       "    <tr>\n",
       "      <th>15691</th>\n",
       "      <td>1980-12-25</td>\n",
       "      <td>M</td>\n",
       "      <td>KOLKATA</td>\n",
       "      <td>38383.58</td>\n",
       "      <td>2016-09-26</td>\n",
       "      <td>194818</td>\n",
       "      <td>257.00</td>\n",
       "      <td>[15, 73, 169, 4916, 464, 737, 597]</td>\n",
       "    </tr>\n",
       "    <tr>\n",
       "      <th>463515</th>\n",
       "      <td>1995-12-08</td>\n",
       "      <td>M</td>\n",
       "      <td>DELHI</td>\n",
       "      <td>335965.86</td>\n",
       "      <td>2016-08-20</td>\n",
       "      <td>203904</td>\n",
       "      <td>903.00</td>\n",
       "      <td>[124, 73, 41, 4500, 210, 3523, 2347]</td>\n",
       "    </tr>\n",
       "    <tr>\n",
       "      <th>459621</th>\n",
       "      <td>1992-09-23</td>\n",
       "      <td>F</td>\n",
       "      <td>GURGAON</td>\n",
       "      <td>167005.71</td>\n",
       "      <td>2016-08-20</td>\n",
       "      <td>131808</td>\n",
       "      <td>789.82</td>\n",
       "      <td>[182, 25, 9, 1883, 210, 950, 2747]</td>\n",
       "    </tr>\n",
       "    <tr>\n",
       "      <th>582397</th>\n",
       "      <td>1994-03-21</td>\n",
       "      <td>M</td>\n",
       "      <td>AIZAWL, MIZORAM</td>\n",
       "      <td>746.98</td>\n",
       "      <td>2016-08-27</td>\n",
       "      <td>184112</td>\n",
       "      <td>299.00</td>\n",
       "      <td>[138, 73, 225, 3426, 393, 4963, 3957]</td>\n",
       "    </tr>\n",
       "    <tr>\n",
       "      <th>456516</th>\n",
       "      <td>1973-01-07</td>\n",
       "      <td>M</td>\n",
       "      <td>RANGA REDDY</td>\n",
       "      <td>10623.77</td>\n",
       "      <td>2016-08-20</td>\n",
       "      <td>141011</td>\n",
       "      <td>587.00</td>\n",
       "      <td>[287, 73, 49, 939, 210, 4672, 2032]</td>\n",
       "    </tr>\n",
       "    <tr>\n",
       "      <th>349729</th>\n",
       "      <td>1979-08-29</td>\n",
       "      <td>F</td>\n",
       "      <td>BANGALORE</td>\n",
       "      <td>89587.05</td>\n",
       "      <td>2016-08-13</td>\n",
       "      <td>2551</td>\n",
       "      <td>102.60</td>\n",
       "      <td>[201, 25, 49, 127, 27, 445, 3224]</td>\n",
       "    </tr>\n",
       "    <tr>\n",
       "      <th>361946</th>\n",
       "      <td>1991-01-28</td>\n",
       "      <td>F</td>\n",
       "      <td>KHURDA</td>\n",
       "      <td>16133.82</td>\n",
       "      <td>2016-08-13</td>\n",
       "      <td>153214</td>\n",
       "      <td>737.16</td>\n",
       "      <td>[84, 25, 97, 160, 27, 2436, 563]</td>\n",
       "    </tr>\n",
       "    <tr>\n",
       "      <th>349541</th>\n",
       "      <td>1980-04-04</td>\n",
       "      <td>F</td>\n",
       "      <td>VADODARA</td>\n",
       "      <td>7929.54</td>\n",
       "      <td>2016-08-13</td>\n",
       "      <td>115438</td>\n",
       "      <td>108.00</td>\n",
       "      <td>[220, 25, 33, 2531, 27, 4801, 3656]</td>\n",
       "    </tr>\n",
       "    <tr>\n",
       "      <th>451097</th>\n",
       "      <td>1993-03-01</td>\n",
       "      <td>F</td>\n",
       "      <td>MUMBAI</td>\n",
       "      <td>21684.93</td>\n",
       "      <td>2016-08-20</td>\n",
       "      <td>143</td>\n",
       "      <td>2108.00</td>\n",
       "      <td>[59, 25, 137, 2271, 210, 1153, 3880]</td>\n",
       "    </tr>\n",
       "    <tr>\n",
       "      <th>359755</th>\n",
       "      <td>1990-02-14</td>\n",
       "      <td>M</td>\n",
       "      <td>NEW DELHI</td>\n",
       "      <td>82964.54</td>\n",
       "      <td>2016-08-13</td>\n",
       "      <td>152425</td>\n",
       "      <td>1152.00</td>\n",
       "      <td>[259, 73, 33, 4685, 27, 1117, 2295]</td>\n",
       "    </tr>\n",
       "    <tr>\n",
       "      <th>553334</th>\n",
       "      <td>1988-01-06</td>\n",
       "      <td>M</td>\n",
       "      <td>HYDERABAD</td>\n",
       "      <td>9844.58</td>\n",
       "      <td>2016-08-27</td>\n",
       "      <td>225736</td>\n",
       "      <td>771.00</td>\n",
       "      <td>[101, 73, 169, 1712, 393, 3424, 1773]</td>\n",
       "    </tr>\n",
       "    <tr>\n",
       "      <th>369051</th>\n",
       "      <td>1988-02-12</td>\n",
       "      <td>M</td>\n",
       "      <td>MUMBAI</td>\n",
       "      <td>28165.57</td>\n",
       "      <td>2016-08-13</td>\n",
       "      <td>193159</td>\n",
       "      <td>2377.00</td>\n",
       "      <td>[355, 73, 137, 4049, 27, 2444, 435]</td>\n",
       "    </tr>\n",
       "    <tr>\n",
       "      <th>455672</th>\n",
       "      <td>1970-05-24</td>\n",
       "      <td>F</td>\n",
       "      <td>CHENNAI</td>\n",
       "      <td>34.77</td>\n",
       "      <td>2016-08-20</td>\n",
       "      <td>153327</td>\n",
       "      <td>570.00</td>\n",
       "      <td>[181, 25, 33, 2860, 210, 3340, 672]</td>\n",
       "    </tr>\n",
       "    <tr>\n",
       "      <th>370128</th>\n",
       "      <td>1972-06-25</td>\n",
       "      <td>M</td>\n",
       "      <td>BHARUCH</td>\n",
       "      <td>64653.23</td>\n",
       "      <td>2016-08-13</td>\n",
       "      <td>203535</td>\n",
       "      <td>1430.00</td>\n",
       "      <td>[156, 73, 41, 106, 27, 571, 4563]</td>\n",
       "    </tr>\n",
       "    <tr>\n",
       "      <th>352657</th>\n",
       "      <td>1987-05-02</td>\n",
       "      <td>F</td>\n",
       "      <td>GHAZIABAD</td>\n",
       "      <td>49004.99</td>\n",
       "      <td>2016-08-13</td>\n",
       "      <td>133653</td>\n",
       "      <td>625.40</td>\n",
       "      <td>[11, 25, 9, 3958, 27, 731, 111]</td>\n",
       "    </tr>\n",
       "    <tr>\n",
       "      <th>362013</th>\n",
       "      <td>1990-04-08</td>\n",
       "      <td>F</td>\n",
       "      <td>DELHI</td>\n",
       "      <td>6.98</td>\n",
       "      <td>2016-08-13</td>\n",
       "      <td>183914</td>\n",
       "      <td>300.00</td>\n",
       "      <td>[218, 25, 41, 600, 27, 3379, 4037]</td>\n",
       "    </tr>\n",
       "    <tr>\n",
       "      <th>361871</th>\n",
       "      <td>1987-09-15</td>\n",
       "      <td>M</td>\n",
       "      <td>NOIDA</td>\n",
       "      <td>96820.46</td>\n",
       "      <td>2016-08-13</td>\n",
       "      <td>161026</td>\n",
       "      <td>3150.00</td>\n",
       "      <td>[0, 73, 57, 4961, 27, 23, 2359]</td>\n",
       "    </tr>\n",
       "    <tr>\n",
       "      <th>362832</th>\n",
       "      <td>1974-01-13</td>\n",
       "      <td>M</td>\n",
       "      <td>SONIPAT</td>\n",
       "      <td>20601.75</td>\n",
       "      <td>2016-08-13</td>\n",
       "      <td>202722</td>\n",
       "      <td>280.00</td>\n",
       "      <td>[0, 73, 185, 4509, 27, 4053, 2437]</td>\n",
       "    </tr>\n",
       "    <tr>\n",
       "      <th>364275</th>\n",
       "      <td>1975-11-08</td>\n",
       "      <td>F</td>\n",
       "      <td>BANGALORE</td>\n",
       "      <td>181687.22</td>\n",
       "      <td>2016-08-13</td>\n",
       "      <td>200009</td>\n",
       "      <td>73450.00</td>\n",
       "      <td>[240, 25, 49, 3555, 27, 2321, 4241]</td>\n",
       "    </tr>\n",
       "  </tbody>\n",
       "</table>\n",
       "</div>"
      ],
      "text/plain": [
       "       CustomerDOB CustGender                      CustLocation  \\\n",
       "467195  1990-09-21          M                             NOIDA   \n",
       "351868  1987-07-24          M                         GHAZIABAD   \n",
       "470885  1990-07-23          M                        CHANDIGARH   \n",
       "357751  1985-02-05          M                         MANGALORE   \n",
       "467471  1989-01-25          M                         BENGALURU   \n",
       "473439  1994-09-26          F                           SOLAPUR   \n",
       "555226  1988-08-19          F         HALL WHITEFIELD BANGALORE   \n",
       "356073  1972-09-09          F                            MUMBAI   \n",
       "464958  1987-05-09          F                            INDORE   \n",
       "475782  1987-12-07          M                          BAGALKOT   \n",
       "370539  1992-06-09          M                 NORTH 24 PARGANAS   \n",
       "455646  1981-08-01          M                         NEW DELHI   \n",
       "348257  1988-08-12          M                        COIMBATORE   \n",
       "464432  1966-10-25          M                      THANE (WEST)   \n",
       "457368  1986-04-19          M                       AMBALA CITY   \n",
       "365473  1974-05-06          M                           GURGAON   \n",
       "555408  1980-02-11          M                          CHITTO0R   \n",
       "464545  1983-07-19          M                         BANGALORE   \n",
       "460594  1980-04-04          F                             NOIDA   \n",
       "474833  1988-01-13          M                           GURGAON   \n",
       "355118  1972-08-17          M                             DELHI   \n",
       "349743  1979-08-29          F                         BANGALORE   \n",
       "462330  1992-12-15          F  PABIACHERRA SCHOOL NORTH TRIPURA   \n",
       "30546   1991-10-11          M               DIST WEST SINGHBHUM   \n",
       "374701  1984-09-29          M                         MANGALURU   \n",
       "364528  1979-01-22          F                             NOIDA   \n",
       "465295  1986-05-19          M                         BANGALORE   \n",
       "460236  1993-10-06          M                             DELHI   \n",
       "469191  1988-01-06          M                          GUWAHATI   \n",
       "461505  1978-06-24          M                             THANE   \n",
       "370586  1973-10-06          F                            INDORE   \n",
       "15691   1980-12-25          M                           KOLKATA   \n",
       "463515  1995-12-08          M                             DELHI   \n",
       "459621  1992-09-23          F                           GURGAON   \n",
       "582397  1994-03-21          M                   AIZAWL, MIZORAM   \n",
       "456516  1973-01-07          M                       RANGA REDDY   \n",
       "349729  1979-08-29          F                         BANGALORE   \n",
       "361946  1991-01-28          F                            KHURDA   \n",
       "349541  1980-04-04          F                          VADODARA   \n",
       "451097  1993-03-01          F                            MUMBAI   \n",
       "359755  1990-02-14          M                         NEW DELHI   \n",
       "553334  1988-01-06          M                         HYDERABAD   \n",
       "369051  1988-02-12          M                            MUMBAI   \n",
       "455672  1970-05-24          F                           CHENNAI   \n",
       "370128  1972-06-25          M                           BHARUCH   \n",
       "352657  1987-05-02          F                         GHAZIABAD   \n",
       "362013  1990-04-08          F                             DELHI   \n",
       "361871  1987-09-15          M                             NOIDA   \n",
       "362832  1974-01-13          M                           SONIPAT   \n",
       "364275  1975-11-08          F                         BANGALORE   \n",
       "\n",
       "        CustAccountBalance TransactionDate  TransactionTime  \\\n",
       "467195            10201.66      2016-08-20           160920   \n",
       "351868            24104.64      2016-08-13           144537   \n",
       "470885             4805.97      2016-08-20           190505   \n",
       "357751            11186.45      2016-08-13           164041   \n",
       "467471            46023.34      2016-08-20           192010   \n",
       "473439           141503.14      2016-08-20           234715   \n",
       "555226          1285360.13      2016-08-27           215041   \n",
       "356073             1497.17      2016-08-13           163812   \n",
       "464958            53403.14      2016-08-20           195228   \n",
       "475782               88.45      2016-08-20           215259   \n",
       "370539             2847.68      2016-08-13           224530   \n",
       "455646             3798.36      2016-08-20           153104   \n",
       "348257            79746.84      2016-08-13            82344   \n",
       "464432           251974.11      2016-08-20            54320   \n",
       "457368            10310.25      2016-08-20           160723   \n",
       "365473            58764.43      2016-08-13           200758   \n",
       "555408           407110.36      2016-08-27           203930   \n",
       "464545           173844.07      2016-08-20           155952   \n",
       "460594            74103.02      2016-08-20           131906   \n",
       "474833             1120.15      2016-08-20           212733   \n",
       "355118             5326.50      2016-08-13           103638   \n",
       "349743            89587.05      2016-08-13             3025   \n",
       "462330            11413.29      2016-08-20           191523   \n",
       "30546             12485.16      2016-09-26           115213   \n",
       "374701            30576.20      2016-08-13           211855   \n",
       "364528           469154.08      2016-08-13           201341   \n",
       "465295            25581.94      2016-08-20           203503   \n",
       "460236            29725.11      2016-08-20           183234   \n",
       "469191              111.52      2016-08-20           192745   \n",
       "461505            75764.23      2016-08-20           171258   \n",
       "370586            21684.47      2016-08-13           232052   \n",
       "15691             38383.58      2016-09-26           194818   \n",
       "463515           335965.86      2016-08-20           203904   \n",
       "459621           167005.71      2016-08-20           131808   \n",
       "582397              746.98      2016-08-27           184112   \n",
       "456516            10623.77      2016-08-20           141011   \n",
       "349729            89587.05      2016-08-13             2551   \n",
       "361946            16133.82      2016-08-13           153214   \n",
       "349541             7929.54      2016-08-13           115438   \n",
       "451097            21684.93      2016-08-20              143   \n",
       "359755            82964.54      2016-08-13           152425   \n",
       "553334             9844.58      2016-08-27           225736   \n",
       "369051            28165.57      2016-08-13           193159   \n",
       "455672               34.77      2016-08-20           153327   \n",
       "370128            64653.23      2016-08-13           203535   \n",
       "352657            49004.99      2016-08-13           133653   \n",
       "362013                6.98      2016-08-13           183914   \n",
       "361871            96820.46      2016-08-13           161026   \n",
       "362832            20601.75      2016-08-13           202722   \n",
       "364275           181687.22      2016-08-13           200009   \n",
       "\n",
       "        TransactionAmount (INR)                                minhash  \n",
       "467195                  1066.00    [278, 73, 57, 2775, 210, 4168, 408]  \n",
       "351868                   966.00       [41, 73, 9, 755, 27, 2922, 2394]  \n",
       "470885                   100.00   [136, 73, 113, 175, 210, 1184, 3016]  \n",
       "357751                   500.00       [77, 73, 25, 1713, 27, 4171, 65]  \n",
       "467471                  1200.00    [180, 73, 49, 299, 210, 3238, 1142]  \n",
       "473439                   620.00     [86, 25, 97, 1225, 210, 361, 4672]  \n",
       "555226                  1774.50  [303, 25, 161, 4728, 393, 2745, 2165]  \n",
       "356073                   990.00     [3, 25, 137, 4418, 27, 2339, 4314]  \n",
       "464958                   366.83  [194, 25, 145, 2413, 210, 4017, 3879]  \n",
       "475782                   747.00     [30, 73, 41, 867, 210, 4489, 4846]  \n",
       "370539                    50.00    [264, 73, 73, 1345, 27, 3762, 4009]  \n",
       "455646                   100.00    [34, 73, 33, 2953, 210, 1556, 3016]  \n",
       "348257                  3685.40    [120, 73, 201, 1920, 27, 4678, 254]  \n",
       "464432                   411.88    [250, 73, 49, 1901, 210, 178, 4968]  \n",
       "457368                   658.00  [115, 73, 121, 4766, 210, 2592, 2719]  \n",
       "365473                   500.00       [101, 73, 9, 2458, 27, 3320, 65]  \n",
       "555408                  2050.00  [261, 73, 201, 4893, 393, 3731, 4233]  \n",
       "464545                   290.00    [233, 73, 49, 243, 210, 4368, 3237]  \n",
       "460594                  2363.00    [220, 25, 57, 536, 210, 1734, 4308]  \n",
       "474833                   420.00    [284, 73, 9, 2382, 210, 4253, 3651]  \n",
       "355118                   300.00     [115, 73, 41, 1724, 27, 275, 4037]  \n",
       "349743                    71.25     [201, 25, 49, 127, 27, 4237, 2086]  \n",
       "462330                   570.00    [212, 25, 81, 3437, 210, 4335, 672]  \n",
       "30546                    359.00  [357, 73, 209, 2137, 464, 3001, 3764]  \n",
       "374701                  2899.00   [271, 73, 129, 4528, 27, 2222, 2251]  \n",
       "364528                  1633.00     [182, 25, 57, 4456, 27, 2991, 831]  \n",
       "465295                   248.00    [186, 73, 49, 4247, 210, 315, 4870]  \n",
       "460236                  3797.36    [78, 73, 41, 3431, 210, 2932, 2153]  \n",
       "469191                  1137.00  [101, 73, 177, 4344, 210, 4125, 1095]  \n",
       "461505                   669.00  [346, 73, 161, 1366, 210, 1991, 3599]  \n",
       "370586                   451.00   [265, 25, 145, 1903, 27, 4022, 1138]  \n",
       "15691                    257.00     [15, 73, 169, 4916, 464, 737, 597]  \n",
       "463515                   903.00   [124, 73, 41, 4500, 210, 3523, 2347]  \n",
       "459621                   789.82     [182, 25, 9, 1883, 210, 950, 2747]  \n",
       "582397                   299.00  [138, 73, 225, 3426, 393, 4963, 3957]  \n",
       "456516                   587.00    [287, 73, 49, 939, 210, 4672, 2032]  \n",
       "349729                   102.60      [201, 25, 49, 127, 27, 445, 3224]  \n",
       "361946                   737.16       [84, 25, 97, 160, 27, 2436, 563]  \n",
       "349541                   108.00    [220, 25, 33, 2531, 27, 4801, 3656]  \n",
       "451097                  2108.00   [59, 25, 137, 2271, 210, 1153, 3880]  \n",
       "359755                  1152.00    [259, 73, 33, 4685, 27, 1117, 2295]  \n",
       "553334                   771.00  [101, 73, 169, 1712, 393, 3424, 1773]  \n",
       "369051                  2377.00    [355, 73, 137, 4049, 27, 2444, 435]  \n",
       "455672                   570.00    [181, 25, 33, 2860, 210, 3340, 672]  \n",
       "370128                  1430.00      [156, 73, 41, 106, 27, 571, 4563]  \n",
       "352657                   625.40        [11, 25, 9, 3958, 27, 731, 111]  \n",
       "362013                   300.00     [218, 25, 41, 600, 27, 3379, 4037]  \n",
       "361871                  3150.00        [0, 73, 57, 4961, 27, 23, 2359]  \n",
       "362832                   280.00     [0, 73, 185, 4509, 27, 4053, 2437]  \n",
       "364275                 73450.00    [240, 25, 49, 3555, 27, 2321, 4241]  "
      ]
     },
     "metadata": {},
     "output_type": "display_data"
    }
   ],
   "source": [
    "display(newdata.loc[neighbours])"
   ]
  },
  {
   "cell_type": "markdown",
   "metadata": {},
   "source": [
    "## 2. Grouping customers together!\n",
    "\n",
    "Now we will deal with clustering algorithms that will provide groups of clients which are similar among them."
   ]
  },
  {
   "cell_type": "markdown",
   "metadata": {},
   "source": [
    "### 2.1 Getting your data + feature engineering"
   ]
  },
  {
   "cell_type": "markdown",
   "metadata": {},
   "source": [
    "2.1 Access to the data found in this dataset (it is the same dataset from the previous question 1.1)."
   ]
  },
  {
   "cell_type": "code",
   "execution_count": 86,
   "metadata": {},
   "outputs": [],
   "source": [
    "newdata = pd.read_pickle(\"processed.pkl\")"
   ]
  },
  {
   "cell_type": "code",
   "execution_count": 87,
   "metadata": {},
   "outputs": [
    {
     "data": {
      "text/plain": [
       "TransactionID              0\n",
       "CustomerID                 0\n",
       "CustomerDOB                0\n",
       "CustGender                 0\n",
       "CustLocation               0\n",
       "CustAccountBalance         0\n",
       "TransactionDate            0\n",
       "TransactionTime            0\n",
       "TransactionAmount (INR)    0\n",
       "dtype: int64"
      ]
     },
     "execution_count": 87,
     "metadata": {},
     "output_type": "execute_result"
    }
   ],
   "source": [
    "newdata.isna().sum()"
   ]
  },
  {
   "cell_type": "code",
   "execution_count": 88,
   "metadata": {},
   "outputs": [],
   "source": [
    "newdata.index = [x for x in range(len(newdata))]"
   ]
  },
  {
   "cell_type": "markdown",
   "metadata": {},
   "source": [
    "2.2 Sometimes, the features (variables, fields) are not given in a dataset but can be created from it. The previous step is known as feature engineering. For example, the original dataset has several transactions done by the same customer. Then, we suggest you to group data by the client (using CustomerId) and, based on it, create the following new features for each CustomerId:"
   ]
  },
  {
   "cell_type": "markdown",
   "metadata": {},
   "source": [
    "####   a) Number of transactions"
   ]
  },
  {
   "cell_type": "code",
   "execution_count": 89,
   "metadata": {},
   "outputs": [],
   "source": [
    "newdata[\"NumberTransactions\"] = newdata.groupby('CustomerID')[\"TransactionID\"].transform(\"count\")"
   ]
  },
  {
   "cell_type": "markdown",
   "metadata": {},
   "source": [
    "#### b) Number of transactions with a balance bigger than 100 UDS   da fare"
   ]
  },
  {
   "cell_type": "code",
   "execution_count": 90,
   "metadata": {},
   "outputs": [],
   "source": [
    "newdata[\"CustAccountBalance (USD)\"] = newdata[\"CustAccountBalance\"] * 0.012244201"
   ]
  },
  {
   "cell_type": "code",
   "execution_count": 91,
   "metadata": {},
   "outputs": [],
   "source": [
    "newdata[\"N_trans_bal>100\"] = newdata[newdata[\"CustAccountBalance (USD)\"]>100].groupby('CustomerID')[\"TransactionID\"].transform('count')"
   ]
  },
  {
   "cell_type": "code",
   "execution_count": 92,
   "metadata": {},
   "outputs": [],
   "source": [
    "newdata[\"N_trans_bal>100\"].fillna(0, inplace = True)"
   ]
  },
  {
   "cell_type": "markdown",
   "metadata": {},
   "source": [
    "#### c) Average amount of transactions"
   ]
  },
  {
   "cell_type": "code",
   "execution_count": 93,
   "metadata": {},
   "outputs": [],
   "source": [
    "newdata[\"AverageAmount (INR)\"] = newdata.groupby('CustomerID')[\"TransactionAmount (INR)\"].transform(\"mean\")"
   ]
  },
  {
   "cell_type": "markdown",
   "metadata": {},
   "source": [
    "#### d) Average Balance"
   ]
  },
  {
   "cell_type": "code",
   "execution_count": 94,
   "metadata": {},
   "outputs": [],
   "source": [
    "newdata[\"AverageBalance (INR)\"] = newdata.groupby('CustomerID')[\"CustAccountBalance\"].transform(\"mean\")"
   ]
  },
  {
   "cell_type": "markdown",
   "metadata": {},
   "source": [
    "#### e) Average difference between the balance and the transaction amount for each customer (this is mainly known in the banking world as    utilisation)."
   ]
  },
  {
   "cell_type": "code",
   "execution_count": 95,
   "metadata": {},
   "outputs": [],
   "source": [
    "newdata[\"Utilization\"] = newdata[\"AverageBalance (INR)\"] - newdata[\"AverageAmount (INR)\"]"
   ]
  },
  {
   "cell_type": "markdown",
   "metadata": {},
   "source": [
    "#### f) Most common gender of the customer"
   ]
  },
  {
   "cell_type": "code",
   "execution_count": 96,
   "metadata": {},
   "outputs": [],
   "source": [
    "result = newdata.groupby(['CustomerID'])['CustGender'].agg(pd.Series.mode)"
   ]
  },
  {
   "cell_type": "code",
   "execution_count": 97,
   "metadata": {},
   "outputs": [],
   "source": [
    "newdata[\"MostCommonGender\"] = \"NA\""
   ]
  },
  {
   "cell_type": "code",
   "execution_count": 98,
   "metadata": {
    "tags": []
   },
   "outputs": [],
   "source": [
    "newdata['MostCommonGender'] = newdata.CustomerID.apply(lambda x: result[x])"
   ]
  },
  {
   "cell_type": "markdown",
   "metadata": {},
   "source": [
    "#### g) Most frequent location of the customer"
   ]
  },
  {
   "cell_type": "code",
   "execution_count": 99,
   "metadata": {},
   "outputs": [],
   "source": [
    "result2 = newdata.groupby(['CustomerID'])['CustLocation'].agg(pd.Series.mode)"
   ]
  },
  {
   "cell_type": "code",
   "execution_count": 100,
   "metadata": {},
   "outputs": [],
   "source": [
    "newdata[\"MostFreqLocation\"] = \"NA\""
   ]
  },
  {
   "cell_type": "code",
   "execution_count": 101,
   "metadata": {},
   "outputs": [],
   "source": [
    "newdata[\"MostFreqLocation\"] = newdata.CustomerID.apply(lambda x: result2[x])"
   ]
  },
  {
   "cell_type": "markdown",
   "metadata": {},
   "source": [
    "2.1.3 Consider at least 20 additional features that can be generated for each CustomerId. Describe each of them and why you believe they will be helpful. Moreover, add it to the previous dataset (the one with seven features)."
   ]
  },
  {
   "cell_type": "markdown",
   "metadata": {},
   "source": [
    "####  TransactionAmount (USD)"
   ]
  },
  {
   "cell_type": "code",
   "execution_count": 106,
   "metadata": {},
   "outputs": [],
   "source": [
    "newdata[\"TransactionAmount (USD)\"] = newdata[\"TransactionAmount (INR)\"] * 0.012244201 "
   ]
  },
  {
   "cell_type": "markdown",
   "metadata": {},
   "source": [
    "#### AverageAmount (USD)"
   ]
  },
  {
   "cell_type": "code",
   "execution_count": 107,
   "metadata": {},
   "outputs": [],
   "source": [
    "newdata[\"AverageAmount (USD)\"] = newdata.groupby('CustomerID')[\"TransactionAmount (USD)\"].transform(\"mean\")  "
   ]
  },
  {
   "cell_type": "markdown",
   "metadata": {},
   "source": [
    "#### CustAccountBalance (USD)"
   ]
  },
  {
   "cell_type": "code",
   "execution_count": 108,
   "metadata": {},
   "outputs": [],
   "source": [
    "newdata[\"CustAccountBalance (USD)\"] = newdata[\"CustAccountBalance\"] * 0.012244201"
   ]
  },
  {
   "cell_type": "markdown",
   "metadata": {},
   "source": [
    "#### AverageBalance (USD)"
   ]
  },
  {
   "cell_type": "code",
   "execution_count": 109,
   "metadata": {},
   "outputs": [],
   "source": [
    "newdata[\"AverageBalance (USD)\"] = newdata[\"AverageBalance (INR)\"] * 0.012244201"
   ]
  },
  {
   "cell_type": "markdown",
   "metadata": {},
   "source": [
    "#### MaxAmountTrans (USD)"
   ]
  },
  {
   "cell_type": "code",
   "execution_count": 110,
   "metadata": {},
   "outputs": [],
   "source": [
    "newdata[\"MaxAmountTrans (USD)\"] = newdata.groupby('CustomerID')[\"TransactionAmount (USD)\"].transform(\"max\")  "
   ]
  },
  {
   "cell_type": "markdown",
   "metadata": {},
   "source": [
    "#### MinAmountTrans (USD)"
   ]
  },
  {
   "cell_type": "code",
   "execution_count": 111,
   "metadata": {},
   "outputs": [],
   "source": [
    "newdata[\"MinAmountTrans (USD)\"] = newdata.groupby('CustomerID')[\"TransactionAmount (USD)\"].transform(\"min\") "
   ]
  },
  {
   "cell_type": "markdown",
   "metadata": {},
   "source": [
    "#### MaxBalance (USD)"
   ]
  },
  {
   "cell_type": "code",
   "execution_count": 112,
   "metadata": {},
   "outputs": [],
   "source": [
    "newdata[\"MaxBalance (USD)\"] = newdata.groupby('CustomerID')[\"CustAccountBalance (USD)\"].transform(\"max\") "
   ]
  },
  {
   "cell_type": "markdown",
   "metadata": {},
   "source": [
    "#### MinBalance (USD)"
   ]
  },
  {
   "cell_type": "code",
   "execution_count": 113,
   "metadata": {},
   "outputs": [],
   "source": [
    "newdata[\"MinBalance (USD)\"] = newdata.groupby('CustomerID')[\"CustAccountBalance (USD)\"].transform(\"min\") "
   ]
  },
  {
   "cell_type": "code",
   "execution_count": 114,
   "metadata": {},
   "outputs": [
    {
     "data": {
      "text/plain": [
       "(985322, 24)"
      ]
     },
     "execution_count": 114,
     "metadata": {},
     "output_type": "execute_result"
    }
   ],
   "source": [
    "newdata.shape"
   ]
  },
  {
   "cell_type": "markdown",
   "metadata": {},
   "source": [
    "#### CustomerAge"
   ]
  },
  {
   "cell_type": "code",
   "execution_count": 115,
   "metadata": {},
   "outputs": [
    {
     "data": {
      "text/plain": [
       "TransactionID               0\n",
       "CustomerID                  0\n",
       "CustomerDOB                 0\n",
       "CustGender                  0\n",
       "CustLocation                0\n",
       "CustAccountBalance          0\n",
       "TransactionDate             0\n",
       "TransactionTime             0\n",
       "TransactionAmount (INR)     0\n",
       "NumberTransactions          0\n",
       "CustAccountBalance (USD)    0\n",
       "N_trans_bal>100             0\n",
       "AverageAmount (INR)         0\n",
       "AverageBalance (INR)        0\n",
       "Utilization                 0\n",
       "MostCommonGender            0\n",
       "MostFreqLocation            0\n",
       "TransactionAmount (USD)     0\n",
       "AverageAmount (USD)         0\n",
       "AverageBalance (USD)        0\n",
       "MaxAmountTrans (USD)        0\n",
       "MinAmountTrans (USD)        0\n",
       "MaxBalance (USD)            0\n",
       "MinBalance (USD)            0\n",
       "dtype: int64"
      ]
     },
     "execution_count": 115,
     "metadata": {},
     "output_type": "execute_result"
    }
   ],
   "source": [
    "newdata.isna().sum()  "
   ]
  },
  {
   "cell_type": "code",
   "execution_count": 116,
   "metadata": {},
   "outputs": [],
   "source": [
    "newdata['CustomerAge'] = ((pd.to_datetime('today')-newdata.CustomerDOB)/np.timedelta64(1,'Y')).round(0)\n",
    "newdata['CustomerAge'] = newdata['CustomerAge'].astype(int)"
   ]
  },
  {
   "cell_type": "markdown",
   "metadata": {},
   "source": [
    "#### NumberMorningTransactions"
   ]
  },
  {
   "cell_type": "code",
   "execution_count": 118,
   "metadata": {},
   "outputs": [],
   "source": [
    "newdata[\"N_morningTransactions\"] = newdata[(newdata[\"TransactionTime\"] >= datetime.strptime(\"06:00:00\", '%H:%M:%S').time()) & (newdata[\"TransactionTime\"] < datetime.strptime(\"12:00:00\", '%H:%M:%S').time())].groupby('CustomerID')[\"TransactionID\"].transform('count')"
   ]
  },
  {
   "cell_type": "code",
   "execution_count": 119,
   "metadata": {},
   "outputs": [],
   "source": [
    "newdata[\"N_morningTransactions\"].fillna(0, inplace = True)"
   ]
  },
  {
   "cell_type": "markdown",
   "metadata": {},
   "source": [
    "#### NumberAfternoonTransaction"
   ]
  },
  {
   "cell_type": "code",
   "execution_count": 120,
   "metadata": {},
   "outputs": [],
   "source": [
    "newdata[\"N_afternoonTransactions\"] = newdata[(newdata[\"TransactionTime\"] >= datetime.strptime(\"12:00:00\", '%H:%M:%S').time()) & (newdata[\"TransactionTime\"] < datetime.strptime(\"18:00:00\", '%H:%M:%S').time())].groupby('CustomerID')[\"TransactionID\"].transform('count')"
   ]
  },
  {
   "cell_type": "code",
   "execution_count": 121,
   "metadata": {},
   "outputs": [],
   "source": [
    "newdata[\"N_afternoonTransactions\"].fillna(0, inplace = True)"
   ]
  },
  {
   "cell_type": "markdown",
   "metadata": {},
   "source": [
    "#### NumberEveningTransaction"
   ]
  },
  {
   "cell_type": "code",
   "execution_count": 122,
   "metadata": {},
   "outputs": [],
   "source": [
    "newdata[\"N_eveningTransactions\"] = newdata[(newdata[\"TransactionTime\"] >= datetime.strptime(\"18:00:00\", '%H:%M:%S').time()) & (newdata[\"TransactionTime\"] <= datetime.strptime(\"23:59:59\", '%H:%M:%S').time())].groupby('CustomerID')[\"TransactionID\"].transform('count')"
   ]
  },
  {
   "cell_type": "code",
   "execution_count": 123,
   "metadata": {},
   "outputs": [],
   "source": [
    "newdata[\"N_eveningTransactions\"].fillna(0, inplace = True)"
   ]
  },
  {
   "cell_type": "markdown",
   "metadata": {},
   "source": [
    "#### NumberNigthTransaction"
   ]
  },
  {
   "cell_type": "code",
   "execution_count": 124,
   "metadata": {},
   "outputs": [],
   "source": [
    "newdata[\"N_nigthTransactions\"] = newdata[(newdata[\"TransactionTime\"] >= datetime.strptime(\"00:00:00\", '%H:%M:%S').time()) & (newdata[\"TransactionTime\"] < datetime.strptime(\"08:00:00\", '%H:%M:%S').time())].groupby('CustomerID')[\"TransactionID\"].transform('count')"
   ]
  },
  {
   "cell_type": "code",
   "execution_count": 125,
   "metadata": {},
   "outputs": [],
   "source": [
    "newdata[\"N_nigthTransactions\"].fillna(0, inplace = True)"
   ]
  },
  {
   "cell_type": "markdown",
   "metadata": {},
   "source": [
    "#### NumberNigthTransaction"
   ]
  },
  {
   "cell_type": "code",
   "execution_count": 126,
   "metadata": {},
   "outputs": [],
   "source": [
    "newdata[\"N_trans_>one_thirdbalance\"] = newdata[newdata[\"TransactionAmount (USD)\"] > newdata[\"CustAccountBalance (USD)\"]/3].groupby('CustomerID')[\"TransactionID\"].transform(\"count\")"
   ]
  },
  {
   "cell_type": "code",
   "execution_count": 127,
   "metadata": {},
   "outputs": [],
   "source": [
    "newdata[\"N_trans_>one_thirdbalance\"].fillna(0, inplace = True)"
   ]
  },
  {
   "cell_type": "markdown",
   "metadata": {},
   "source": [
    "#### Amount percentage of Balance (USD)"
   ]
  },
  {
   "cell_type": "code",
   "execution_count": 128,
   "metadata": {},
   "outputs": [],
   "source": [
    "newdata['Amount_percentage_of_Balance (USD)'] = newdata['TransactionAmount (USD)'] / newdata['CustAccountBalance (USD)']*100 "
   ]
  },
  {
   "cell_type": "markdown",
   "metadata": {},
   "source": [
    "#### Number of Negative Transaction"
   ]
  },
  {
   "cell_type": "code",
   "execution_count": 129,
   "metadata": {},
   "outputs": [],
   "source": [
    "newdata[\"NumberNegativeTransaction\"] = newdata[newdata[\"TransactionAmount (INR)\"]>newdata[\"CustAccountBalance\"]].groupby('CustomerID')[\"TransactionID\"].transform('count')"
   ]
  },
  {
   "cell_type": "code",
   "execution_count": 130,
   "metadata": {},
   "outputs": [],
   "source": [
    "newdata[\"NumberNegativeTransaction\"].fillna(0, inplace = True)"
   ]
  },
  {
   "cell_type": "markdown",
   "metadata": {},
   "source": [
    "#### Number of Transaction > Half Balance"
   ]
  },
  {
   "cell_type": "code",
   "execution_count": 131,
   "metadata": {},
   "outputs": [],
   "source": [
    "newdata[\"NTransaction>HalfBalance\"] = newdata[newdata[\"TransactionAmount (INR)\"]>(newdata[\"CustAccountBalance\"]/2)].groupby('CustomerID')[\"TransactionID\"].transform('count')"
   ]
  },
  {
   "cell_type": "code",
   "execution_count": 132,
   "metadata": {},
   "outputs": [],
   "source": [
    "newdata[\"NTransaction>HalfBalance\"].fillna(0, inplace = True)"
   ]
  },
  {
   "cell_type": "markdown",
   "metadata": {},
   "source": [
    "#### Recency\n",
    "\n",
    "The recency factor is based on the notion that the more recently a customer has made a purchase with a company, the more likely they will continue to keep the business and brand in mind for subsequent purchases. This information can be used to remind recent customers to revisit the business soon to continue meeting their purchase needs."
   ]
  },
  {
   "cell_type": "code",
   "execution_count": 140,
   "metadata": {},
   "outputs": [],
   "source": [
    "newdata['DaysSinceTransaction'] = (pd.to_datetime('today') - newdata['TransactionDate'])/np.timedelta64(1, 'D')\n",
    "newdata['DaysSinceTransaction'] = newdata['DaysSinceTransaction'] - newdata['DaysSinceTransaction'].min()"
   ]
  },
  {
   "cell_type": "code",
   "execution_count": 141,
   "metadata": {},
   "outputs": [],
   "source": [
    "newdata = newdata.rename(columns = {'DaysSinceTransaction' : 'Recency'})"
   ]
  },
  {
   "cell_type": "code",
   "execution_count": 143,
   "metadata": {},
   "outputs": [],
   "source": [
    "newdata.to_pickle('newdata_eng2.pkl')"
   ]
  },
  {
   "cell_type": "code",
   "execution_count": 144,
   "metadata": {},
   "outputs": [],
   "source": [
    "newdata = pd.read_pickle(\"newdata_eng2.pkl\")"
   ]
  },
  {
   "cell_type": "code",
   "execution_count": 145,
   "metadata": {},
   "outputs": [
    {
     "data": {
      "text/html": [
       "<div>\n",
       "<style scoped>\n",
       "    .dataframe tbody tr th:only-of-type {\n",
       "        vertical-align: middle;\n",
       "    }\n",
       "\n",
       "    .dataframe tbody tr th {\n",
       "        vertical-align: top;\n",
       "    }\n",
       "\n",
       "    .dataframe thead th {\n",
       "        text-align: right;\n",
       "    }\n",
       "</style>\n",
       "<table border=\"1\" class=\"dataframe\">\n",
       "  <thead>\n",
       "    <tr style=\"text-align: right;\">\n",
       "      <th></th>\n",
       "      <th>TransactionID</th>\n",
       "      <th>CustomerID</th>\n",
       "      <th>CustomerDOB</th>\n",
       "      <th>CustGender</th>\n",
       "      <th>CustLocation</th>\n",
       "      <th>CustAccountBalance</th>\n",
       "      <th>TransactionDate</th>\n",
       "      <th>TransactionTime</th>\n",
       "      <th>TransactionAmount (INR)</th>\n",
       "      <th>NumberTransactions</th>\n",
       "      <th>...</th>\n",
       "      <th>CustomerAge</th>\n",
       "      <th>N_morningTransactions</th>\n",
       "      <th>N_afternoonTransactions</th>\n",
       "      <th>N_eveningTransactions</th>\n",
       "      <th>N_nigthTransactions</th>\n",
       "      <th>N_trans_&gt;one_thirdbalance</th>\n",
       "      <th>Amount_percentage_of_Balance (USD)</th>\n",
       "      <th>NumberNegativeTransaction</th>\n",
       "      <th>NTransaction&gt;HalfBalance</th>\n",
       "      <th>Recency</th>\n",
       "    </tr>\n",
       "  </thead>\n",
       "  <tbody>\n",
       "    <tr>\n",
       "      <th>0</th>\n",
       "      <td>T1</td>\n",
       "      <td>C5841053</td>\n",
       "      <td>1994-10-01</td>\n",
       "      <td>F</td>\n",
       "      <td>JAMSHEDPUR</td>\n",
       "      <td>17819.05</td>\n",
       "      <td>2016-02-08</td>\n",
       "      <td>14:32:07</td>\n",
       "      <td>25.0</td>\n",
       "      <td>1</td>\n",
       "      <td>...</td>\n",
       "      <td>28</td>\n",
       "      <td>0.0</td>\n",
       "      <td>1.0</td>\n",
       "      <td>0.0</td>\n",
       "      <td>0.0</td>\n",
       "      <td>0.0</td>\n",
       "      <td>0.140299</td>\n",
       "      <td>0.0</td>\n",
       "      <td>0.0</td>\n",
       "      <td>305.0</td>\n",
       "    </tr>\n",
       "    <tr>\n",
       "      <th>1</th>\n",
       "      <td>T2</td>\n",
       "      <td>C2142763</td>\n",
       "      <td>1957-04-04</td>\n",
       "      <td>M</td>\n",
       "      <td>JHAJJAR</td>\n",
       "      <td>2270.69</td>\n",
       "      <td>2016-02-08</td>\n",
       "      <td>14:18:58</td>\n",
       "      <td>27999.0</td>\n",
       "      <td>1</td>\n",
       "      <td>...</td>\n",
       "      <td>66</td>\n",
       "      <td>0.0</td>\n",
       "      <td>1.0</td>\n",
       "      <td>0.0</td>\n",
       "      <td>0.0</td>\n",
       "      <td>1.0</td>\n",
       "      <td>1233.061316</td>\n",
       "      <td>1.0</td>\n",
       "      <td>1.0</td>\n",
       "      <td>305.0</td>\n",
       "    </tr>\n",
       "    <tr>\n",
       "      <th>2</th>\n",
       "      <td>T3</td>\n",
       "      <td>C4417068</td>\n",
       "      <td>1996-11-26</td>\n",
       "      <td>F</td>\n",
       "      <td>MUMBAI</td>\n",
       "      <td>17874.44</td>\n",
       "      <td>2016-02-08</td>\n",
       "      <td>14:27:12</td>\n",
       "      <td>459.0</td>\n",
       "      <td>1</td>\n",
       "      <td>...</td>\n",
       "      <td>26</td>\n",
       "      <td>0.0</td>\n",
       "      <td>1.0</td>\n",
       "      <td>0.0</td>\n",
       "      <td>0.0</td>\n",
       "      <td>0.0</td>\n",
       "      <td>2.567913</td>\n",
       "      <td>0.0</td>\n",
       "      <td>0.0</td>\n",
       "      <td>305.0</td>\n",
       "    </tr>\n",
       "    <tr>\n",
       "      <th>3</th>\n",
       "      <td>T4</td>\n",
       "      <td>C5342380</td>\n",
       "      <td>1973-09-14</td>\n",
       "      <td>F</td>\n",
       "      <td>MUMBAI</td>\n",
       "      <td>866503.21</td>\n",
       "      <td>2016-02-08</td>\n",
       "      <td>14:27:14</td>\n",
       "      <td>2060.0</td>\n",
       "      <td>2</td>\n",
       "      <td>...</td>\n",
       "      <td>49</td>\n",
       "      <td>0.0</td>\n",
       "      <td>1.0</td>\n",
       "      <td>0.0</td>\n",
       "      <td>0.0</td>\n",
       "      <td>0.0</td>\n",
       "      <td>0.237737</td>\n",
       "      <td>0.0</td>\n",
       "      <td>0.0</td>\n",
       "      <td>305.0</td>\n",
       "    </tr>\n",
       "    <tr>\n",
       "      <th>4</th>\n",
       "      <td>T5</td>\n",
       "      <td>C9031234</td>\n",
       "      <td>1988-03-24</td>\n",
       "      <td>F</td>\n",
       "      <td>NAVI MUMBAI</td>\n",
       "      <td>6714.43</td>\n",
       "      <td>2016-02-08</td>\n",
       "      <td>18:11:56</td>\n",
       "      <td>1762.5</td>\n",
       "      <td>1</td>\n",
       "      <td>...</td>\n",
       "      <td>35</td>\n",
       "      <td>0.0</td>\n",
       "      <td>0.0</td>\n",
       "      <td>1.0</td>\n",
       "      <td>0.0</td>\n",
       "      <td>0.0</td>\n",
       "      <td>26.249436</td>\n",
       "      <td>0.0</td>\n",
       "      <td>0.0</td>\n",
       "      <td>305.0</td>\n",
       "    </tr>\n",
       "    <tr>\n",
       "      <th>...</th>\n",
       "      <td>...</td>\n",
       "      <td>...</td>\n",
       "      <td>...</td>\n",
       "      <td>...</td>\n",
       "      <td>...</td>\n",
       "      <td>...</td>\n",
       "      <td>...</td>\n",
       "      <td>...</td>\n",
       "      <td>...</td>\n",
       "      <td>...</td>\n",
       "      <td>...</td>\n",
       "      <td>...</td>\n",
       "      <td>...</td>\n",
       "      <td>...</td>\n",
       "      <td>...</td>\n",
       "      <td>...</td>\n",
       "      <td>...</td>\n",
       "      <td>...</td>\n",
       "      <td>...</td>\n",
       "      <td>...</td>\n",
       "      <td>...</td>\n",
       "    </tr>\n",
       "    <tr>\n",
       "      <th>985317</th>\n",
       "      <td>T1048563</td>\n",
       "      <td>C8020229</td>\n",
       "      <td>1990-08-04</td>\n",
       "      <td>M</td>\n",
       "      <td>NEW DELHI</td>\n",
       "      <td>7635.19</td>\n",
       "      <td>2016-09-18</td>\n",
       "      <td>18:48:24</td>\n",
       "      <td>799.0</td>\n",
       "      <td>1</td>\n",
       "      <td>...</td>\n",
       "      <td>32</td>\n",
       "      <td>0.0</td>\n",
       "      <td>0.0</td>\n",
       "      <td>1.0</td>\n",
       "      <td>0.0</td>\n",
       "      <td>0.0</td>\n",
       "      <td>10.464704</td>\n",
       "      <td>0.0</td>\n",
       "      <td>0.0</td>\n",
       "      <td>82.0</td>\n",
       "    </tr>\n",
       "    <tr>\n",
       "      <th>985318</th>\n",
       "      <td>T1048564</td>\n",
       "      <td>C6459278</td>\n",
       "      <td>1992-02-20</td>\n",
       "      <td>M</td>\n",
       "      <td>NASHIK</td>\n",
       "      <td>27311.42</td>\n",
       "      <td>2016-09-18</td>\n",
       "      <td>18:37:34</td>\n",
       "      <td>460.0</td>\n",
       "      <td>1</td>\n",
       "      <td>...</td>\n",
       "      <td>31</td>\n",
       "      <td>0.0</td>\n",
       "      <td>0.0</td>\n",
       "      <td>1.0</td>\n",
       "      <td>0.0</td>\n",
       "      <td>0.0</td>\n",
       "      <td>1.684277</td>\n",
       "      <td>0.0</td>\n",
       "      <td>0.0</td>\n",
       "      <td>82.0</td>\n",
       "    </tr>\n",
       "    <tr>\n",
       "      <th>985319</th>\n",
       "      <td>T1048565</td>\n",
       "      <td>C6412354</td>\n",
       "      <td>1989-05-18</td>\n",
       "      <td>M</td>\n",
       "      <td>HYDERABAD</td>\n",
       "      <td>221757.06</td>\n",
       "      <td>2016-09-18</td>\n",
       "      <td>18:33:13</td>\n",
       "      <td>770.0</td>\n",
       "      <td>2</td>\n",
       "      <td>...</td>\n",
       "      <td>34</td>\n",
       "      <td>0.0</td>\n",
       "      <td>0.0</td>\n",
       "      <td>1.0</td>\n",
       "      <td>0.0</td>\n",
       "      <td>0.0</td>\n",
       "      <td>0.347227</td>\n",
       "      <td>0.0</td>\n",
       "      <td>0.0</td>\n",
       "      <td>82.0</td>\n",
       "    </tr>\n",
       "    <tr>\n",
       "      <th>985320</th>\n",
       "      <td>T1048566</td>\n",
       "      <td>C6420483</td>\n",
       "      <td>1978-08-30</td>\n",
       "      <td>M</td>\n",
       "      <td>VISAKHAPATNAM</td>\n",
       "      <td>10117.87</td>\n",
       "      <td>2016-09-18</td>\n",
       "      <td>18:47:06</td>\n",
       "      <td>1000.0</td>\n",
       "      <td>1</td>\n",
       "      <td>...</td>\n",
       "      <td>44</td>\n",
       "      <td>0.0</td>\n",
       "      <td>0.0</td>\n",
       "      <td>1.0</td>\n",
       "      <td>0.0</td>\n",
       "      <td>0.0</td>\n",
       "      <td>9.883503</td>\n",
       "      <td>0.0</td>\n",
       "      <td>0.0</td>\n",
       "      <td>82.0</td>\n",
       "    </tr>\n",
       "    <tr>\n",
       "      <th>985321</th>\n",
       "      <td>T1048567</td>\n",
       "      <td>C8337524</td>\n",
       "      <td>1984-05-03</td>\n",
       "      <td>M</td>\n",
       "      <td>PUNE</td>\n",
       "      <td>75734.42</td>\n",
       "      <td>2016-09-18</td>\n",
       "      <td>18:12:22</td>\n",
       "      <td>1166.0</td>\n",
       "      <td>2</td>\n",
       "      <td>...</td>\n",
       "      <td>39</td>\n",
       "      <td>0.0</td>\n",
       "      <td>0.0</td>\n",
       "      <td>2.0</td>\n",
       "      <td>0.0</td>\n",
       "      <td>0.0</td>\n",
       "      <td>1.539591</td>\n",
       "      <td>0.0</td>\n",
       "      <td>0.0</td>\n",
       "      <td>82.0</td>\n",
       "    </tr>\n",
       "  </tbody>\n",
       "</table>\n",
       "<p>985322 rows × 34 columns</p>\n",
       "</div>"
      ],
      "text/plain": [
       "       TransactionID CustomerID CustomerDOB CustGender   CustLocation  \\\n",
       "0                 T1   C5841053  1994-10-01          F     JAMSHEDPUR   \n",
       "1                 T2   C2142763  1957-04-04          M        JHAJJAR   \n",
       "2                 T3   C4417068  1996-11-26          F         MUMBAI   \n",
       "3                 T4   C5342380  1973-09-14          F         MUMBAI   \n",
       "4                 T5   C9031234  1988-03-24          F    NAVI MUMBAI   \n",
       "...              ...        ...         ...        ...            ...   \n",
       "985317      T1048563   C8020229  1990-08-04          M      NEW DELHI   \n",
       "985318      T1048564   C6459278  1992-02-20          M         NASHIK   \n",
       "985319      T1048565   C6412354  1989-05-18          M      HYDERABAD   \n",
       "985320      T1048566   C6420483  1978-08-30          M  VISAKHAPATNAM   \n",
       "985321      T1048567   C8337524  1984-05-03          M           PUNE   \n",
       "\n",
       "        CustAccountBalance TransactionDate TransactionTime  \\\n",
       "0                 17819.05      2016-02-08        14:32:07   \n",
       "1                  2270.69      2016-02-08        14:18:58   \n",
       "2                 17874.44      2016-02-08        14:27:12   \n",
       "3                866503.21      2016-02-08        14:27:14   \n",
       "4                  6714.43      2016-02-08        18:11:56   \n",
       "...                    ...             ...             ...   \n",
       "985317             7635.19      2016-09-18        18:48:24   \n",
       "985318            27311.42      2016-09-18        18:37:34   \n",
       "985319           221757.06      2016-09-18        18:33:13   \n",
       "985320            10117.87      2016-09-18        18:47:06   \n",
       "985321            75734.42      2016-09-18        18:12:22   \n",
       "\n",
       "        TransactionAmount (INR)  NumberTransactions  ...  CustomerAge  \\\n",
       "0                          25.0                   1  ...           28   \n",
       "1                       27999.0                   1  ...           66   \n",
       "2                         459.0                   1  ...           26   \n",
       "3                        2060.0                   2  ...           49   \n",
       "4                        1762.5                   1  ...           35   \n",
       "...                         ...                 ...  ...          ...   \n",
       "985317                    799.0                   1  ...           32   \n",
       "985318                    460.0                   1  ...           31   \n",
       "985319                    770.0                   2  ...           34   \n",
       "985320                   1000.0                   1  ...           44   \n",
       "985321                   1166.0                   2  ...           39   \n",
       "\n",
       "        N_morningTransactions  N_afternoonTransactions  N_eveningTransactions  \\\n",
       "0                         0.0                      1.0                    0.0   \n",
       "1                         0.0                      1.0                    0.0   \n",
       "2                         0.0                      1.0                    0.0   \n",
       "3                         0.0                      1.0                    0.0   \n",
       "4                         0.0                      0.0                    1.0   \n",
       "...                       ...                      ...                    ...   \n",
       "985317                    0.0                      0.0                    1.0   \n",
       "985318                    0.0                      0.0                    1.0   \n",
       "985319                    0.0                      0.0                    1.0   \n",
       "985320                    0.0                      0.0                    1.0   \n",
       "985321                    0.0                      0.0                    2.0   \n",
       "\n",
       "        N_nigthTransactions N_trans_>one_thirdbalance  \\\n",
       "0                       0.0                       0.0   \n",
       "1                       0.0                       1.0   \n",
       "2                       0.0                       0.0   \n",
       "3                       0.0                       0.0   \n",
       "4                       0.0                       0.0   \n",
       "...                     ...                       ...   \n",
       "985317                  0.0                       0.0   \n",
       "985318                  0.0                       0.0   \n",
       "985319                  0.0                       0.0   \n",
       "985320                  0.0                       0.0   \n",
       "985321                  0.0                       0.0   \n",
       "\n",
       "       Amount_percentage_of_Balance (USD)  NumberNegativeTransaction  \\\n",
       "0                                0.140299                        0.0   \n",
       "1                             1233.061316                        1.0   \n",
       "2                                2.567913                        0.0   \n",
       "3                                0.237737                        0.0   \n",
       "4                               26.249436                        0.0   \n",
       "...                                   ...                        ...   \n",
       "985317                          10.464704                        0.0   \n",
       "985318                           1.684277                        0.0   \n",
       "985319                           0.347227                        0.0   \n",
       "985320                           9.883503                        0.0   \n",
       "985321                           1.539591                        0.0   \n",
       "\n",
       "        NTransaction>HalfBalance  Recency  \n",
       "0                            0.0    305.0  \n",
       "1                            1.0    305.0  \n",
       "2                            0.0    305.0  \n",
       "3                            0.0    305.0  \n",
       "4                            0.0    305.0  \n",
       "...                          ...      ...  \n",
       "985317                       0.0     82.0  \n",
       "985318                       0.0     82.0  \n",
       "985319                       0.0     82.0  \n",
       "985320                       0.0     82.0  \n",
       "985321                       0.0     82.0  \n",
       "\n",
       "[985322 rows x 34 columns]"
      ]
     },
     "execution_count": 145,
     "metadata": {},
     "output_type": "execute_result"
    }
   ],
   "source": [
    "newdata"
   ]
  },
  {
   "cell_type": "markdown",
   "metadata": {},
   "source": [
    "#### Number of Transaction per Month"
   ]
  },
  {
   "cell_type": "code",
   "execution_count": null,
   "metadata": {},
   "outputs": [],
   "source": []
  },
  {
   "cell_type": "code",
   "execution_count": null,
   "metadata": {},
   "outputs": [],
   "source": []
  },
  {
   "cell_type": "markdown",
   "metadata": {},
   "source": [
    "#### Averages number of Days without Transactions"
   ]
  },
  {
   "cell_type": "code",
   "execution_count": null,
   "metadata": {},
   "outputs": [],
   "source": []
  },
  {
   "cell_type": "markdown",
   "metadata": {},
   "source": [
    "### 2.2 Choose your features (variables)!"
   ]
  },
  {
   "cell_type": "code",
   "execution_count": 144,
   "metadata": {},
   "outputs": [
    {
     "data": {
      "text/html": [
       "<div>\n",
       "<style scoped>\n",
       "    .dataframe tbody tr th:only-of-type {\n",
       "        vertical-align: middle;\n",
       "    }\n",
       "\n",
       "    .dataframe tbody tr th {\n",
       "        vertical-align: top;\n",
       "    }\n",
       "\n",
       "    .dataframe thead th {\n",
       "        text-align: right;\n",
       "    }\n",
       "</style>\n",
       "<table border=\"1\" class=\"dataframe\">\n",
       "  <thead>\n",
       "    <tr style=\"text-align: right;\">\n",
       "      <th></th>\n",
       "      <th>TransactionID</th>\n",
       "      <th>CustomerID</th>\n",
       "      <th>CustomerDOB</th>\n",
       "      <th>CustGender</th>\n",
       "      <th>CustLocation</th>\n",
       "      <th>CustAccountBalance</th>\n",
       "      <th>TransactionDate</th>\n",
       "      <th>TransactionTime</th>\n",
       "      <th>TransactionAmount (INR)</th>\n",
       "      <th>NumberTransactions</th>\n",
       "      <th>...</th>\n",
       "      <th>MostCommonGender</th>\n",
       "      <th>MostFreqLocation</th>\n",
       "      <th>TransactionAmount (USD)</th>\n",
       "      <th>AverageAmount (USD)</th>\n",
       "      <th>AverageBalance (USD)</th>\n",
       "      <th>MaxAmountTrans (USD)</th>\n",
       "      <th>MinAmountTrans (USD)</th>\n",
       "      <th>MaxBalance (USD)</th>\n",
       "      <th>MinBalance (USD)</th>\n",
       "      <th>CustomerAge</th>\n",
       "    </tr>\n",
       "  </thead>\n",
       "  <tbody>\n",
       "  </tbody>\n",
       "</table>\n",
       "<p>0 rows × 25 columns</p>\n",
       "</div>"
      ],
      "text/plain": [
       "Empty DataFrame\n",
       "Columns: [TransactionID, CustomerID, CustomerDOB, CustGender, CustLocation, CustAccountBalance, TransactionDate, TransactionTime, TransactionAmount (INR), NumberTransactions, CustAccountBalance (USD), N_trans_bal>100, AverageAmount (INR), AverageBalance (INR), Utilization, MostCommonGender, MostFreqLocation, TransactionAmount (USD), AverageAmount (USD), AverageBalance (USD), MaxAmountTrans (USD), MinAmountTrans (USD), MaxBalance (USD), MinBalance (USD), CustomerAge]\n",
       "Index: []\n",
       "\n",
       "[0 rows x 25 columns]"
      ]
     },
     "execution_count": 144,
     "metadata": {},
     "output_type": "execute_result"
    }
   ],
   "source": [
    "    "
   ]
  },
  {
   "cell_type": "code",
   "execution_count": null,
   "metadata": {},
   "outputs": [],
   "source": []
  },
  {
   "cell_type": "markdown",
   "metadata": {},
   "source": [
    "### 2.3 Clustering!"
   ]
  },
  {
   "cell_type": "code",
   "execution_count": null,
   "metadata": {},
   "outputs": [],
   "source": []
  },
  {
   "cell_type": "code",
   "execution_count": null,
   "metadata": {},
   "outputs": [],
   "source": []
  },
  {
   "cell_type": "markdown",
   "metadata": {},
   "source": [
    "### 2.4 Analysing your results!"
   ]
  },
  {
   "cell_type": "code",
   "execution_count": null,
   "metadata": {},
   "outputs": [],
   "source": []
  },
  {
   "cell_type": "code",
   "execution_count": null,
   "metadata": {},
   "outputs": [],
   "source": []
  },
  {
   "cell_type": "markdown",
   "metadata": {},
   "source": [
    "## Bonus\n",
    "\n",
    "Think about any two other clustering algorithms that you would like to use for the dataset (of course, you can use implemented version of them, e.g. from the scikit-learn library). Compare the results of chosen two algorithms with K-means implemented by you and K-means++ (from the scikit-learn library). Explain the differences (if there are any) in the results. Which one is the best, in your opinion, and why?"
   ]
  },
  {
   "cell_type": "code",
   "execution_count": null,
   "metadata": {},
   "outputs": [],
   "source": []
  },
  {
   "cell_type": "code",
   "execution_count": null,
   "metadata": {},
   "outputs": [],
   "source": []
  },
  {
   "cell_type": "markdown",
   "metadata": {},
   "source": [
    "## Algorithmic Question"
   ]
  },
  {
   "cell_type": "code",
   "execution_count": null,
   "metadata": {},
   "outputs": [],
   "source": []
  },
  {
   "cell_type": "code",
   "execution_count": null,
   "metadata": {},
   "outputs": [],
   "source": []
  },
  {
   "cell_type": "code",
   "execution_count": null,
   "metadata": {},
   "outputs": [],
   "source": []
  }
 ],
 "metadata": {
  "kernelspec": {
   "display_name": "Python 3 (ipykernel)",
   "language": "python",
   "name": "python3"
  },
  "language_info": {
   "codemirror_mode": {
    "name": "ipython",
    "version": 3
   },
   "file_extension": ".py",
   "mimetype": "text/x-python",
   "name": "python",
   "nbconvert_exporter": "python",
   "pygments_lexer": "ipython3",
   "version": "3.9.12"
  },
  "vscode": {
   "interpreter": {
    "hash": "31f2aee4e71d21fbe5cf8b01ff0e069b9275f58929596ceb00d14d90e3e16cd6"
   }
  }
 },
 "nbformat": 4,
 "nbformat_minor": 4
}
