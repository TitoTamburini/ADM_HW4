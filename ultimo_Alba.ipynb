{
 "cells": [
  {
   "cell_type": "markdown",
   "metadata": {},
   "source": [
    "# Homework 4 - Getting to know your customers\n",
    "\n",
    "Over time, the Banking sector has dabbled into plenty of Data Science applications. The latter includes topics such as Fraud detection, risk modelling for investment, personalized marketing, managing customer data and customer segmentation, among others. The latter is a crucial topic for a bank since they can offer their products more accurately and tailor-made depending on their clients' characteristics and how probable they will consume more services from the bank.\n",
    "\n",
    "Now, you and your team have been hired by a bank to get to know their customers. In other words, you will implement hashing and clustering techniques to extract relevant information and highlights from those clients and their transactions.\n",
    "\n",
    "Then, let's get started!"
   ]
  },
  {
   "cell_type": "code",
   "execution_count": 28,
   "metadata": {},
   "outputs": [],
   "source": [
    "import pandas as pd\n",
    "from datetime import datetime\n",
    "from random import randint\n",
    "from tqdm import tqdm\n",
    "import numpy as np\n",
    "from numpy.linalg import norm\n",
    "from operator import itemgetter\n",
    "import matplotlib.pyplot as plt\n",
    "import pickle as pkl\n",
    "from scipy import stats\n",
    "from sklearn import preprocessing\n",
    "import six\n",
    "from sklearn.decomposition import PCA"
   ]
  },
  {
   "cell_type": "code",
   "execution_count": 186,
   "metadata": {},
   "outputs": [],
   "source": [
    "data = pd.read_csv(\"bank_transactions.csv\")   # importing the dataset"
   ]
  },
  {
   "cell_type": "code",
   "execution_count": 187,
   "metadata": {},
   "outputs": [
    {
     "data": {
      "text/html": [
       "<div>\n",
       "<style scoped>\n",
       "    .dataframe tbody tr th:only-of-type {\n",
       "        vertical-align: middle;\n",
       "    }\n",
       "\n",
       "    .dataframe tbody tr th {\n",
       "        vertical-align: top;\n",
       "    }\n",
       "\n",
       "    .dataframe thead th {\n",
       "        text-align: right;\n",
       "    }\n",
       "</style>\n",
       "<table border=\"1\" class=\"dataframe\">\n",
       "  <thead>\n",
       "    <tr style=\"text-align: right;\">\n",
       "      <th></th>\n",
       "      <th>TransactionID</th>\n",
       "      <th>CustomerID</th>\n",
       "      <th>CustomerDOB</th>\n",
       "      <th>CustGender</th>\n",
       "      <th>CustLocation</th>\n",
       "      <th>CustAccountBalance</th>\n",
       "      <th>TransactionDate</th>\n",
       "      <th>TransactionTime</th>\n",
       "      <th>TransactionAmount (INR)</th>\n",
       "    </tr>\n",
       "  </thead>\n",
       "  <tbody>\n",
       "    <tr>\n",
       "      <th>0</th>\n",
       "      <td>T1</td>\n",
       "      <td>C5841053</td>\n",
       "      <td>10/1/94</td>\n",
       "      <td>F</td>\n",
       "      <td>JAMSHEDPUR</td>\n",
       "      <td>17819.05</td>\n",
       "      <td>2/8/16</td>\n",
       "      <td>143207</td>\n",
       "      <td>25.0</td>\n",
       "    </tr>\n",
       "    <tr>\n",
       "      <th>1</th>\n",
       "      <td>T2</td>\n",
       "      <td>C2142763</td>\n",
       "      <td>4/4/57</td>\n",
       "      <td>M</td>\n",
       "      <td>JHAJJAR</td>\n",
       "      <td>2270.69</td>\n",
       "      <td>2/8/16</td>\n",
       "      <td>141858</td>\n",
       "      <td>27999.0</td>\n",
       "    </tr>\n",
       "    <tr>\n",
       "      <th>2</th>\n",
       "      <td>T3</td>\n",
       "      <td>C4417068</td>\n",
       "      <td>26/11/96</td>\n",
       "      <td>F</td>\n",
       "      <td>MUMBAI</td>\n",
       "      <td>17874.44</td>\n",
       "      <td>2/8/16</td>\n",
       "      <td>142712</td>\n",
       "      <td>459.0</td>\n",
       "    </tr>\n",
       "    <tr>\n",
       "      <th>3</th>\n",
       "      <td>T4</td>\n",
       "      <td>C5342380</td>\n",
       "      <td>14/9/73</td>\n",
       "      <td>F</td>\n",
       "      <td>MUMBAI</td>\n",
       "      <td>866503.21</td>\n",
       "      <td>2/8/16</td>\n",
       "      <td>142714</td>\n",
       "      <td>2060.0</td>\n",
       "    </tr>\n",
       "    <tr>\n",
       "      <th>4</th>\n",
       "      <td>T5</td>\n",
       "      <td>C9031234</td>\n",
       "      <td>24/3/88</td>\n",
       "      <td>F</td>\n",
       "      <td>NAVI MUMBAI</td>\n",
       "      <td>6714.43</td>\n",
       "      <td>2/8/16</td>\n",
       "      <td>181156</td>\n",
       "      <td>1762.5</td>\n",
       "    </tr>\n",
       "    <tr>\n",
       "      <th>...</th>\n",
       "      <td>...</td>\n",
       "      <td>...</td>\n",
       "      <td>...</td>\n",
       "      <td>...</td>\n",
       "      <td>...</td>\n",
       "      <td>...</td>\n",
       "      <td>...</td>\n",
       "      <td>...</td>\n",
       "      <td>...</td>\n",
       "    </tr>\n",
       "    <tr>\n",
       "      <th>1048562</th>\n",
       "      <td>T1048563</td>\n",
       "      <td>C8020229</td>\n",
       "      <td>8/4/90</td>\n",
       "      <td>M</td>\n",
       "      <td>NEW DELHI</td>\n",
       "      <td>7635.19</td>\n",
       "      <td>18/9/16</td>\n",
       "      <td>184824</td>\n",
       "      <td>799.0</td>\n",
       "    </tr>\n",
       "    <tr>\n",
       "      <th>1048563</th>\n",
       "      <td>T1048564</td>\n",
       "      <td>C6459278</td>\n",
       "      <td>20/2/92</td>\n",
       "      <td>M</td>\n",
       "      <td>NASHIK</td>\n",
       "      <td>27311.42</td>\n",
       "      <td>18/9/16</td>\n",
       "      <td>183734</td>\n",
       "      <td>460.0</td>\n",
       "    </tr>\n",
       "    <tr>\n",
       "      <th>1048564</th>\n",
       "      <td>T1048565</td>\n",
       "      <td>C6412354</td>\n",
       "      <td>18/5/89</td>\n",
       "      <td>M</td>\n",
       "      <td>HYDERABAD</td>\n",
       "      <td>221757.06</td>\n",
       "      <td>18/9/16</td>\n",
       "      <td>183313</td>\n",
       "      <td>770.0</td>\n",
       "    </tr>\n",
       "    <tr>\n",
       "      <th>1048565</th>\n",
       "      <td>T1048566</td>\n",
       "      <td>C6420483</td>\n",
       "      <td>30/8/78</td>\n",
       "      <td>M</td>\n",
       "      <td>VISAKHAPATNAM</td>\n",
       "      <td>10117.87</td>\n",
       "      <td>18/9/16</td>\n",
       "      <td>184706</td>\n",
       "      <td>1000.0</td>\n",
       "    </tr>\n",
       "    <tr>\n",
       "      <th>1048566</th>\n",
       "      <td>T1048567</td>\n",
       "      <td>C8337524</td>\n",
       "      <td>5/3/84</td>\n",
       "      <td>M</td>\n",
       "      <td>PUNE</td>\n",
       "      <td>75734.42</td>\n",
       "      <td>18/9/16</td>\n",
       "      <td>181222</td>\n",
       "      <td>1166.0</td>\n",
       "    </tr>\n",
       "  </tbody>\n",
       "</table>\n",
       "<p>1048567 rows × 9 columns</p>\n",
       "</div>"
      ],
      "text/plain": [
       "        TransactionID CustomerID CustomerDOB CustGender   CustLocation  \\\n",
       "0                  T1   C5841053     10/1/94          F     JAMSHEDPUR   \n",
       "1                  T2   C2142763      4/4/57          M        JHAJJAR   \n",
       "2                  T3   C4417068    26/11/96          F         MUMBAI   \n",
       "3                  T4   C5342380     14/9/73          F         MUMBAI   \n",
       "4                  T5   C9031234     24/3/88          F    NAVI MUMBAI   \n",
       "...               ...        ...         ...        ...            ...   \n",
       "1048562      T1048563   C8020229      8/4/90          M      NEW DELHI   \n",
       "1048563      T1048564   C6459278     20/2/92          M         NASHIK   \n",
       "1048564      T1048565   C6412354     18/5/89          M      HYDERABAD   \n",
       "1048565      T1048566   C6420483     30/8/78          M  VISAKHAPATNAM   \n",
       "1048566      T1048567   C8337524      5/3/84          M           PUNE   \n",
       "\n",
       "         CustAccountBalance TransactionDate  TransactionTime  \\\n",
       "0                  17819.05          2/8/16           143207   \n",
       "1                   2270.69          2/8/16           141858   \n",
       "2                  17874.44          2/8/16           142712   \n",
       "3                 866503.21          2/8/16           142714   \n",
       "4                   6714.43          2/8/16           181156   \n",
       "...                     ...             ...              ...   \n",
       "1048562             7635.19         18/9/16           184824   \n",
       "1048563            27311.42         18/9/16           183734   \n",
       "1048564           221757.06         18/9/16           183313   \n",
       "1048565            10117.87         18/9/16           184706   \n",
       "1048566            75734.42         18/9/16           181222   \n",
       "\n",
       "         TransactionAmount (INR)  \n",
       "0                           25.0  \n",
       "1                        27999.0  \n",
       "2                          459.0  \n",
       "3                         2060.0  \n",
       "4                         1762.5  \n",
       "...                          ...  \n",
       "1048562                    799.0  \n",
       "1048563                    460.0  \n",
       "1048564                    770.0  \n",
       "1048565                   1000.0  \n",
       "1048566                   1166.0  \n",
       "\n",
       "[1048567 rows x 9 columns]"
      ]
     },
     "execution_count": 187,
     "metadata": {},
     "output_type": "execute_result"
    }
   ],
   "source": [
    "data                                        # visualize the data"
   ]
  },
  {
   "cell_type": "code",
   "execution_count": 180,
   "metadata": {},
   "outputs": [
    {
     "name": "stdout",
     "output_type": "stream",
     "text": [
      "<class 'pandas.core.frame.DataFrame'>\n",
      "Int64Index: 1041614 entries, 0 to 1048566\n",
      "Data columns (total 9 columns):\n",
      " #   Column                   Non-Null Count    Dtype  \n",
      "---  ------                   --------------    -----  \n",
      " 0   TransactionID            1041614 non-null  object \n",
      " 1   CustomerID               1041614 non-null  object \n",
      " 2   CustomerDOB              1041614 non-null  object \n",
      " 3   CustGender               1041614 non-null  object \n",
      " 4   CustLocation             1041614 non-null  object \n",
      " 5   CustAccountBalance       1041614 non-null  float64\n",
      " 6   TransactionDate          1041614 non-null  object \n",
      " 7   TransactionTime          1041614 non-null  int64  \n",
      " 8   TransactionAmount (INR)  1041614 non-null  float64\n",
      "dtypes: float64(2), int64(1), object(6)\n",
      "memory usage: 79.5+ MB\n"
     ]
    }
   ],
   "source": [
    "data.info()                                                 # showing some info on the dataset"
   ]
  },
  {
   "cell_type": "code",
   "execution_count": 188,
   "metadata": {},
   "outputs": [
    {
     "data": {
      "text/plain": [
       "TransactionID                 0\n",
       "CustomerID                    0\n",
       "CustomerDOB                3397\n",
       "CustGender                 1100\n",
       "CustLocation                151\n",
       "CustAccountBalance         2369\n",
       "TransactionDate               0\n",
       "TransactionTime               0\n",
       "TransactionAmount (INR)       0\n",
       "dtype: int64"
      ]
     },
     "execution_count": 188,
     "metadata": {},
     "output_type": "execute_result"
    }
   ],
   "source": [
    "data.isna().sum()                                     # counts of rows with na"
   ]
  },
  {
   "cell_type": "code",
   "execution_count": 189,
   "metadata": {},
   "outputs": [],
   "source": [
    "data.dropna(inplace=True)                                # removing na"
   ]
  },
  {
   "cell_type": "code",
   "execution_count": 178,
   "metadata": {},
   "outputs": [
    {
     "data": {
      "text/plain": [
       "TransactionID              0\n",
       "CustomerID                 0\n",
       "CustomerDOB                0\n",
       "CustGender                 0\n",
       "CustLocation               0\n",
       "CustAccountBalance         0\n",
       "TransactionDate            0\n",
       "TransactionTime            0\n",
       "TransactionAmount (INR)    0\n",
       "dtype: int64"
      ]
     },
     "execution_count": 178,
     "metadata": {},
     "output_type": "execute_result"
    }
   ],
   "source": [
    "data.isna().sum()                                        # check"
   ]
  },
  {
   "cell_type": "code",
   "execution_count": 190,
   "metadata": {},
   "outputs": [],
   "source": [
    "data.CustomerDOB =  pd.to_datetime(data.CustomerDOB)"
   ]
  },
  {
   "cell_type": "code",
   "execution_count": 191,
   "metadata": {},
   "outputs": [],
   "source": [
    "data.TransactionDate  = pd.to_datetime(data.TransactionDate)"
   ]
  },
  {
   "cell_type": "code",
   "execution_count": 192,
   "metadata": {},
   "outputs": [
    {
     "data": {
      "text/plain": [
       "0         1970-01-01 00:00:00.000143207\n",
       "1         1970-01-01 00:00:00.000141858\n",
       "2         1970-01-01 00:00:00.000142712\n",
       "3         1970-01-01 00:00:00.000142714\n",
       "4         1970-01-01 00:00:00.000181156\n",
       "                       ...             \n",
       "1048562   1970-01-01 00:00:00.000184824\n",
       "1048563   1970-01-01 00:00:00.000183734\n",
       "1048564   1970-01-01 00:00:00.000183313\n",
       "1048565   1970-01-01 00:00:00.000184706\n",
       "1048566   1970-01-01 00:00:00.000181222\n",
       "Name: TransactionTime, Length: 1041614, dtype: datetime64[ns]"
      ]
     },
     "execution_count": 192,
     "metadata": {},
     "output_type": "execute_result"
    }
   ],
   "source": [
    "pd.to_datetime(data.TransactionTime)"
   ]
  },
  {
   "cell_type": "code",
   "execution_count": 193,
   "metadata": {},
   "outputs": [
    {
     "data": {
      "text/plain": [
       "0          143207\n",
       "1          141858\n",
       "2          142712\n",
       "3          142714\n",
       "4          181156\n",
       "            ...  \n",
       "1048562    184824\n",
       "1048563    183734\n",
       "1048564    183313\n",
       "1048565    184706\n",
       "1048566    181222\n",
       "Name: TransactionTime, Length: 1041614, dtype: int64"
      ]
     },
     "execution_count": 193,
     "metadata": {},
     "output_type": "execute_result"
    }
   ],
   "source": [
    "data.TransactionTime "
   ]
  },
  {
   "cell_type": "code",
   "execution_count": 194,
   "metadata": {},
   "outputs": [],
   "source": [
    "def convert_time(value):\n",
    "    sec = str(value % 100)\n",
    "    minutes = str((value //100) %100)\n",
    "    hours = str((value // 10000) %100)\n",
    "    return datetime.strptime(str(hours)+\":\"+str(minutes)+\":\"+str(sec), '%H:%M:%S').time()"
   ]
  },
  {
   "cell_type": "code",
   "execution_count": 195,
   "metadata": {},
   "outputs": [],
   "source": [
    "data.TransactionTime = data.TransactionTime.apply(lambda row: convert_time(row))"
   ]
  },
  {
   "cell_type": "code",
   "execution_count": 70,
   "metadata": {},
   "outputs": [
    {
     "data": {
      "text/plain": [
       "<AxesSubplot:>"
      ]
     },
     "execution_count": 70,
     "metadata": {},
     "output_type": "execute_result"
    },
    {
     "data": {
      "image/png": "[encoded data removed]",
      "text/plain": [
       "<Figure size 432x288 with 1 Axes>"
      ]
     },
     "metadata": {
      "needs_background": "light"
     },
     "output_type": "display_data"
    }
   ],
   "source": [
    "data.CustomerDOB.dt.year.hist(bins=50)"
   ]
  },
  {
   "cell_type": "code",
   "execution_count": 196,
   "metadata": {},
   "outputs": [],
   "source": [
    "data.loc[data.CustomerDOB.dt.year > 2000,'CustomerDOB'] = data.loc[data.CustomerDOB.dt.year > 2000,'CustomerDOB']  - pd.DateOffset(years=100)"
   ]
  },
  {
   "cell_type": "code",
   "execution_count": 197,
   "metadata": {},
   "outputs": [],
   "source": [
    "data.drop(data.loc[data.CustomerDOB.dt.year==1800].index,axis=0,inplace=True)"
   ]
  },
  {
   "cell_type": "code",
   "execution_count": 73,
   "metadata": {},
   "outputs": [
    {
     "data": {
      "text/plain": [
       "<AxesSubplot:>"
      ]
     },
     "execution_count": 73,
     "metadata": {},
     "output_type": "execute_result"
    },
    {
     "data": {
      "image/png": "[encoded data removed]",
      "text/plain": [
       "<Figure size 432x288 with 1 Axes>"
      ]
     },
     "metadata": {
      "needs_background": "light"
     },
     "output_type": "display_data"
    }
   ],
   "source": [
    "data.CustomerDOB.dt.year.hist(bins=50)"
   ]
  },
  {
   "cell_type": "code",
   "execution_count": 198,
   "metadata": {},
   "outputs": [],
   "source": [
    "data.CustomerDOB = pd.to_datetime(data.CustomerDOB)"
   ]
  },
  {
   "cell_type": "code",
   "execution_count": 199,
   "metadata": {},
   "outputs": [],
   "source": [
    "data.TransactionDate = pd.to_datetime(data.TransactionDate)"
   ]
  },
  {
   "cell_type": "code",
   "execution_count": 200,
   "metadata": {},
   "outputs": [],
   "source": [
    "data.CustGender = [str(x) for x in data.CustGender]"
   ]
  },
  {
   "cell_type": "code",
   "execution_count": 201,
   "metadata": {},
   "outputs": [],
   "source": [
    "data.CustLocation = [str(x) for x in data.CustLocation]"
   ]
  },
  {
   "cell_type": "code",
   "execution_count": 202,
   "metadata": {},
   "outputs": [
    {
     "data": {
      "text/html": [
       "<div>\n",
       "<style scoped>\n",
       "    .dataframe tbody tr th:only-of-type {\n",
       "        vertical-align: middle;\n",
       "    }\n",
       "\n",
       "    .dataframe tbody tr th {\n",
       "        vertical-align: top;\n",
       "    }\n",
       "\n",
       "    .dataframe thead th {\n",
       "        text-align: right;\n",
       "    }\n",
       "</style>\n",
       "<table border=\"1\" class=\"dataframe\">\n",
       "  <thead>\n",
       "    <tr style=\"text-align: right;\">\n",
       "      <th></th>\n",
       "      <th>TransactionID</th>\n",
       "      <th>CustomerID</th>\n",
       "      <th>CustomerDOB</th>\n",
       "      <th>CustGender</th>\n",
       "      <th>CustLocation</th>\n",
       "      <th>CustAccountBalance</th>\n",
       "      <th>TransactionDate</th>\n",
       "      <th>TransactionTime</th>\n",
       "      <th>TransactionAmount (INR)</th>\n",
       "    </tr>\n",
       "  </thead>\n",
       "  <tbody>\n",
       "    <tr>\n",
       "      <th>0</th>\n",
       "      <td>T1</td>\n",
       "      <td>C5841053</td>\n",
       "      <td>1994-10-01</td>\n",
       "      <td>F</td>\n",
       "      <td>JAMSHEDPUR</td>\n",
       "      <td>17819.05</td>\n",
       "      <td>2016-02-08</td>\n",
       "      <td>14:32:07</td>\n",
       "      <td>25.0</td>\n",
       "    </tr>\n",
       "    <tr>\n",
       "      <th>1</th>\n",
       "      <td>T2</td>\n",
       "      <td>C2142763</td>\n",
       "      <td>1957-04-04</td>\n",
       "      <td>M</td>\n",
       "      <td>JHAJJAR</td>\n",
       "      <td>2270.69</td>\n",
       "      <td>2016-02-08</td>\n",
       "      <td>14:18:58</td>\n",
       "      <td>27999.0</td>\n",
       "    </tr>\n",
       "    <tr>\n",
       "      <th>2</th>\n",
       "      <td>T3</td>\n",
       "      <td>C4417068</td>\n",
       "      <td>1996-11-26</td>\n",
       "      <td>F</td>\n",
       "      <td>MUMBAI</td>\n",
       "      <td>17874.44</td>\n",
       "      <td>2016-02-08</td>\n",
       "      <td>14:27:12</td>\n",
       "      <td>459.0</td>\n",
       "    </tr>\n",
       "    <tr>\n",
       "      <th>3</th>\n",
       "      <td>T4</td>\n",
       "      <td>C5342380</td>\n",
       "      <td>1973-09-14</td>\n",
       "      <td>F</td>\n",
       "      <td>MUMBAI</td>\n",
       "      <td>866503.21</td>\n",
       "      <td>2016-02-08</td>\n",
       "      <td>14:27:14</td>\n",
       "      <td>2060.0</td>\n",
       "    </tr>\n",
       "    <tr>\n",
       "      <th>4</th>\n",
       "      <td>T5</td>\n",
       "      <td>C9031234</td>\n",
       "      <td>1988-03-24</td>\n",
       "      <td>F</td>\n",
       "      <td>NAVI MUMBAI</td>\n",
       "      <td>6714.43</td>\n",
       "      <td>2016-02-08</td>\n",
       "      <td>18:11:56</td>\n",
       "      <td>1762.5</td>\n",
       "    </tr>\n",
       "    <tr>\n",
       "      <th>...</th>\n",
       "      <td>...</td>\n",
       "      <td>...</td>\n",
       "      <td>...</td>\n",
       "      <td>...</td>\n",
       "      <td>...</td>\n",
       "      <td>...</td>\n",
       "      <td>...</td>\n",
       "      <td>...</td>\n",
       "      <td>...</td>\n",
       "    </tr>\n",
       "    <tr>\n",
       "      <th>1048562</th>\n",
       "      <td>T1048563</td>\n",
       "      <td>C8020229</td>\n",
       "      <td>1990-08-04</td>\n",
       "      <td>M</td>\n",
       "      <td>NEW DELHI</td>\n",
       "      <td>7635.19</td>\n",
       "      <td>2016-09-18</td>\n",
       "      <td>18:48:24</td>\n",
       "      <td>799.0</td>\n",
       "    </tr>\n",
       "    <tr>\n",
       "      <th>1048563</th>\n",
       "      <td>T1048564</td>\n",
       "      <td>C6459278</td>\n",
       "      <td>1992-02-20</td>\n",
       "      <td>M</td>\n",
       "      <td>NASHIK</td>\n",
       "      <td>27311.42</td>\n",
       "      <td>2016-09-18</td>\n",
       "      <td>18:37:34</td>\n",
       "      <td>460.0</td>\n",
       "    </tr>\n",
       "    <tr>\n",
       "      <th>1048564</th>\n",
       "      <td>T1048565</td>\n",
       "      <td>C6412354</td>\n",
       "      <td>1989-05-18</td>\n",
       "      <td>M</td>\n",
       "      <td>HYDERABAD</td>\n",
       "      <td>221757.06</td>\n",
       "      <td>2016-09-18</td>\n",
       "      <td>18:33:13</td>\n",
       "      <td>770.0</td>\n",
       "    </tr>\n",
       "    <tr>\n",
       "      <th>1048565</th>\n",
       "      <td>T1048566</td>\n",
       "      <td>C6420483</td>\n",
       "      <td>1978-08-30</td>\n",
       "      <td>M</td>\n",
       "      <td>VISAKHAPATNAM</td>\n",
       "      <td>10117.87</td>\n",
       "      <td>2016-09-18</td>\n",
       "      <td>18:47:06</td>\n",
       "      <td>1000.0</td>\n",
       "    </tr>\n",
       "    <tr>\n",
       "      <th>1048566</th>\n",
       "      <td>T1048567</td>\n",
       "      <td>C8337524</td>\n",
       "      <td>1984-05-03</td>\n",
       "      <td>M</td>\n",
       "      <td>PUNE</td>\n",
       "      <td>75734.42</td>\n",
       "      <td>2016-09-18</td>\n",
       "      <td>18:12:22</td>\n",
       "      <td>1166.0</td>\n",
       "    </tr>\n",
       "  </tbody>\n",
       "</table>\n",
       "<p>985322 rows × 9 columns</p>\n",
       "</div>"
      ],
      "text/plain": [
       "        TransactionID CustomerID CustomerDOB CustGender   CustLocation  \\\n",
       "0                  T1   C5841053  1994-10-01          F     JAMSHEDPUR   \n",
       "1                  T2   C2142763  1957-04-04          M        JHAJJAR   \n",
       "2                  T3   C4417068  1996-11-26          F         MUMBAI   \n",
       "3                  T4   C5342380  1973-09-14          F         MUMBAI   \n",
       "4                  T5   C9031234  1988-03-24          F    NAVI MUMBAI   \n",
       "...               ...        ...         ...        ...            ...   \n",
       "1048562      T1048563   C8020229  1990-08-04          M      NEW DELHI   \n",
       "1048563      T1048564   C6459278  1992-02-20          M         NASHIK   \n",
       "1048564      T1048565   C6412354  1989-05-18          M      HYDERABAD   \n",
       "1048565      T1048566   C6420483  1978-08-30          M  VISAKHAPATNAM   \n",
       "1048566      T1048567   C8337524  1984-05-03          M           PUNE   \n",
       "\n",
       "         CustAccountBalance TransactionDate TransactionTime  \\\n",
       "0                  17819.05      2016-02-08        14:32:07   \n",
       "1                   2270.69      2016-02-08        14:18:58   \n",
       "2                  17874.44      2016-02-08        14:27:12   \n",
       "3                 866503.21      2016-02-08        14:27:14   \n",
       "4                   6714.43      2016-02-08        18:11:56   \n",
       "...                     ...             ...             ...   \n",
       "1048562             7635.19      2016-09-18        18:48:24   \n",
       "1048563            27311.42      2016-09-18        18:37:34   \n",
       "1048564           221757.06      2016-09-18        18:33:13   \n",
       "1048565            10117.87      2016-09-18        18:47:06   \n",
       "1048566            75734.42      2016-09-18        18:12:22   \n",
       "\n",
       "         TransactionAmount (INR)  \n",
       "0                           25.0  \n",
       "1                        27999.0  \n",
       "2                          459.0  \n",
       "3                         2060.0  \n",
       "4                         1762.5  \n",
       "...                          ...  \n",
       "1048562                    799.0  \n",
       "1048563                    460.0  \n",
       "1048564                    770.0  \n",
       "1048565                   1000.0  \n",
       "1048566                   1166.0  \n",
       "\n",
       "[985322 rows x 9 columns]"
      ]
     },
     "execution_count": 202,
     "metadata": {},
     "output_type": "execute_result"
    }
   ],
   "source": [
    "data"
   ]
  },
  {
   "cell_type": "code",
   "execution_count": 203,
   "metadata": {},
   "outputs": [],
   "source": [
    "data.to_pickle(\"processed.pkl\")"
   ]
  },
  {
   "cell_type": "markdown",
   "metadata": {},
   "source": [
    "## 1. Finding Similar Costumers\n",
    "\n",
    "Companies nowadays are implementing product suggestions to provide users with things they are likely to buy. \n",
    "\n",
    "The process often starts by finding similar behaviours among consumers; for this task, we will focus on this part in the specific.\n",
    "\n",
    "Here you will implement an algorithm to find the most similar match to a consumer given his bank account information. \n",
    "\n",
    "In particular, you will implement your version of the LSH algorithm that takes as input information about a consumer and finds people similar to the one in the study."
   ]
  },
  {
   "cell_type": "markdown",
   "metadata": {},
   "source": [
    "### 1.1 Set up the data"
   ]
  },
  {
   "cell_type": "code",
   "execution_count": 67,
   "metadata": {},
   "outputs": [],
   "source": [
    "data = pd.read_pickle('processed2.pkl')"
   ]
  },
  {
   "cell_type": "code",
   "execution_count": 68,
   "metadata": {},
   "outputs": [
    {
     "data": {
      "text/plain": [
       "CustomerDOB                0\n",
       "CustGender                 0\n",
       "CustLocation               0\n",
       "CustAccountBalance         0\n",
       "TransactionDate            0\n",
       "TransactionTime            0\n",
       "TransactionAmount (INR)    0\n",
       "dtype: int64"
      ]
     },
     "execution_count": 68,
     "metadata": {},
     "output_type": "execute_result"
    }
   ],
   "source": [
    "data.isna().sum()"
   ]
  },
  {
   "cell_type": "code",
   "execution_count": 53,
   "metadata": {},
   "outputs": [
    {
     "data": {
      "text/html": [
       "<div>\n",
       "<style scoped>\n",
       "    .dataframe tbody tr th:only-of-type {\n",
       "        vertical-align: middle;\n",
       "    }\n",
       "\n",
       "    .dataframe tbody tr th {\n",
       "        vertical-align: top;\n",
       "    }\n",
       "\n",
       "    .dataframe thead th {\n",
       "        text-align: right;\n",
       "    }\n",
       "</style>\n",
       "<table border=\"1\" class=\"dataframe\">\n",
       "  <thead>\n",
       "    <tr style=\"text-align: right;\">\n",
       "      <th></th>\n",
       "      <th>TransactionID</th>\n",
       "      <th>CustomerID</th>\n",
       "      <th>CustomerDOB</th>\n",
       "      <th>CustGender</th>\n",
       "      <th>CustLocation</th>\n",
       "      <th>CustAccountBalance</th>\n",
       "      <th>TransactionDate</th>\n",
       "      <th>TransactionTime</th>\n",
       "      <th>TransactionAmount (INR)</th>\n",
       "    </tr>\n",
       "  </thead>\n",
       "  <tbody>\n",
       "    <tr>\n",
       "      <th>0</th>\n",
       "      <td>T1</td>\n",
       "      <td>C5841053</td>\n",
       "      <td>1994-10-01</td>\n",
       "      <td>F</td>\n",
       "      <td>JAMSHEDPUR</td>\n",
       "      <td>17819.05</td>\n",
       "      <td>2016-02-08</td>\n",
       "      <td>14:32:07</td>\n",
       "      <td>25.0</td>\n",
       "    </tr>\n",
       "    <tr>\n",
       "      <th>1</th>\n",
       "      <td>T2</td>\n",
       "      <td>C2142763</td>\n",
       "      <td>1957-04-04</td>\n",
       "      <td>M</td>\n",
       "      <td>JHAJJAR</td>\n",
       "      <td>2270.69</td>\n",
       "      <td>2016-02-08</td>\n",
       "      <td>14:18:58</td>\n",
       "      <td>27999.0</td>\n",
       "    </tr>\n",
       "    <tr>\n",
       "      <th>2</th>\n",
       "      <td>T3</td>\n",
       "      <td>C4417068</td>\n",
       "      <td>1996-11-26</td>\n",
       "      <td>F</td>\n",
       "      <td>MUMBAI</td>\n",
       "      <td>17874.44</td>\n",
       "      <td>2016-02-08</td>\n",
       "      <td>14:27:12</td>\n",
       "      <td>459.0</td>\n",
       "    </tr>\n",
       "    <tr>\n",
       "      <th>3</th>\n",
       "      <td>T4</td>\n",
       "      <td>C5342380</td>\n",
       "      <td>1973-09-14</td>\n",
       "      <td>F</td>\n",
       "      <td>MUMBAI</td>\n",
       "      <td>866503.21</td>\n",
       "      <td>2016-02-08</td>\n",
       "      <td>14:27:14</td>\n",
       "      <td>2060.0</td>\n",
       "    </tr>\n",
       "    <tr>\n",
       "      <th>4</th>\n",
       "      <td>T5</td>\n",
       "      <td>C9031234</td>\n",
       "      <td>1988-03-24</td>\n",
       "      <td>F</td>\n",
       "      <td>NAVI MUMBAI</td>\n",
       "      <td>6714.43</td>\n",
       "      <td>2016-02-08</td>\n",
       "      <td>18:11:56</td>\n",
       "      <td>1762.5</td>\n",
       "    </tr>\n",
       "    <tr>\n",
       "      <th>...</th>\n",
       "      <td>...</td>\n",
       "      <td>...</td>\n",
       "      <td>...</td>\n",
       "      <td>...</td>\n",
       "      <td>...</td>\n",
       "      <td>...</td>\n",
       "      <td>...</td>\n",
       "      <td>...</td>\n",
       "      <td>...</td>\n",
       "    </tr>\n",
       "    <tr>\n",
       "      <th>1048562</th>\n",
       "      <td>T1048563</td>\n",
       "      <td>C8020229</td>\n",
       "      <td>1990-08-04</td>\n",
       "      <td>M</td>\n",
       "      <td>NEW DELHI</td>\n",
       "      <td>7635.19</td>\n",
       "      <td>2016-09-18</td>\n",
       "      <td>18:48:24</td>\n",
       "      <td>799.0</td>\n",
       "    </tr>\n",
       "    <tr>\n",
       "      <th>1048563</th>\n",
       "      <td>T1048564</td>\n",
       "      <td>C6459278</td>\n",
       "      <td>1992-02-20</td>\n",
       "      <td>M</td>\n",
       "      <td>NASHIK</td>\n",
       "      <td>27311.42</td>\n",
       "      <td>2016-09-18</td>\n",
       "      <td>18:37:34</td>\n",
       "      <td>460.0</td>\n",
       "    </tr>\n",
       "    <tr>\n",
       "      <th>1048564</th>\n",
       "      <td>T1048565</td>\n",
       "      <td>C6412354</td>\n",
       "      <td>1989-05-18</td>\n",
       "      <td>M</td>\n",
       "      <td>HYDERABAD</td>\n",
       "      <td>221757.06</td>\n",
       "      <td>2016-09-18</td>\n",
       "      <td>18:33:13</td>\n",
       "      <td>770.0</td>\n",
       "    </tr>\n",
       "    <tr>\n",
       "      <th>1048565</th>\n",
       "      <td>T1048566</td>\n",
       "      <td>C6420483</td>\n",
       "      <td>1978-08-30</td>\n",
       "      <td>M</td>\n",
       "      <td>VISAKHAPATNAM</td>\n",
       "      <td>10117.87</td>\n",
       "      <td>2016-09-18</td>\n",
       "      <td>18:47:06</td>\n",
       "      <td>1000.0</td>\n",
       "    </tr>\n",
       "    <tr>\n",
       "      <th>1048566</th>\n",
       "      <td>T1048567</td>\n",
       "      <td>C8337524</td>\n",
       "      <td>1984-05-03</td>\n",
       "      <td>M</td>\n",
       "      <td>PUNE</td>\n",
       "      <td>75734.42</td>\n",
       "      <td>2016-09-18</td>\n",
       "      <td>18:12:22</td>\n",
       "      <td>1166.0</td>\n",
       "    </tr>\n",
       "  </tbody>\n",
       "</table>\n",
       "<p>985322 rows × 9 columns</p>\n",
       "</div>"
      ],
      "text/plain": [
       "        TransactionID CustomerID CustomerDOB CustGender   CustLocation  \\\n",
       "0                  T1   C5841053  1994-10-01          F     JAMSHEDPUR   \n",
       "1                  T2   C2142763  1957-04-04          M        JHAJJAR   \n",
       "2                  T3   C4417068  1996-11-26          F         MUMBAI   \n",
       "3                  T4   C5342380  1973-09-14          F         MUMBAI   \n",
       "4                  T5   C9031234  1988-03-24          F    NAVI MUMBAI   \n",
       "...               ...        ...         ...        ...            ...   \n",
       "1048562      T1048563   C8020229  1990-08-04          M      NEW DELHI   \n",
       "1048563      T1048564   C6459278  1992-02-20          M         NASHIK   \n",
       "1048564      T1048565   C6412354  1989-05-18          M      HYDERABAD   \n",
       "1048565      T1048566   C6420483  1978-08-30          M  VISAKHAPATNAM   \n",
       "1048566      T1048567   C8337524  1984-05-03          M           PUNE   \n",
       "\n",
       "         CustAccountBalance TransactionDate TransactionTime  \\\n",
       "0                  17819.05      2016-02-08        14:32:07   \n",
       "1                   2270.69      2016-02-08        14:18:58   \n",
       "2                  17874.44      2016-02-08        14:27:12   \n",
       "3                 866503.21      2016-02-08        14:27:14   \n",
       "4                   6714.43      2016-02-08        18:11:56   \n",
       "...                     ...             ...             ...   \n",
       "1048562             7635.19      2016-09-18        18:48:24   \n",
       "1048563            27311.42      2016-09-18        18:37:34   \n",
       "1048564           221757.06      2016-09-18        18:33:13   \n",
       "1048565            10117.87      2016-09-18        18:47:06   \n",
       "1048566            75734.42      2016-09-18        18:12:22   \n",
       "\n",
       "         TransactionAmount (INR)  \n",
       "0                           25.0  \n",
       "1                        27999.0  \n",
       "2                          459.0  \n",
       "3                         2060.0  \n",
       "4                         1762.5  \n",
       "...                          ...  \n",
       "1048562                    799.0  \n",
       "1048563                    460.0  \n",
       "1048564                    770.0  \n",
       "1048565                   1000.0  \n",
       "1048566                   1166.0  \n",
       "\n",
       "[985322 rows x 9 columns]"
      ]
     },
     "execution_count": 53,
     "metadata": {},
     "output_type": "execute_result"
    }
   ],
   "source": [
    "data"
   ]
  },
  {
   "cell_type": "code",
   "execution_count": 54,
   "metadata": {},
   "outputs": [],
   "source": [
    "newdata = data.drop(['CustomerID','TransactionID'], axis = 1)"
   ]
  },
  {
   "cell_type": "code",
   "execution_count": 55,
   "metadata": {},
   "outputs": [],
   "source": [
    "newdata.index = [x for x in range(len(newdata))]"
   ]
  },
  {
   "cell_type": "code",
   "execution_count": 56,
   "metadata": {},
   "outputs": [
    {
     "data": {
      "text/plain": [
       "<bound method DataFrame.info of        CustomerDOB CustGender   CustLocation  CustAccountBalance  \\\n",
       "0       1994-10-01          F     JAMSHEDPUR            17819.05   \n",
       "1       1957-04-04          M        JHAJJAR             2270.69   \n",
       "2       1996-11-26          F         MUMBAI            17874.44   \n",
       "3       1973-09-14          F         MUMBAI           866503.21   \n",
       "4       1988-03-24          F    NAVI MUMBAI             6714.43   \n",
       "...            ...        ...            ...                 ...   \n",
       "985317  1990-08-04          M      NEW DELHI             7635.19   \n",
       "985318  1992-02-20          M         NASHIK            27311.42   \n",
       "985319  1989-05-18          M      HYDERABAD           221757.06   \n",
       "985320  1978-08-30          M  VISAKHAPATNAM            10117.87   \n",
       "985321  1984-05-03          M           PUNE            75734.42   \n",
       "\n",
       "       TransactionDate TransactionTime  TransactionAmount (INR)  \n",
       "0           2016-02-08        14:32:07                     25.0  \n",
       "1           2016-02-08        14:18:58                  27999.0  \n",
       "2           2016-02-08        14:27:12                    459.0  \n",
       "3           2016-02-08        14:27:14                   2060.0  \n",
       "4           2016-02-08        18:11:56                   1762.5  \n",
       "...                ...             ...                      ...  \n",
       "985317      2016-09-18        18:48:24                    799.0  \n",
       "985318      2016-09-18        18:37:34                    460.0  \n",
       "985319      2016-09-18        18:33:13                    770.0  \n",
       "985320      2016-09-18        18:47:06                   1000.0  \n",
       "985321      2016-09-18        18:12:22                   1166.0  \n",
       "\n",
       "[985322 rows x 7 columns]>"
      ]
     },
     "execution_count": 56,
     "metadata": {},
     "output_type": "execute_result"
    }
   ],
   "source": [
    "newdata.info"
   ]
  },
  {
   "cell_type": "code",
   "execution_count": 57,
   "metadata": {},
   "outputs": [],
   "source": [
    "newdata.to_pickle('newdata.pkl')"
   ]
  },
  {
   "cell_type": "code",
   "execution_count": 58,
   "metadata": {},
   "outputs": [],
   "source": [
    "new_data = pd.read_pickle('newdata.pkl')"
   ]
  },
  {
   "cell_type": "code",
   "execution_count": 72,
   "metadata": {},
   "outputs": [],
   "source": [
    "new_data = pd.read_pickle('processed2.pkl')"
   ]
  },
  {
   "cell_type": "markdown",
   "metadata": {},
   "source": [
    "### 1.2 Fingerprint hashing"
   ]
  },
  {
   "cell_type": "markdown",
   "metadata": {},
   "source": [
    "### HASH FUNCTIONS\n",
    "\n",
    "#### Hash function implemented to create an hash value for each value in the dataframe."
   ]
  },
  {
   "cell_type": "code",
   "execution_count": 59,
   "metadata": {},
   "outputs": [],
   "source": [
    "# Hash function for datetime type\n",
    "def hash_date(value):\n",
    "    return int(pd.Timestamp(value).timestamp())"
   ]
  },
  {
   "cell_type": "code",
   "execution_count": 60,
   "metadata": {},
   "outputs": [],
   "source": [
    "#Hash function for string type\n",
    "def hash_string(value,p):\n",
    "    m =2^32 -1\n",
    "    a =101\n",
    "    b=456\n",
    "    first  = sum([ ord(x)*(p^i) for i,x in enumerate(value)])%m\n",
    "    return (a* first + b)%p"
   ]
  },
  {
   "cell_type": "code",
   "execution_count": 61,
   "metadata": {},
   "outputs": [],
   "source": [
    "#Hash function for float type\n",
    "def hash_float(value):\n",
    "    return int(value)"
   ]
  },
  {
   "cell_type": "code",
   "execution_count": 62,
   "metadata": {},
   "outputs": [],
   "source": [
    "#Collective Hash function, checks on the type of value parameter and applies the right hash function\n",
    "def my_hash (value,p):\n",
    "    if not isinstance(value,int):\n",
    "            if isinstance(value,datetime): \n",
    "                value  = hash_date(value)\n",
    "            elif isinstance(value,str): \n",
    "                value = hash_string(value,p)\n",
    "            elif isinstance(value,float): \n",
    "                value = hash_float(value)\n",
    "    return value"
   ]
  },
  {
   "cell_type": "markdown",
   "metadata": {},
   "source": [
    "#### Initialization of the parameter for the MinHash algorithm"
   ]
  },
  {
   "cell_type": "code",
   "execution_count": 63,
   "metadata": {},
   "outputs": [],
   "source": [
    "p  = 125539 #prime number\n",
    "N  = 100  #number of permutations\n",
    "max_val = 2^32-1 #value used for the randomization in the creation of the permutations\n",
    "permutations = [(randint(0,max_val), randint(0,max_val)) for _ in range(N)] # Creations of the permutations"
   ]
  },
  {
   "cell_type": "markdown",
   "metadata": {},
   "source": [
    "### MINHASH\n",
    "\n",
    "#### MinHash function: creates a minHash signature for the customer given as input.\n",
    "\n",
    "The minHash signature will be a vector of length N as the number of permutations used in the algorithm"
   ]
  },
  {
   "cell_type": "code",
   "execution_count": 64,
   "metadata": {},
   "outputs": [],
   "source": [
    "def minHash(customer,p,permutations):\n",
    "    vec  = [float(np.inf) for _ in range(len(permutations))]\n",
    "\n",
    "    for i,val in customer.items():\n",
    "        \n",
    "        val =  my_hash(val,p)# CReate Hash value\n",
    "        \n",
    "        for perm_i,perm_vals in enumerate(permutations): #Applies N permutations to every hash value of the customer\n",
    "            \n",
    "            a,b = perm_vals\n",
    "\n",
    "            output = (a*val + b)%p\n",
    "       \n",
    "            if(vec[perm_i] > output ):\n",
    "                vec[perm_i] = output\n",
    "\n",
    "    return vec # Hash Signature for the given customer"
   ]
  },
  {
   "cell_type": "markdown",
   "metadata": {},
   "source": [
    "#### Create 'minhash' column for the bank_transactions.csv dataset"
   ]
  },
  {
   "cell_type": "code",
   "execution_count": 9,
   "metadata": {},
   "outputs": [
    {
     "name": "stderr",
     "output_type": "stream",
     "text": [
      "100%|██████████| 985322/985322 [10:46<00:00, 1524.39it/s]\n"
     ]
    }
   ],
   "source": [
    "new_data['minhash']  = [minHash(new_data.loc[i],p,permutations) for i in tqdm(range(len(new_data)))]"
   ]
  },
  {
   "cell_type": "code",
   "execution_count": 191,
   "metadata": {},
   "outputs": [
    {
     "ename": "NameError",
     "evalue": "name 'new_data' is not defined",
     "output_type": "error",
     "traceback": [
      "\u001b[1;31m---------------------------------------------------------------------------\u001b[0m",
      "\u001b[1;31mNameError\u001b[0m                                 Traceback (most recent call last)",
      "Input \u001b[1;32mIn [191]\u001b[0m, in \u001b[0;36m<cell line: 1>\u001b[1;34m()\u001b[0m\n\u001b[1;32m----> 1\u001b[0m \u001b[43mnew_data\u001b[49m\u001b[38;5;241m.\u001b[39mminhash\n",
      "\u001b[1;31mNameError\u001b[0m: name 'new_data' is not defined"
     ]
    }
   ],
   "source": [
    "new_data.minhash"
   ]
  },
  {
   "cell_type": "code",
   "execution_count": null,
   "metadata": {},
   "outputs": [],
   "source": [
    "query =  pd.read_pickle('query.pkl')"
   ]
  },
  {
   "cell_type": "code",
   "execution_count": null,
   "metadata": {},
   "outputs": [],
   "source": [
    "query.index = [ i for i in range(len(query))]"
   ]
  },
  {
   "cell_type": "markdown",
   "metadata": {},
   "source": [
    "#### Create 'minhash' column for the query.csv dataframe"
   ]
  },
  {
   "cell_type": "code",
   "execution_count": null,
   "metadata": {},
   "outputs": [],
   "source": [
    "query['minhash']  = [minHash(query.loc[i],p,permutations) for i in tqdm(range(len(query)))]"
   ]
  },
  {
   "cell_type": "code",
   "execution_count": null,
   "metadata": {},
   "outputs": [],
   "source": [
    "query.head().minhash"
   ]
  },
  {
   "cell_type": "markdown",
   "metadata": {},
   "source": [
    "### LSH "
   ]
  },
  {
   "cell_type": "code",
   "execution_count": null,
   "metadata": {},
   "outputs": [],
   "source": [
    "# LSH algorithm implementation\n",
    "\n",
    "# query is a boolean parameter: \n",
    "# if True it will insert as the index of the df row in the bucket: 'q<index>'. \n",
    "# If False it will insert in the bucket just the integer representing the row index. \n",
    "# band: bandwidth parameter, sets the number of subdivisions in the minHash signature of the rows in df\n",
    "# my_dict: dictionary representing the buckets\n",
    "def LSH(my_dict,df,query,band):\n",
    "    for i,hash_vec in enumerate(df.minhash):\n",
    "        step = len(hash_vec)//band\n",
    "        j = 0\n",
    "        idx = 0\n",
    "        while(j<len(hash_vec)):\n",
    "            sub_vec = hash_vec[j:j+step]\n",
    "            sep = '-'\n",
    "            key  = sep.join([str(x) for x in sub_vec])+','+str(idx)\n",
    "            if key not in my_dict.keys():\n",
    "                my_dict[key]  = []\n",
    "            if( query):\n",
    "                my_dict[key].append('q'+str(i))\n",
    "            else:\n",
    "                my_dict[key].append(i)\n",
    "            j += step\n",
    "            idx +=1\n",
    "    return my_dict"
   ]
  },
  {
   "cell_type": "markdown",
   "metadata": {},
   "source": [
    "#### Function that finds the right buckets for every row passed in the new_data parameter"
   ]
  },
  {
   "cell_type": "code",
   "execution_count": null,
   "metadata": {},
   "outputs": [],
   "source": [
    "def find_bucket(my_dict,new_data,band):\n",
    "    for i,hash_vec in enumerate(new_data.minhash):\n",
    "        step = len(hash_vec)//band\n",
    "        j = 0\n",
    "        idx = 0\n",
    "        while(j<len(hash_vec)):\n",
    "            sub_vec = hash_vec[j:j+step]\n",
    "            sep = '-'\n",
    "            key  = sep.join([str(x) for x in sub_vec])+','+str(idx)\n",
    "            if key in my_dict.keys():\n",
    "                my_dict[key].append(i)\n",
    "            j += step\n",
    "            idx +=1\n",
    "    return my_dict"
   ]
  },
  {
   "cell_type": "markdown",
   "metadata": {},
   "source": [
    "#### Find the most similar Customer in the bank_transaction.csv file for the given Customer query"
   ]
  },
  {
   "cell_type": "code",
   "execution_count": null,
   "metadata": {},
   "outputs": [],
   "source": [
    "# query is the entire row in the query.csv file with his minHash signature\n",
    "# df is the dataframe where we want to find the most similar, df comes with all the minHash signature for every Customer in the dataset\n",
    "# band: bandwidth parameter, sets the number of subdivisions in the minHash signature of the rows in df\n",
    "#Changing the value of the bandwidth will create more matches, but the most similar will be unaffected\n",
    "def check_similar(query,band,df):\n",
    "    query_i= 'q'+str(query.index[0])\n",
    "    buckets = {} # Initialization of the dictionary that will represents the buckets for the given query row\n",
    "    LSH(buckets,query,True,band) # LSH  algorithm: fills the dictionary creating the right buckets for the given query row\n",
    "    find_bucket(buckets,df,band) #find_bucket:  function to insert in the right buckets the index of every the df row \n",
    "    \n",
    "    matches = [ x for v,x in buckets.items()]\n",
    "   \n",
    "    matches  = [x for x in list(chain.from_iterable(matches)) if x != query_i and 'q' not in str(x)]\n",
    "    c = Counter(matches)\n",
    "    if( not c.most_common()):\n",
    "        return 'NA'\n",
    "    return c.most_common()[0][0] #Return the index in the df dataframe corresponding to the most similar Customer"
   ]
  },
  {
   "cell_type": "markdown",
   "metadata": {},
   "source": [
    "#### Find most similar for every row in query.csv in the bank_transaction.csv dataset"
   ]
  },
  {
   "cell_type": "code",
   "execution_count": null,
   "metadata": {},
   "outputs": [],
   "source": [
    "matches =[]"
   ]
  },
  {
   "cell_type": "code",
   "execution_count": null,
   "metadata": {},
   "outputs": [],
   "source": [
    "for i in tqdm(query.index):\n",
    "    if(i > 31):\n",
    "        matches.append(check_similar(query[i:i+1],4,new_data))"
   ]
  },
  {
   "cell_type": "code",
   "execution_count": null,
   "metadata": {},
   "outputs": [],
   "source": [
    "matches"
   ]
  },
  {
   "cell_type": "code",
   "execution_count": null,
   "metadata": {},
   "outputs": [],
   "source": [
    "query_results  = pd.DataFrame(columns=['query_index','match_df_index'])"
   ]
  },
  {
   "cell_type": "code",
   "execution_count": null,
   "metadata": {},
   "outputs": [],
   "source": [
    "query_results['match_df_index'] = matches\n",
    "query_results['query_index']  = query.index"
   ]
  },
  {
   "cell_type": "code",
   "execution_count": null,
   "metadata": {},
   "outputs": [],
   "source": [
    "query_results"
   ]
  },
  {
   "cell_type": "markdown",
   "metadata": {},
   "source": [
    "## 2. Grouping customers together!\n",
    "\n",
    "Now we will deal with clustering algorithms that will provide groups of clients which are similar among them."
   ]
  },
  {
   "cell_type": "markdown",
   "metadata": {},
   "source": [
    "### 2.1 Getting your data + feature engineering"
   ]
  },
  {
   "cell_type": "markdown",
   "metadata": {},
   "source": [
    "2.1 Access to the data found in this dataset (it is the same dataset from the previous question 1.1)."
   ]
  },
  {
   "cell_type": "code",
   "execution_count": 32,
   "metadata": {},
   "outputs": [],
   "source": [
    "newdata = pd.read_pickle(\"processed.pkl\")"
   ]
  },
  {
   "cell_type": "code",
   "execution_count": 33,
   "metadata": {},
   "outputs": [
    {
     "data": {
      "text/html": [
       "<div>\n",
       "<style scoped>\n",
       "    .dataframe tbody tr th:only-of-type {\n",
       "        vertical-align: middle;\n",
       "    }\n",
       "\n",
       "    .dataframe tbody tr th {\n",
       "        vertical-align: top;\n",
       "    }\n",
       "\n",
       "    .dataframe thead th {\n",
       "        text-align: right;\n",
       "    }\n",
       "</style>\n",
       "<table border=\"1\" class=\"dataframe\">\n",
       "  <thead>\n",
       "    <tr style=\"text-align: right;\">\n",
       "      <th></th>\n",
       "      <th>TransactionID</th>\n",
       "      <th>CustomerID</th>\n",
       "      <th>CustomerDOB</th>\n",
       "      <th>CustGender</th>\n",
       "      <th>CustLocation</th>\n",
       "      <th>CustAccountBalance</th>\n",
       "      <th>TransactionDate</th>\n",
       "      <th>TransactionTime</th>\n",
       "      <th>TransactionAmount (INR)</th>\n",
       "    </tr>\n",
       "  </thead>\n",
       "  <tbody>\n",
       "    <tr>\n",
       "      <th>0</th>\n",
       "      <td>T1</td>\n",
       "      <td>C5841053</td>\n",
       "      <td>1994-10-01</td>\n",
       "      <td>F</td>\n",
       "      <td>JAMSHEDPUR</td>\n",
       "      <td>17819.05</td>\n",
       "      <td>2016-02-08</td>\n",
       "      <td>14:32:07</td>\n",
       "      <td>25.0</td>\n",
       "    </tr>\n",
       "    <tr>\n",
       "      <th>1</th>\n",
       "      <td>T2</td>\n",
       "      <td>C2142763</td>\n",
       "      <td>1957-04-04</td>\n",
       "      <td>M</td>\n",
       "      <td>JHAJJAR</td>\n",
       "      <td>2270.69</td>\n",
       "      <td>2016-02-08</td>\n",
       "      <td>14:18:58</td>\n",
       "      <td>27999.0</td>\n",
       "    </tr>\n",
       "    <tr>\n",
       "      <th>2</th>\n",
       "      <td>T3</td>\n",
       "      <td>C4417068</td>\n",
       "      <td>1996-11-26</td>\n",
       "      <td>F</td>\n",
       "      <td>MUMBAI</td>\n",
       "      <td>17874.44</td>\n",
       "      <td>2016-02-08</td>\n",
       "      <td>14:27:12</td>\n",
       "      <td>459.0</td>\n",
       "    </tr>\n",
       "    <tr>\n",
       "      <th>3</th>\n",
       "      <td>T4</td>\n",
       "      <td>C5342380</td>\n",
       "      <td>1973-09-14</td>\n",
       "      <td>F</td>\n",
       "      <td>MUMBAI</td>\n",
       "      <td>866503.21</td>\n",
       "      <td>2016-02-08</td>\n",
       "      <td>14:27:14</td>\n",
       "      <td>2060.0</td>\n",
       "    </tr>\n",
       "    <tr>\n",
       "      <th>4</th>\n",
       "      <td>T5</td>\n",
       "      <td>C9031234</td>\n",
       "      <td>1988-03-24</td>\n",
       "      <td>F</td>\n",
       "      <td>NAVI MUMBAI</td>\n",
       "      <td>6714.43</td>\n",
       "      <td>2016-02-08</td>\n",
       "      <td>18:11:56</td>\n",
       "      <td>1762.5</td>\n",
       "    </tr>\n",
       "    <tr>\n",
       "      <th>...</th>\n",
       "      <td>...</td>\n",
       "      <td>...</td>\n",
       "      <td>...</td>\n",
       "      <td>...</td>\n",
       "      <td>...</td>\n",
       "      <td>...</td>\n",
       "      <td>...</td>\n",
       "      <td>...</td>\n",
       "      <td>...</td>\n",
       "    </tr>\n",
       "    <tr>\n",
       "      <th>1048562</th>\n",
       "      <td>T1048563</td>\n",
       "      <td>C8020229</td>\n",
       "      <td>1990-08-04</td>\n",
       "      <td>M</td>\n",
       "      <td>NEW DELHI</td>\n",
       "      <td>7635.19</td>\n",
       "      <td>2016-09-18</td>\n",
       "      <td>18:48:24</td>\n",
       "      <td>799.0</td>\n",
       "    </tr>\n",
       "    <tr>\n",
       "      <th>1048563</th>\n",
       "      <td>T1048564</td>\n",
       "      <td>C6459278</td>\n",
       "      <td>1992-02-20</td>\n",
       "      <td>M</td>\n",
       "      <td>NASHIK</td>\n",
       "      <td>27311.42</td>\n",
       "      <td>2016-09-18</td>\n",
       "      <td>18:37:34</td>\n",
       "      <td>460.0</td>\n",
       "    </tr>\n",
       "    <tr>\n",
       "      <th>1048564</th>\n",
       "      <td>T1048565</td>\n",
       "      <td>C6412354</td>\n",
       "      <td>1989-05-18</td>\n",
       "      <td>M</td>\n",
       "      <td>HYDERABAD</td>\n",
       "      <td>221757.06</td>\n",
       "      <td>2016-09-18</td>\n",
       "      <td>18:33:13</td>\n",
       "      <td>770.0</td>\n",
       "    </tr>\n",
       "    <tr>\n",
       "      <th>1048565</th>\n",
       "      <td>T1048566</td>\n",
       "      <td>C6420483</td>\n",
       "      <td>1978-08-30</td>\n",
       "      <td>M</td>\n",
       "      <td>VISAKHAPATNAM</td>\n",
       "      <td>10117.87</td>\n",
       "      <td>2016-09-18</td>\n",
       "      <td>18:47:06</td>\n",
       "      <td>1000.0</td>\n",
       "    </tr>\n",
       "    <tr>\n",
       "      <th>1048566</th>\n",
       "      <td>T1048567</td>\n",
       "      <td>C8337524</td>\n",
       "      <td>1984-05-03</td>\n",
       "      <td>M</td>\n",
       "      <td>PUNE</td>\n",
       "      <td>75734.42</td>\n",
       "      <td>2016-09-18</td>\n",
       "      <td>18:12:22</td>\n",
       "      <td>1166.0</td>\n",
       "    </tr>\n",
       "  </tbody>\n",
       "</table>\n",
       "<p>985322 rows × 9 columns</p>\n",
       "</div>"
      ],
      "text/plain": [
       "        TransactionID CustomerID CustomerDOB CustGender   CustLocation  \\\n",
       "0                  T1   C5841053  1994-10-01          F     JAMSHEDPUR   \n",
       "1                  T2   C2142763  1957-04-04          M        JHAJJAR   \n",
       "2                  T3   C4417068  1996-11-26          F         MUMBAI   \n",
       "3                  T4   C5342380  1973-09-14          F         MUMBAI   \n",
       "4                  T5   C9031234  1988-03-24          F    NAVI MUMBAI   \n",
       "...               ...        ...         ...        ...            ...   \n",
       "1048562      T1048563   C8020229  1990-08-04          M      NEW DELHI   \n",
       "1048563      T1048564   C6459278  1992-02-20          M         NASHIK   \n",
       "1048564      T1048565   C6412354  1989-05-18          M      HYDERABAD   \n",
       "1048565      T1048566   C6420483  1978-08-30          M  VISAKHAPATNAM   \n",
       "1048566      T1048567   C8337524  1984-05-03          M           PUNE   \n",
       "\n",
       "         CustAccountBalance TransactionDate TransactionTime  \\\n",
       "0                  17819.05      2016-02-08        14:32:07   \n",
       "1                   2270.69      2016-02-08        14:18:58   \n",
       "2                  17874.44      2016-02-08        14:27:12   \n",
       "3                 866503.21      2016-02-08        14:27:14   \n",
       "4                   6714.43      2016-02-08        18:11:56   \n",
       "...                     ...             ...             ...   \n",
       "1048562             7635.19      2016-09-18        18:48:24   \n",
       "1048563            27311.42      2016-09-18        18:37:34   \n",
       "1048564           221757.06      2016-09-18        18:33:13   \n",
       "1048565            10117.87      2016-09-18        18:47:06   \n",
       "1048566            75734.42      2016-09-18        18:12:22   \n",
       "\n",
       "         TransactionAmount (INR)  \n",
       "0                           25.0  \n",
       "1                        27999.0  \n",
       "2                          459.0  \n",
       "3                         2060.0  \n",
       "4                         1762.5  \n",
       "...                          ...  \n",
       "1048562                    799.0  \n",
       "1048563                    460.0  \n",
       "1048564                    770.0  \n",
       "1048565                   1000.0  \n",
       "1048566                   1166.0  \n",
       "\n",
       "[985322 rows x 9 columns]"
      ]
     },
     "execution_count": 33,
     "metadata": {},
     "output_type": "execute_result"
    }
   ],
   "source": [
    "newdata"
   ]
  },
  {
   "cell_type": "code",
   "execution_count": 206,
   "metadata": {},
   "outputs": [
    {
     "data": {
      "text/plain": [
       "TransactionID              0\n",
       "CustomerID                 0\n",
       "CustomerDOB                0\n",
       "CustGender                 0\n",
       "CustLocation               0\n",
       "CustAccountBalance         0\n",
       "TransactionDate            0\n",
       "TransactionTime            0\n",
       "TransactionAmount (INR)    0\n",
       "dtype: int64"
      ]
     },
     "execution_count": 206,
     "metadata": {},
     "output_type": "execute_result"
    }
   ],
   "source": [
    "newdata.isna().sum()"
   ]
  },
  {
   "cell_type": "code",
   "execution_count": 207,
   "metadata": {},
   "outputs": [],
   "source": [
    "newdata.index = [x for x in range(len(newdata))]"
   ]
  },
  {
   "cell_type": "markdown",
   "metadata": {},
   "source": [
    "2.2 Sometimes, the features (variables, fields) are not given in a dataset but can be created from it. The previous step is known as feature engineering. For example, the original dataset has several transactions done by the same customer. Then, we suggest you to group data by the client (using CustomerId) and, based on it, create the following new features for each CustomerId:"
   ]
  },
  {
   "cell_type": "markdown",
   "metadata": {},
   "source": [
    "####   a) Number of transactions"
   ]
  },
  {
   "cell_type": "code",
   "execution_count": 214,
   "metadata": {},
   "outputs": [],
   "source": [
    "newdata[\"NumberTransactions\"] = newdata.groupby('CustomerID')[\"TransactionID\"].transform(\"count\")"
   ]
  },
  {
   "cell_type": "code",
   "execution_count": 209,
   "metadata": {},
   "outputs": [],
   "source": [
    "newdata2[\"NumberTransactions\"] = newdata.groupby('CustomerID')[\"TransactionID\"].count()"
   ]
  },
  {
   "cell_type": "markdown",
   "metadata": {},
   "source": [
    "#### b) Number of transactions with a balance bigger than 100 UDS   da fare"
   ]
  },
  {
   "cell_type": "code",
   "execution_count": 219,
   "metadata": {},
   "outputs": [],
   "source": [
    "newdata[\"CustAccountBalance (USD)\"] = newdata[\"CustAccountBalance\"] * 0.012244201"
   ]
  },
  {
   "cell_type": "code",
   "execution_count": 220,
   "metadata": {},
   "outputs": [],
   "source": [
    "newdata[\"N_trans_bal>100\"] = newdata[newdata[\"CustAccountBalance (USD)\"]>100].groupby('CustomerID')[\"TransactionID\"].transform('count')"
   ]
  },
  {
   "cell_type": "code",
   "execution_count": 221,
   "metadata": {},
   "outputs": [],
   "source": [
    "newdata[\"N_trans_bal>100\"].fillna(0, inplace = True)"
   ]
  },
  {
   "cell_type": "markdown",
   "metadata": {},
   "source": [
    "#### c) Average amount of transactions"
   ]
  },
  {
   "cell_type": "code",
   "execution_count": 222,
   "metadata": {},
   "outputs": [],
   "source": [
    "newdata[\"AverageAmount (INR)\"] = newdata.groupby('CustomerID')[\"TransactionAmount (INR)\"].transform(\"mean\")"
   ]
  },
  {
   "cell_type": "markdown",
   "metadata": {},
   "source": [
    "#### d) Average Balance"
   ]
  },
  {
   "cell_type": "code",
   "execution_count": 223,
   "metadata": {},
   "outputs": [],
   "source": [
    "newdata[\"AverageBalance (INR)\"] = newdata.groupby('CustomerID')[\"CustAccountBalance\"].transform(\"mean\")"
   ]
  },
  {
   "cell_type": "markdown",
   "metadata": {},
   "source": [
    "#### e) Average difference between the balance and the transaction amount for each customer (this is mainly known in the banking world as    utilisation)."
   ]
  },
  {
   "cell_type": "code",
   "execution_count": 224,
   "metadata": {},
   "outputs": [],
   "source": [
    "newdata[\"Utilization\"] = newdata[\"AverageBalance (INR)\"] - newdata[\"AverageAmount (INR)\"]"
   ]
  },
  {
   "cell_type": "markdown",
   "metadata": {},
   "source": [
    "#### f) Most common gender of the customer"
   ]
  },
  {
   "cell_type": "code",
   "execution_count": null,
   "metadata": {},
   "outputs": [],
   "source": [
    "result = newdata.groupby(['CustomerID'])['CustGender'].agg(pd.Series.mode)"
   ]
  },
  {
   "cell_type": "code",
   "execution_count": 226,
   "metadata": {},
   "outputs": [],
   "source": [
    "newdata[\"MostCommonGender\"] = \"NA\""
   ]
  },
  {
   "cell_type": "code",
   "execution_count": 227,
   "metadata": {
    "tags": []
   },
   "outputs": [],
   "source": [
    "newdata['MostCommonGender'] = newdata.CustomerID.apply(lambda x: result[x])"
   ]
  },
  {
   "cell_type": "markdown",
   "metadata": {},
   "source": [
    "#### g) Most frequent location of the customer"
   ]
  },
  {
   "cell_type": "code",
   "execution_count": 228,
   "metadata": {},
   "outputs": [],
   "source": [
    "result2 = newdata.groupby(['CustomerID'])['CustLocation'].agg(pd.Series.mode)"
   ]
  },
  {
   "cell_type": "code",
   "execution_count": 229,
   "metadata": {},
   "outputs": [],
   "source": [
    "newdata[\"MostFreqLocation\"] = \"NA\""
   ]
  },
  {
   "cell_type": "code",
   "execution_count": 230,
   "metadata": {},
   "outputs": [],
   "source": [
    "newdata[\"MostFreqLocation\"] = newdata.CustomerID.apply(lambda x: result2[x])"
   ]
  },
  {
   "cell_type": "markdown",
   "metadata": {},
   "source": [
    "2.1.3 Consider at least 20 additional features that can be generated for each CustomerId. Describe each of them and why you believe they will be helpful. Moreover, add it to the previous dataset (the one with seven features)."
   ]
  },
  {
   "cell_type": "markdown",
   "metadata": {},
   "source": [
    "####  TransactionAmount (USD)"
   ]
  },
  {
   "cell_type": "code",
   "execution_count": 231,
   "metadata": {},
   "outputs": [],
   "source": [
    "newdata[\"TransactionAmount (USD)\"] = newdata[\"TransactionAmount (INR)\"] * 0.012244201 "
   ]
  },
  {
   "cell_type": "markdown",
   "metadata": {},
   "source": [
    "#### AverageAmount (USD)"
   ]
  },
  {
   "cell_type": "code",
   "execution_count": 232,
   "metadata": {},
   "outputs": [],
   "source": [
    "newdata[\"AverageAmount (USD)\"] = newdata.groupby('CustomerID')[\"TransactionAmount (USD)\"].transform(\"mean\")  "
   ]
  },
  {
   "cell_type": "markdown",
   "metadata": {},
   "source": [
    "#### CustAccountBalance (USD)"
   ]
  },
  {
   "cell_type": "code",
   "execution_count": 233,
   "metadata": {},
   "outputs": [],
   "source": [
    "newdata[\"CustAccountBalance (USD)\"] = newdata[\"CustAccountBalance\"] * 0.012244201"
   ]
  },
  {
   "cell_type": "markdown",
   "metadata": {},
   "source": [
    "#### AverageBalance (USD)"
   ]
  },
  {
   "cell_type": "code",
   "execution_count": 234,
   "metadata": {},
   "outputs": [],
   "source": [
    "newdata[\"AverageBalance (USD)\"] = newdata[\"AverageBalance (INR)\"] * 0.012244201"
   ]
  },
  {
   "cell_type": "markdown",
   "metadata": {},
   "source": [
    "#### MaxAmountTrans (USD)"
   ]
  },
  {
   "cell_type": "code",
   "execution_count": 235,
   "metadata": {},
   "outputs": [],
   "source": [
    "newdata[\"MaxAmountTrans (USD)\"] = newdata.groupby('CustomerID')[\"TransactionAmount (USD)\"].transform(\"max\")  "
   ]
  },
  {
   "cell_type": "markdown",
   "metadata": {},
   "source": [
    "#### MinAmountTrans (USD)"
   ]
  },
  {
   "cell_type": "code",
   "execution_count": 236,
   "metadata": {},
   "outputs": [],
   "source": [
    "newdata[\"MinAmountTrans (USD)\"] = newdata.groupby('CustomerID')[\"TransactionAmount (USD)\"].transform(\"min\") "
   ]
  },
  {
   "cell_type": "markdown",
   "metadata": {},
   "source": [
    "#### MaxBalance (USD)"
   ]
  },
  {
   "cell_type": "code",
   "execution_count": 237,
   "metadata": {},
   "outputs": [],
   "source": [
    "newdata[\"MaxBalance (USD)\"] = newdata.groupby('CustomerID')[\"CustAccountBalance (USD)\"].transform(\"max\") "
   ]
  },
  {
   "cell_type": "markdown",
   "metadata": {},
   "source": [
    "#### MinBalance (USD)"
   ]
  },
  {
   "cell_type": "code",
   "execution_count": 238,
   "metadata": {},
   "outputs": [],
   "source": [
    "newdata[\"MinBalance (USD)\"] = newdata.groupby('CustomerID')[\"CustAccountBalance (USD)\"].transform(\"min\") "
   ]
  },
  {
   "cell_type": "markdown",
   "metadata": {},
   "source": [
    "#### CustomerAge"
   ]
  },
  {
   "cell_type": "code",
   "execution_count": 239,
   "metadata": {},
   "outputs": [],
   "source": [
    "newdata['CustomerAge'] = ((pd.to_datetime('today')-newdata.CustomerDOB)/np.timedelta64(1,'Y')).round(0)\n",
    "newdata['CustomerAge'] = newdata['CustomerAge'].astype(int)"
   ]
  },
  {
   "cell_type": "markdown",
   "metadata": {},
   "source": [
    "#### NumberMorningTransactions"
   ]
  },
  {
   "cell_type": "code",
   "execution_count": 240,
   "metadata": {},
   "outputs": [],
   "source": [
    "newdata[\"N_morningTransactions\"] = newdata[(newdata[\"TransactionTime\"] >= datetime.strptime(\"06:00:00\", '%H:%M:%S').time()) & (newdata[\"TransactionTime\"] < datetime.strptime(\"12:00:00\", '%H:%M:%S').time())].groupby('CustomerID')[\"TransactionID\"].transform('count')"
   ]
  },
  {
   "cell_type": "code",
   "execution_count": 241,
   "metadata": {},
   "outputs": [],
   "source": [
    "newdata[\"N_morningTransactions\"].fillna(0, inplace = True)"
   ]
  },
  {
   "cell_type": "markdown",
   "metadata": {},
   "source": [
    "#### NumberAfternoonTransaction"
   ]
  },
  {
   "cell_type": "code",
   "execution_count": 242,
   "metadata": {},
   "outputs": [],
   "source": [
    "newdata[\"N_afternoonTransactions\"] = newdata[(newdata[\"TransactionTime\"] >= datetime.strptime(\"12:00:00\", '%H:%M:%S').time()) & (newdata[\"TransactionTime\"] < datetime.strptime(\"18:00:00\", '%H:%M:%S').time())].groupby('CustomerID')[\"TransactionID\"].transform('count')"
   ]
  },
  {
   "cell_type": "code",
   "execution_count": 243,
   "metadata": {},
   "outputs": [],
   "source": [
    "newdata[\"N_afternoonTransactions\"].fillna(0, inplace = True)"
   ]
  },
  {
   "cell_type": "markdown",
   "metadata": {},
   "source": [
    "#### NumberEveningTransaction"
   ]
  },
  {
   "cell_type": "code",
   "execution_count": 244,
   "metadata": {},
   "outputs": [],
   "source": [
    "newdata[\"N_eveningTransactions\"] = newdata[(newdata[\"TransactionTime\"] >= datetime.strptime(\"18:00:00\", '%H:%M:%S').time()) & (newdata[\"TransactionTime\"] <= datetime.strptime(\"23:59:59\", '%H:%M:%S').time())].groupby('CustomerID')[\"TransactionID\"].transform('count')"
   ]
  },
  {
   "cell_type": "code",
   "execution_count": 245,
   "metadata": {},
   "outputs": [],
   "source": [
    "newdata[\"N_eveningTransactions\"].fillna(0, inplace = True)"
   ]
  },
  {
   "cell_type": "markdown",
   "metadata": {},
   "source": [
    "#### NumberNigthTransaction"
   ]
  },
  {
   "cell_type": "code",
   "execution_count": 246,
   "metadata": {},
   "outputs": [],
   "source": [
    "newdata[\"N_nigthTransactions\"] = newdata[(newdata[\"TransactionTime\"] >= datetime.strptime(\"00:00:00\", '%H:%M:%S').time()) & (newdata[\"TransactionTime\"] < datetime.strptime(\"08:00:00\", '%H:%M:%S').time())].groupby('CustomerID')[\"TransactionID\"].transform('count')"
   ]
  },
  {
   "cell_type": "code",
   "execution_count": 247,
   "metadata": {},
   "outputs": [],
   "source": [
    "newdata[\"N_nigthTransactions\"].fillna(0, inplace = True)"
   ]
  },
  {
   "cell_type": "markdown",
   "metadata": {},
   "source": [
    "#### Amount percentage of Balance (USD)"
   ]
  },
  {
   "cell_type": "code",
   "execution_count": 248,
   "metadata": {},
   "outputs": [],
   "source": [
    "newdata['Amount_percentage_of_Balance (USD)'] = newdata['TransactionAmount (USD)'] / newdata['CustAccountBalance (USD)']*100 "
   ]
  },
  {
   "cell_type": "markdown",
   "metadata": {},
   "source": [
    "#### Number of Negative Transaction"
   ]
  },
  {
   "cell_type": "code",
   "execution_count": 250,
   "metadata": {},
   "outputs": [],
   "source": [
    "newdata[\"NumberNegativeTransaction\"] = newdata[newdata[\"TransactionAmount (INR)\"]>newdata[\"CustAccountBalance\"]].groupby('CustomerID')[\"TransactionID\"].transform('count')"
   ]
  },
  {
   "cell_type": "code",
   "execution_count": 251,
   "metadata": {},
   "outputs": [],
   "source": [
    "newdata[\"NumberNegativeTransaction\"].fillna(0, inplace = True)"
   ]
  },
  {
   "cell_type": "markdown",
   "metadata": {},
   "source": [
    "#### Number of Transaction > Half Balance"
   ]
  },
  {
   "cell_type": "code",
   "execution_count": 252,
   "metadata": {},
   "outputs": [],
   "source": [
    "newdata[\"NTransaction>HalfBalance\"] = newdata[newdata[\"TransactionAmount (INR)\"]>(newdata[\"CustAccountBalance\"]/2)].groupby('CustomerID')[\"TransactionID\"].transform('count')"
   ]
  },
  {
   "cell_type": "code",
   "execution_count": 253,
   "metadata": {},
   "outputs": [],
   "source": [
    "newdata[\"NTransaction>HalfBalance\"].fillna(0, inplace = True)"
   ]
  },
  {
   "cell_type": "markdown",
   "metadata": {},
   "source": [
    "#### Recency\n",
    "\n",
    "The recency factor is based on the notion that the more recently a customer has made a purchase with a company, the more likely they will continue to keep the business and brand in mind for subsequent purchases. This information can be used to remind recent customers to revisit the business soon to continue meeting their purchase needs."
   ]
  },
  {
   "cell_type": "code",
   "execution_count": 254,
   "metadata": {},
   "outputs": [],
   "source": [
    "newdata['DaysSinceTransaction'] = (pd.to_datetime('today') - newdata['TransactionDate'])/np.timedelta64(1, 'D')\n",
    "newdata['DaysSinceTransaction'] = newdata['DaysSinceTransaction'] - newdata['DaysSinceTransaction'].min()"
   ]
  },
  {
   "cell_type": "code",
   "execution_count": 255,
   "metadata": {},
   "outputs": [],
   "source": [
    "newdata = newdata.rename(columns = {'DaysSinceTransaction' : 'Recency'})"
   ]
  },
  {
   "cell_type": "markdown",
   "metadata": {},
   "source": [
    "#### Number of Transactions bigger than 1/10 of the balance"
   ]
  },
  {
   "cell_type": "code",
   "execution_count": 256,
   "metadata": {},
   "outputs": [],
   "source": [
    "newdata[\"N_trans_>one_tenth_bal\"] = newdata[newdata[\"TransactionAmount (USD)\"]> (newdata[\"CustAccountBalance (USD)\"])/10].groupby('CustomerID')[\"TransactionID\"].transform('count')"
   ]
  },
  {
   "cell_type": "code",
   "execution_count": 257,
   "metadata": {},
   "outputs": [],
   "source": [
    "newdata[\"N_trans_>one_tenth_bal\"].fillna(0,inplace = True)"
   ]
  },
  {
   "cell_type": "markdown",
   "metadata": {},
   "source": [
    "#### Date of First Transaction\n",
    "\n",
    "We create a new feature that contains for each CustomerID the date of the first transaction. It can be useful to recognize the accounts that have been in operation the longest."
   ]
  },
  {
   "cell_type": "code",
   "execution_count": 258,
   "metadata": {},
   "outputs": [],
   "source": [
    "newdata['DateFirstTransaction'] = newdata.groupby(\"CustomerID\")[\"TransactionDate\"].transform(\"min\")"
   ]
  },
  {
   "cell_type": "code",
   "execution_count": null,
   "metadata": {},
   "outputs": [],
   "source": [
    "#### Number of Transaction per Month"
   ]
  },
  {
   "cell_type": "code",
   "execution_count": 10,
   "metadata": {},
   "outputs": [
    {
     "data": {
      "text/html": [
       "<div>\n",
       "<style scoped>\n",
       "    .dataframe tbody tr th:only-of-type {\n",
       "        vertical-align: middle;\n",
       "    }\n",
       "\n",
       "    .dataframe tbody tr th {\n",
       "        vertical-align: top;\n",
       "    }\n",
       "\n",
       "    .dataframe thead th {\n",
       "        text-align: right;\n",
       "    }\n",
       "</style>\n",
       "<table border=\"1\" class=\"dataframe\">\n",
       "  <thead>\n",
       "    <tr style=\"text-align: right;\">\n",
       "      <th></th>\n",
       "      <th>TransactionID</th>\n",
       "      <th>CustomerID</th>\n",
       "      <th>CustomerDOB</th>\n",
       "      <th>CustGender</th>\n",
       "      <th>CustLocation</th>\n",
       "      <th>CustAccountBalance</th>\n",
       "      <th>TransactionDate</th>\n",
       "      <th>TransactionTime</th>\n",
       "      <th>TransactionAmount (INR)</th>\n",
       "      <th>NumberTransactions</th>\n",
       "      <th>...</th>\n",
       "      <th>N_morningTransactions</th>\n",
       "      <th>N_afternoonTransactions</th>\n",
       "      <th>N_eveningTransactions</th>\n",
       "      <th>N_nigthTransactions</th>\n",
       "      <th>Amount_percentage_of_Balance (USD)</th>\n",
       "      <th>NumberNegativeTransaction</th>\n",
       "      <th>NTransaction&gt;HalfBalance</th>\n",
       "      <th>Recency</th>\n",
       "      <th>DateFirstTransaction</th>\n",
       "      <th>N_trans_&gt;one_tenth_bal</th>\n",
       "    </tr>\n",
       "  </thead>\n",
       "  <tbody>\n",
       "    <tr>\n",
       "      <th>0</th>\n",
       "      <td>T1</td>\n",
       "      <td>C5841053</td>\n",
       "      <td>1994-10-01</td>\n",
       "      <td>F</td>\n",
       "      <td>JAMSHEDPUR</td>\n",
       "      <td>17819.05</td>\n",
       "      <td>2016-02-08</td>\n",
       "      <td>14:32:07</td>\n",
       "      <td>25.0</td>\n",
       "      <td>1</td>\n",
       "      <td>...</td>\n",
       "      <td>0.0</td>\n",
       "      <td>1.0</td>\n",
       "      <td>0.0</td>\n",
       "      <td>0.0</td>\n",
       "      <td>0.140299</td>\n",
       "      <td>0.0</td>\n",
       "      <td>0.0</td>\n",
       "      <td>305.0</td>\n",
       "      <td>2016-02-08</td>\n",
       "      <td>0.0</td>\n",
       "    </tr>\n",
       "    <tr>\n",
       "      <th>1</th>\n",
       "      <td>T2</td>\n",
       "      <td>C2142763</td>\n",
       "      <td>1957-04-04</td>\n",
       "      <td>M</td>\n",
       "      <td>JHAJJAR</td>\n",
       "      <td>2270.69</td>\n",
       "      <td>2016-02-08</td>\n",
       "      <td>14:18:58</td>\n",
       "      <td>27999.0</td>\n",
       "      <td>1</td>\n",
       "      <td>...</td>\n",
       "      <td>0.0</td>\n",
       "      <td>1.0</td>\n",
       "      <td>0.0</td>\n",
       "      <td>0.0</td>\n",
       "      <td>1233.061316</td>\n",
       "      <td>1.0</td>\n",
       "      <td>1.0</td>\n",
       "      <td>305.0</td>\n",
       "      <td>2016-02-08</td>\n",
       "      <td>1.0</td>\n",
       "    </tr>\n",
       "    <tr>\n",
       "      <th>2</th>\n",
       "      <td>T3</td>\n",
       "      <td>C4417068</td>\n",
       "      <td>1996-11-26</td>\n",
       "      <td>F</td>\n",
       "      <td>MUMBAI</td>\n",
       "      <td>17874.44</td>\n",
       "      <td>2016-02-08</td>\n",
       "      <td>14:27:12</td>\n",
       "      <td>459.0</td>\n",
       "      <td>1</td>\n",
       "      <td>...</td>\n",
       "      <td>0.0</td>\n",
       "      <td>1.0</td>\n",
       "      <td>0.0</td>\n",
       "      <td>0.0</td>\n",
       "      <td>2.567913</td>\n",
       "      <td>0.0</td>\n",
       "      <td>0.0</td>\n",
       "      <td>305.0</td>\n",
       "      <td>2016-02-08</td>\n",
       "      <td>0.0</td>\n",
       "    </tr>\n",
       "    <tr>\n",
       "      <th>3</th>\n",
       "      <td>T4</td>\n",
       "      <td>C5342380</td>\n",
       "      <td>1973-09-14</td>\n",
       "      <td>F</td>\n",
       "      <td>MUMBAI</td>\n",
       "      <td>866503.21</td>\n",
       "      <td>2016-02-08</td>\n",
       "      <td>14:27:14</td>\n",
       "      <td>2060.0</td>\n",
       "      <td>2</td>\n",
       "      <td>...</td>\n",
       "      <td>0.0</td>\n",
       "      <td>1.0</td>\n",
       "      <td>0.0</td>\n",
       "      <td>0.0</td>\n",
       "      <td>0.237737</td>\n",
       "      <td>0.0</td>\n",
       "      <td>0.0</td>\n",
       "      <td>305.0</td>\n",
       "      <td>2016-02-08</td>\n",
       "      <td>0.0</td>\n",
       "    </tr>\n",
       "    <tr>\n",
       "      <th>4</th>\n",
       "      <td>T5</td>\n",
       "      <td>C9031234</td>\n",
       "      <td>1988-03-24</td>\n",
       "      <td>F</td>\n",
       "      <td>NAVI MUMBAI</td>\n",
       "      <td>6714.43</td>\n",
       "      <td>2016-02-08</td>\n",
       "      <td>18:11:56</td>\n",
       "      <td>1762.5</td>\n",
       "      <td>1</td>\n",
       "      <td>...</td>\n",
       "      <td>0.0</td>\n",
       "      <td>0.0</td>\n",
       "      <td>1.0</td>\n",
       "      <td>0.0</td>\n",
       "      <td>26.249436</td>\n",
       "      <td>0.0</td>\n",
       "      <td>0.0</td>\n",
       "      <td>305.0</td>\n",
       "      <td>2016-02-08</td>\n",
       "      <td>1.0</td>\n",
       "    </tr>\n",
       "    <tr>\n",
       "      <th>...</th>\n",
       "      <td>...</td>\n",
       "      <td>...</td>\n",
       "      <td>...</td>\n",
       "      <td>...</td>\n",
       "      <td>...</td>\n",
       "      <td>...</td>\n",
       "      <td>...</td>\n",
       "      <td>...</td>\n",
       "      <td>...</td>\n",
       "      <td>...</td>\n",
       "      <td>...</td>\n",
       "      <td>...</td>\n",
       "      <td>...</td>\n",
       "      <td>...</td>\n",
       "      <td>...</td>\n",
       "      <td>...</td>\n",
       "      <td>...</td>\n",
       "      <td>...</td>\n",
       "      <td>...</td>\n",
       "      <td>...</td>\n",
       "      <td>...</td>\n",
       "    </tr>\n",
       "    <tr>\n",
       "      <th>985317</th>\n",
       "      <td>T1048563</td>\n",
       "      <td>C8020229</td>\n",
       "      <td>1990-08-04</td>\n",
       "      <td>M</td>\n",
       "      <td>NEW DELHI</td>\n",
       "      <td>7635.19</td>\n",
       "      <td>2016-09-18</td>\n",
       "      <td>18:48:24</td>\n",
       "      <td>799.0</td>\n",
       "      <td>1</td>\n",
       "      <td>...</td>\n",
       "      <td>0.0</td>\n",
       "      <td>0.0</td>\n",
       "      <td>1.0</td>\n",
       "      <td>0.0</td>\n",
       "      <td>10.464704</td>\n",
       "      <td>0.0</td>\n",
       "      <td>0.0</td>\n",
       "      <td>82.0</td>\n",
       "      <td>2016-09-18</td>\n",
       "      <td>1.0</td>\n",
       "    </tr>\n",
       "    <tr>\n",
       "      <th>985318</th>\n",
       "      <td>T1048564</td>\n",
       "      <td>C6459278</td>\n",
       "      <td>1992-02-20</td>\n",
       "      <td>M</td>\n",
       "      <td>NASHIK</td>\n",
       "      <td>27311.42</td>\n",
       "      <td>2016-09-18</td>\n",
       "      <td>18:37:34</td>\n",
       "      <td>460.0</td>\n",
       "      <td>1</td>\n",
       "      <td>...</td>\n",
       "      <td>0.0</td>\n",
       "      <td>0.0</td>\n",
       "      <td>1.0</td>\n",
       "      <td>0.0</td>\n",
       "      <td>1.684277</td>\n",
       "      <td>0.0</td>\n",
       "      <td>0.0</td>\n",
       "      <td>82.0</td>\n",
       "      <td>2016-09-18</td>\n",
       "      <td>0.0</td>\n",
       "    </tr>\n",
       "    <tr>\n",
       "      <th>985319</th>\n",
       "      <td>T1048565</td>\n",
       "      <td>C6412354</td>\n",
       "      <td>1989-05-18</td>\n",
       "      <td>M</td>\n",
       "      <td>HYDERABAD</td>\n",
       "      <td>221757.06</td>\n",
       "      <td>2016-09-18</td>\n",
       "      <td>18:33:13</td>\n",
       "      <td>770.0</td>\n",
       "      <td>2</td>\n",
       "      <td>...</td>\n",
       "      <td>0.0</td>\n",
       "      <td>0.0</td>\n",
       "      <td>1.0</td>\n",
       "      <td>0.0</td>\n",
       "      <td>0.347227</td>\n",
       "      <td>0.0</td>\n",
       "      <td>0.0</td>\n",
       "      <td>82.0</td>\n",
       "      <td>2016-09-15</td>\n",
       "      <td>0.0</td>\n",
       "    </tr>\n",
       "    <tr>\n",
       "      <th>985320</th>\n",
       "      <td>T1048566</td>\n",
       "      <td>C6420483</td>\n",
       "      <td>1978-08-30</td>\n",
       "      <td>M</td>\n",
       "      <td>VISAKHAPATNAM</td>\n",
       "      <td>10117.87</td>\n",
       "      <td>2016-09-18</td>\n",
       "      <td>18:47:06</td>\n",
       "      <td>1000.0</td>\n",
       "      <td>1</td>\n",
       "      <td>...</td>\n",
       "      <td>0.0</td>\n",
       "      <td>0.0</td>\n",
       "      <td>1.0</td>\n",
       "      <td>0.0</td>\n",
       "      <td>9.883503</td>\n",
       "      <td>0.0</td>\n",
       "      <td>0.0</td>\n",
       "      <td>82.0</td>\n",
       "      <td>2016-09-18</td>\n",
       "      <td>0.0</td>\n",
       "    </tr>\n",
       "    <tr>\n",
       "      <th>985321</th>\n",
       "      <td>T1048567</td>\n",
       "      <td>C8337524</td>\n",
       "      <td>1984-05-03</td>\n",
       "      <td>M</td>\n",
       "      <td>PUNE</td>\n",
       "      <td>75734.42</td>\n",
       "      <td>2016-09-18</td>\n",
       "      <td>18:12:22</td>\n",
       "      <td>1166.0</td>\n",
       "      <td>2</td>\n",
       "      <td>...</td>\n",
       "      <td>0.0</td>\n",
       "      <td>0.0</td>\n",
       "      <td>2.0</td>\n",
       "      <td>0.0</td>\n",
       "      <td>1.539591</td>\n",
       "      <td>0.0</td>\n",
       "      <td>0.0</td>\n",
       "      <td>82.0</td>\n",
       "      <td>2016-07-09</td>\n",
       "      <td>0.0</td>\n",
       "    </tr>\n",
       "  </tbody>\n",
       "</table>\n",
       "<p>985322 rows × 35 columns</p>\n",
       "</div>"
      ],
      "text/plain": [
       "       TransactionID CustomerID CustomerDOB CustGender   CustLocation  \\\n",
       "0                 T1   C5841053  1994-10-01          F     JAMSHEDPUR   \n",
       "1                 T2   C2142763  1957-04-04          M        JHAJJAR   \n",
       "2                 T3   C4417068  1996-11-26          F         MUMBAI   \n",
       "3                 T4   C5342380  1973-09-14          F         MUMBAI   \n",
       "4                 T5   C9031234  1988-03-24          F    NAVI MUMBAI   \n",
       "...              ...        ...         ...        ...            ...   \n",
       "985317      T1048563   C8020229  1990-08-04          M      NEW DELHI   \n",
       "985318      T1048564   C6459278  1992-02-20          M         NASHIK   \n",
       "985319      T1048565   C6412354  1989-05-18          M      HYDERABAD   \n",
       "985320      T1048566   C6420483  1978-08-30          M  VISAKHAPATNAM   \n",
       "985321      T1048567   C8337524  1984-05-03          M           PUNE   \n",
       "\n",
       "        CustAccountBalance TransactionDate TransactionTime  \\\n",
       "0                 17819.05      2016-02-08        14:32:07   \n",
       "1                  2270.69      2016-02-08        14:18:58   \n",
       "2                 17874.44      2016-02-08        14:27:12   \n",
       "3                866503.21      2016-02-08        14:27:14   \n",
       "4                  6714.43      2016-02-08        18:11:56   \n",
       "...                    ...             ...             ...   \n",
       "985317             7635.19      2016-09-18        18:48:24   \n",
       "985318            27311.42      2016-09-18        18:37:34   \n",
       "985319           221757.06      2016-09-18        18:33:13   \n",
       "985320            10117.87      2016-09-18        18:47:06   \n",
       "985321            75734.42      2016-09-18        18:12:22   \n",
       "\n",
       "        TransactionAmount (INR)  NumberTransactions  ...  \\\n",
       "0                          25.0                   1  ...   \n",
       "1                       27999.0                   1  ...   \n",
       "2                         459.0                   1  ...   \n",
       "3                        2060.0                   2  ...   \n",
       "4                        1762.5                   1  ...   \n",
       "...                         ...                 ...  ...   \n",
       "985317                    799.0                   1  ...   \n",
       "985318                    460.0                   1  ...   \n",
       "985319                    770.0                   2  ...   \n",
       "985320                   1000.0                   1  ...   \n",
       "985321                   1166.0                   2  ...   \n",
       "\n",
       "        N_morningTransactions  N_afternoonTransactions  N_eveningTransactions  \\\n",
       "0                         0.0                      1.0                    0.0   \n",
       "1                         0.0                      1.0                    0.0   \n",
       "2                         0.0                      1.0                    0.0   \n",
       "3                         0.0                      1.0                    0.0   \n",
       "4                         0.0                      0.0                    1.0   \n",
       "...                       ...                      ...                    ...   \n",
       "985317                    0.0                      0.0                    1.0   \n",
       "985318                    0.0                      0.0                    1.0   \n",
       "985319                    0.0                      0.0                    1.0   \n",
       "985320                    0.0                      0.0                    1.0   \n",
       "985321                    0.0                      0.0                    2.0   \n",
       "\n",
       "        N_nigthTransactions  Amount_percentage_of_Balance (USD)  \\\n",
       "0                       0.0                            0.140299   \n",
       "1                       0.0                         1233.061316   \n",
       "2                       0.0                            2.567913   \n",
       "3                       0.0                            0.237737   \n",
       "4                       0.0                           26.249436   \n",
       "...                     ...                                 ...   \n",
       "985317                  0.0                           10.464704   \n",
       "985318                  0.0                            1.684277   \n",
       "985319                  0.0                            0.347227   \n",
       "985320                  0.0                            9.883503   \n",
       "985321                  0.0                            1.539591   \n",
       "\n",
       "       NumberNegativeTransaction NTransaction>HalfBalance  Recency  \\\n",
       "0                            0.0                      0.0    305.0   \n",
       "1                            1.0                      1.0    305.0   \n",
       "2                            0.0                      0.0    305.0   \n",
       "3                            0.0                      0.0    305.0   \n",
       "4                            0.0                      0.0    305.0   \n",
       "...                          ...                      ...      ...   \n",
       "985317                       0.0                      0.0     82.0   \n",
       "985318                       0.0                      0.0     82.0   \n",
       "985319                       0.0                      0.0     82.0   \n",
       "985320                       0.0                      0.0     82.0   \n",
       "985321                       0.0                      0.0     82.0   \n",
       "\n",
       "        DateFirstTransaction  N_trans_>one_tenth_bal  \n",
       "0                 2016-02-08                     0.0  \n",
       "1                 2016-02-08                     1.0  \n",
       "2                 2016-02-08                     0.0  \n",
       "3                 2016-02-08                     0.0  \n",
       "4                 2016-02-08                     1.0  \n",
       "...                      ...                     ...  \n",
       "985317            2016-09-18                     1.0  \n",
       "985318            2016-09-18                     0.0  \n",
       "985319            2016-09-15                     0.0  \n",
       "985320            2016-09-18                     0.0  \n",
       "985321            2016-07-09                     0.0  \n",
       "\n",
       "[985322 rows x 35 columns]"
      ]
     },
     "execution_count": 10,
     "metadata": {},
     "output_type": "execute_result"
    }
   ],
   "source": [
    "newdata"
   ]
  },
  {
   "cell_type": "markdown",
   "metadata": {},
   "source": [
    "#### MedianAmount (USD)"
   ]
  },
  {
   "cell_type": "code",
   "execution_count": 259,
   "metadata": {},
   "outputs": [],
   "source": [
    "newdata[\"MedianAmount (USD)\"] = newdata.groupby('CustomerID')[\"TransactionAmount (USD)\"].transform(\"median\") "
   ]
  },
  {
   "cell_type": "markdown",
   "metadata": {},
   "source": [
    "#### VarianceAmount "
   ]
  },
  {
   "cell_type": "code",
   "execution_count": 260,
   "metadata": {},
   "outputs": [],
   "source": [
    "newdata[\"VarianceAmount (USD)\"] = newdata.groupby('CustomerID')[\"TransactionAmount (USD)\"].transform(\"var\") \n",
    "newdata[\"VarianceAmount (USD)\"].fillna(0, inplace = True)"
   ]
  },
  {
   "cell_type": "markdown",
   "metadata": {},
   "source": [
    "#### MedianBalance (USD)"
   ]
  },
  {
   "cell_type": "code",
   "execution_count": 261,
   "metadata": {},
   "outputs": [],
   "source": [
    "newdata[\"MedianBalance (USD)\"] = newdata.groupby('CustomerID')[\"CustAccountBalance (USD)\"].transform(\"median\") "
   ]
  },
  {
   "cell_type": "markdown",
   "metadata": {},
   "source": [
    "#### VarianceBalance "
   ]
  },
  {
   "cell_type": "code",
   "execution_count": 262,
   "metadata": {},
   "outputs": [],
   "source": [
    "newdata[\"VarianceBalance\"] = newdata.groupby('CustomerID')[\"CustAccountBalance (USD)\"].transform(\"var\") \n",
    "newdata[\"VarianceBalance\"].fillna(0, inplace = True)"
   ]
  },
  {
   "cell_type": "code",
   "execution_count": 27,
   "metadata": {},
   "outputs": [
    {
     "data": {
      "text/plain": [
       "Index(['TransactionID', 'CustomerID', 'CustomerDOB', 'CustGender',\n",
       "       'CustLocation', 'CustAccountBalance', 'TransactionDate',\n",
       "       'TransactionTime', 'TransactionAmount (INR)', 'NumberTransactions',\n",
       "       'CustAccountBalance (USD)', 'N_trans_bal>100', 'AverageAmount (INR)',\n",
       "       'AverageBalance (INR)', 'Utilization', 'MostCommonGender',\n",
       "       'MostFreqLocation', 'TransactionAmount (USD)', 'AverageAmount (USD)',\n",
       "       'AverageBalance (USD)', 'MaxAmountTrans (USD)', 'MinAmountTrans (USD)',\n",
       "       'MaxBalance (USD)', 'MinBalance (USD)', 'CustomerAge',\n",
       "       'N_morningTransactions', 'N_afternoonTransactions',\n",
       "       'N_eveningTransactions', 'N_nigthTransactions',\n",
       "       'Amount_percentage_of_Balance (USD)', 'NumberNegativeTransaction',\n",
       "       'NTransaction>HalfBalance', 'Recency', 'DateFirstTransaction',\n",
       "       'N_trans_>one_tenth_bal', 'MedianAmount (USD)', 'VarianceAmount (USD)',\n",
       "       'MedianBalance (USD)', 'VarianceBalance', 'AverageRecency'],\n",
       "      dtype='object')"
      ]
     },
     "execution_count": 27,
     "metadata": {},
     "output_type": "execute_result"
    }
   ],
   "source": [
    "newdata.columns"
   ]
  },
  {
   "cell_type": "markdown",
   "metadata": {},
   "source": [
    "#### AverageRecency"
   ]
  },
  {
   "cell_type": "code",
   "execution_count": 263,
   "metadata": {},
   "outputs": [],
   "source": [
    "newdata[\"AverageRecency\"] = newdata.groupby('CustomerID')[\"Recency\"].transform(\"mean\")  "
   ]
  },
  {
   "cell_type": "markdown",
   "metadata": {},
   "source": [
    "#### AverageCustomerAge"
   ]
  },
  {
   "cell_type": "code",
   "execution_count": 264,
   "metadata": {},
   "outputs": [],
   "source": [
    "newdata[\"AverageCustomerAge\"] = newdata.groupby('CustomerID')[\"CustomerAge\"].transform(\"mean\")  "
   ]
  },
  {
   "cell_type": "markdown",
   "metadata": {},
   "source": [
    "#### MedianCustomerAge"
   ]
  },
  {
   "cell_type": "code",
   "execution_count": 265,
   "metadata": {},
   "outputs": [],
   "source": [
    "newdata[\"MedianCustomerAge\"] = newdata.groupby('CustomerID')[\"CustomerAge\"].transform(\"median\")  "
   ]
  },
  {
   "cell_type": "markdown",
   "metadata": {},
   "source": [
    "#### VarianceCustomerAge"
   ]
  },
  {
   "cell_type": "code",
   "execution_count": 266,
   "metadata": {},
   "outputs": [],
   "source": [
    "newdata[\"VarianceCustomerAge\"] = newdata.groupby('CustomerID')[\"CustomerAge\"].transform(\"var\")  \n",
    "newdata[\"VarianceCustomerAge\"].fillna(0, inplace = True)"
   ]
  },
  {
   "cell_type": "code",
   "execution_count": 141,
   "metadata": {},
   "outputs": [
    {
     "data": {
      "text/plain": [
       "<bound method Series.unique of 0         C5841053\n",
       "1         C2142763\n",
       "2         C4417068\n",
       "3         C5342380\n",
       "4         C9031234\n",
       "            ...   \n",
       "985317    C8020229\n",
       "985318    C6459278\n",
       "985319    C6412354\n",
       "985320    C6420483\n",
       "985321    C8337524\n",
       "Name: CustomerID, Length: 985322, dtype: object>"
      ]
     },
     "execution_count": 141,
     "metadata": {},
     "output_type": "execute_result"
    }
   ],
   "source": [
    "newdata.CustomerID.unique"
   ]
  },
  {
   "cell_type": "code",
   "execution_count": 267,
   "metadata": {},
   "outputs": [
    {
     "data": {
      "text/html": [
       "<div>\n",
       "<style scoped>\n",
       "    .dataframe tbody tr th:only-of-type {\n",
       "        vertical-align: middle;\n",
       "    }\n",
       "\n",
       "    .dataframe tbody tr th {\n",
       "        vertical-align: top;\n",
       "    }\n",
       "\n",
       "    .dataframe thead th {\n",
       "        text-align: right;\n",
       "    }\n",
       "</style>\n",
       "<table border=\"1\" class=\"dataframe\">\n",
       "  <thead>\n",
       "    <tr style=\"text-align: right;\">\n",
       "      <th></th>\n",
       "      <th>TransactionID</th>\n",
       "      <th>CustomerID</th>\n",
       "      <th>CustomerDOB</th>\n",
       "      <th>CustGender</th>\n",
       "      <th>CustLocation</th>\n",
       "      <th>CustAccountBalance</th>\n",
       "      <th>TransactionDate</th>\n",
       "      <th>TransactionTime</th>\n",
       "      <th>TransactionAmount (INR)</th>\n",
       "      <th>NumberTransactions</th>\n",
       "      <th>...</th>\n",
       "      <th>N_trans_&gt;one_tenth_bal</th>\n",
       "      <th>DateFirstTransaction</th>\n",
       "      <th>MedianAmount (USD)</th>\n",
       "      <th>VarianceAmount (USD)</th>\n",
       "      <th>MedianBalance (USD)</th>\n",
       "      <th>VarianceBalance</th>\n",
       "      <th>AverageRecency</th>\n",
       "      <th>AverageCustomerAge</th>\n",
       "      <th>MedianCustomerAge</th>\n",
       "      <th>VarianceCustomerAge</th>\n",
       "    </tr>\n",
       "  </thead>\n",
       "  <tbody>\n",
       "    <tr>\n",
       "      <th>0</th>\n",
       "      <td>T1</td>\n",
       "      <td>C5841053</td>\n",
       "      <td>1994-10-01</td>\n",
       "      <td>F</td>\n",
       "      <td>JAMSHEDPUR</td>\n",
       "      <td>17819.05</td>\n",
       "      <td>2016-02-08</td>\n",
       "      <td>14:32:07</td>\n",
       "      <td>25.0</td>\n",
       "      <td>1</td>\n",
       "      <td>...</td>\n",
       "      <td>0.0</td>\n",
       "      <td>2016-02-08</td>\n",
       "      <td>0.306105</td>\n",
       "      <td>0.000000</td>\n",
       "      <td>218.180030</td>\n",
       "      <td>0.000000e+00</td>\n",
       "      <td>305.0</td>\n",
       "      <td>28.0</td>\n",
       "      <td>28.0</td>\n",
       "      <td>0.0</td>\n",
       "    </tr>\n",
       "    <tr>\n",
       "      <th>1</th>\n",
       "      <td>T2</td>\n",
       "      <td>C2142763</td>\n",
       "      <td>1957-04-04</td>\n",
       "      <td>M</td>\n",
       "      <td>JHAJJAR</td>\n",
       "      <td>2270.69</td>\n",
       "      <td>2016-02-08</td>\n",
       "      <td>14:18:58</td>\n",
       "      <td>27999.0</td>\n",
       "      <td>1</td>\n",
       "      <td>...</td>\n",
       "      <td>1.0</td>\n",
       "      <td>2016-02-08</td>\n",
       "      <td>342.825384</td>\n",
       "      <td>0.000000</td>\n",
       "      <td>27.802785</td>\n",
       "      <td>0.000000e+00</td>\n",
       "      <td>305.0</td>\n",
       "      <td>66.0</td>\n",
       "      <td>66.0</td>\n",
       "      <td>0.0</td>\n",
       "    </tr>\n",
       "    <tr>\n",
       "      <th>2</th>\n",
       "      <td>T3</td>\n",
       "      <td>C4417068</td>\n",
       "      <td>1996-11-26</td>\n",
       "      <td>F</td>\n",
       "      <td>MUMBAI</td>\n",
       "      <td>17874.44</td>\n",
       "      <td>2016-02-08</td>\n",
       "      <td>14:27:12</td>\n",
       "      <td>459.0</td>\n",
       "      <td>1</td>\n",
       "      <td>...</td>\n",
       "      <td>0.0</td>\n",
       "      <td>2016-02-08</td>\n",
       "      <td>5.620088</td>\n",
       "      <td>0.000000</td>\n",
       "      <td>218.858236</td>\n",
       "      <td>0.000000e+00</td>\n",
       "      <td>305.0</td>\n",
       "      <td>26.0</td>\n",
       "      <td>26.0</td>\n",
       "      <td>0.0</td>\n",
       "    </tr>\n",
       "    <tr>\n",
       "      <th>3</th>\n",
       "      <td>T4</td>\n",
       "      <td>C5342380</td>\n",
       "      <td>1973-09-14</td>\n",
       "      <td>F</td>\n",
       "      <td>MUMBAI</td>\n",
       "      <td>866503.21</td>\n",
       "      <td>2016-02-08</td>\n",
       "      <td>14:27:14</td>\n",
       "      <td>2060.0</td>\n",
       "      <td>2</td>\n",
       "      <td>...</td>\n",
       "      <td>0.0</td>\n",
       "      <td>2016-02-08</td>\n",
       "      <td>17.989180</td>\n",
       "      <td>104.657865</td>\n",
       "      <td>5324.384622</td>\n",
       "      <td>5.586784e+07</td>\n",
       "      <td>211.5</td>\n",
       "      <td>46.5</td>\n",
       "      <td>46.5</td>\n",
       "      <td>12.5</td>\n",
       "    </tr>\n",
       "    <tr>\n",
       "      <th>4</th>\n",
       "      <td>T5</td>\n",
       "      <td>C9031234</td>\n",
       "      <td>1988-03-24</td>\n",
       "      <td>F</td>\n",
       "      <td>NAVI MUMBAI</td>\n",
       "      <td>6714.43</td>\n",
       "      <td>2016-02-08</td>\n",
       "      <td>18:11:56</td>\n",
       "      <td>1762.5</td>\n",
       "      <td>1</td>\n",
       "      <td>...</td>\n",
       "      <td>1.0</td>\n",
       "      <td>2016-02-08</td>\n",
       "      <td>21.580404</td>\n",
       "      <td>0.000000</td>\n",
       "      <td>82.212831</td>\n",
       "      <td>0.000000e+00</td>\n",
       "      <td>305.0</td>\n",
       "      <td>35.0</td>\n",
       "      <td>35.0</td>\n",
       "      <td>0.0</td>\n",
       "    </tr>\n",
       "    <tr>\n",
       "      <th>...</th>\n",
       "      <td>...</td>\n",
       "      <td>...</td>\n",
       "      <td>...</td>\n",
       "      <td>...</td>\n",
       "      <td>...</td>\n",
       "      <td>...</td>\n",
       "      <td>...</td>\n",
       "      <td>...</td>\n",
       "      <td>...</td>\n",
       "      <td>...</td>\n",
       "      <td>...</td>\n",
       "      <td>...</td>\n",
       "      <td>...</td>\n",
       "      <td>...</td>\n",
       "      <td>...</td>\n",
       "      <td>...</td>\n",
       "      <td>...</td>\n",
       "      <td>...</td>\n",
       "      <td>...</td>\n",
       "      <td>...</td>\n",
       "      <td>...</td>\n",
       "    </tr>\n",
       "    <tr>\n",
       "      <th>985317</th>\n",
       "      <td>T1048563</td>\n",
       "      <td>C8020229</td>\n",
       "      <td>1990-08-04</td>\n",
       "      <td>M</td>\n",
       "      <td>NEW DELHI</td>\n",
       "      <td>7635.19</td>\n",
       "      <td>2016-09-18</td>\n",
       "      <td>18:48:24</td>\n",
       "      <td>799.0</td>\n",
       "      <td>1</td>\n",
       "      <td>...</td>\n",
       "      <td>1.0</td>\n",
       "      <td>2016-09-18</td>\n",
       "      <td>9.783117</td>\n",
       "      <td>0.000000</td>\n",
       "      <td>93.486801</td>\n",
       "      <td>0.000000e+00</td>\n",
       "      <td>82.0</td>\n",
       "      <td>32.0</td>\n",
       "      <td>32.0</td>\n",
       "      <td>0.0</td>\n",
       "    </tr>\n",
       "    <tr>\n",
       "      <th>985318</th>\n",
       "      <td>T1048564</td>\n",
       "      <td>C6459278</td>\n",
       "      <td>1992-02-20</td>\n",
       "      <td>M</td>\n",
       "      <td>NASHIK</td>\n",
       "      <td>27311.42</td>\n",
       "      <td>2016-09-18</td>\n",
       "      <td>18:37:34</td>\n",
       "      <td>460.0</td>\n",
       "      <td>1</td>\n",
       "      <td>...</td>\n",
       "      <td>0.0</td>\n",
       "      <td>2016-09-18</td>\n",
       "      <td>5.632332</td>\n",
       "      <td>0.000000</td>\n",
       "      <td>334.406516</td>\n",
       "      <td>0.000000e+00</td>\n",
       "      <td>82.0</td>\n",
       "      <td>31.0</td>\n",
       "      <td>31.0</td>\n",
       "      <td>0.0</td>\n",
       "    </tr>\n",
       "    <tr>\n",
       "      <th>985319</th>\n",
       "      <td>T1048565</td>\n",
       "      <td>C6412354</td>\n",
       "      <td>1989-05-18</td>\n",
       "      <td>M</td>\n",
       "      <td>HYDERABAD</td>\n",
       "      <td>221757.06</td>\n",
       "      <td>2016-09-18</td>\n",
       "      <td>18:33:13</td>\n",
       "      <td>770.0</td>\n",
       "      <td>2</td>\n",
       "      <td>...</td>\n",
       "      <td>0.0</td>\n",
       "      <td>2016-09-15</td>\n",
       "      <td>5.987414</td>\n",
       "      <td>23.675739</td>\n",
       "      <td>1380.158133</td>\n",
       "      <td>3.564877e+06</td>\n",
       "      <td>83.5</td>\n",
       "      <td>43.5</td>\n",
       "      <td>43.5</td>\n",
       "      <td>180.5</td>\n",
       "    </tr>\n",
       "    <tr>\n",
       "      <th>985320</th>\n",
       "      <td>T1048566</td>\n",
       "      <td>C6420483</td>\n",
       "      <td>1978-08-30</td>\n",
       "      <td>M</td>\n",
       "      <td>VISAKHAPATNAM</td>\n",
       "      <td>10117.87</td>\n",
       "      <td>2016-09-18</td>\n",
       "      <td>18:47:06</td>\n",
       "      <td>1000.0</td>\n",
       "      <td>1</td>\n",
       "      <td>...</td>\n",
       "      <td>0.0</td>\n",
       "      <td>2016-09-18</td>\n",
       "      <td>12.244201</td>\n",
       "      <td>0.000000</td>\n",
       "      <td>123.885234</td>\n",
       "      <td>0.000000e+00</td>\n",
       "      <td>82.0</td>\n",
       "      <td>44.0</td>\n",
       "      <td>44.0</td>\n",
       "      <td>0.0</td>\n",
       "    </tr>\n",
       "    <tr>\n",
       "      <th>985321</th>\n",
       "      <td>T1048567</td>\n",
       "      <td>C8337524</td>\n",
       "      <td>1984-05-03</td>\n",
       "      <td>M</td>\n",
       "      <td>PUNE</td>\n",
       "      <td>75734.42</td>\n",
       "      <td>2016-09-18</td>\n",
       "      <td>18:12:22</td>\n",
       "      <td>1166.0</td>\n",
       "      <td>2</td>\n",
       "      <td>...</td>\n",
       "      <td>0.0</td>\n",
       "      <td>2016-07-09</td>\n",
       "      <td>9.036220</td>\n",
       "      <td>54.926058</td>\n",
       "      <td>583.689939</td>\n",
       "      <td>2.361460e+05</td>\n",
       "      <td>117.5</td>\n",
       "      <td>35.0</td>\n",
       "      <td>35.0</td>\n",
       "      <td>32.0</td>\n",
       "    </tr>\n",
       "  </tbody>\n",
       "</table>\n",
       "<p>985322 rows × 44 columns</p>\n",
       "</div>"
      ],
      "text/plain": [
       "       TransactionID CustomerID CustomerDOB CustGender   CustLocation  \\\n",
       "0                 T1   C5841053  1994-10-01          F     JAMSHEDPUR   \n",
       "1                 T2   C2142763  1957-04-04          M        JHAJJAR   \n",
       "2                 T3   C4417068  1996-11-26          F         MUMBAI   \n",
       "3                 T4   C5342380  1973-09-14          F         MUMBAI   \n",
       "4                 T5   C9031234  1988-03-24          F    NAVI MUMBAI   \n",
       "...              ...        ...         ...        ...            ...   \n",
       "985317      T1048563   C8020229  1990-08-04          M      NEW DELHI   \n",
       "985318      T1048564   C6459278  1992-02-20          M         NASHIK   \n",
       "985319      T1048565   C6412354  1989-05-18          M      HYDERABAD   \n",
       "985320      T1048566   C6420483  1978-08-30          M  VISAKHAPATNAM   \n",
       "985321      T1048567   C8337524  1984-05-03          M           PUNE   \n",
       "\n",
       "        CustAccountBalance TransactionDate TransactionTime  \\\n",
       "0                 17819.05      2016-02-08        14:32:07   \n",
       "1                  2270.69      2016-02-08        14:18:58   \n",
       "2                 17874.44      2016-02-08        14:27:12   \n",
       "3                866503.21      2016-02-08        14:27:14   \n",
       "4                  6714.43      2016-02-08        18:11:56   \n",
       "...                    ...             ...             ...   \n",
       "985317             7635.19      2016-09-18        18:48:24   \n",
       "985318            27311.42      2016-09-18        18:37:34   \n",
       "985319           221757.06      2016-09-18        18:33:13   \n",
       "985320            10117.87      2016-09-18        18:47:06   \n",
       "985321            75734.42      2016-09-18        18:12:22   \n",
       "\n",
       "        TransactionAmount (INR)  NumberTransactions  ...  \\\n",
       "0                          25.0                   1  ...   \n",
       "1                       27999.0                   1  ...   \n",
       "2                         459.0                   1  ...   \n",
       "3                        2060.0                   2  ...   \n",
       "4                        1762.5                   1  ...   \n",
       "...                         ...                 ...  ...   \n",
       "985317                    799.0                   1  ...   \n",
       "985318                    460.0                   1  ...   \n",
       "985319                    770.0                   2  ...   \n",
       "985320                   1000.0                   1  ...   \n",
       "985321                   1166.0                   2  ...   \n",
       "\n",
       "        N_trans_>one_tenth_bal  DateFirstTransaction  MedianAmount (USD)  \\\n",
       "0                          0.0            2016-02-08            0.306105   \n",
       "1                          1.0            2016-02-08          342.825384   \n",
       "2                          0.0            2016-02-08            5.620088   \n",
       "3                          0.0            2016-02-08           17.989180   \n",
       "4                          1.0            2016-02-08           21.580404   \n",
       "...                        ...                   ...                 ...   \n",
       "985317                     1.0            2016-09-18            9.783117   \n",
       "985318                     0.0            2016-09-18            5.632332   \n",
       "985319                     0.0            2016-09-15            5.987414   \n",
       "985320                     0.0            2016-09-18           12.244201   \n",
       "985321                     0.0            2016-07-09            9.036220   \n",
       "\n",
       "        VarianceAmount (USD)  MedianBalance (USD) VarianceBalance  \\\n",
       "0                   0.000000           218.180030    0.000000e+00   \n",
       "1                   0.000000            27.802785    0.000000e+00   \n",
       "2                   0.000000           218.858236    0.000000e+00   \n",
       "3                 104.657865          5324.384622    5.586784e+07   \n",
       "4                   0.000000            82.212831    0.000000e+00   \n",
       "...                      ...                  ...             ...   \n",
       "985317              0.000000            93.486801    0.000000e+00   \n",
       "985318              0.000000           334.406516    0.000000e+00   \n",
       "985319             23.675739          1380.158133    3.564877e+06   \n",
       "985320              0.000000           123.885234    0.000000e+00   \n",
       "985321             54.926058           583.689939    2.361460e+05   \n",
       "\n",
       "       AverageRecency  AverageCustomerAge  MedianCustomerAge  \\\n",
       "0               305.0                28.0               28.0   \n",
       "1               305.0                66.0               66.0   \n",
       "2               305.0                26.0               26.0   \n",
       "3               211.5                46.5               46.5   \n",
       "4               305.0                35.0               35.0   \n",
       "...               ...                 ...                ...   \n",
       "985317           82.0                32.0               32.0   \n",
       "985318           82.0                31.0               31.0   \n",
       "985319           83.5                43.5               43.5   \n",
       "985320           82.0                44.0               44.0   \n",
       "985321          117.5                35.0               35.0   \n",
       "\n",
       "        VarianceCustomerAge  \n",
       "0                       0.0  \n",
       "1                       0.0  \n",
       "2                       0.0  \n",
       "3                      12.5  \n",
       "4                       0.0  \n",
       "...                     ...  \n",
       "985317                  0.0  \n",
       "985318                  0.0  \n",
       "985319                180.5  \n",
       "985320                  0.0  \n",
       "985321                 32.0  \n",
       "\n",
       "[985322 rows x 44 columns]"
      ]
     },
     "execution_count": 267,
     "metadata": {},
     "output_type": "execute_result"
    }
   ],
   "source": [
    "newdata"
   ]
  },
  {
   "cell_type": "markdown",
   "metadata": {},
   "source": [
    "We reached a number of 30 features (23 suggested by us + 7 recommended)"
   ]
  },
  {
   "cell_type": "code",
   "execution_count": 273,
   "metadata": {},
   "outputs": [],
   "source": [
    "newdata2 = newdata.drop(['CustAccountBalance (USD)', 'TransactionAmount (USD)', 'CustomerAge', 'Amount_percentage_of_Balance (USD)', 'Recency'], axis = 1)"
   ]
  },
  {
   "cell_type": "code",
   "execution_count": 282,
   "metadata": {},
   "outputs": [
    {
     "data": {
      "text/plain": [
       "Index(['TransactionID', 'CustomerID', 'CustomerDOB', 'CustGender',\n",
       "       'CustLocation', 'CustAccountBalance', 'TransactionDate',\n",
       "       'TransactionTime', 'TransactionAmount (INR)', 'NumberTransactions',\n",
       "       'N_trans_bal>100', 'AverageAmount (INR)', 'AverageBalance (INR)',\n",
       "       'Utilization', 'MostCommonGender', 'MostFreqLocation',\n",
       "       'AverageAmount (USD)', 'AverageBalance (USD)', 'MaxAmountTrans (USD)',\n",
       "       'MinAmountTrans (USD)', 'MaxBalance (USD)', 'MinBalance (USD)',\n",
       "       'N_morningTransactions', 'N_afternoonTransactions',\n",
       "       'N_eveningTransactions', 'N_nigthTransactions',\n",
       "       'AverageAmount_percentage_of_Balance (USD)',\n",
       "       'NumberNegativeTransaction', 'NTransaction>HalfBalance',\n",
       "       'N_trans_>one_tenth_bal', 'DateFirstTransaction', 'MedianAmount (USD)',\n",
       "       'VarianceAmount (USD)', 'MedianBalance (USD)', 'VarianceBalance',\n",
       "       'AverageRecency', 'AverageCustomerAge', 'MedianCustomerAge',\n",
       "       'VarianceCustomerAge'],\n",
       "      dtype='object')"
      ]
     },
     "execution_count": 282,
     "metadata": {},
     "output_type": "execute_result"
    }
   ],
   "source": [
    "newdata2.columns"
   ]
  },
  {
   "cell_type": "code",
   "execution_count": 283,
   "metadata": {},
   "outputs": [
    {
     "name": "stdout",
     "output_type": "stream",
     "text": [
      "The total number of columns of the dataframe is: 44\n"
     ]
    }
   ],
   "source": [
    "print(\"The total number of columns of the dataframe is:\" , newdata.shape[1])"
   ]
  },
  {
   "cell_type": "markdown",
   "metadata": {},
   "source": [
    "Now we want to create the new dataframe composed only by the features created using the goupby on CustomerID"
   ]
  },
  {
   "cell_type": "code",
   "execution_count": 25,
   "metadata": {},
   "outputs": [],
   "source": [
    "newdata2.to_pickle('newdata_eng2.pkl')"
   ]
  },
  {
   "cell_type": "code",
   "execution_count": 2,
   "metadata": {},
   "outputs": [],
   "source": [
    "newdata2 = pd.read_pickle('newdata_eng2.pkl')"
   ]
  },
  {
   "cell_type": "code",
   "execution_count": 3,
   "metadata": {},
   "outputs": [
    {
     "data": {
      "text/html": [
       "<div>\n",
       "<style scoped>\n",
       "    .dataframe tbody tr th:only-of-type {\n",
       "        vertical-align: middle;\n",
       "    }\n",
       "\n",
       "    .dataframe tbody tr th {\n",
       "        vertical-align: top;\n",
       "    }\n",
       "\n",
       "    .dataframe thead th {\n",
       "        text-align: right;\n",
       "    }\n",
       "</style>\n",
       "<table border=\"1\" class=\"dataframe\">\n",
       "  <thead>\n",
       "    <tr style=\"text-align: right;\">\n",
       "      <th></th>\n",
       "      <th>TransactionID</th>\n",
       "      <th>CustomerID</th>\n",
       "      <th>CustomerDOB</th>\n",
       "      <th>CustGender</th>\n",
       "      <th>CustLocation</th>\n",
       "      <th>CustAccountBalance</th>\n",
       "      <th>TransactionDate</th>\n",
       "      <th>TransactionTime</th>\n",
       "      <th>TransactionAmount (INR)</th>\n",
       "      <th>NumberTransactions</th>\n",
       "      <th>...</th>\n",
       "      <th>N_trans_&gt;one_tenth_bal</th>\n",
       "      <th>DateFirstTransaction</th>\n",
       "      <th>MedianAmount (USD)</th>\n",
       "      <th>VarianceAmount (USD)</th>\n",
       "      <th>MedianBalance (USD)</th>\n",
       "      <th>VarianceBalance</th>\n",
       "      <th>AverageRecency</th>\n",
       "      <th>AverageCustomerAge</th>\n",
       "      <th>MedianCustomerAge</th>\n",
       "      <th>VarianceCustomerAge</th>\n",
       "    </tr>\n",
       "  </thead>\n",
       "  <tbody>\n",
       "    <tr>\n",
       "      <th>0</th>\n",
       "      <td>T1</td>\n",
       "      <td>C5841053</td>\n",
       "      <td>1994-10-01</td>\n",
       "      <td>F</td>\n",
       "      <td>JAMSHEDPUR</td>\n",
       "      <td>17819.05</td>\n",
       "      <td>2016-02-08</td>\n",
       "      <td>14:32:07</td>\n",
       "      <td>25.0</td>\n",
       "      <td>1</td>\n",
       "      <td>...</td>\n",
       "      <td>0.0</td>\n",
       "      <td>2016-02-08</td>\n",
       "      <td>0.306105</td>\n",
       "      <td>0.000000</td>\n",
       "      <td>218.180030</td>\n",
       "      <td>0.000000e+00</td>\n",
       "      <td>305.0</td>\n",
       "      <td>28.0</td>\n",
       "      <td>28.0</td>\n",
       "      <td>0.0</td>\n",
       "    </tr>\n",
       "    <tr>\n",
       "      <th>1</th>\n",
       "      <td>T2</td>\n",
       "      <td>C2142763</td>\n",
       "      <td>1957-04-04</td>\n",
       "      <td>M</td>\n",
       "      <td>JHAJJAR</td>\n",
       "      <td>2270.69</td>\n",
       "      <td>2016-02-08</td>\n",
       "      <td>14:18:58</td>\n",
       "      <td>27999.0</td>\n",
       "      <td>1</td>\n",
       "      <td>...</td>\n",
       "      <td>1.0</td>\n",
       "      <td>2016-02-08</td>\n",
       "      <td>342.825384</td>\n",
       "      <td>0.000000</td>\n",
       "      <td>27.802785</td>\n",
       "      <td>0.000000e+00</td>\n",
       "      <td>305.0</td>\n",
       "      <td>66.0</td>\n",
       "      <td>66.0</td>\n",
       "      <td>0.0</td>\n",
       "    </tr>\n",
       "    <tr>\n",
       "      <th>2</th>\n",
       "      <td>T3</td>\n",
       "      <td>C4417068</td>\n",
       "      <td>1996-11-26</td>\n",
       "      <td>F</td>\n",
       "      <td>MUMBAI</td>\n",
       "      <td>17874.44</td>\n",
       "      <td>2016-02-08</td>\n",
       "      <td>14:27:12</td>\n",
       "      <td>459.0</td>\n",
       "      <td>1</td>\n",
       "      <td>...</td>\n",
       "      <td>0.0</td>\n",
       "      <td>2016-02-08</td>\n",
       "      <td>5.620088</td>\n",
       "      <td>0.000000</td>\n",
       "      <td>218.858236</td>\n",
       "      <td>0.000000e+00</td>\n",
       "      <td>305.0</td>\n",
       "      <td>26.0</td>\n",
       "      <td>26.0</td>\n",
       "      <td>0.0</td>\n",
       "    </tr>\n",
       "    <tr>\n",
       "      <th>3</th>\n",
       "      <td>T4</td>\n",
       "      <td>C5342380</td>\n",
       "      <td>1973-09-14</td>\n",
       "      <td>F</td>\n",
       "      <td>MUMBAI</td>\n",
       "      <td>866503.21</td>\n",
       "      <td>2016-02-08</td>\n",
       "      <td>14:27:14</td>\n",
       "      <td>2060.0</td>\n",
       "      <td>2</td>\n",
       "      <td>...</td>\n",
       "      <td>0.0</td>\n",
       "      <td>2016-02-08</td>\n",
       "      <td>17.989180</td>\n",
       "      <td>104.657865</td>\n",
       "      <td>5324.384622</td>\n",
       "      <td>5.586784e+07</td>\n",
       "      <td>211.5</td>\n",
       "      <td>46.5</td>\n",
       "      <td>46.5</td>\n",
       "      <td>12.5</td>\n",
       "    </tr>\n",
       "    <tr>\n",
       "      <th>4</th>\n",
       "      <td>T5</td>\n",
       "      <td>C9031234</td>\n",
       "      <td>1988-03-24</td>\n",
       "      <td>F</td>\n",
       "      <td>NAVI MUMBAI</td>\n",
       "      <td>6714.43</td>\n",
       "      <td>2016-02-08</td>\n",
       "      <td>18:11:56</td>\n",
       "      <td>1762.5</td>\n",
       "      <td>1</td>\n",
       "      <td>...</td>\n",
       "      <td>1.0</td>\n",
       "      <td>2016-02-08</td>\n",
       "      <td>21.580404</td>\n",
       "      <td>0.000000</td>\n",
       "      <td>82.212831</td>\n",
       "      <td>0.000000e+00</td>\n",
       "      <td>305.0</td>\n",
       "      <td>35.0</td>\n",
       "      <td>35.0</td>\n",
       "      <td>0.0</td>\n",
       "    </tr>\n",
       "    <tr>\n",
       "      <th>...</th>\n",
       "      <td>...</td>\n",
       "      <td>...</td>\n",
       "      <td>...</td>\n",
       "      <td>...</td>\n",
       "      <td>...</td>\n",
       "      <td>...</td>\n",
       "      <td>...</td>\n",
       "      <td>...</td>\n",
       "      <td>...</td>\n",
       "      <td>...</td>\n",
       "      <td>...</td>\n",
       "      <td>...</td>\n",
       "      <td>...</td>\n",
       "      <td>...</td>\n",
       "      <td>...</td>\n",
       "      <td>...</td>\n",
       "      <td>...</td>\n",
       "      <td>...</td>\n",
       "      <td>...</td>\n",
       "      <td>...</td>\n",
       "      <td>...</td>\n",
       "    </tr>\n",
       "    <tr>\n",
       "      <th>985317</th>\n",
       "      <td>T1048563</td>\n",
       "      <td>C8020229</td>\n",
       "      <td>1990-08-04</td>\n",
       "      <td>M</td>\n",
       "      <td>NEW DELHI</td>\n",
       "      <td>7635.19</td>\n",
       "      <td>2016-09-18</td>\n",
       "      <td>18:48:24</td>\n",
       "      <td>799.0</td>\n",
       "      <td>1</td>\n",
       "      <td>...</td>\n",
       "      <td>1.0</td>\n",
       "      <td>2016-09-18</td>\n",
       "      <td>9.783117</td>\n",
       "      <td>0.000000</td>\n",
       "      <td>93.486801</td>\n",
       "      <td>0.000000e+00</td>\n",
       "      <td>82.0</td>\n",
       "      <td>32.0</td>\n",
       "      <td>32.0</td>\n",
       "      <td>0.0</td>\n",
       "    </tr>\n",
       "    <tr>\n",
       "      <th>985318</th>\n",
       "      <td>T1048564</td>\n",
       "      <td>C6459278</td>\n",
       "      <td>1992-02-20</td>\n",
       "      <td>M</td>\n",
       "      <td>NASHIK</td>\n",
       "      <td>27311.42</td>\n",
       "      <td>2016-09-18</td>\n",
       "      <td>18:37:34</td>\n",
       "      <td>460.0</td>\n",
       "      <td>1</td>\n",
       "      <td>...</td>\n",
       "      <td>0.0</td>\n",
       "      <td>2016-09-18</td>\n",
       "      <td>5.632332</td>\n",
       "      <td>0.000000</td>\n",
       "      <td>334.406516</td>\n",
       "      <td>0.000000e+00</td>\n",
       "      <td>82.0</td>\n",
       "      <td>31.0</td>\n",
       "      <td>31.0</td>\n",
       "      <td>0.0</td>\n",
       "    </tr>\n",
       "    <tr>\n",
       "      <th>985319</th>\n",
       "      <td>T1048565</td>\n",
       "      <td>C6412354</td>\n",
       "      <td>1989-05-18</td>\n",
       "      <td>M</td>\n",
       "      <td>HYDERABAD</td>\n",
       "      <td>221757.06</td>\n",
       "      <td>2016-09-18</td>\n",
       "      <td>18:33:13</td>\n",
       "      <td>770.0</td>\n",
       "      <td>2</td>\n",
       "      <td>...</td>\n",
       "      <td>0.0</td>\n",
       "      <td>2016-09-15</td>\n",
       "      <td>5.987414</td>\n",
       "      <td>23.675739</td>\n",
       "      <td>1380.158133</td>\n",
       "      <td>3.564877e+06</td>\n",
       "      <td>83.5</td>\n",
       "      <td>43.5</td>\n",
       "      <td>43.5</td>\n",
       "      <td>180.5</td>\n",
       "    </tr>\n",
       "    <tr>\n",
       "      <th>985320</th>\n",
       "      <td>T1048566</td>\n",
       "      <td>C6420483</td>\n",
       "      <td>1978-08-30</td>\n",
       "      <td>M</td>\n",
       "      <td>VISAKHAPATNAM</td>\n",
       "      <td>10117.87</td>\n",
       "      <td>2016-09-18</td>\n",
       "      <td>18:47:06</td>\n",
       "      <td>1000.0</td>\n",
       "      <td>1</td>\n",
       "      <td>...</td>\n",
       "      <td>0.0</td>\n",
       "      <td>2016-09-18</td>\n",
       "      <td>12.244201</td>\n",
       "      <td>0.000000</td>\n",
       "      <td>123.885234</td>\n",
       "      <td>0.000000e+00</td>\n",
       "      <td>82.0</td>\n",
       "      <td>44.0</td>\n",
       "      <td>44.0</td>\n",
       "      <td>0.0</td>\n",
       "    </tr>\n",
       "    <tr>\n",
       "      <th>985321</th>\n",
       "      <td>T1048567</td>\n",
       "      <td>C8337524</td>\n",
       "      <td>1984-05-03</td>\n",
       "      <td>M</td>\n",
       "      <td>PUNE</td>\n",
       "      <td>75734.42</td>\n",
       "      <td>2016-09-18</td>\n",
       "      <td>18:12:22</td>\n",
       "      <td>1166.0</td>\n",
       "      <td>2</td>\n",
       "      <td>...</td>\n",
       "      <td>0.0</td>\n",
       "      <td>2016-07-09</td>\n",
       "      <td>9.036220</td>\n",
       "      <td>54.926058</td>\n",
       "      <td>583.689939</td>\n",
       "      <td>2.361460e+05</td>\n",
       "      <td>117.5</td>\n",
       "      <td>35.0</td>\n",
       "      <td>35.0</td>\n",
       "      <td>32.0</td>\n",
       "    </tr>\n",
       "  </tbody>\n",
       "</table>\n",
       "<p>985322 rows × 38 columns</p>\n",
       "</div>"
      ],
      "text/plain": [
       "       TransactionID CustomerID CustomerDOB CustGender   CustLocation  \\\n",
       "0                 T1   C5841053  1994-10-01          F     JAMSHEDPUR   \n",
       "1                 T2   C2142763  1957-04-04          M        JHAJJAR   \n",
       "2                 T3   C4417068  1996-11-26          F         MUMBAI   \n",
       "3                 T4   C5342380  1973-09-14          F         MUMBAI   \n",
       "4                 T5   C9031234  1988-03-24          F    NAVI MUMBAI   \n",
       "...              ...        ...         ...        ...            ...   \n",
       "985317      T1048563   C8020229  1990-08-04          M      NEW DELHI   \n",
       "985318      T1048564   C6459278  1992-02-20          M         NASHIK   \n",
       "985319      T1048565   C6412354  1989-05-18          M      HYDERABAD   \n",
       "985320      T1048566   C6420483  1978-08-30          M  VISAKHAPATNAM   \n",
       "985321      T1048567   C8337524  1984-05-03          M           PUNE   \n",
       "\n",
       "        CustAccountBalance TransactionDate TransactionTime  \\\n",
       "0                 17819.05      2016-02-08        14:32:07   \n",
       "1                  2270.69      2016-02-08        14:18:58   \n",
       "2                 17874.44      2016-02-08        14:27:12   \n",
       "3                866503.21      2016-02-08        14:27:14   \n",
       "4                  6714.43      2016-02-08        18:11:56   \n",
       "...                    ...             ...             ...   \n",
       "985317             7635.19      2016-09-18        18:48:24   \n",
       "985318            27311.42      2016-09-18        18:37:34   \n",
       "985319           221757.06      2016-09-18        18:33:13   \n",
       "985320            10117.87      2016-09-18        18:47:06   \n",
       "985321            75734.42      2016-09-18        18:12:22   \n",
       "\n",
       "        TransactionAmount (INR)  NumberTransactions  ...  \\\n",
       "0                          25.0                   1  ...   \n",
       "1                       27999.0                   1  ...   \n",
       "2                         459.0                   1  ...   \n",
       "3                        2060.0                   2  ...   \n",
       "4                        1762.5                   1  ...   \n",
       "...                         ...                 ...  ...   \n",
       "985317                    799.0                   1  ...   \n",
       "985318                    460.0                   1  ...   \n",
       "985319                    770.0                   2  ...   \n",
       "985320                   1000.0                   1  ...   \n",
       "985321                   1166.0                   2  ...   \n",
       "\n",
       "        N_trans_>one_tenth_bal  DateFirstTransaction  MedianAmount (USD)  \\\n",
       "0                          0.0            2016-02-08            0.306105   \n",
       "1                          1.0            2016-02-08          342.825384   \n",
       "2                          0.0            2016-02-08            5.620088   \n",
       "3                          0.0            2016-02-08           17.989180   \n",
       "4                          1.0            2016-02-08           21.580404   \n",
       "...                        ...                   ...                 ...   \n",
       "985317                     1.0            2016-09-18            9.783117   \n",
       "985318                     0.0            2016-09-18            5.632332   \n",
       "985319                     0.0            2016-09-15            5.987414   \n",
       "985320                     0.0            2016-09-18           12.244201   \n",
       "985321                     0.0            2016-07-09            9.036220   \n",
       "\n",
       "        VarianceAmount (USD) MedianBalance (USD) VarianceBalance  \\\n",
       "0                   0.000000          218.180030    0.000000e+00   \n",
       "1                   0.000000           27.802785    0.000000e+00   \n",
       "2                   0.000000          218.858236    0.000000e+00   \n",
       "3                 104.657865         5324.384622    5.586784e+07   \n",
       "4                   0.000000           82.212831    0.000000e+00   \n",
       "...                      ...                 ...             ...   \n",
       "985317              0.000000           93.486801    0.000000e+00   \n",
       "985318              0.000000          334.406516    0.000000e+00   \n",
       "985319             23.675739         1380.158133    3.564877e+06   \n",
       "985320              0.000000          123.885234    0.000000e+00   \n",
       "985321             54.926058          583.689939    2.361460e+05   \n",
       "\n",
       "        AverageRecency  AverageCustomerAge  MedianCustomerAge  \\\n",
       "0                305.0                28.0               28.0   \n",
       "1                305.0                66.0               66.0   \n",
       "2                305.0                26.0               26.0   \n",
       "3                211.5                46.5               46.5   \n",
       "4                305.0                35.0               35.0   \n",
       "...                ...                 ...                ...   \n",
       "985317            82.0                32.0               32.0   \n",
       "985318            82.0                31.0               31.0   \n",
       "985319            83.5                43.5               43.5   \n",
       "985320            82.0                44.0               44.0   \n",
       "985321           117.5                35.0               35.0   \n",
       "\n",
       "        VarianceCustomerAge  \n",
       "0                       0.0  \n",
       "1                       0.0  \n",
       "2                       0.0  \n",
       "3                      12.5  \n",
       "4                       0.0  \n",
       "...                     ...  \n",
       "985317                  0.0  \n",
       "985318                  0.0  \n",
       "985319                180.5  \n",
       "985320                  0.0  \n",
       "985321                 32.0  \n",
       "\n",
       "[985322 rows x 38 columns]"
      ]
     },
     "execution_count": 3,
     "metadata": {},
     "output_type": "execute_result"
    }
   ],
   "source": [
    "newdata2"
   ]
  },
  {
   "cell_type": "code",
   "execution_count": 292,
   "metadata": {},
   "outputs": [],
   "source": [
    "CID_data = newdata2[['CustomerID','NumberTransactions',\n",
    "       'N_trans_bal>100', 'AverageAmount (INR)', 'AverageBalance (INR)',\n",
    "       'Utilization', 'MostCommonGender', 'MostFreqLocation',\n",
    "       'AverageAmount (USD)', 'AverageBalance (USD)', 'MaxAmountTrans (USD)',\n",
    "       'MinAmountTrans (USD)', 'MaxBalance (USD)', 'MinBalance (USD)',\n",
    "       'N_morningTransactions', 'N_afternoonTransactions',\n",
    "       'N_eveningTransactions', 'N_nigthTransactions',\n",
    "       'AverageAmount_percentage_of_Balance (USD)',\n",
    "       'NumberNegativeTransaction', 'NTransaction>HalfBalance',\n",
    "       'N_trans_>one_tenth_bal', 'DateFirstTransaction', 'MedianAmount (USD)',\n",
    "       'VarianceAmount (USD)', 'MedianBalance (USD)', 'VarianceBalance',\n",
    "       'AverageRecency', 'AverageCustomerAge', 'MedianCustomerAge',\n",
    "       'VarianceCustomerAge']]"
   ]
  },
  {
   "cell_type": "markdown",
   "metadata": {},
   "source": [
    "We selected only the featured created by us grouping on the CustomerID, 7 recommended + 23 suggested by us."
   ]
  },
  {
   "cell_type": "code",
   "execution_count": 293,
   "metadata": {},
   "outputs": [
    {
     "data": {
      "text/plain": [
       "(985322, 31)"
      ]
     },
     "execution_count": 293,
     "metadata": {},
     "output_type": "execute_result"
    }
   ],
   "source": [
    "CID_data.shape"
   ]
  },
  {
   "cell_type": "markdown",
   "metadata": {},
   "source": [
    "Since we have grouped by CustomerID we have only to drop the duplicate rows to obtain the new dataset."
   ]
  },
  {
   "cell_type": "code",
   "execution_count": 295,
   "metadata": {},
   "outputs": [],
   "source": [
    "CID_data = CID_data.drop_duplicates(subset = [\"CustomerID\"])"
   ]
  },
  {
   "cell_type": "code",
   "execution_count": 296,
   "metadata": {},
   "outputs": [],
   "source": [
    "CID_data.index = [x for x in range(len(CID_data))]"
   ]
  },
  {
   "cell_type": "code",
   "execution_count": 297,
   "metadata": {},
   "outputs": [
    {
     "data": {
      "text/html": [
       "<div>\n",
       "<style scoped>\n",
       "    .dataframe tbody tr th:only-of-type {\n",
       "        vertical-align: middle;\n",
       "    }\n",
       "\n",
       "    .dataframe tbody tr th {\n",
       "        vertical-align: top;\n",
       "    }\n",
       "\n",
       "    .dataframe thead th {\n",
       "        text-align: right;\n",
       "    }\n",
       "</style>\n",
       "<table border=\"1\" class=\"dataframe\">\n",
       "  <thead>\n",
       "    <tr style=\"text-align: right;\">\n",
       "      <th></th>\n",
       "      <th>CustomerID</th>\n",
       "      <th>NumberTransactions</th>\n",
       "      <th>N_trans_bal&gt;100</th>\n",
       "      <th>AverageAmount (INR)</th>\n",
       "      <th>AverageBalance (INR)</th>\n",
       "      <th>Utilization</th>\n",
       "      <th>MostCommonGender</th>\n",
       "      <th>MostFreqLocation</th>\n",
       "      <th>AverageAmount (USD)</th>\n",
       "      <th>AverageBalance (USD)</th>\n",
       "      <th>...</th>\n",
       "      <th>N_trans_&gt;one_tenth_bal</th>\n",
       "      <th>DateFirstTransaction</th>\n",
       "      <th>MedianAmount (USD)</th>\n",
       "      <th>VarianceAmount (USD)</th>\n",
       "      <th>MedianBalance (USD)</th>\n",
       "      <th>VarianceBalance</th>\n",
       "      <th>AverageRecency</th>\n",
       "      <th>AverageCustomerAge</th>\n",
       "      <th>MedianCustomerAge</th>\n",
       "      <th>VarianceCustomerAge</th>\n",
       "    </tr>\n",
       "  </thead>\n",
       "  <tbody>\n",
       "    <tr>\n",
       "      <th>0</th>\n",
       "      <td>C5841053</td>\n",
       "      <td>1</td>\n",
       "      <td>1.0</td>\n",
       "      <td>25.0</td>\n",
       "      <td>17819.050</td>\n",
       "      <td>17794.050</td>\n",
       "      <td>F</td>\n",
       "      <td>JAMSHEDPUR</td>\n",
       "      <td>0.306105</td>\n",
       "      <td>218.180030</td>\n",
       "      <td>...</td>\n",
       "      <td>0.0</td>\n",
       "      <td>2016-02-08</td>\n",
       "      <td>0.306105</td>\n",
       "      <td>0.000000</td>\n",
       "      <td>218.180030</td>\n",
       "      <td>0.000000e+00</td>\n",
       "      <td>305.0</td>\n",
       "      <td>28.0</td>\n",
       "      <td>28.0</td>\n",
       "      <td>0.0</td>\n",
       "    </tr>\n",
       "    <tr>\n",
       "      <th>1</th>\n",
       "      <td>C2142763</td>\n",
       "      <td>1</td>\n",
       "      <td>0.0</td>\n",
       "      <td>27999.0</td>\n",
       "      <td>2270.690</td>\n",
       "      <td>-25728.310</td>\n",
       "      <td>M</td>\n",
       "      <td>JHAJJAR</td>\n",
       "      <td>342.825384</td>\n",
       "      <td>27.802785</td>\n",
       "      <td>...</td>\n",
       "      <td>1.0</td>\n",
       "      <td>2016-02-08</td>\n",
       "      <td>342.825384</td>\n",
       "      <td>0.000000</td>\n",
       "      <td>27.802785</td>\n",
       "      <td>0.000000e+00</td>\n",
       "      <td>305.0</td>\n",
       "      <td>66.0</td>\n",
       "      <td>66.0</td>\n",
       "      <td>0.0</td>\n",
       "    </tr>\n",
       "    <tr>\n",
       "      <th>2</th>\n",
       "      <td>C4417068</td>\n",
       "      <td>1</td>\n",
       "      <td>1.0</td>\n",
       "      <td>459.0</td>\n",
       "      <td>17874.440</td>\n",
       "      <td>17415.440</td>\n",
       "      <td>F</td>\n",
       "      <td>MUMBAI</td>\n",
       "      <td>5.620088</td>\n",
       "      <td>218.858236</td>\n",
       "      <td>...</td>\n",
       "      <td>0.0</td>\n",
       "      <td>2016-02-08</td>\n",
       "      <td>5.620088</td>\n",
       "      <td>0.000000</td>\n",
       "      <td>218.858236</td>\n",
       "      <td>0.000000e+00</td>\n",
       "      <td>305.0</td>\n",
       "      <td>26.0</td>\n",
       "      <td>26.0</td>\n",
       "      <td>0.0</td>\n",
       "    </tr>\n",
       "    <tr>\n",
       "      <th>3</th>\n",
       "      <td>C5342380</td>\n",
       "      <td>2</td>\n",
       "      <td>1.0</td>\n",
       "      <td>1469.2</td>\n",
       "      <td>434849.495</td>\n",
       "      <td>433380.295</td>\n",
       "      <td>[F, M]</td>\n",
       "      <td>MUMBAI</td>\n",
       "      <td>17.989180</td>\n",
       "      <td>5324.384622</td>\n",
       "      <td>...</td>\n",
       "      <td>0.0</td>\n",
       "      <td>2016-02-08</td>\n",
       "      <td>17.989180</td>\n",
       "      <td>104.657865</td>\n",
       "      <td>5324.384622</td>\n",
       "      <td>5.586784e+07</td>\n",
       "      <td>211.5</td>\n",
       "      <td>46.5</td>\n",
       "      <td>46.5</td>\n",
       "      <td>12.5</td>\n",
       "    </tr>\n",
       "    <tr>\n",
       "      <th>4</th>\n",
       "      <td>C9031234</td>\n",
       "      <td>1</td>\n",
       "      <td>0.0</td>\n",
       "      <td>1762.5</td>\n",
       "      <td>6714.430</td>\n",
       "      <td>4951.930</td>\n",
       "      <td>F</td>\n",
       "      <td>NAVI MUMBAI</td>\n",
       "      <td>21.580404</td>\n",
       "      <td>82.212831</td>\n",
       "      <td>...</td>\n",
       "      <td>1.0</td>\n",
       "      <td>2016-02-08</td>\n",
       "      <td>21.580404</td>\n",
       "      <td>0.000000</td>\n",
       "      <td>82.212831</td>\n",
       "      <td>0.000000e+00</td>\n",
       "      <td>305.0</td>\n",
       "      <td>35.0</td>\n",
       "      <td>35.0</td>\n",
       "      <td>0.0</td>\n",
       "    </tr>\n",
       "    <tr>\n",
       "      <th>...</th>\n",
       "      <td>...</td>\n",
       "      <td>...</td>\n",
       "      <td>...</td>\n",
       "      <td>...</td>\n",
       "      <td>...</td>\n",
       "      <td>...</td>\n",
       "      <td>...</td>\n",
       "      <td>...</td>\n",
       "      <td>...</td>\n",
       "      <td>...</td>\n",
       "      <td>...</td>\n",
       "      <td>...</td>\n",
       "      <td>...</td>\n",
       "      <td>...</td>\n",
       "      <td>...</td>\n",
       "      <td>...</td>\n",
       "      <td>...</td>\n",
       "      <td>...</td>\n",
       "      <td>...</td>\n",
       "      <td>...</td>\n",
       "      <td>...</td>\n",
       "    </tr>\n",
       "    <tr>\n",
       "      <th>839076</th>\n",
       "      <td>C5028150</td>\n",
       "      <td>1</td>\n",
       "      <td>0.0</td>\n",
       "      <td>3000.0</td>\n",
       "      <td>464.870</td>\n",
       "      <td>-2535.130</td>\n",
       "      <td>M</td>\n",
       "      <td>PUNE</td>\n",
       "      <td>36.732603</td>\n",
       "      <td>5.691962</td>\n",
       "      <td>...</td>\n",
       "      <td>1.0</td>\n",
       "      <td>2016-09-18</td>\n",
       "      <td>36.732603</td>\n",
       "      <td>0.000000</td>\n",
       "      <td>5.691962</td>\n",
       "      <td>0.000000e+00</td>\n",
       "      <td>82.0</td>\n",
       "      <td>43.0</td>\n",
       "      <td>43.0</td>\n",
       "      <td>0.0</td>\n",
       "    </tr>\n",
       "    <tr>\n",
       "      <th>839077</th>\n",
       "      <td>C1034220</td>\n",
       "      <td>1</td>\n",
       "      <td>0.0</td>\n",
       "      <td>1500.0</td>\n",
       "      <td>1212.700</td>\n",
       "      <td>-287.300</td>\n",
       "      <td>M</td>\n",
       "      <td>BANGALORE</td>\n",
       "      <td>18.366301</td>\n",
       "      <td>14.848543</td>\n",
       "      <td>...</td>\n",
       "      <td>1.0</td>\n",
       "      <td>2016-09-18</td>\n",
       "      <td>18.366301</td>\n",
       "      <td>0.000000</td>\n",
       "      <td>14.848543</td>\n",
       "      <td>0.000000e+00</td>\n",
       "      <td>82.0</td>\n",
       "      <td>30.0</td>\n",
       "      <td>30.0</td>\n",
       "      <td>0.0</td>\n",
       "    </tr>\n",
       "    <tr>\n",
       "      <th>839078</th>\n",
       "      <td>C8020229</td>\n",
       "      <td>1</td>\n",
       "      <td>0.0</td>\n",
       "      <td>799.0</td>\n",
       "      <td>7635.190</td>\n",
       "      <td>6836.190</td>\n",
       "      <td>M</td>\n",
       "      <td>NEW DELHI</td>\n",
       "      <td>9.783117</td>\n",
       "      <td>93.486801</td>\n",
       "      <td>...</td>\n",
       "      <td>1.0</td>\n",
       "      <td>2016-09-18</td>\n",
       "      <td>9.783117</td>\n",
       "      <td>0.000000</td>\n",
       "      <td>93.486801</td>\n",
       "      <td>0.000000e+00</td>\n",
       "      <td>82.0</td>\n",
       "      <td>32.0</td>\n",
       "      <td>32.0</td>\n",
       "      <td>0.0</td>\n",
       "    </tr>\n",
       "    <tr>\n",
       "      <th>839079</th>\n",
       "      <td>C6459278</td>\n",
       "      <td>1</td>\n",
       "      <td>1.0</td>\n",
       "      <td>460.0</td>\n",
       "      <td>27311.420</td>\n",
       "      <td>26851.420</td>\n",
       "      <td>M</td>\n",
       "      <td>NASHIK</td>\n",
       "      <td>5.632332</td>\n",
       "      <td>334.406516</td>\n",
       "      <td>...</td>\n",
       "      <td>0.0</td>\n",
       "      <td>2016-09-18</td>\n",
       "      <td>5.632332</td>\n",
       "      <td>0.000000</td>\n",
       "      <td>334.406516</td>\n",
       "      <td>0.000000e+00</td>\n",
       "      <td>82.0</td>\n",
       "      <td>31.0</td>\n",
       "      <td>31.0</td>\n",
       "      <td>0.0</td>\n",
       "    </tr>\n",
       "    <tr>\n",
       "      <th>839080</th>\n",
       "      <td>C6420483</td>\n",
       "      <td>1</td>\n",
       "      <td>1.0</td>\n",
       "      <td>1000.0</td>\n",
       "      <td>10117.870</td>\n",
       "      <td>9117.870</td>\n",
       "      <td>M</td>\n",
       "      <td>VISAKHAPATNAM</td>\n",
       "      <td>12.244201</td>\n",
       "      <td>123.885234</td>\n",
       "      <td>...</td>\n",
       "      <td>0.0</td>\n",
       "      <td>2016-09-18</td>\n",
       "      <td>12.244201</td>\n",
       "      <td>0.000000</td>\n",
       "      <td>123.885234</td>\n",
       "      <td>0.000000e+00</td>\n",
       "      <td>82.0</td>\n",
       "      <td>44.0</td>\n",
       "      <td>44.0</td>\n",
       "      <td>0.0</td>\n",
       "    </tr>\n",
       "  </tbody>\n",
       "</table>\n",
       "<p>839081 rows × 31 columns</p>\n",
       "</div>"
      ],
      "text/plain": [
       "       CustomerID  NumberTransactions  N_trans_bal>100  AverageAmount (INR)  \\\n",
       "0        C5841053                   1              1.0                 25.0   \n",
       "1        C2142763                   1              0.0              27999.0   \n",
       "2        C4417068                   1              1.0                459.0   \n",
       "3        C5342380                   2              1.0               1469.2   \n",
       "4        C9031234                   1              0.0               1762.5   \n",
       "...           ...                 ...              ...                  ...   \n",
       "839076   C5028150                   1              0.0               3000.0   \n",
       "839077   C1034220                   1              0.0               1500.0   \n",
       "839078   C8020229                   1              0.0                799.0   \n",
       "839079   C6459278                   1              1.0                460.0   \n",
       "839080   C6420483                   1              1.0               1000.0   \n",
       "\n",
       "        AverageBalance (INR)  Utilization MostCommonGender MostFreqLocation  \\\n",
       "0                  17819.050    17794.050                F       JAMSHEDPUR   \n",
       "1                   2270.690   -25728.310                M          JHAJJAR   \n",
       "2                  17874.440    17415.440                F           MUMBAI   \n",
       "3                 434849.495   433380.295           [F, M]           MUMBAI   \n",
       "4                   6714.430     4951.930                F      NAVI MUMBAI   \n",
       "...                      ...          ...              ...              ...   \n",
       "839076               464.870    -2535.130                M             PUNE   \n",
       "839077              1212.700     -287.300                M        BANGALORE   \n",
       "839078              7635.190     6836.190                M        NEW DELHI   \n",
       "839079             27311.420    26851.420                M           NASHIK   \n",
       "839080             10117.870     9117.870                M    VISAKHAPATNAM   \n",
       "\n",
       "        AverageAmount (USD)  AverageBalance (USD)  ...  \\\n",
       "0                  0.306105            218.180030  ...   \n",
       "1                342.825384             27.802785  ...   \n",
       "2                  5.620088            218.858236  ...   \n",
       "3                 17.989180           5324.384622  ...   \n",
       "4                 21.580404             82.212831  ...   \n",
       "...                     ...                   ...  ...   \n",
       "839076            36.732603              5.691962  ...   \n",
       "839077            18.366301             14.848543  ...   \n",
       "839078             9.783117             93.486801  ...   \n",
       "839079             5.632332            334.406516  ...   \n",
       "839080            12.244201            123.885234  ...   \n",
       "\n",
       "        N_trans_>one_tenth_bal  DateFirstTransaction  MedianAmount (USD)  \\\n",
       "0                          0.0            2016-02-08            0.306105   \n",
       "1                          1.0            2016-02-08          342.825384   \n",
       "2                          0.0            2016-02-08            5.620088   \n",
       "3                          0.0            2016-02-08           17.989180   \n",
       "4                          1.0            2016-02-08           21.580404   \n",
       "...                        ...                   ...                 ...   \n",
       "839076                     1.0            2016-09-18           36.732603   \n",
       "839077                     1.0            2016-09-18           18.366301   \n",
       "839078                     1.0            2016-09-18            9.783117   \n",
       "839079                     0.0            2016-09-18            5.632332   \n",
       "839080                     0.0            2016-09-18           12.244201   \n",
       "\n",
       "        VarianceAmount (USD)  MedianBalance (USD)  VarianceBalance  \\\n",
       "0                   0.000000           218.180030     0.000000e+00   \n",
       "1                   0.000000            27.802785     0.000000e+00   \n",
       "2                   0.000000           218.858236     0.000000e+00   \n",
       "3                 104.657865          5324.384622     5.586784e+07   \n",
       "4                   0.000000            82.212831     0.000000e+00   \n",
       "...                      ...                  ...              ...   \n",
       "839076              0.000000             5.691962     0.000000e+00   \n",
       "839077              0.000000            14.848543     0.000000e+00   \n",
       "839078              0.000000            93.486801     0.000000e+00   \n",
       "839079              0.000000           334.406516     0.000000e+00   \n",
       "839080              0.000000           123.885234     0.000000e+00   \n",
       "\n",
       "        AverageRecency  AverageCustomerAge  MedianCustomerAge  \\\n",
       "0                305.0                28.0               28.0   \n",
       "1                305.0                66.0               66.0   \n",
       "2                305.0                26.0               26.0   \n",
       "3                211.5                46.5               46.5   \n",
       "4                305.0                35.0               35.0   \n",
       "...                ...                 ...                ...   \n",
       "839076            82.0                43.0               43.0   \n",
       "839077            82.0                30.0               30.0   \n",
       "839078            82.0                32.0               32.0   \n",
       "839079            82.0                31.0               31.0   \n",
       "839080            82.0                44.0               44.0   \n",
       "\n",
       "        VarianceCustomerAge  \n",
       "0                       0.0  \n",
       "1                       0.0  \n",
       "2                       0.0  \n",
       "3                      12.5  \n",
       "4                       0.0  \n",
       "...                     ...  \n",
       "839076                  0.0  \n",
       "839077                  0.0  \n",
       "839078                  0.0  \n",
       "839079                  0.0  \n",
       "839080                  0.0  \n",
       "\n",
       "[839081 rows x 31 columns]"
      ]
     },
     "execution_count": 297,
     "metadata": {},
     "output_type": "execute_result"
    }
   ],
   "source": [
    "CID_data"
   ]
  },
  {
   "cell_type": "code",
   "execution_count": 298,
   "metadata": {},
   "outputs": [],
   "source": [
    "CID_data.to_pickle('CID_data.pkl')"
   ]
  },
  {
   "cell_type": "markdown",
   "metadata": {},
   "source": [
    "### 2.2 Choose your features (variables)!"
   ]
  },
  {
   "cell_type": "code",
   "execution_count": 284,
   "metadata": {},
   "outputs": [
    {
     "data": {
      "text/plain": [
       "Index(['TransactionID', 'CustomerID', 'CustomerDOB', 'CustGender',\n",
       "       'CustLocation', 'CustAccountBalance', 'TransactionDate',\n",
       "       'TransactionTime', 'TransactionAmount (INR)', 'NumberTransactions',\n",
       "       'N_trans_bal>100', 'AverageAmount (INR)', 'AverageBalance (INR)',\n",
       "       'Utilization', 'MostCommonGender', 'MostFreqLocation',\n",
       "       'AverageAmount (USD)', 'AverageBalance (USD)', 'MaxAmountTrans (USD)',\n",
       "       'MinAmountTrans (USD)', 'MaxBalance (USD)', 'MinBalance (USD)',\n",
       "       'N_morningTransactions', 'N_afternoonTransactions',\n",
       "       'N_eveningTransactions', 'N_nigthTransactions',\n",
       "       'AverageAmount_percentage_of_Balance (USD)',\n",
       "       'NumberNegativeTransaction', 'NTransaction>HalfBalance',\n",
       "       'N_trans_>one_tenth_bal', 'DateFirstTransaction', 'MedianAmount (USD)',\n",
       "       'VarianceAmount (USD)', 'MedianBalance (USD)', 'VarianceBalance',\n",
       "       'AverageRecency', 'AverageCustomerAge', 'MedianCustomerAge',\n",
       "       'VarianceCustomerAge'],\n",
       "      dtype='object')"
      ]
     },
     "execution_count": 284,
     "metadata": {},
     "output_type": "execute_result"
    }
   ],
   "source": [
    "newdata2.columns"
   ]
  },
  {
   "cell_type": "code",
   "execution_count": 47,
   "metadata": {},
   "outputs": [],
   "source": [
    "CID_data = pd.read_pickle(\"CID_data.pkl\")"
   ]
  },
  {
   "cell_type": "code",
   "execution_count": 48,
   "metadata": {},
   "outputs": [
    {
     "data": {
      "text/plain": [
       "Index(['CustomerID', 'NumberTransactions', 'N_trans_bal>100',\n",
       "       'AverageAmount (INR)', 'AverageBalance (INR)', 'Utilization',\n",
       "       'MostCommonGender', 'MostFreqLocation', 'AverageAmount (USD)',\n",
       "       'AverageBalance (USD)', 'MaxAmountTrans (USD)', 'MinAmountTrans (USD)',\n",
       "       'MaxBalance (USD)', 'MinBalance (USD)', 'N_morningTransactions',\n",
       "       'N_afternoonTransactions', 'N_eveningTransactions',\n",
       "       'N_nigthTransactions', 'AverageAmount_percentage_of_Balance (USD)',\n",
       "       'NumberNegativeTransaction', 'NTransaction>HalfBalance',\n",
       "       'N_trans_>one_tenth_bal', 'DateFirstTransaction', 'MedianAmount (USD)',\n",
       "       'VarianceAmount (USD)', 'MedianBalance (USD)', 'VarianceBalance',\n",
       "       'AverageRecency', 'AverageCustomerAge', 'MedianCustomerAge',\n",
       "       'VarianceCustomerAge'],\n",
       "      dtype='object')"
      ]
     },
     "execution_count": 48,
     "metadata": {},
     "output_type": "execute_result"
    }
   ],
   "source": [
    "CID_data.columns"
   ]
  },
  {
   "cell_type": "markdown",
   "metadata": {},
   "source": [
    "### Our dimensionality reduction:"
   ]
  },
  {
   "cell_type": "markdown",
   "metadata": {},
   "source": [
    "- #### 1. & 2.\n",
    "    Since we have plenty of features to work with, possibly with high correlation we decide to apply a principal component analysis to reduct dimensionality. In order to do that we have to discuss about the different ways to pre-processing the data. \n",
    "    The two main methods to do features scaling are normalization and standardization. They are different : standardization removes the mean and scale the data with standard deviation while normalisation often refers to scaling the data to [0,1] \n",
    "    PCA seeks the direction that maximises the variance and scaling the data differently changes the PCA vectors. One of the problems using normalisation is that it could skew the distribution and obscure the physical meaning of the variables under certain circumstances. If there is an anomaly in one of the random variables,  the scaling during normalisation would skew anomaly feature massively - resulting in different PCA vectors after normalisation. On the other hand, standardization is slightly affected by outliers and is not bounded by range. Another benefit of standardisation is to avoid numerical precision error when the order of magnitude of the variables are different,  and in our case there are variables like AverageBalance, AverageAge, AverageAmount, NumberTransactions etc. that varies from high to very small numbers.\n",
    "\n",
    "    The first mandatory step to perform PCA is to to center the data subtracting the mean of each feature while whether to use standardization or not depends on the data. Our features has different scales (INR, USD, Age, percentages etc.), so after the centering we are going to divide each feature by its standard deviation.\n",
    "    There are categorial variables in our dataset for which we need to reserve a different treatment. Fo this reason, we choose to apply One Hot Encoding to these features generating dummy variables which are duplicates variables which represent one level of a categorical variable. In practise that means it will replace a 1 instead of the category of interest and 0 for the others.\n",
    "    \n",
    "    One limitation of this method is that the independent features become less interpretable because these principal components are also not readable or interpretable. \n",
    "    \n",
    "    Let's start !!!\n",
    "    "
   ]
  },
  {
   "cell_type": "code",
   "execution_count": 49,
   "metadata": {},
   "outputs": [],
   "source": [
    "CID_data.MostCommonGender = [str(x)for x in CID_data[\"MostCommonGender\"].values]"
   ]
  },
  {
   "cell_type": "code",
   "execution_count": 50,
   "metadata": {},
   "outputs": [],
   "source": [
    "CID_data.MostCommonGender = CID_data.MostCommonGender.replace(\"['F' 'M']\", \"MF\")"
   ]
  },
  {
   "cell_type": "code",
   "execution_count": null,
   "metadata": {},
   "outputs": [],
   "source": [
    "# non ci servivano perchè lo facciamo sulle continue numeriche"
   ]
  },
  {
   "cell_type": "code",
   "execution_count": 51,
   "metadata": {},
   "outputs": [],
   "source": [
    "CID_data = CID_data.drop([\"DateFirstTransaction\"], axis = 1)"
   ]
  },
  {
   "cell_type": "code",
   "execution_count": 52,
   "metadata": {},
   "outputs": [],
   "source": [
    "CID_data = CID_data.drop([\"MostFreqLocation\"], axis = 1)"
   ]
  },
  {
   "cell_type": "code",
   "execution_count": 53,
   "metadata": {},
   "outputs": [],
   "source": [
    "CID_data = pd.get_dummies(CID_data, columns = [\"MostCommonGender\"])"
   ]
  },
  {
   "cell_type": "code",
   "execution_count": 33,
   "metadata": {},
   "outputs": [],
   "source": [
    "#CID_data.MostFreqLocation = [list(x) for x in CID_data[\"MostFreqLocation\"].values]\n",
    "#CID_data.MostFreqLocation = [x[0] for x in CID_data[\"MostFreqLocation\"]]"
   ]
  },
  {
   "cell_type": "code",
   "execution_count": 34,
   "metadata": {},
   "outputs": [],
   "source": [
    "#CID_data = pd.get_dummies(CID_data, columns = [\"MostFreqLocation\"])"
   ]
  },
  {
   "cell_type": "code",
   "execution_count": 54,
   "metadata": {},
   "outputs": [
    {
     "data": {
      "text/plain": [
       "Index(['CustomerID', 'NumberTransactions', 'N_trans_bal>100',\n",
       "       'AverageAmount (INR)', 'AverageBalance (INR)', 'Utilization',\n",
       "       'AverageAmount (USD)', 'AverageBalance (USD)', 'MaxAmountTrans (USD)',\n",
       "       'MinAmountTrans (USD)', 'MaxBalance (USD)', 'MinBalance (USD)',\n",
       "       'N_morningTransactions', 'N_afternoonTransactions',\n",
       "       'N_eveningTransactions', 'N_nigthTransactions',\n",
       "       'AverageAmount_percentage_of_Balance (USD)',\n",
       "       'NumberNegativeTransaction', 'NTransaction>HalfBalance',\n",
       "       'N_trans_>one_tenth_bal', 'MedianAmount (USD)', 'VarianceAmount (USD)',\n",
       "       'MedianBalance (USD)', 'VarianceBalance', 'AverageRecency',\n",
       "       'AverageCustomerAge', 'MedianCustomerAge', 'VarianceCustomerAge',\n",
       "       'MostCommonGender_F', 'MostCommonGender_M', 'MostCommonGender_MF'],\n",
       "      dtype='object')"
      ]
     },
     "execution_count": 54,
     "metadata": {},
     "output_type": "execute_result"
    }
   ],
   "source": [
    "CID_data.columns"
   ]
  },
  {
   "cell_type": "code",
   "execution_count": 55,
   "metadata": {},
   "outputs": [
    {
     "data": {
      "text/plain": [
       "array([[-0.4005415 ,  0.45222652, -0.23632378, ..., -1.10605755,\n",
       "        -1.10304872, -0.15211908],\n",
       "       [-0.4005415 , -1.21145007,  4.39115227, ...,  3.30548845,\n",
       "         3.30748459, -0.15211908],\n",
       "       [-0.4005415 ,  0.45222652, -0.16453123, ..., -1.33824419,\n",
       "        -1.33518205, -0.15211908],\n",
       "       ...,\n",
       "       [-0.4005415 , -1.21145007, -0.10828823, ..., -0.64168429,\n",
       "        -0.63878206, -0.15211908],\n",
       "       [-0.4005415 ,  0.45222652, -0.16436581, ..., -0.75777761,\n",
       "        -0.75484872, -0.15211908],\n",
       "       [-0.4005415 ,  0.45222652, -0.07503869, ...,  0.7514355 ,\n",
       "         0.75401794, -0.15211908]])"
      ]
     },
     "execution_count": 55,
     "metadata": {},
     "output_type": "execute_result"
    }
   ],
   "source": [
    "X_train = CID_data[['NumberTransactions', 'N_trans_bal>100',\n",
    "       'AverageAmount (INR)', 'AverageBalance (INR)', 'Utilization',\n",
    "       'AverageAmount (USD)', 'AverageBalance (USD)', 'MaxAmountTrans (USD)',\n",
    "       'MinAmountTrans (USD)', 'MaxBalance (USD)', 'MinBalance (USD)',\n",
    "       'N_morningTransactions', 'N_afternoonTransactions',\n",
    "       'N_eveningTransactions', 'N_nigthTransactions',\n",
    "       'NumberNegativeTransaction', 'NTransaction>HalfBalance',\n",
    "       'N_trans_>one_tenth_bal', 'MedianAmount (USD)', 'VarianceAmount (USD)',\n",
    "       'MedianBalance (USD)', 'VarianceBalance', 'AverageRecency',\n",
    "       'AverageCustomerAge', 'MedianCustomerAge', 'VarianceCustomerAge']]\n",
    "\n",
    "scaler = preprocessing.StandardScaler().fit(X_train)\n",
    "scaler.mean_\n",
    "scaler.scale_\n",
    "\n",
    "X_scaled = scaler.transform(X_train)\n",
    "X_scaled"
   ]
  },
  {
   "cell_type": "code",
   "execution_count": 56,
   "metadata": {},
   "outputs": [],
   "source": [
    "CID_data[['NumberTransactions', 'N_trans_bal>100',\n",
    "       'AverageAmount (INR)', 'AverageBalance (INR)', 'Utilization',\n",
    "       'AverageAmount (USD)', 'AverageBalance (USD)', 'MaxAmountTrans (USD)',\n",
    "       'MinAmountTrans (USD)', 'MaxBalance (USD)', 'MinBalance (USD)',\n",
    "       'N_morningTransactions', 'N_afternoonTransactions',\n",
    "       'N_eveningTransactions', 'N_nigthTransactions',\n",
    "       'NumberNegativeTransaction', 'NTransaction>HalfBalance',\n",
    "       'N_trans_>one_tenth_bal', 'MedianAmount (USD)', 'VarianceAmount (USD)',\n",
    "       'MedianBalance (USD)', 'VarianceBalance', 'AverageRecency',\n",
    "       'AverageCustomerAge', 'MedianCustomerAge', 'VarianceCustomerAge']] = X_scaled.tolist()"
   ]
  },
  {
   "cell_type": "code",
   "execution_count": 57,
   "metadata": {},
   "outputs": [
    {
     "data": {
      "text/html": [
       "<div>\n",
       "<style scoped>\n",
       "    .dataframe tbody tr th:only-of-type {\n",
       "        vertical-align: middle;\n",
       "    }\n",
       "\n",
       "    .dataframe tbody tr th {\n",
       "        vertical-align: top;\n",
       "    }\n",
       "\n",
       "    .dataframe thead th {\n",
       "        text-align: right;\n",
       "    }\n",
       "</style>\n",
       "<table border=\"1\" class=\"dataframe\">\n",
       "  <thead>\n",
       "    <tr style=\"text-align: right;\">\n",
       "      <th></th>\n",
       "      <th>CustomerID</th>\n",
       "      <th>NumberTransactions</th>\n",
       "      <th>N_trans_bal&gt;100</th>\n",
       "      <th>AverageAmount (INR)</th>\n",
       "      <th>AverageBalance (INR)</th>\n",
       "      <th>Utilization</th>\n",
       "      <th>AverageAmount (USD)</th>\n",
       "      <th>AverageBalance (USD)</th>\n",
       "      <th>MaxAmountTrans (USD)</th>\n",
       "      <th>MinAmountTrans (USD)</th>\n",
       "      <th>...</th>\n",
       "      <th>VarianceAmount (USD)</th>\n",
       "      <th>MedianBalance (USD)</th>\n",
       "      <th>VarianceBalance</th>\n",
       "      <th>AverageRecency</th>\n",
       "      <th>AverageCustomerAge</th>\n",
       "      <th>MedianCustomerAge</th>\n",
       "      <th>VarianceCustomerAge</th>\n",
       "      <th>MostCommonGender_F</th>\n",
       "      <th>MostCommonGender_M</th>\n",
       "      <th>MostCommonGender_MF</th>\n",
       "    </tr>\n",
       "  </thead>\n",
       "  <tbody>\n",
       "    <tr>\n",
       "      <th>0</th>\n",
       "      <td>C5841053</td>\n",
       "      <td>-0.400541</td>\n",
       "      <td>0.452227</td>\n",
       "      <td>-0.236324</td>\n",
       "      <td>-0.111969</td>\n",
       "      <td>-0.110195</td>\n",
       "      <td>-0.236324</td>\n",
       "      <td>-0.111969</td>\n",
       "      <td>-0.243211</td>\n",
       "      <td>-0.214280</td>\n",
       "      <td>...</td>\n",
       "      <td>-0.012625</td>\n",
       "      <td>-0.110568</td>\n",
       "      <td>-0.007343</td>\n",
       "      <td>2.130369</td>\n",
       "      <td>-1.106058</td>\n",
       "      <td>-1.103049</td>\n",
       "      <td>-0.152119</td>\n",
       "      <td>1</td>\n",
       "      <td>0</td>\n",
       "      <td>0</td>\n",
       "    </tr>\n",
       "    <tr>\n",
       "      <th>1</th>\n",
       "      <td>C2142763</td>\n",
       "      <td>-0.400541</td>\n",
       "      <td>-1.211450</td>\n",
       "      <td>4.391152</td>\n",
       "      <td>-0.131744</td>\n",
       "      <td>-0.165571</td>\n",
       "      <td>4.391152</td>\n",
       "      <td>-0.131744</td>\n",
       "      <td>3.977555</td>\n",
       "      <td>4.539661</td>\n",
       "      <td>...</td>\n",
       "      <td>-0.012625</td>\n",
       "      <td>-0.130388</td>\n",
       "      <td>-0.007343</td>\n",
       "      <td>2.130369</td>\n",
       "      <td>3.305488</td>\n",
       "      <td>3.307485</td>\n",
       "      <td>-0.152119</td>\n",
       "      <td>0</td>\n",
       "      <td>1</td>\n",
       "      <td>0</td>\n",
       "    </tr>\n",
       "    <tr>\n",
       "      <th>2</th>\n",
       "      <td>C4417068</td>\n",
       "      <td>-0.400541</td>\n",
       "      <td>0.452227</td>\n",
       "      <td>-0.164531</td>\n",
       "      <td>-0.111898</td>\n",
       "      <td>-0.110676</td>\n",
       "      <td>-0.164531</td>\n",
       "      <td>-0.111898</td>\n",
       "      <td>-0.177728</td>\n",
       "      <td>-0.140526</td>\n",
       "      <td>...</td>\n",
       "      <td>-0.012625</td>\n",
       "      <td>-0.110498</td>\n",
       "      <td>-0.007343</td>\n",
       "      <td>2.130369</td>\n",
       "      <td>-1.338244</td>\n",
       "      <td>-1.335182</td>\n",
       "      <td>-0.152119</td>\n",
       "      <td>1</td>\n",
       "      <td>0</td>\n",
       "      <td>0</td>\n",
       "    </tr>\n",
       "    <tr>\n",
       "      <th>3</th>\n",
       "      <td>C5342380</td>\n",
       "      <td>1.897629</td>\n",
       "      <td>0.452227</td>\n",
       "      <td>0.002577</td>\n",
       "      <td>0.418435</td>\n",
       "      <td>0.418579</td>\n",
       "      <td>0.002577</td>\n",
       "      <td>0.418435</td>\n",
       "      <td>0.063833</td>\n",
       "      <td>-0.069252</td>\n",
       "      <td>...</td>\n",
       "      <td>-0.010675</td>\n",
       "      <td>0.421015</td>\n",
       "      <td>0.020332</td>\n",
       "      <td>0.949362</td>\n",
       "      <td>1.041669</td>\n",
       "      <td>1.044185</td>\n",
       "      <td>0.001124</td>\n",
       "      <td>0</td>\n",
       "      <td>0</td>\n",
       "      <td>1</td>\n",
       "    </tr>\n",
       "    <tr>\n",
       "      <th>4</th>\n",
       "      <td>C9031234</td>\n",
       "      <td>-0.400541</td>\n",
       "      <td>-1.211450</td>\n",
       "      <td>0.051095</td>\n",
       "      <td>-0.126092</td>\n",
       "      <td>-0.126534</td>\n",
       "      <td>0.051095</td>\n",
       "      <td>-0.126092</td>\n",
       "      <td>0.018946</td>\n",
       "      <td>0.080993</td>\n",
       "      <td>...</td>\n",
       "      <td>-0.012625</td>\n",
       "      <td>-0.124723</td>\n",
       "      <td>-0.007343</td>\n",
       "      <td>2.130369</td>\n",
       "      <td>-0.293404</td>\n",
       "      <td>-0.290582</td>\n",
       "      <td>-0.152119</td>\n",
       "      <td>1</td>\n",
       "      <td>0</td>\n",
       "      <td>0</td>\n",
       "    </tr>\n",
       "    <tr>\n",
       "      <th>...</th>\n",
       "      <td>...</td>\n",
       "      <td>...</td>\n",
       "      <td>...</td>\n",
       "      <td>...</td>\n",
       "      <td>...</td>\n",
       "      <td>...</td>\n",
       "      <td>...</td>\n",
       "      <td>...</td>\n",
       "      <td>...</td>\n",
       "      <td>...</td>\n",
       "      <td>...</td>\n",
       "      <td>...</td>\n",
       "      <td>...</td>\n",
       "      <td>...</td>\n",
       "      <td>...</td>\n",
       "      <td>...</td>\n",
       "      <td>...</td>\n",
       "      <td>...</td>\n",
       "      <td>...</td>\n",
       "      <td>...</td>\n",
       "      <td>...</td>\n",
       "    </tr>\n",
       "    <tr>\n",
       "      <th>839076</th>\n",
       "      <td>C5028150</td>\n",
       "      <td>-0.400541</td>\n",
       "      <td>-1.211450</td>\n",
       "      <td>0.255803</td>\n",
       "      <td>-0.134041</td>\n",
       "      <td>-0.136061</td>\n",
       "      <td>0.255803</td>\n",
       "      <td>-0.134041</td>\n",
       "      <td>0.205662</td>\n",
       "      <td>0.291296</td>\n",
       "      <td>...</td>\n",
       "      <td>-0.012625</td>\n",
       "      <td>-0.132689</td>\n",
       "      <td>-0.007343</td>\n",
       "      <td>-0.686365</td>\n",
       "      <td>0.635342</td>\n",
       "      <td>0.637951</td>\n",
       "      <td>-0.152119</td>\n",
       "      <td>0</td>\n",
       "      <td>1</td>\n",
       "      <td>0</td>\n",
       "    </tr>\n",
       "    <tr>\n",
       "      <th>839077</th>\n",
       "      <td>C1034220</td>\n",
       "      <td>-0.400541</td>\n",
       "      <td>-1.211450</td>\n",
       "      <td>0.007672</td>\n",
       "      <td>-0.133089</td>\n",
       "      <td>-0.133201</td>\n",
       "      <td>0.007672</td>\n",
       "      <td>-0.133089</td>\n",
       "      <td>-0.020661</td>\n",
       "      <td>0.036384</td>\n",
       "      <td>...</td>\n",
       "      <td>-0.012625</td>\n",
       "      <td>-0.131736</td>\n",
       "      <td>-0.007343</td>\n",
       "      <td>-0.686365</td>\n",
       "      <td>-0.873871</td>\n",
       "      <td>-0.870915</td>\n",
       "      <td>-0.152119</td>\n",
       "      <td>0</td>\n",
       "      <td>1</td>\n",
       "      <td>0</td>\n",
       "    </tr>\n",
       "    <tr>\n",
       "      <th>839078</th>\n",
       "      <td>C8020229</td>\n",
       "      <td>-0.400541</td>\n",
       "      <td>-1.211450</td>\n",
       "      <td>-0.108288</td>\n",
       "      <td>-0.124921</td>\n",
       "      <td>-0.124137</td>\n",
       "      <td>-0.108288</td>\n",
       "      <td>-0.124921</td>\n",
       "      <td>-0.126429</td>\n",
       "      <td>-0.082745</td>\n",
       "      <td>...</td>\n",
       "      <td>-0.012625</td>\n",
       "      <td>-0.123550</td>\n",
       "      <td>-0.007343</td>\n",
       "      <td>-0.686365</td>\n",
       "      <td>-0.641684</td>\n",
       "      <td>-0.638782</td>\n",
       "      <td>-0.152119</td>\n",
       "      <td>0</td>\n",
       "      <td>1</td>\n",
       "      <td>0</td>\n",
       "    </tr>\n",
       "    <tr>\n",
       "      <th>839079</th>\n",
       "      <td>C6459278</td>\n",
       "      <td>-0.400541</td>\n",
       "      <td>0.452227</td>\n",
       "      <td>-0.164366</td>\n",
       "      <td>-0.099896</td>\n",
       "      <td>-0.098670</td>\n",
       "      <td>-0.164366</td>\n",
       "      <td>-0.099896</td>\n",
       "      <td>-0.177578</td>\n",
       "      <td>-0.140356</td>\n",
       "      <td>...</td>\n",
       "      <td>-0.012625</td>\n",
       "      <td>-0.098468</td>\n",
       "      <td>-0.007343</td>\n",
       "      <td>-0.686365</td>\n",
       "      <td>-0.757778</td>\n",
       "      <td>-0.754849</td>\n",
       "      <td>-0.152119</td>\n",
       "      <td>0</td>\n",
       "      <td>1</td>\n",
       "      <td>0</td>\n",
       "    </tr>\n",
       "    <tr>\n",
       "      <th>839080</th>\n",
       "      <td>C6420483</td>\n",
       "      <td>-0.400541</td>\n",
       "      <td>0.452227</td>\n",
       "      <td>-0.075039</td>\n",
       "      <td>-0.121763</td>\n",
       "      <td>-0.121234</td>\n",
       "      <td>-0.075039</td>\n",
       "      <td>-0.121763</td>\n",
       "      <td>-0.096101</td>\n",
       "      <td>-0.048587</td>\n",
       "      <td>...</td>\n",
       "      <td>-0.012625</td>\n",
       "      <td>-0.120385</td>\n",
       "      <td>-0.007343</td>\n",
       "      <td>-0.686365</td>\n",
       "      <td>0.751436</td>\n",
       "      <td>0.754018</td>\n",
       "      <td>-0.152119</td>\n",
       "      <td>0</td>\n",
       "      <td>1</td>\n",
       "      <td>0</td>\n",
       "    </tr>\n",
       "  </tbody>\n",
       "</table>\n",
       "<p>839081 rows × 31 columns</p>\n",
       "</div>"
      ],
      "text/plain": [
       "       CustomerID  NumberTransactions  N_trans_bal>100  AverageAmount (INR)  \\\n",
       "0        C5841053           -0.400541         0.452227            -0.236324   \n",
       "1        C2142763           -0.400541        -1.211450             4.391152   \n",
       "2        C4417068           -0.400541         0.452227            -0.164531   \n",
       "3        C5342380            1.897629         0.452227             0.002577   \n",
       "4        C9031234           -0.400541        -1.211450             0.051095   \n",
       "...           ...                 ...              ...                  ...   \n",
       "839076   C5028150           -0.400541        -1.211450             0.255803   \n",
       "839077   C1034220           -0.400541        -1.211450             0.007672   \n",
       "839078   C8020229           -0.400541        -1.211450            -0.108288   \n",
       "839079   C6459278           -0.400541         0.452227            -0.164366   \n",
       "839080   C6420483           -0.400541         0.452227            -0.075039   \n",
       "\n",
       "        AverageBalance (INR)  Utilization  AverageAmount (USD)  \\\n",
       "0                  -0.111969    -0.110195            -0.236324   \n",
       "1                  -0.131744    -0.165571             4.391152   \n",
       "2                  -0.111898    -0.110676            -0.164531   \n",
       "3                   0.418435     0.418579             0.002577   \n",
       "4                  -0.126092    -0.126534             0.051095   \n",
       "...                      ...          ...                  ...   \n",
       "839076             -0.134041    -0.136061             0.255803   \n",
       "839077             -0.133089    -0.133201             0.007672   \n",
       "839078             -0.124921    -0.124137            -0.108288   \n",
       "839079             -0.099896    -0.098670            -0.164366   \n",
       "839080             -0.121763    -0.121234            -0.075039   \n",
       "\n",
       "        AverageBalance (USD)  MaxAmountTrans (USD)  MinAmountTrans (USD)  ...  \\\n",
       "0                  -0.111969             -0.243211             -0.214280  ...   \n",
       "1                  -0.131744              3.977555              4.539661  ...   \n",
       "2                  -0.111898             -0.177728             -0.140526  ...   \n",
       "3                   0.418435              0.063833             -0.069252  ...   \n",
       "4                  -0.126092              0.018946              0.080993  ...   \n",
       "...                      ...                   ...                   ...  ...   \n",
       "839076             -0.134041              0.205662              0.291296  ...   \n",
       "839077             -0.133089             -0.020661              0.036384  ...   \n",
       "839078             -0.124921             -0.126429             -0.082745  ...   \n",
       "839079             -0.099896             -0.177578             -0.140356  ...   \n",
       "839080             -0.121763             -0.096101             -0.048587  ...   \n",
       "\n",
       "        VarianceAmount (USD)  MedianBalance (USD)  VarianceBalance  \\\n",
       "0                  -0.012625            -0.110568        -0.007343   \n",
       "1                  -0.012625            -0.130388        -0.007343   \n",
       "2                  -0.012625            -0.110498        -0.007343   \n",
       "3                  -0.010675             0.421015         0.020332   \n",
       "4                  -0.012625            -0.124723        -0.007343   \n",
       "...                      ...                  ...              ...   \n",
       "839076             -0.012625            -0.132689        -0.007343   \n",
       "839077             -0.012625            -0.131736        -0.007343   \n",
       "839078             -0.012625            -0.123550        -0.007343   \n",
       "839079             -0.012625            -0.098468        -0.007343   \n",
       "839080             -0.012625            -0.120385        -0.007343   \n",
       "\n",
       "        AverageRecency  AverageCustomerAge  MedianCustomerAge  \\\n",
       "0             2.130369           -1.106058          -1.103049   \n",
       "1             2.130369            3.305488           3.307485   \n",
       "2             2.130369           -1.338244          -1.335182   \n",
       "3             0.949362            1.041669           1.044185   \n",
       "4             2.130369           -0.293404          -0.290582   \n",
       "...                ...                 ...                ...   \n",
       "839076       -0.686365            0.635342           0.637951   \n",
       "839077       -0.686365           -0.873871          -0.870915   \n",
       "839078       -0.686365           -0.641684          -0.638782   \n",
       "839079       -0.686365           -0.757778          -0.754849   \n",
       "839080       -0.686365            0.751436           0.754018   \n",
       "\n",
       "        VarianceCustomerAge  MostCommonGender_F  MostCommonGender_M  \\\n",
       "0                 -0.152119                   1                   0   \n",
       "1                 -0.152119                   0                   1   \n",
       "2                 -0.152119                   1                   0   \n",
       "3                  0.001124                   0                   0   \n",
       "4                 -0.152119                   1                   0   \n",
       "...                     ...                 ...                 ...   \n",
       "839076            -0.152119                   0                   1   \n",
       "839077            -0.152119                   0                   1   \n",
       "839078            -0.152119                   0                   1   \n",
       "839079            -0.152119                   0                   1   \n",
       "839080            -0.152119                   0                   1   \n",
       "\n",
       "        MostCommonGender_MF  \n",
       "0                         0  \n",
       "1                         0  \n",
       "2                         0  \n",
       "3                         1  \n",
       "4                         0  \n",
       "...                     ...  \n",
       "839076                    0  \n",
       "839077                    0  \n",
       "839078                    0  \n",
       "839079                    0  \n",
       "839080                    0  \n",
       "\n",
       "[839081 rows x 31 columns]"
      ]
     },
     "execution_count": 57,
     "metadata": {},
     "output_type": "execute_result"
    }
   ],
   "source": [
    "CID_data"
   ]
  },
  {
   "cell_type": "code",
   "execution_count": 58,
   "metadata": {},
   "outputs": [],
   "source": [
    "CID_data.to_pickle('stand_CID_data.pkl')"
   ]
  },
  {
   "cell_type": "code",
   "execution_count": 3,
   "metadata": {},
   "outputs": [],
   "source": [
    "CID_data = pd.read_pickle('stand_CID_data.pkl')"
   ]
  },
  {
   "cell_type": "code",
   "execution_count": 4,
   "metadata": {},
   "outputs": [
    {
     "data": {
      "text/plain": [
       "Index(['CustomerID', 'NumberTransactions', 'N_trans_bal>100',\n",
       "       'AverageAmount (INR)', 'AverageBalance (INR)', 'Utilization',\n",
       "       'AverageAmount (USD)', 'AverageBalance (USD)', 'MaxAmountTrans (USD)',\n",
       "       'MinAmountTrans (USD)', 'MaxBalance (USD)', 'MinBalance (USD)',\n",
       "       'N_morningTransactions', 'N_afternoonTransactions',\n",
       "       'N_eveningTransactions', 'N_nigthTransactions',\n",
       "       'AverageAmount_percentage_of_Balance (USD)',\n",
       "       'NumberNegativeTransaction', 'NTransaction>HalfBalance',\n",
       "       'N_trans_>one_tenth_bal', 'MedianAmount (USD)', 'VarianceAmount (USD)',\n",
       "       'MedianBalance (USD)', 'VarianceBalance', 'AverageRecency',\n",
       "       'AverageCustomerAge', 'MedianCustomerAge', 'VarianceCustomerAge',\n",
       "       'MostCommonGender_F', 'MostCommonGender_M', 'MostCommonGender_MF'],\n",
       "      dtype='object')"
      ]
     },
     "execution_count": 4,
     "metadata": {},
     "output_type": "execute_result"
    }
   ],
   "source": [
    "CID_data.columns"
   ]
  },
  {
   "cell_type": "markdown",
   "metadata": {},
   "source": [
    "We can see that now all the numeric variebles are standardized and the categorial are stored as dummy variables"
   ]
  },
  {
   "cell_type": "code",
   "execution_count": 5,
   "metadata": {},
   "outputs": [],
   "source": [
    "CID_data.dropna(inplace=True)"
   ]
  },
  {
   "cell_type": "markdown",
   "metadata": {},
   "source": [
    "We have dropped the NAN values, now we have to deal with infinites, so we replace them with a large finite number with the nan_to_num method."
   ]
  },
  {
   "cell_type": "code",
   "execution_count": 6,
   "metadata": {},
   "outputs": [
    {
     "name": "stdout",
     "output_type": "stream",
     "text": [
      "CustomerID                                      0\n",
      "NumberTransactions                              0\n",
      "N_trans_bal>100                                 0\n",
      "AverageAmount (INR)                             0\n",
      "AverageBalance (INR)                            0\n",
      "Utilization                                     0\n",
      "AverageAmount (USD)                             0\n",
      "AverageBalance (USD)                            0\n",
      "MaxAmountTrans (USD)                            0\n",
      "MinAmountTrans (USD)                            0\n",
      "MaxBalance (USD)                                0\n",
      "MinBalance (USD)                                0\n",
      "N_morningTransactions                           0\n",
      "N_afternoonTransactions                         0\n",
      "N_eveningTransactions                           0\n",
      "N_nigthTransactions                             0\n",
      "AverageAmount_percentage_of_Balance (USD)    1788\n",
      "NumberNegativeTransaction                       0\n",
      "NTransaction>HalfBalance                        0\n",
      "N_trans_>one_tenth_bal                          0\n",
      "MedianAmount (USD)                              0\n",
      "VarianceAmount (USD)                            0\n",
      "MedianBalance (USD)                             0\n",
      "VarianceBalance                                 0\n",
      "AverageRecency                                  0\n",
      "AverageCustomerAge                              0\n",
      "MedianCustomerAge                               0\n",
      "VarianceCustomerAge                             0\n",
      "MostCommonGender_F                              0\n",
      "MostCommonGender_M                              0\n",
      "MostCommonGender_MF                             0\n",
      "dtype: int64\n"
     ]
    }
   ],
   "source": [
    "checkinf = CID_data.isin([np.inf, -np.inf]).sum()\n",
    "print(checkinf)"
   ]
  },
  {
   "cell_type": "code",
   "execution_count": 7,
   "metadata": {},
   "outputs": [],
   "source": [
    "newnum = np.nan_to_num(CID_data, copy=False)"
   ]
  },
  {
   "cell_type": "code",
   "execution_count": 8,
   "metadata": {},
   "outputs": [
    {
     "data": {
      "text/plain": [
       "array([['C5841053', -0.4005414958379193, 0.45222652481071535, ..., 1, 0,\n",
       "        0],\n",
       "       ['C2142763', -0.4005414958379193, -1.2114500681019202, ..., 0, 1,\n",
       "        0],\n",
       "       ['C4417068', -0.4005414958379193, 0.45222652481071535, ..., 1, 0,\n",
       "        0],\n",
       "       ...,\n",
       "       ['C8020229', -0.4005414958379193, -1.2114500681019202, ..., 0, 1,\n",
       "        0],\n",
       "       ['C6459278', -0.4005414958379193, 0.45222652481071535, ..., 0, 1,\n",
       "        0],\n",
       "       ['C6420483', -0.4005414958379193, 0.45222652481071535, ..., 0, 1,\n",
       "        0]], dtype=object)"
      ]
     },
     "execution_count": 8,
     "metadata": {},
     "output_type": "execute_result"
    }
   ],
   "source": [
    "newnum"
   ]
  },
  {
   "cell_type": "code",
   "execution_count": 9,
   "metadata": {},
   "outputs": [],
   "source": [
    "CID_data[['CustomerID', 'NumberTransactions', 'N_trans_bal>100',\n",
    "       'AverageAmount (INR)', 'AverageBalance (INR)', 'Utilization',\n",
    "       'AverageAmount (USD)', 'AverageBalance (USD)', 'MaxAmountTrans (USD)',\n",
    "       'MinAmountTrans (USD)', 'MaxBalance (USD)', 'MinBalance (USD)',\n",
    "       'N_morningTransactions', 'N_afternoonTransactions',\n",
    "       'N_eveningTransactions', 'N_nigthTransactions',\n",
    "       'AverageAmount_percentage_of_Balance (USD)',\n",
    "       'NumberNegativeTransaction', 'NTransaction>HalfBalance',\n",
    "       'N_trans_>one_tenth_bal', 'MedianAmount (USD)', 'VarianceAmount (USD)',\n",
    "       'MedianBalance (USD)', 'VarianceBalance', 'AverageRecency',\n",
    "       'AverageCustomerAge', 'MedianCustomerAge', 'VarianceCustomerAge',\n",
    "       'MostCommonGender_F', 'MostCommonGender_M', 'MostCommonGender_MF']] = newnum.tolist()"
   ]
  },
  {
   "cell_type": "code",
   "execution_count": 176,
   "metadata": {},
   "outputs": [
    {
     "name": "stdout",
     "output_type": "stream",
     "text": [
      "CustomerID                                      0\n",
      "NumberTransactions                              0\n",
      "N_trans_bal>100                                 0\n",
      "AverageAmount (INR)                             0\n",
      "AverageBalance (INR)                            0\n",
      "Utilization                                     0\n",
      "AverageAmount (USD)                             0\n",
      "AverageBalance (USD)                            0\n",
      "MaxAmountTrans (USD)                            0\n",
      "MinAmountTrans (USD)                            0\n",
      "MaxBalance (USD)                                0\n",
      "MinBalance (USD)                                0\n",
      "N_morningTransactions                           0\n",
      "N_afternoonTransactions                         0\n",
      "N_eveningTransactions                           0\n",
      "N_nigthTransactions                             0\n",
      "AverageAmount_percentage_of_Balance (USD)    1788\n",
      "NumberNegativeTransaction                       0\n",
      "NTransaction>HalfBalance                        0\n",
      "N_trans_>one_tenth_bal                          0\n",
      "MedianAmount (USD)                              0\n",
      "VarianceAmount (USD)                            0\n",
      "MedianBalance (USD)                             0\n",
      "VarianceBalance                                 0\n",
      "AverageRecency                                  0\n",
      "AverageCustomerAge                              0\n",
      "MedianCustomerAge                               0\n",
      "VarianceCustomerAge                             0\n",
      "MostCommonGender_F                              0\n",
      "MostCommonGender_M                              0\n",
      "MostCommonGender_MF                             0\n",
      "dtype: int64\n"
     ]
    }
   ],
   "source": [
    "checkinf = CID_data.isin([np.inf, -np.inf]).sum()\n",
    "print(checkinf)"
   ]
  },
  {
   "cell_type": "code",
   "execution_count": 10,
   "metadata": {},
   "outputs": [],
   "source": [
    "CID_data = CID_data.drop('AverageAmount_percentage_of_Balance (USD)', axis=1)"
   ]
  },
  {
   "cell_type": "markdown",
   "metadata": {},
   "source": [
    "We create a copy of our dataset so we can easily remove the CustomerID columns that we won't need in this phase, and we pass it throug the PCA function."
   ]
  },
  {
   "cell_type": "code",
   "execution_count": 11,
   "metadata": {},
   "outputs": [],
   "source": [
    "CID_data_copy = CID_data.copy()"
   ]
  },
  {
   "cell_type": "code",
   "execution_count": 12,
   "metadata": {},
   "outputs": [],
   "source": [
    "CID_data_copy = CID_data_copy.drop('CustomerID', axis=1)"
   ]
  },
  {
   "cell_type": "code",
   "execution_count": 18,
   "metadata": {},
   "outputs": [
    {
     "name": "stdout",
     "output_type": "stream",
     "text": [
      "[0.22912011 0.18620798 0.10017968 0.07396008 0.06047964 0.05671993\n",
      " 0.05206973 0.04258629 0.03785512 0.03408788]\n",
      "0.8732664427665046\n",
      "[2253.01425858 2031.1007761  1489.78005617 1280.06201394 1157.5424925\n",
      " 1120.98596697 1074.05126148  971.33097702  915.78731479  869.02510704]\n"
     ]
    }
   ],
   "source": [
    "#try the PCA with an high number of components and then check how many do we need\n",
    "\n",
    "pca = PCA(n_components=10)\n",
    "pca.fit(CID_data_copy)\n",
    "\n",
    "v = pca.explained_variance_ratio_\n",
    "print(v)\n",
    "print(sum(v))\n",
    "print(pca.singular_values_)"
   ]
  },
  {
   "cell_type": "code",
   "execution_count": 24,
   "metadata": {},
   "outputs": [
    {
     "name": "stdout",
     "output_type": "stream",
     "text": [
      "The number of components we need to ensure the 0.7 of variance is: 6\n"
     ]
    }
   ],
   "source": [
    "explained_var = 0.7\n",
    "n_component = 0\n",
    "for i in range(len(v)):\n",
    "    if sum(v[0:i]) <= explained_var:\n",
    "        n_component+=1\n",
    "\n",
    "print('The number of components we need to ensure the 0.7 of variance is:', n_component)"
   ]
  },
  {
   "cell_type": "code",
   "execution_count": 30,
   "metadata": {},
   "outputs": [
    {
     "data": {
      "image/png": "[encoded data removed]",
      "text/plain": [
       "<Figure size 432x288 with 1 Axes>"
      ]
     },
     "metadata": {
      "needs_background": "light"
     },
     "output_type": "display_data"
    }
   ],
   "source": [
    "PC_values = np.arange(pca.n_components_) + 1\n",
    "plt.plot(PC_values, pca.explained_variance_ratio_, 'o-', linewidth=2, color='orange')\n",
    "plt.title('Scree Plot')\n",
    "plt.xlabel('Principal Component')\n",
    "plt.ylabel('Variance Explained')\n",
    "plt.show()"
   ]
  },
  {
   "cell_type": "code",
   "execution_count": 31,
   "metadata": {},
   "outputs": [
    {
     "data": {
      "image/png": "[encoded data removed]",
      "text/plain": [
       "<Figure size 432x288 with 1 Axes>"
      ]
     },
     "metadata": {
      "needs_background": "light"
     },
     "output_type": "display_data"
    }
   ],
   "source": [
    "PC_values = np.arange(pca.n_components_) + 1\n",
    "plt.plot(PC_values, np.cumsum(pca.explained_variance_ratio_), 'o-', linewidth=2, color='orange')\n",
    "plt.title('Cumulative Variance Explained Plot')\n",
    "plt.xlabel('Principal Component')\n",
    "plt.ylabel('Variance Explained')\n",
    "plt.show()"
   ]
  },
  {
   "cell_type": "code",
   "execution_count": 36,
   "metadata": {},
   "outputs": [
    {
     "data": {
      "text/plain": [
       "PCA(n_components=6)"
      ]
     },
     "execution_count": 36,
     "metadata": {},
     "output_type": "execute_result"
    }
   ],
   "source": [
    "#right PCA with 6 components\n",
    "\n",
    "pca = PCA(n_components=6)\n",
    "pca.fit(CID_data_copy)"
   ]
  },
  {
   "cell_type": "code",
   "execution_count": 44,
   "metadata": {},
   "outputs": [],
   "source": [
    "scores_pca=pca.transform(CID_data_copy)"
   ]
  },
  {
   "cell_type": "code",
   "execution_count": 45,
   "metadata": {},
   "outputs": [
    {
     "data": {
      "text/plain": [
       "array([[-0.52010493, -0.61624157,  0.3372304 ,  1.4651807 , -1.29540777,\n",
       "         0.90775974],\n",
       "       [ 2.61207723, 10.23230585, -1.58329481, -4.25639484, -1.00222639,\n",
       "        -1.00778043],\n",
       "       [-0.51735601, -0.48516093,  0.26497767,  1.77877441, -1.30520931,\n",
       "         0.99344444],\n",
       "       ...,\n",
       "       [-0.55771233, -0.09290355, -1.07445714,  0.83300786,  1.07803673,\n",
       "        -0.40494813],\n",
       "       [-0.41120661, -0.49090414,  0.48642161,  1.3023079 ,  1.09650349,\n",
       "        -0.11150375],\n",
       "       [-0.15402904, -0.16983918,  1.09568091, -0.57743817,  1.14673321,\n",
       "        -0.70345905]])"
      ]
     },
     "execution_count": 45,
     "metadata": {},
     "output_type": "execute_result"
    }
   ],
   "source": [
    "scores_pca"
   ]
  },
  {
   "cell_type": "code",
   "execution_count": 47,
   "metadata": {},
   "outputs": [
    {
     "data": {
      "text/plain": [
       "(838768, 6)"
      ]
     },
     "execution_count": 47,
     "metadata": {},
     "output_type": "execute_result"
    }
   ],
   "source": [
    "scores_pca.shape"
   ]
  },
  {
   "cell_type": "markdown",
   "metadata": {},
   "source": [
    "### 2.3 Clustering!"
   ]
  },
  {
   "cell_type": "code",
   "execution_count": 49,
   "metadata": {},
   "outputs": [
    {
     "ename": "ModuleNotFoundError",
     "evalue": "No module named 'pyspark'",
     "output_type": "error",
     "traceback": [
      "\u001b[1;31m---------------------------------------------------------------------------\u001b[0m",
      "\u001b[1;31mModuleNotFoundError\u001b[0m                       Traceback (most recent call last)",
      "Input \u001b[1;32mIn [49]\u001b[0m, in \u001b[0;36m<cell line: 4>\u001b[1;34m()\u001b[0m\n\u001b[0;32m      2\u001b[0m \u001b[38;5;28;01mimport\u001b[39;00m \u001b[38;5;21;01mos\u001b[39;00m\n\u001b[0;32m      3\u001b[0m \u001b[38;5;28;01mimport\u001b[39;00m \u001b[38;5;21;01mjson\u001b[39;00m\n\u001b[1;32m----> 4\u001b[0m \u001b[38;5;28;01mfrom\u001b[39;00m \u001b[38;5;21;01mpyspark\u001b[39;00m \u001b[38;5;28;01mimport\u001b[39;00m SparkContext\n\u001b[0;32m      5\u001b[0m \u001b[38;5;28;01mfrom\u001b[39;00m \u001b[38;5;21;01mpoint\u001b[39;00m \u001b[38;5;28;01mimport\u001b[39;00m Point\n\u001b[0;32m      6\u001b[0m \u001b[38;5;28;01mimport\u001b[39;00m \u001b[38;5;21;01mtime\u001b[39;00m\n",
      "\u001b[1;31mModuleNotFoundError\u001b[0m: No module named 'pyspark'"
     ]
    }
   ],
   "source": [
    "import sys\n",
    "import os\n",
    "import json\n",
    "from pyspark import SparkContext\n",
    "from point import Point\n",
    "import time"
   ]
  },
  {
   "cell_type": "code",
   "execution_count": 19,
   "metadata": {},
   "outputs": [
    {
     "name": "stdout",
     "output_type": "stream",
     "text": [
      "1.11.0\n"
     ]
    }
   ],
   "source": [
    "\n",
    "def init_centroids(dataset, k):\n",
    "    start_time = time.time()\n",
    "    initial_centroids = dataset.takeSample(False, k)\n",
    "    print(\"init centroid execution:\", len(initial_centroids), \"in\", (time.time() - start_time), \"s\")\n",
    "    return initial_centroids\n",
    "\n",
    "def assign_centroids(p):\n",
    "    min_dist = float(\"inf\")\n",
    "    centroids = centroids_broadcast.value\n",
    "    nearest_centroid = 0\n",
    "    for i in range(len(centroids)):\n",
    "        distance = p.distance(centroids[i], distance_broadcast.value)\n",
    "        if(distance < min_dist):\n",
    "            min_dist = distance\n",
    "            nearest_centroid = i\n",
    "    return (nearest_centroid, p)\n",
    "\n",
    "def stopping_criterion(new_centroids, threshold):\n",
    "    old_centroids = centroids_broadcast.value\n",
    "    for i in range(len(old_centroids)):\n",
    "        check = old_centroids[i].distance(new_centroids[i], distance_broadcast.value) <= threshold\n",
    "        if check == False:\n",
    "            return False\n",
    "    return True\n",
    "\n",
    "if _name_ == \"_main_\":\n",
    "    start_time = time.time()\n",
    "    if len(sys.argv) != 3:\n",
    "        print(\"Number of arguments not valid!\")\n",
    "        sys.exit(1)\n",
    "\n",
    "    with open('./config.json') as config:\n",
    "        parameters = json.load(config)[\"configuration\"][0]\n",
    "\n",
    "    INPUT_PATH = str(sys.argv[1])\n",
    "    OUTPUT_PATH = str(sys.argv[2])\n",
    "    \n",
    "    sc = SparkContext(\"yarn\", \"Kmeans\")\n",
    "    sc.setLogLevel(\"ERROR\")\n",
    "    sc.addPyFile(\"./point.py\") ## It's necessary, otherwise the spark framework doesn't see point.py\n",
    "\n",
    "    print(\"\\n**START*\\n\")\n",
    "\n",
    "    points = sc.textFile(INPUT_PATH).map(Point).cache()\n",
    "    initial_centroids = init_centroids(points, k=parameters[\"k\"])\n",
    "    distance_broadcast = sc.broadcast(parameters[\"distance\"])\n",
    "    centroids_broadcast = sc.broadcast(initial_centroids)\n",
    "\n",
    "    stop, n = False, 0\n",
    "    while True:\n",
    "        print(\"--Iteration n. {itr:d}\".format(itr=n+1), end=\"\\r\", flush=True)\n",
    "        cluster_assignment_rdd = points.map(assign_centroids)\n",
    "        sum_rdd = cluster_assignment_rdd.reduceByKey(lambda x, y: x.sum(y))\n",
    "        centroids_rdd = sum_rdd.mapValues(lambda x: x.get_average_point()).sortByKey(ascending=True)\n",
    "\n",
    "        new_centroids = [item[1] for item in centroids_rdd.collect()]\n",
    "        stop = stopping_criterion(new_centroids,parameters[\"threshold\"])\n",
    "\n",
    "        n += 1\n",
    "        if(stop == False and n < parameters[\"maxiteration\"]):\n",
    "            centroids_broadcast = sc.broadcast(new_centroids)\n",
    "        else:\n",
    "            break\n",
    "\n",
    "    with open(OUTPUT_PATH, \"w\") as f:\n",
    "        for centroid in new_centroids:\n",
    "            f.write(str(centroid) + \"\\n\")\n",
    "\n",
    "    execution_time = time.time() - start_time\n",
    "    print(\"\\nexecution time:\", execution_time, \"s\")\n",
    "    print(\"average time per iteration:\", execution_time/n, \"s\")\n",
    "    print(\"n_iter:\", n)"
   ]
  },
  {
   "cell_type": "code",
   "execution_count": null,
   "metadata": {},
   "outputs": [],
   "source": []
  },
  {
   "cell_type": "markdown",
   "metadata": {},
   "source": [
    "### 2.4 Analysing your results!"
   ]
  },
  {
   "cell_type": "code",
   "execution_count": null,
   "metadata": {},
   "outputs": [],
   "source": []
  },
  {
   "cell_type": "code",
   "execution_count": null,
   "metadata": {},
   "outputs": [],
   "source": []
  },
  {
   "cell_type": "markdown",
   "metadata": {},
   "source": [
    "## Bonus\n",
    "\n",
    "Think about any two other clustering algorithms that you would like to use for the dataset (of course, you can use implemented version of them, e.g. from the scikit-learn library). Compare the results of chosen two algorithms with K-means implemented by you and K-means++ (from the scikit-learn library). Explain the differences (if there are any) in the results. Which one is the best, in your opinion, and why?"
   ]
  },
  {
   "cell_type": "code",
   "execution_count": null,
   "metadata": {},
   "outputs": [],
   "source": []
  },
  {
   "cell_type": "code",
   "execution_count": null,
   "metadata": {},
   "outputs": [],
   "source": []
  },
  {
   "cell_type": "markdown",
   "metadata": {},
   "source": [
    "## Algorithmic Question"
   ]
  },
  {
   "cell_type": "code",
   "execution_count": null,
   "metadata": {},
   "outputs": [],
   "source": [
    "entry,n_studs,n_guards= list(map(int,input().split()))\n",
    "\n",
    "students  = list(map(int,input().split()))\n",
    "\n",
    "guards = 1\n",
    "for i in range(1,n_studs) :\n",
    "    if(students[i] != students[i-1] and students[i] not in students[:i]):\n",
    "        if(students[i-1] in students[i:]):\n",
    "            guards += 1\n",
    "\n",
    "print( 'Yes' if guards <= n_guards else 'No')"
   ]
  }
 ],
 "metadata": {
  "kernelspec": {
   "display_name": "Python 3 (ipykernel)",
   "language": "python",
   "name": "python3"
  },
  "language_info": {
   "codemirror_mode": {
    "name": "ipython",
    "version": 3
   },
   "file_extension": ".py",
   "mimetype": "text/x-python",
   "name": "python",
   "nbconvert_exporter": "python",
   "pygments_lexer": "ipython3",
   "version": "3.9.12"
  },
  "vscode": {
   "interpreter": {
    "hash": "31f2aee4e71d21fbe5cf8b01ff0e069b9275f58929596ceb00d14d90e3e16cd6"
   }
  }
 },
 "nbformat": 4,
 "nbformat_minor": 4
}
