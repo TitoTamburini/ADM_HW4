{
 "cells": [
  {
   "cell_type": "code",
   "execution_count": 32,
   "metadata": {},
   "outputs": [],
   "source": [
    "import pandas as pd\n",
    "from datetime import datetime\n",
    "from random import randint\n",
    "from tqdm import tqdm\n",
    "import numpy as np"
   ]
  },
  {
   "cell_type": "code",
   "execution_count": 47,
   "metadata": {},
   "outputs": [],
   "source": [
    "new_data=  pd.read_pickle('MinHash.pkl')"
   ]
  },
  {
   "cell_type": "markdown",
   "metadata": {},
   "source": [
    "## Part 1 : MinHash"
   ]
  },
  {
   "cell_type": "code",
   "execution_count": null,
   "metadata": {},
   "outputs": [],
   "source": [
    "new_data = pd.read_pickle('processed.pkl')"
   ]
  },
  {
   "cell_type": "code",
   "execution_count": null,
   "metadata": {},
   "outputs": [],
   "source": [
    "def hash_date(value):\n",
    "    return int(pd.Timestamp(value).timestamp())"
   ]
  },
  {
   "cell_type": "code",
   "execution_count": null,
   "metadata": {},
   "outputs": [],
   "source": [
    "def hash_string(value,p):\n",
    "    m =2^32 -1\n",
    "    return sum([ ord(x)*(p^i) for i,x in enumerate(value)])%m"
   ]
  },
  {
   "cell_type": "code",
   "execution_count": null,
   "metadata": {},
   "outputs": [],
   "source": [
    "def hash_float(value):\n",
    "    integer,decimal  = str(value).split('.')\n",
    "    return int(integer+decimal)"
   ]
  },
  {
   "cell_type": "code",
   "execution_count": null,
   "metadata": {},
   "outputs": [],
   "source": [
    "def minHash(customer,p,permutations):\n",
    "    vec  = [0 for i in range(len(customer)) ]\n",
    "    for i,val in enumerate(customer):\n",
    "        if not isinstance(val,int):\n",
    "            if isinstance(val,datetime): \n",
    "                val  = hash_date(val)\n",
    "            elif isinstance(val,str): \n",
    "                val = hash_string(val,p)\n",
    "            elif isinstance(val,float): \n",
    "                val = hash_float(val)\n",
    "\n",
    "        mini = float('inf')\n",
    "        for perm_vals in permutations:\n",
    "            a,b = perm_vals\n",
    "            output = (a*val +b)%p\n",
    "\n",
    "            if(mini > output):\n",
    "                mini  = output\n",
    "\n",
    "        vec[i] = output\n",
    "    return vec\n",
    "    "
   ]
  },
  {
   "cell_type": "code",
   "execution_count": null,
   "metadata": {},
   "outputs": [
    {
     "name": "stderr",
     "output_type": "stream",
     "text": [
      "985322it [02:36, 6298.64it/s]\n"
     ]
    }
   ],
   "source": [
    "p  = 4993\n",
    "max_val = 2^32-1\n",
    "N  = new_data.shape[1]\n",
    "permutations = [ (randint(0,max_val),randint(0,max_val)) for i in range(N)]\n",
    "new_data['minhash']  = [minHash([*x[1]],p,permutations) for x in tqdm(new_data.iterrows())]"
   ]
  }
 ],
 "metadata": {
  "kernelspec": {
   "display_name": "Python 3.8.10 64-bit",
   "language": "python",
   "name": "python3"
  },
  "language_info": {
   "codemirror_mode": {
    "name": "ipython",
    "version": 3
   },
   "file_extension": ".py",
   "mimetype": "text/x-python",
   "name": "python",
   "nbconvert_exporter": "python",
   "pygments_lexer": "ipython3",
   "version": "3.8.10"
  },
  "orig_nbformat": 4,
  "vscode": {
   "interpreter": {
    "hash": "916dbcbb3f70747c44a77c7bcd40155683ae19c65e1c03b4aa3499c5328201f1"
   }
  }
 },
 "nbformat": 4,
 "nbformat_minor": 2
}
